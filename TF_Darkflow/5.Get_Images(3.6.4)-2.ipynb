{
 "cells": [
  {
   "cell_type": "code",
   "execution_count": 1,
   "metadata": {},
   "outputs": [
    {
     "name": "stdout",
     "output_type": "stream",
     "text": [
      "Python version: 3.6.4 |Anaconda custom (64-bit)| (default, Jan 16 2018, 18:10:19) \n",
      "[GCC 7.2.0]\n"
     ]
    }
   ],
   "source": [
    "import sys\n",
    "print(\"Python version: {}\".format(sys.version))"
   ]
  },
  {
   "cell_type": "code",
   "execution_count": 2,
   "metadata": {},
   "outputs": [],
   "source": [
    "import os\n",
    "import urllib.request as ulib\n",
    "from bs4 import BeautifulSoup as Soup\n",
    "import json\n",
    "\n",
    "url_a = 'https://www.google.com/search?ei=1m7NWePfFYaGmQG51q7IBg&hl=en&q={}'\n",
    "url_b = '\\&tbm=isch&ved=0ahUKEwjjovnD7sjWAhUGQyYKHTmrC2kQuT0I7gEoAQ&start={}'\n",
    "url_c = '\\&yv=2&vet=10ahUKEwjjovnD7sjWAhUGQyYKHTmrC2kQuT0I7gEoAQ.1m7NWePfFYaGmQG51q7IBg'\n",
    "url_d = '\\.i&ijn=1&asearch=ichunk&async=_id:rg_s,_pms:s'\n",
    "url_base = ''.join((url_a, url_b, url_c, url_d))\n",
    "\n",
    "headers = {'User-Agent': 'Chrome/41.0.2228.0 Safari/537.36'}"
   ]
  },
  {
   "cell_type": "code",
   "execution_count": 3,
   "metadata": {},
   "outputs": [],
   "source": [
    "def get_links(search_name):\n",
    "    search_name = search_name.replace(' ', '+')\n",
    "    url = url_base.format(search_name, 0)\n",
    "    request = ulib.Request(url, None, headers)\n",
    "    json_string = ulib.urlopen(request).read()\n",
    "    page = json.loads(json_string)\n",
    "    new_soup = Soup(page[1][1], 'lxml')\n",
    "    images = new_soup.find_all('img')\n",
    "    links = [image['src'] for image in images]\n",
    "    return links\n",
    "\n",
    "def save_images(links, search_name):\n",
    "    directory = search_name.replace(' ', '_')\n",
    "    if not os.path.isdir(directory):\n",
    "        os.mkdir(directory)\n",
    "\n",
    "    for i, link in enumerate(links):\n",
    "        savepath = os.path.join(directory, '{:06}.png'.format(i))\n",
    "        ulib.urlretrieve(link, savepath)"
   ]
  },
  {
   "cell_type": "code",
   "execution_count": 4,
   "metadata": {},
   "outputs": [],
   "source": [
    "if __name__ == '__main__':\n",
    "    search_name = 'fidget kid spinner toys'\n",
    "    links = get_links(search_name)\n",
    "    save_images(links, search_name)"
   ]
  },
  {
   "cell_type": "code",
   "execution_count": 5,
   "metadata": {},
   "outputs": [],
   "source": [
    "if __name__ == '__main__':\n",
    "    search_name = 'fidget kid spinner'\n",
    "    links = get_links(search_name)\n",
    "    save_images(links, search_name)"
   ]
  },
  {
   "cell_type": "code",
   "execution_count": 6,
   "metadata": {},
   "outputs": [],
   "source": [
    "if __name__ == '__main__':\n",
    "    search_name = 'fidget spinner'\n",
    "    links = get_links(search_name)\n",
    "    save_images(links, search_name)"
   ]
  },
  {
   "cell_type": "code",
   "execution_count": 7,
   "metadata": {},
   "outputs": [],
   "source": [
    "if __name__ == '__main__':\n",
    "    search_name = 'fidget spinners'\n",
    "    links = get_links(search_name)\n",
    "    save_images(links, search_name)"
   ]
  },
  {
   "cell_type": "code",
   "execution_count": 8,
   "metadata": {},
   "outputs": [],
   "source": [
    "if __name__ == '__main__':\n",
    "    search_name = 'fidget toy spinner'\n",
    "    links = get_links(search_name)\n",
    "    save_images(links, search_name)"
   ]
  },
  {
   "cell_type": "markdown",
   "metadata": {},
   "source": [
    "# Rename"
   ]
  },
  {
   "cell_type": "code",
   "execution_count": 9,
   "metadata": {},
   "outputs": [],
   "source": [
    "import os\n",
    "\n",
    "imdir = 'images'\n",
    "if not os.path.isdir(imdir):\n",
    "    os.mkdir(imdir)\n",
    "\n",
    "fidget_folders = [folder for folder in os.listdir('.') if 'fidget' in folder]"
   ]
  },
  {
   "cell_type": "code",
   "execution_count": 10,
   "metadata": {},
   "outputs": [
    {
     "name": "stdout",
     "output_type": "stream",
     "text": [
      "['fidget_spinner', 'fidget_kid_spinner_toys', 'fidget_kid_spinner', 'fidget_spinners', 'fidget_toy_spinner']\n"
     ]
    }
   ],
   "source": [
    "print(fidget_folders)\n"
   ]
  },
  {
   "cell_type": "code",
   "execution_count": 11,
   "metadata": {},
   "outputs": [],
   "source": [
    "n = 0\n",
    "for folder in fidget_folders:\n",
    "    for imfile in os.scandir(folder):\n",
    "        os.rename(imfile.path, os.path.join(imdir, '{:06}.png'.format(n)))\n",
    "        n += 1"
   ]
  },
  {
   "cell_type": "code",
   "execution_count": 12,
   "metadata": {},
   "outputs": [
    {
     "name": "stdout",
     "output_type": "stream",
     "text": [
      "5.0M\timages/\r\n"
     ]
    }
   ],
   "source": [
    "!du -h images/"
   ]
  },
  {
   "cell_type": "code",
   "execution_count": null,
   "metadata": {},
   "outputs": [],
   "source": []
  }
 ],
 "metadata": {
  "kernelspec": {
   "display_name": "Python 3",
   "language": "python",
   "name": "python3"
  },
  "language_info": {
   "codemirror_mode": {
    "name": "ipython",
    "version": 3
   },
   "file_extension": ".py",
   "mimetype": "text/x-python",
   "name": "python",
   "nbconvert_exporter": "python",
   "pygments_lexer": "ipython3",
   "version": "3.6.4"
  }
 },
 "nbformat": 4,
 "nbformat_minor": 2
}
