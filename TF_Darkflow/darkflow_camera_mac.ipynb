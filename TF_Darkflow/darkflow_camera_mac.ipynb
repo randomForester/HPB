{
 "cells": [
  {
   "cell_type": "code",
   "execution_count": 1,
   "metadata": {},
   "outputs": [
    {
     "name": "stdout",
     "output_type": "stream",
     "text": [
      "total 29976\n",
      "-rw-r--r--@  1 chung  staff     23224 Mar  9 18:09 DarkFlow_Mac.ipynb\n",
      "-rw-r--r--   1 chung  staff     35141 Feb 26 23:07 LICENSE\n",
      "-rw-r--r--   1 chung  staff     11539 Feb 26 23:07 README.md\n",
      "drwxr-xr-x   5 chung  staff       170 Mar  8 14:51 \u001b[34mbin\u001b[m\u001b[m/\n",
      "drwxr-xr-x   5 chung  staff       170 Mar 15 19:08 \u001b[34mbuild\u001b[m\u001b[m/\n",
      "drwxr-xr-x  14 chung  staff       476 Mar  8 16:43 \u001b[34mcfg\u001b[m\u001b[m/\n",
      "drwxr-xr-x   8 chung  staff       272 Mar  9 18:07 \u001b[34mckpt\u001b[m\u001b[m/\n",
      "drwxr-xr-x  12 chung  staff       408 Mar  8 17:36 \u001b[34mdarkflow\u001b[m\u001b[m/\n",
      "-rwxr-xr-x@  1 chung  staff     43806 Mar 16 17:13 \u001b[31mdarkflow_camera_linux.ipynb\u001b[m\u001b[m*\n",
      "-rwxr-xr-x@  1 chung  staff     11907 Mar 16 12:27 \u001b[31mdarkflow_camera_mac.ipynb\u001b[m\u001b[m*\n",
      "-rw-r--r--   1 chung  staff  14900940 Feb 26 23:07 demo.gif\n",
      "-rwxr-xr-x   1 chung  staff        94 Feb 26 23:07 \u001b[31mflow\u001b[m\u001b[m*\n",
      "-rw-r--r--@  1 chung  staff        21 Mar  8 16:43 labels.txt\n",
      "-rw-r--r--@  1 chung  staff        21 Mar  8 16:43 labels3c.txt\n",
      "-rw-r--r--@  1 chung  staff        27 Mar  8 16:43 labels_o.txt\n",
      "-rw-r--r--   1 chung  staff    283380 Feb 26 23:07 preview.png\n",
      "drwxr-xr-x  12 chung  staff       408 Mar  8 15:15 \u001b[34msample_img\u001b[m\u001b[m/\n",
      "-rw-r--r--   1 chung  staff      2575 Feb 26 23:07 setup.py\n",
      "drwxr-xr-x   6 chung  staff       204 Mar 15 19:08 \u001b[34mtest\u001b[m\u001b[m/\n",
      "-rw-r--r--@  1 chung  staff       128 Mar 16 12:18 video.avi\n"
     ]
    }
   ],
   "source": [
    "ls -l"
   ]
  },
  {
   "cell_type": "code",
   "execution_count": 2,
   "metadata": {},
   "outputs": [
    {
     "name": "stdout",
     "output_type": "stream",
     "text": [
      "\r\n",
      "Example usage: flow --imgdir sample_img/ --model cfg/yolo.cfg --load bin/yolo.weights\r\n",
      "\r\n",
      "Arguments:\r\n",
      "  --summary        path to TensorBoard summaries directory\r\n",
      "  --binary         path to .weights directory\r\n",
      "  --save           save checkpoint every ? training examples\r\n",
      "  --metaLoad       path to .meta file generated during --savepb that corresponds to .pb file\r\n",
      "  --batch          batch size\r\n",
      "  --labels         path to labels file\r\n",
      "  --gpuName        GPU device name\r\n",
      "  --epoch          number of epoch\r\n",
      "  --json           Outputs bounding box information in json format.\r\n",
      "  --backup         path to backup folder\r\n",
      "  --verbalise      say out loud while building graph\r\n",
      "  --config         path to .cfg directory\r\n",
      "  --threshold      detection threshold\r\n",
      "  --keep           Number of most recent training results to save\r\n",
      "  --load           how to initialize the net? Either from .weights or a checkpoint, or even from scratch\r\n",
      "  --saveVideo      Records video from input video or camera\r\n",
      "  --demo           demo on webcam\r\n",
      "  --help, --h, -h  show this super helpful message and exit\r\n",
      "  --annotation     path to annotation directory\r\n",
      "  --train          train the whole net\r\n",
      "  --model          configuration of choice\r\n",
      "  --lr             learning rate\r\n",
      "  --momentum       applicable for rmsprop and momentum optimizers\r\n",
      "  --gpu            how much gpu (from 0.0 to 1.0)\r\n",
      "  --savepb         save net and weight to a .pb file\r\n",
      "  --dataset        path to dataset directory\r\n",
      "  --pbLoad         path to .pb protobuf file (metaLoad must also be specified)\r\n",
      "  --trainer        training algorithm\r\n",
      "  --queue          process demo in batch\r\n",
      "  --imgdir         path to testing directory with images\r\n",
      "\r\n"
     ]
    }
   ],
   "source": [
    "!./flow --h"
   ]
  },
  {
   "cell_type": "code",
   "execution_count": 3,
   "metadata": {},
   "outputs": [
    {
     "name": "stdout",
     "output_type": "stream",
     "text": [
      "Python version: 3.5.3 |Anaconda custom (x86_64)| (default, Mar  6 2017, 12:15:08) \n",
      "[GCC 4.2.1 Compatible Apple LLVM 6.0 (clang-600.0.57)]\n",
      "pandas version: 0.20.1\n",
      "matplotlib version: 2.0.2\n",
      "NumPy version: 1.12.1\n",
      "SciPy version: 0.19.0\n",
      "IPython version: 5.3.0\n",
      "scikit-learn version: 0.18.1\n"
     ]
    }
   ],
   "source": [
    "import sys\n",
    "print(\"Python version: {}\".format(sys.version))\n",
    "\n",
    "import pandas as pd\n",
    "print(\"pandas version: {}\".format(pd.__version__))\n",
    "\n",
    "import matplotlib\n",
    "print(\"matplotlib version: {}\".format(matplotlib.__version__))\n",
    "\n",
    "import numpy as np\n",
    "print(\"NumPy version: {}\".format(np.__version__))\n",
    "\n",
    "import scipy as sp\n",
    "print(\"SciPy version: {}\".format(sp.__version__))\n",
    "\n",
    "import IPython\n",
    "print(\"IPython version: {}\".format(IPython.__version__))\n",
    "\n",
    "import sklearn\n",
    "print(\"scikit-learn version: {}\".format(sklearn.__version__))"
   ]
  },
  {
   "cell_type": "code",
   "execution_count": 4,
   "metadata": {},
   "outputs": [
    {
     "data": {
      "text/plain": [
       "'3.1.0'"
      ]
     },
     "execution_count": 4,
     "metadata": {},
     "output_type": "execute_result"
    }
   ],
   "source": [
    "import cv2 \n",
    "\n",
    "cv2.__version__ "
   ]
  },
  {
   "cell_type": "code",
   "execution_count": 5,
   "metadata": {},
   "outputs": [
    {
     "name": "stdout",
     "output_type": "stream",
     "text": [
      "capture failed\n"
     ]
    }
   ],
   "source": [
    "import cv2\n",
    "import sys\n",
    "cap = cv2.VideoCapture(sys.argv[1])\n",
    "\n",
    "ret, frame = cap.read()\n",
    "if not ret:\n",
    "    print (\"capture failed\")"
   ]
  },
  {
   "cell_type": "code",
   "execution_count": 6,
   "metadata": {},
   "outputs": [
    {
     "data": {
      "text/plain": [
       "'\\nGeneral configuration for OpenCV 3.1.0 =====================================\\n  Version control:               unknown\\n\\n  Platform:\\n    Host:                        Darwin 14.5.0 x86_64\\n    CMake:                       3.6.3\\n    CMake generator:             Unix Makefiles\\n    CMake build tool:            /usr/bin/make\\n    Configuration:               Release\\n\\n  C/C++:\\n    Built as dynamic libs?:      YES\\n    C++ Compiler:                /Applications/Xcode.app/Contents/Developer/Toolchains/XcodeDefault.xctoolchain/usr/bin/c++  (ver 6.1.0.6020053)\\n    C++ flags (Release):         -arch x86_64    -fsigned-char -W -Werror=return-type -Werror=non-virtual-dtor -Werror=address -Werror=sequence-point -Wformat -Werror=format-security -Wmissing-declarations -Wmissing-prototypes -Wstrict-prototypes -Wundef -Winit-self -Wpointer-arith -Wshadow -Wsign-promo -Wno-narrowing -Wno-delete-non-virtual-dtor -Wno-unnamed-type-template-args -fdiagnostics-show-option -Wno-long-long -Qunused-arguments -Wno-semicolon-before-method-body -fno-omit-frame-pointer -msse -msse2 -mno-avx -msse3 -mno-ssse3 -mno-sse4.1 -mno-sse4.2 -fvisibility=hidden -fvisibility-inlines-hidden -O3 -DNDEBUG  -DNDEBUG\\n    C++ flags (Debug):           -arch x86_64    -fsigned-char -W -Werror=return-type -Werror=non-virtual-dtor -Werror=address -Werror=sequence-point -Wformat -Werror=format-security -Wmissing-declarations -Wmissing-prototypes -Wstrict-prototypes -Wundef -Winit-self -Wpointer-arith -Wshadow -Wsign-promo -Wno-narrowing -Wno-delete-non-virtual-dtor -Wno-unnamed-type-template-args -fdiagnostics-show-option -Wno-long-long -Qunused-arguments -Wno-semicolon-before-method-body -fno-omit-frame-pointer -msse -msse2 -mno-avx -msse3 -mno-ssse3 -mno-sse4.1 -mno-sse4.2 -fvisibility=hidden -fvisibility-inlines-hidden -g  -O0 -DDEBUG -D_DEBUG\\n    C Compiler:                  /Applications/Xcode.app/Contents/Developer/Toolchains/XcodeDefault.xctoolchain/usr/bin/cc\\n    C flags (Release):           -arch x86_64    -fsigned-char -W -Werror=return-type -Werror=non-virtual-dtor -Werror=address -Werror=sequence-point -Wformat -Werror=format-security -Wmissing-declarations -Wmissing-prototypes -Wstrict-prototypes -Wundef -Winit-self -Wpointer-arith -Wshadow -Wsign-promo -Wno-narrowing -Wno-delete-non-virtual-dtor -Wno-unnamed-type-template-args -fdiagnostics-show-option -Wno-long-long -Qunused-arguments -Wno-semicolon-before-method-body -fno-omit-frame-pointer -msse -msse2 -mno-avx -msse3 -mno-ssse3 -mno-sse4.1 -mno-sse4.2 -fvisibility=hidden -fvisibility-inlines-hidden -O3 -DNDEBUG  -DNDEBUG\\n    C flags (Debug):             -arch x86_64    -fsigned-char -W -Werror=return-type -Werror=non-virtual-dtor -Werror=address -Werror=sequence-point -Wformat -Werror=format-security -Wmissing-declarations -Wmissing-prototypes -Wstrict-prototypes -Wundef -Winit-self -Wpointer-arith -Wshadow -Wsign-promo -Wno-narrowing -Wno-delete-non-virtual-dtor -Wno-unnamed-type-template-args -fdiagnostics-show-option -Wno-long-long -Qunused-arguments -Wno-semicolon-before-method-body -fno-omit-frame-pointer -msse -msse2 -mno-avx -msse3 -mno-ssse3 -mno-sse4.1 -mno-sse4.2 -fvisibility=hidden -fvisibility-inlines-hidden -g  -O0 -DDEBUG -D_DEBUG\\n    Linker flags (Release):      -arch x86_64\\n    Linker flags (Debug):        -arch x86_64\\n    Precompiled headers:         NO\\n    Extra dependencies:          -framework Cocoa -framework QTKit -framework QuartzCore -framework AppKit //anaconda/envs/py35/lib/libhdf5.dylib /usr/lib/libpthread.dylib /usr/lib/libz.dylib /usr/lib/libdl.dylib /usr/lib/libm.dylib libtbb.dylib\\n    3rdparty dependencies:       libjpeg libwebp libpng libtiff libjasper IlmImf zlib libprotobuf\\n\\n  OpenCV modules:\\n    To be built:                 core flann hdf imgproc ml photo reg surface_matching video dnn fuzzy imgcodecs shape videoio highgui objdetect plot superres xobjdetect xphoto bgsegm bioinspired dpm face features2d line_descriptor saliency text calib3d ccalib datasets rgbd stereo structured_light tracking videostab xfeatures2d ximgproc aruco optflow stitching python2 python3\\n    Disabled:                    world contrib_world\\n    Disabled by dependency:      -\\n    Unavailable:                 cudaarithm cudabgsegm cudacodec cudafeatures2d cudafilters cudaimgproc cudalegacy cudaobjdetect cudaoptflow cudastereo cudawarping cudev java ts viz cvv matlab sfm\\n\\n  GUI: \\n    QT:                          NO\\n    Cocoa:                       YES\\n    OpenGL support:              NO\\n    VTK support:                 NO\\n\\n  Media I/O: \\n    ZLib:                        build (ver 1.2.8)\\n    JPEG:                        build (ver 90)\\n    WEBP:                        build (ver 0.3.1)\\n    PNG:                         build (ver 1.6.19)\\n    TIFF:                        build (ver 42 - 4.0.2)\\n    JPEG 2000:                   build (ver 1.900.1)\\n    OpenEXR:                     build (ver 1.7.1)\\n    GDAL:                        NO\\n\\n  Video I/O:\\n    DC1394 1.x:                  NO\\n    DC1394 2.x:                  NO\\n    FFMPEG:                      NO\\n      codec:                     NO\\n      format:                    NO\\n      util:                      NO\\n      swscale:                   NO\\n      resample:                  NO\\n      gentoo-style:              NO\\n    GStreamer:                   NO\\n    OpenNI:                      NO\\n    OpenNI PrimeSensor Modules:  NO\\n    OpenNI2:                     NO\\n    PvAPI:                       NO\\n    GigEVisionSDK:               NO\\n    QuickTime:                   NO\\n    QTKit:                       YES\\n    V4L/V4L2:                    NO/NO\\n    XIMEA:                       NO\\n    gPhoto2:                     NO\\n\\n  Parallel framework:            TBB (ver 4.3 interface 8001)\\n\\n  Other third-party libraries:\\n    Use IPP:                     9.0.1 [9.0.1]\\n         at:                     /Users/jenkins/miniconda/1/x64/conda-bld/conda_1486587097465/work/opencv-3.1.0/3rdparty/ippicv/unpack/ippicv_osx\\n    Use IPP Async:               NO\\n    Use VA:                      NO\\n    Use Intel VA-API/OpenCL:     NO\\n    Use Eigen:                   YES (ver 3.2.7)\\n    Use Cuda:                    NO\\n    Use OpenCL:                  NO\\n    Use custom HAL:              NO\\n\\n  Python 2:\\n    Interpreter:                 /usr/bin/python2.7 (ver 2.7.10)\\n    Libraries:                   /usr/lib/libpython2.7.dylib (ver 2.7.10)\\n    numpy:                       /System/Library/Frameworks/Python.framework/Versions/2.7/Extras/lib/python/numpy/core/include (ver 1.8.0rc1)\\n    packages path:               lib/python2.7/site-packages\\n\\n  Python 3:\\n    Interpreter:                 //anaconda/envs/py35/bin/python (ver 3.5.2)\\n    Libraries:                   //anaconda/envs/py35/lib/libpython3.5m.dylib (ver 3.5.2)\\n    numpy:                       //anaconda/envs/py35/lib/python3.5/site-packages/numpy/core/include (ver 1.11.3)\\n    packages path:               lib/python3.5/site-packages\\n\\n  Python (for build):            /usr/bin/python2.7\\n\\n  Java:\\n    ant:                         NO\\n    JNI:                         /Applications/Xcode.app/Contents/Developer/Platforms/MacOSX.platform/Developer/SDKs/MacOSX10.10.sdk/System/Library/Frameworks/JavaVM.framework/Headers /Applications/Xcode.app/Contents/Developer/Platforms/MacOSX.platform/Developer/SDKs/MacOSX10.10.sdk/System/Library/Frameworks/JavaVM.framework/Headers /Applications/Xcode.app/Contents/Developer/Platforms/MacOSX.platform/Developer/SDKs/MacOSX10.10.sdk/System/Library/Frameworks/JavaVM.framework/Headers\\n    Java wrappers:               NO\\n    Java tests:                  NO\\n\\n  Matlab:                        Matlab not found or implicitly disabled\\n\\n  Tests and samples:\\n    Tests:                       NO\\n    Performance tests:           NO\\n    C/C++ Examples:              NO\\n\\n  Install path:                  //anaconda/envs/py35\\n\\n  cvconfig.h is in:              /Users/jenkins/miniconda/1/x64/conda-bld/conda_1486587097465/work/opencv-3.1.0/build\\n-----------------------------------------------------------------\\n\\n'"
      ]
     },
     "execution_count": 6,
     "metadata": {},
     "output_type": "execute_result"
    }
   ],
   "source": [
    "import cv2\n",
    "cv2.getBuildInformation()"
   ]
  },
  {
   "cell_type": "code",
   "execution_count": 7,
   "metadata": {},
   "outputs": [
    {
     "ename": "KeyboardInterrupt",
     "evalue": "",
     "output_type": "error",
     "traceback": [
      "\u001b[0;31m---------------------------------------------------------------------------\u001b[0m",
      "\u001b[0;31mKeyboardInterrupt\u001b[0m                         Traceback (most recent call last)",
      "\u001b[0;32m<ipython-input-7-ea8162e6ec02>\u001b[0m in \u001b[0;36m<module>\u001b[0;34m()\u001b[0m\n\u001b[1;32m      3\u001b[0m \u001b[0;34m\u001b[0m\u001b[0m\n\u001b[1;32m      4\u001b[0m \u001b[0;32mwhile\u001b[0m\u001b[0;34m(\u001b[0m\u001b[0mcap\u001b[0m\u001b[0;34m.\u001b[0m\u001b[0misOpened\u001b[0m\u001b[0;34m(\u001b[0m\u001b[0;34m)\u001b[0m\u001b[0;34m)\u001b[0m\u001b[0;34m:\u001b[0m\u001b[0;34m\u001b[0m\u001b[0m\n\u001b[0;32m----> 5\u001b[0;31m     \u001b[0mret\u001b[0m\u001b[0;34m,\u001b[0m \u001b[0mframe\u001b[0m \u001b[0;34m=\u001b[0m \u001b[0mcap\u001b[0m\u001b[0;34m.\u001b[0m\u001b[0mread\u001b[0m\u001b[0;34m(\u001b[0m\u001b[0;34m)\u001b[0m\u001b[0;34m\u001b[0m\u001b[0m\n\u001b[0m\u001b[1;32m      6\u001b[0m     \u001b[0mcv2\u001b[0m\u001b[0;34m.\u001b[0m\u001b[0mimshow\u001b[0m\u001b[0;34m(\u001b[0m\u001b[0;34m'frame'\u001b[0m\u001b[0;34m,\u001b[0m \u001b[0mframe\u001b[0m\u001b[0;34m)\u001b[0m\u001b[0;34m\u001b[0m\u001b[0m\n\u001b[1;32m      7\u001b[0m     \u001b[0;32mif\u001b[0m \u001b[0mcv2\u001b[0m\u001b[0;34m.\u001b[0m\u001b[0mwaitKey\u001b[0m\u001b[0;34m(\u001b[0m\u001b[0;36m1\u001b[0m\u001b[0;34m)\u001b[0m \u001b[0;34m&\u001b[0m \u001b[0;36m0xFF\u001b[0m \u001b[0;34m==\u001b[0m \u001b[0mord\u001b[0m\u001b[0;34m(\u001b[0m\u001b[0;34m'q'\u001b[0m\u001b[0;34m)\u001b[0m\u001b[0;34m:\u001b[0m\u001b[0;34m\u001b[0m\u001b[0m\n",
      "\u001b[0;31mKeyboardInterrupt\u001b[0m: "
     ]
    }
   ],
   "source": [
    "cap = cv2.VideoCapture('../VideosHPB/IMAG0003.mp4')\n",
    "#cap = cv2.VideoCapture(0) #use this to get frames from webcam\n",
    "\n",
    "while(cap.isOpened()):\n",
    "    ret, frame = cap.read()\n",
    "    cv2.imshow('frame', frame)\n",
    "    if cv2.waitKey(1) & 0xFF == ord('q'):\n",
    "        break\n",
    "\n",
    "cap.release()\n",
    "cv2.destroyAllWindows()"
   ]
  },
  {
   "cell_type": "markdown",
   "metadata": {},
   "source": [
    "# Training and Testing"
   ]
  },
  {
   "cell_type": "markdown",
   "metadata": {},
   "source": [
    "# Camera & Video"
   ]
  },
  {
   "cell_type": "code",
   "execution_count": 1,
   "metadata": {},
   "outputs": [
    {
     "name": "stdout",
     "output_type": "stream",
     "text": [
      "\n",
      "Parsing ./cfg/yolo.cfg\n",
      "Parsing cfg/yolo.cfg\n",
      "Loading bin/yolo.weights ...\n",
      "Successfully identified 203934260 bytes\n",
      "Finished in 0.2689321041107178s\n",
      "Model has a coco model name, loading coco labels.\n",
      "\n",
      "Building net ...\n",
      "Source | Train? | Layer description                | Output size\n",
      "-------+--------+----------------------------------+---------------\n",
      "       |        | input                            | (?, 608, 608, 3)\n",
      " Load  |  Yep!  | conv 3x3p1_1  +bnorm  leaky      | (?, 608, 608, 32)\n",
      " Load  |  Yep!  | maxp 2x2p0_2                     | (?, 304, 304, 32)\n",
      " Load  |  Yep!  | conv 3x3p1_1  +bnorm  leaky      | (?, 304, 304, 64)\n",
      " Load  |  Yep!  | maxp 2x2p0_2                     | (?, 152, 152, 64)\n",
      " Load  |  Yep!  | conv 3x3p1_1  +bnorm  leaky      | (?, 152, 152, 128)\n",
      " Load  |  Yep!  | conv 1x1p0_1  +bnorm  leaky      | (?, 152, 152, 64)\n",
      " Load  |  Yep!  | conv 3x3p1_1  +bnorm  leaky      | (?, 152, 152, 128)\n",
      " Load  |  Yep!  | maxp 2x2p0_2                     | (?, 76, 76, 128)\n",
      " Load  |  Yep!  | conv 3x3p1_1  +bnorm  leaky      | (?, 76, 76, 256)\n",
      " Load  |  Yep!  | conv 1x1p0_1  +bnorm  leaky      | (?, 76, 76, 128)\n",
      " Load  |  Yep!  | conv 3x3p1_1  +bnorm  leaky      | (?, 76, 76, 256)\n",
      " Load  |  Yep!  | maxp 2x2p0_2                     | (?, 38, 38, 256)\n",
      " Load  |  Yep!  | conv 3x3p1_1  +bnorm  leaky      | (?, 38, 38, 512)\n",
      " Load  |  Yep!  | conv 1x1p0_1  +bnorm  leaky      | (?, 38, 38, 256)\n",
      " Load  |  Yep!  | conv 3x3p1_1  +bnorm  leaky      | (?, 38, 38, 512)\n",
      " Load  |  Yep!  | conv 1x1p0_1  +bnorm  leaky      | (?, 38, 38, 256)\n",
      " Load  |  Yep!  | conv 3x3p1_1  +bnorm  leaky      | (?, 38, 38, 512)\n",
      " Load  |  Yep!  | maxp 2x2p0_2                     | (?, 19, 19, 512)\n",
      " Load  |  Yep!  | conv 3x3p1_1  +bnorm  leaky      | (?, 19, 19, 1024)\n",
      " Load  |  Yep!  | conv 1x1p0_1  +bnorm  leaky      | (?, 19, 19, 512)\n",
      " Load  |  Yep!  | conv 3x3p1_1  +bnorm  leaky      | (?, 19, 19, 1024)\n",
      " Load  |  Yep!  | conv 1x1p0_1  +bnorm  leaky      | (?, 19, 19, 512)\n",
      " Load  |  Yep!  | conv 3x3p1_1  +bnorm  leaky      | (?, 19, 19, 1024)\n",
      " Load  |  Yep!  | conv 3x3p1_1  +bnorm  leaky      | (?, 19, 19, 1024)\n",
      " Load  |  Yep!  | conv 3x3p1_1  +bnorm  leaky      | (?, 19, 19, 1024)\n",
      " Load  |  Yep!  | concat [16]                      | (?, 38, 38, 512)\n",
      " Load  |  Yep!  | conv 1x1p0_1  +bnorm  leaky      | (?, 38, 38, 64)\n",
      " Load  |  Yep!  | local flatten 2x2                | (?, 19, 19, 256)\n",
      " Load  |  Yep!  | concat [27, 24]                  | (?, 19, 19, 1280)\n",
      " Load  |  Yep!  | conv 3x3p1_1  +bnorm  leaky      | (?, 19, 19, 1024)\n",
      " Load  |  Yep!  | conv 1x1p0_1    linear           | (?, 19, 19, 425)\n",
      "-------+--------+----------------------------------+---------------\n",
      "Running entirely on CPU\n",
      "2018-03-16 17:22:20.947992: W tensorflow/core/platform/cpu_feature_guard.cc:45] The TensorFlow library wasn't compiled to use SSE4.2 instructions, but these are available on your machine and could speed up CPU computations.\n",
      "2018-03-16 17:22:20.948028: W tensorflow/core/platform/cpu_feature_guard.cc:45] The TensorFlow library wasn't compiled to use AVX instructions, but these are available on your machine and could speed up CPU computations.\n",
      "Finished in 7.823645114898682s\n",
      "\n",
      "Press [ESC] to quit demo\n",
      "^C\n",
      "Traceback (most recent call last):\n",
      "  File \"./flow\", line 6, in <module>\n",
      "    cliHandler(sys.argv)\n",
      "  File \"/Users/chung/hpbint/darkflow-master/darkflow/cli.py\", line 29, in cliHandler\n",
      "    tfnet.camera()\n",
      "  File \"/Users/chung/hpbint/darkflow-master/darkflow/net/help.py\", line 116, in camera\n",
      "    _, frame = camera.read()\n",
      "KeyboardInterrupt\n"
     ]
    }
   ],
   "source": [
    "#!./flow --model cfg/yolo.cfg --load bin/yolo.weights --demo \"../VideosHPB/IMAG0003.mp4\" --saveVideo\n",
    "!./flow --model cfg/yolo.cfg --load bin/yolo.weights --demo \"../VideosHPB/IMAG0011.mp4\" --saveVideo"
   ]
  },
  {
   "cell_type": "code",
   "execution_count": 2,
   "metadata": {},
   "outputs": [
    {
     "name": "stdout",
     "output_type": "stream",
     "text": [
      "\n",
      "Parsing ./cfg/yolo.cfg\n",
      "Parsing cfg/yolo.cfg\n",
      "Loading bin/yolo.weights ...\n",
      "Successfully identified 203934260 bytes\n",
      "Finished in 0.24772191047668457s\n",
      "Model has a coco model name, loading coco labels.\n",
      "\n",
      "Building net ...\n",
      "Source | Train? | Layer description                | Output size\n",
      "-------+--------+----------------------------------+---------------\n",
      "       |        | input                            | (?, 608, 608, 3)\n",
      " Load  |  Yep!  | conv 3x3p1_1  +bnorm  leaky      | (?, 608, 608, 32)\n",
      " Load  |  Yep!  | maxp 2x2p0_2                     | (?, 304, 304, 32)\n",
      " Load  |  Yep!  | conv 3x3p1_1  +bnorm  leaky      | (?, 304, 304, 64)\n",
      " Load  |  Yep!  | maxp 2x2p0_2                     | (?, 152, 152, 64)\n",
      " Load  |  Yep!  | conv 3x3p1_1  +bnorm  leaky      | (?, 152, 152, 128)\n",
      " Load  |  Yep!  | conv 1x1p0_1  +bnorm  leaky      | (?, 152, 152, 64)\n",
      " Load  |  Yep!  | conv 3x3p1_1  +bnorm  leaky      | (?, 152, 152, 128)\n",
      " Load  |  Yep!  | maxp 2x2p0_2                     | (?, 76, 76, 128)\n",
      " Load  |  Yep!  | conv 3x3p1_1  +bnorm  leaky      | (?, 76, 76, 256)\n",
      " Load  |  Yep!  | conv 1x1p0_1  +bnorm  leaky      | (?, 76, 76, 128)\n",
      " Load  |  Yep!  | conv 3x3p1_1  +bnorm  leaky      | (?, 76, 76, 256)\n",
      " Load  |  Yep!  | maxp 2x2p0_2                     | (?, 38, 38, 256)\n",
      " Load  |  Yep!  | conv 3x3p1_1  +bnorm  leaky      | (?, 38, 38, 512)\n",
      " Load  |  Yep!  | conv 1x1p0_1  +bnorm  leaky      | (?, 38, 38, 256)\n",
      " Load  |  Yep!  | conv 3x3p1_1  +bnorm  leaky      | (?, 38, 38, 512)\n",
      " Load  |  Yep!  | conv 1x1p0_1  +bnorm  leaky      | (?, 38, 38, 256)\n",
      " Load  |  Yep!  | conv 3x3p1_1  +bnorm  leaky      | (?, 38, 38, 512)\n",
      " Load  |  Yep!  | maxp 2x2p0_2                     | (?, 19, 19, 512)\n",
      " Load  |  Yep!  | conv 3x3p1_1  +bnorm  leaky      | (?, 19, 19, 1024)\n",
      " Load  |  Yep!  | conv 1x1p0_1  +bnorm  leaky      | (?, 19, 19, 512)\n",
      " Load  |  Yep!  | conv 3x3p1_1  +bnorm  leaky      | (?, 19, 19, 1024)\n",
      " Load  |  Yep!  | conv 1x1p0_1  +bnorm  leaky      | (?, 19, 19, 512)\n",
      " Load  |  Yep!  | conv 3x3p1_1  +bnorm  leaky      | (?, 19, 19, 1024)\n",
      " Load  |  Yep!  | conv 3x3p1_1  +bnorm  leaky      | (?, 19, 19, 1024)\n",
      " Load  |  Yep!  | conv 3x3p1_1  +bnorm  leaky      | (?, 19, 19, 1024)\n",
      " Load  |  Yep!  | concat [16]                      | (?, 38, 38, 512)\n",
      " Load  |  Yep!  | conv 1x1p0_1  +bnorm  leaky      | (?, 38, 38, 64)\n",
      " Load  |  Yep!  | local flatten 2x2                | (?, 19, 19, 256)\n",
      " Load  |  Yep!  | concat [27, 24]                  | (?, 19, 19, 1280)\n",
      " Load  |  Yep!  | conv 3x3p1_1  +bnorm  leaky      | (?, 19, 19, 1024)\n",
      " Load  |  Yep!  | conv 1x1p0_1    linear           | (?, 19, 19, 425)\n",
      "-------+--------+----------------------------------+---------------\n",
      "Running entirely on CPU\n",
      "2018-03-16 17:23:53.186611: W tensorflow/core/platform/cpu_feature_guard.cc:45] The TensorFlow library wasn't compiled to use SSE4.2 instructions, but these are available on your machine and could speed up CPU computations.\n",
      "2018-03-16 17:23:53.186643: W tensorflow/core/platform/cpu_feature_guard.cc:45] The TensorFlow library wasn't compiled to use AVX instructions, but these are available on your machine and could speed up CPU computations.\n",
      "Finished in 8.71724009513855s\n",
      "\n",
      "Press [ESC] to quit demo\n",
      "Press [ESC] to quit demo\n",
      "Camera dropped frame!\n",
      "Camera dropped frame!\n",
      "Camera dropped frame!\n",
      "Camera dropped frame!\n",
      "Camera dropped frame!\n",
      "Camera dropped frame!\n",
      "Camera dropped frame!\n",
      "Camera dropped frame!\n",
      "Camera dropped frame!\n",
      "Camera dropped frame!\n",
      "Camera dropped frame!\n",
      "Camera dropped frame!\n",
      "Camera dropped frame!\n",
      "Camera dropped frame!\n",
      "Camera dropped frame!\n",
      "Camera dropped frame!\n",
      "Camera dropped frame!\n",
      "Camera dropped frame!\n",
      "Camera dropped frame!\n",
      "Camera dropped frame!\n",
      "Camera dropped frame!\n",
      "Camera dropped frame!\n",
      "Camera dropped frame!\n",
      "Camera dropped frame!\n",
      "Camera dropped frame!\n",
      "Camera dropped frame!\n",
      "Camera dropped frame!\n",
      "Camera dropped frame!\n",
      "Camera dropped frame!\n",
      "Camera dropped frame!\n",
      "Camera dropped frame!\n",
      "Camera dropped frame!\n",
      "Camera dropped frame!\n",
      "Camera dropped frame!\n",
      "Camera dropped frame!\n",
      "Camera dropped frame!\n",
      "Camera dropped frame!\n",
      "Camera dropped frame!\n",
      "Camera dropped frame!\n",
      "Camera dropped frame!\n",
      "Camera dropped frame!\n",
      "Camera dropped frame!\n",
      "Camera dropped frame!\n",
      "Camera dropped frame!\n",
      "Camera dropped frame!\n",
      "Camera dropped frame!\n",
      "Camera dropped frame!\n",
      "Camera dropped frame!\n",
      "Camera dropped frame!\n",
      "Camera dropped frame!\n",
      "Camera dropped frame!\n",
      "Camera dropped frame!\n",
      "Camera dropped frame!\n",
      "Camera dropped frame!\n",
      "Camera dropped frame!\n",
      "Camera dropped frame!\n",
      "Camera dropped frame!\n",
      "Camera dropped frame!\n",
      "Camera dropped frame!\n",
      "Camera dropped frame!\n",
      "Camera dropped frame!\n",
      "Camera dropped frame!\n",
      "Camera dropped frame!\n",
      "Camera dropped frame!\n",
      "Camera dropped frame!\n",
      "Camera dropped frame!\n",
      "^C\n",
      "Camera dropped frame!\n"
     ]
    }
   ],
   "source": [
    "!./flow --model cfg/yolo.cfg --load bin/yolo.weights --demo camera"
   ]
  },
  {
   "cell_type": "code",
   "execution_count": null,
   "metadata": {
    "collapsed": true
   },
   "outputs": [],
   "source": []
  }
 ],
 "metadata": {
  "kernelspec": {
   "display_name": "Python [default]",
   "language": "python",
   "name": "python3"
  },
  "language_info": {
   "codemirror_mode": {
    "name": "ipython",
    "version": 3
   },
   "file_extension": ".py",
   "mimetype": "text/x-python",
   "name": "python",
   "nbconvert_exporter": "python",
   "pygments_lexer": "ipython3",
   "version": "3.5.3"
  }
 },
 "nbformat": 4,
 "nbformat_minor": 2
}
