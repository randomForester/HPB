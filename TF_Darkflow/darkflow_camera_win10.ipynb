{
 "cells": [
  {
   "cell_type": "code",
   "execution_count": 2,
   "metadata": {},
   "outputs": [
    {
     "name": "stdout",
     "output_type": "stream",
     "text": [
      " 磁碟區 E 中的磁碟是 新增磁碟區\n",
      " 磁碟區序號:  EA0D-3591\n",
      "\n",
      " E:\\Test\\darkflow-master35 的目錄\n",
      "\n",
      "2018/03/18  下午 01:40    <DIR>          .\n",
      "2018/03/18  下午 01:40    <DIR>          ..\n",
      "2018/02/26  上午 07:07                19 .coveragerc\n",
      "2018/02/26  上午 07:07               538 .gitignore\n",
      "2018/03/15  上午 10:21    <DIR>          .ipynb_checkpoints\n",
      "2018/02/26  上午 07:07               355 .travis.yml\n",
      "2018/03/08  下午 03:03    <DIR>          bin\n",
      "2018/03/12  上午 10:22    <DIR>          build\n",
      "2018/03/12  上午 10:23    <DIR>          cfg\n",
      "2018/03/15  上午 10:25    <DIR>          ckpt\n",
      "2018/03/12  上午 10:22    <DIR>          darkflow\n",
      "2018/03/18  下午 01:40            21,920 darkflow_camera_win10.ipynb\n",
      "2018/02/26  上午 07:07        14,900,940 demo.gif\n",
      "2018/02/26  上午 07:07                94 flow\n",
      "2018/03/07  下午 06:08               216 flow2.py\n",
      "2018/03/08  下午 02:28               105 flow3.py\n",
      "2018/03/08  下午 05:22                21 labels.txt\n",
      "2018/03/08  下午 05:22                21 labels3c.txt\n",
      "2018/03/08  下午 05:22                27 labels_o.txt\n",
      "2018/02/26  上午 07:07            35,141 LICENSE\n",
      "2018/02/26  上午 07:07           283,380 preview.png\n",
      "2018/02/26  上午 07:07            11,539 README.md\n",
      "2018/03/12  上午 10:25    <DIR>          sample_img\n",
      "2018/02/26  上午 07:07             2,575 setup.py\n",
      "2018/02/26  上午 07:07    <DIR>          test\n",
      "2018/03/18  下午 01:38         2,222,343 test.png\n",
      "2018/03/13  下午 05:22           715,744 TFTF.ipynb\n",
      "2018/03/13  下午 12:58    <DIR>          tf_logs\n",
      "2018/03/13  下午 05:12            51,569 Untitled.ipynb\n",
      "2018/03/13  下午 05:11            43,845 Untitled2.ipynb\n",
      "2018/03/15  上午 08:56             4,924 Version_Ubuntu.ipynb\n",
      "              20 個檔案      18,295,316 位元組\n",
      "              11 個目錄  322,269,118,464 位元組可用\n"
     ]
    }
   ],
   "source": [
    "!dir"
   ]
  },
  {
   "cell_type": "code",
   "execution_count": 3,
   "metadata": {},
   "outputs": [
    {
     "name": "stdout",
     "output_type": "stream",
     "text": [
      "Python version: 3.5.4 |Anaconda custom (64-bit)| (default, Nov  8 2017, 14:34:30) [MSC v.1900 64 bit (AMD64)]\n",
      "pandas version: 0.22.0\n",
      "matplotlib version: 2.1.2\n",
      "NumPy version: 1.14.1\n",
      "SciPy version: 1.0.0\n",
      "IPython version: 6.2.1\n",
      "scikit-learn version: 0.19.1\n"
     ]
    }
   ],
   "source": [
    "import sys\n",
    "print(\"Python version: {}\".format(sys.version))\n",
    "\n",
    "import pandas as pd\n",
    "print(\"pandas version: {}\".format(pd.__version__))\n",
    "\n",
    "import matplotlib\n",
    "print(\"matplotlib version: {}\".format(matplotlib.__version__))\n",
    "\n",
    "import numpy as np\n",
    "print(\"NumPy version: {}\".format(np.__version__))\n",
    "\n",
    "import scipy as sp\n",
    "print(\"SciPy version: {}\".format(sp.__version__))\n",
    "\n",
    "import IPython\n",
    "print(\"IPython version: {}\".format(IPython.__version__))\n",
    "\n",
    "import sklearn\n",
    "print(\"scikit-learn version: {}\".format(sklearn.__version__))"
   ]
  },
  {
   "cell_type": "code",
   "execution_count": 4,
   "metadata": {},
   "outputs": [
    {
     "data": {
      "text/plain": [
       "'3.4.1'"
      ]
     },
     "execution_count": 4,
     "metadata": {},
     "output_type": "execute_result"
    }
   ],
   "source": [
    "import cv2 \n",
    "\n",
    "cv2.__version__"
   ]
  },
  {
   "cell_type": "code",
   "execution_count": 5,
   "metadata": {},
   "outputs": [
    {
     "name": "stdout",
     "output_type": "stream",
     "text": [
      "capture failed\n"
     ]
    }
   ],
   "source": [
    "import cv2\n",
    "import sys\n",
    "cap = cv2.VideoCapture(sys.argv[1])\n",
    "\n",
    "ret, frame = cap.read()\n",
    "if not ret:\n",
    "    print (\"capture failed\")"
   ]
  },
  {
   "cell_type": "code",
   "execution_count": 6,
   "metadata": {},
   "outputs": [
    {
     "name": "stdout",
     "output_type": "stream",
     "text": [
      "\n",
      "General configuration for OpenCV 3.4.1 =====================================\n",
      "  Version control:               unknown\n",
      "\n",
      "  Extra modules:\n",
      "    Location (extra):            C:/bld/opencv_1520730019616/work/opencv-3.4.1/opencv_contrib-3.4.1/modules\n",
      "    Version control (extra):     unknown\n",
      "\n",
      "  Platform:\n",
      "    Timestamp:                   2018-03-11T01:05:36Z\n",
      "    Host:                        Windows 6.3.9600 AMD64\n",
      "    CMake:                       3.10.0\n",
      "    CMake generator:             NMake Makefiles\n",
      "    CMake build tool:            nmake\n",
      "    MSVC:                        1900\n",
      "    Configuration:               Release\n",
      "\n",
      "  CPU/HW features:\n",
      "    Baseline:                    SSE SSE2 SSE3\n",
      "      requested:                 SSE3\n",
      "    Dispatched code generation:  SSE4_1 SSE4_2 FP16 AVX AVX2\n",
      "      requested:                 SSE4_1 SSE4_2 AVX FP16 AVX2 AVX512_SKX\n",
      "      SSE4_1 (3 files):          + SSSE3 SSE4_1\n",
      "      SSE4_2 (1 files):          + SSSE3 SSE4_1 POPCNT SSE4_2\n",
      "      FP16 (1 files):            + SSSE3 SSE4_1 POPCNT SSE4_2 FP16 AVX\n",
      "      AVX (5 files):             + SSSE3 SSE4_1 POPCNT SSE4_2 AVX\n",
      "      AVX2 (9 files):            + SSSE3 SSE4_1 POPCNT SSE4_2 FP16 FMA3 AVX AVX2\n",
      "\n",
      "  C/C++:\n",
      "    Built as dynamic libs?:      YES\n",
      "    C++11:                       YES\n",
      "    C++ Compiler:                C:/Program Files (x86)/Microsoft Visual Studio 14.0/VC/bin/amd64/cl.exe  (ver 19.0.24215.1)\n",
      "    C++ flags (Release):         /DWIN32 /D_WINDOWS /W4 /GR  /D _CRT_SECURE_NO_DEPRECATE /D _CRT_NONSTDC_NO_DEPRECATE /D _SCL_SECURE_NO_WARNINGS /Gy /bigobj /Oi  /FS     /EHa /wd4127 /wd4251 /wd4324 /wd4275 /wd4512 /wd4589 /MP2   /MD /O2 /Ob2 /DNDEBUG \n",
      "    C++ flags (Debug):           /DWIN32 /D_WINDOWS /W4 /GR  /D _CRT_SECURE_NO_DEPRECATE /D _CRT_NONSTDC_NO_DEPRECATE /D _SCL_SECURE_NO_WARNINGS /Gy /bigobj /Oi  /FS     /EHa /wd4127 /wd4251 /wd4324 /wd4275 /wd4512 /wd4589 /MP2   /MDd /Zi /Ob0 /Od /RTC1 \n",
      "    C Compiler:                  C:/Program Files (x86)/Microsoft Visual Studio 14.0/VC/bin/amd64/cl.exe\n",
      "    C flags (Release):           /DWIN32 /D_WINDOWS /W3  /D _CRT_SECURE_NO_DEPRECATE /D _CRT_NONSTDC_NO_DEPRECATE /D _SCL_SECURE_NO_WARNINGS /Gy /bigobj /Oi  /FS       /MP2    /MD /O2 /Ob2 /DNDEBUG \n",
      "    C flags (Debug):             /DWIN32 /D_WINDOWS /W3  /D _CRT_SECURE_NO_DEPRECATE /D _CRT_NONSTDC_NO_DEPRECATE /D _SCL_SECURE_NO_WARNINGS /Gy /bigobj /Oi  /FS       /MP2  /MDd /Zi /Ob0 /Od /RTC1 \n",
      "    Linker flags (Release):      /machine:x64  /INCREMENTAL:NO \n",
      "    Linker flags (Debug):        /machine:x64  /debug /INCREMENTAL \n",
      "    ccache:                      NO\n",
      "    Precompiled headers:         NO\n",
      "    Extra dependencies:\n",
      "    3rdparty dependencies:\n",
      "\n",
      "  OpenCV modules:\n",
      "    To be built:                 aruco bgsegm calib3d ccalib core cvv datasets dnn dnn_objdetect dpm face features2d flann fuzzy hfs highgui img_hash imgcodecs imgproc java_bindings_generator line_descriptor ml objdetect optflow phase_unwrapping photo plot python3 python_bindings_generator reg rgbd saliency shape stereo stitching structured_light superres surface_matching text tracking video videoio videostab xfeatures2d ximgproc xobjdetect xphoto\n",
      "    Disabled:                    bioinspired js world\n",
      "    Disabled by dependency:      -\n",
      "    Unavailable:                 cnn_3dobj cudaarithm cudabgsegm cudacodec cudafeatures2d cudafilters cudaimgproc cudalegacy cudaobjdetect cudaoptflow cudastereo cudawarping cudev dnn_modern freetype hdf java matlab ovis python2 sfm ts viz\n",
      "    Applications:                apps\n",
      "    Documentation:               NO\n",
      "    Non-free algorithms:         NO\n",
      "\n",
      "  Windows RT support:            NO\n",
      "\n",
      "  GUI: \n",
      "    QT:                          YES (ver 5.6.2)\n",
      "      QT OpenGL support:         NO\n",
      "    Win32 UI:                    YES\n",
      "\n",
      "  Media I/O: \n",
      "    ZLib:                        C:/bld/opencv_1520730019616/_b_env/Library/lib/z.lib (ver 1.2.11)\n",
      "    JPEG:                        C:/bld/opencv_1520730019616/_b_env/Library/lib/jpeg.lib (ver 90)\n",
      "    WEBP:                        build (ver encoder: 0x020e)\n",
      "    PNG:                         C:/bld/opencv_1520730019616/_b_env/Library/lib/libpng.lib (ver 1.6.34)\n",
      "    TIFF:                        C:/bld/opencv_1520730019616/_b_env/Library/lib/tiff.lib (ver 42 / 4.0.9)\n",
      "    JPEG 2000:                   build (ver 1.900.1)\n",
      "    OpenEXR:                     build (ver 1.7.1)\n",
      "\n",
      "  Video I/O:\n",
      "    Video for Windows:           YES\n",
      "    DC1394:                      NO\n",
      "    FFMPEG:                      YES (prebuilt binaries)\n",
      "      avcodec:                   YES (ver 57.107.100)\n",
      "      avformat:                  YES (ver 57.83.100)\n",
      "      avutil:                    YES (ver 55.78.100)\n",
      "      swscale:                   YES (ver 4.8.100)\n",
      "      avresample:                YES (ver 3.7.0)\n",
      "    GStreamer:                   NO\n",
      "    DirectShow:                  YES\n",
      "\n",
      "  Parallel framework:            Concurrency\n",
      "\n",
      "  Trace:                         YES (with Intel ITT)\n",
      "\n",
      "  Other third-party libraries:\n",
      "    Intel IPP:                   2017.0.3 [2017.0.3]\n",
      "           at:                   C:/bld/opencv_1520730019616/work/opencv-3.4.1/build/3rdparty/ippicv/ippicv_win\n",
      "    Intel IPP IW:                sources (2017.0.3)\n",
      "              at:                C:/bld/opencv_1520730019616/work/opencv-3.4.1/build/3rdparty/ippicv/ippiw_win\n",
      "    Lapack:                      NO\n",
      "    Eigen:                       YES (ver 3.2.8)\n",
      "    Custom HAL:                  NO\n",
      "    Protobuf:                    build (3.5.1)\n",
      "\n",
      "  Python 3:\n",
      "    Interpreter:                 C:/bld/opencv_1520730019616/_b_env/python (ver 3.5.5)\n",
      "    Libraries:                   C:/bld/opencv_1520730019616/_b_env/libs/python35.lib (ver 3.5.5)\n",
      "    numpy:                       C:/bld/opencv_1520730019616/_b_env/Lib/site-packages/numpy/core/include (ver 1.9.3)\n",
      "    packages path:               C:/bld/opencv_1520730019616/_b_env/Lib/site-packages\n",
      "\n",
      "  Python (for build):            C:/bld/opencv_1520730019616/_b_env/python\n",
      "\n",
      "  Java:                          \n",
      "    ant:                         NO\n",
      "    JNI:                         C:/Program Files/Java/jdk1.8.0/include C:/Program Files/Java/jdk1.8.0/include/win32 C:/Program Files/Java/jdk1.8.0/include\n",
      "    Java wrappers:               NO\n",
      "    Java tests:                  NO\n",
      "\n",
      "  Matlab:                        NO\n",
      "\n",
      "  Install to:                    C:/bld/opencv_1520730019616/_b_env/Library\n",
      "-----------------------------------------------------------------\n",
      "\n",
      "\n"
     ]
    }
   ],
   "source": [
    "import cv2\n",
    "print(cv2.getBuildInformation())"
   ]
  },
  {
   "cell_type": "code",
   "execution_count": 7,
   "metadata": {},
   "outputs": [
    {
     "ename": "KeyboardInterrupt",
     "evalue": "",
     "output_type": "error",
     "traceback": [
      "\u001b[1;31m---------------------------------------------------------------------------\u001b[0m",
      "\u001b[1;31mKeyboardInterrupt\u001b[0m                         Traceback (most recent call last)",
      "\u001b[1;32m<ipython-input-7-176b1c997043>\u001b[0m in \u001b[0;36m<module>\u001b[1;34m()\u001b[0m\n\u001b[0;32m      5\u001b[0m     \u001b[0mret\u001b[0m\u001b[1;33m,\u001b[0m \u001b[0mframe\u001b[0m \u001b[1;33m=\u001b[0m \u001b[0mcap\u001b[0m\u001b[1;33m.\u001b[0m\u001b[0mread\u001b[0m\u001b[1;33m(\u001b[0m\u001b[1;33m)\u001b[0m\u001b[1;33m\u001b[0m\u001b[0m\n\u001b[0;32m      6\u001b[0m     \u001b[0mcv2\u001b[0m\u001b[1;33m.\u001b[0m\u001b[0mimshow\u001b[0m\u001b[1;33m(\u001b[0m\u001b[1;34m'frame'\u001b[0m\u001b[1;33m,\u001b[0m \u001b[0mframe\u001b[0m\u001b[1;33m)\u001b[0m\u001b[1;33m\u001b[0m\u001b[0m\n\u001b[1;32m----> 7\u001b[1;33m     \u001b[1;32mif\u001b[0m \u001b[0mcv2\u001b[0m\u001b[1;33m.\u001b[0m\u001b[0mwaitKey\u001b[0m\u001b[1;33m(\u001b[0m\u001b[1;36m1\u001b[0m\u001b[1;33m)\u001b[0m \u001b[1;33m&\u001b[0m \u001b[1;36m0xFF\u001b[0m \u001b[1;33m==\u001b[0m \u001b[0mord\u001b[0m\u001b[1;33m(\u001b[0m\u001b[1;34m'q'\u001b[0m\u001b[1;33m)\u001b[0m\u001b[1;33m:\u001b[0m\u001b[1;33m\u001b[0m\u001b[0m\n\u001b[0m\u001b[0;32m      8\u001b[0m         \u001b[1;32mbreak\u001b[0m\u001b[1;33m\u001b[0m\u001b[0m\n\u001b[0;32m      9\u001b[0m \u001b[1;33m\u001b[0m\u001b[0m\n",
      "\u001b[1;31mKeyboardInterrupt\u001b[0m: "
     ]
    }
   ],
   "source": [
    "cap = cv2.VideoCapture('../VideosHPB/IMAG0003.mp4')\n",
    "#cap = cv2.VideoCapture(0) #use this to get frames from webcam\n",
    "\n",
    "while(cap.isOpened()):\n",
    "    ret, frame = cap.read()\n",
    "    cv2.imshow('frame', frame)\n",
    "    if cv2.waitKey(1) & 0xFF == ord('q'):\n",
    "        break\n",
    "\n",
    "cap.release()\n",
    "cv2.destroyAllWindows()"
   ]
  },
  {
   "cell_type": "code",
   "execution_count": 8,
   "metadata": {},
   "outputs": [
    {
     "name": "stdout",
     "output_type": "stream",
     "text": [
      "True\n"
     ]
    },
    {
     "data": {
      "text/plain": [
       "True"
      ]
     },
     "execution_count": 8,
     "metadata": {},
     "output_type": "execute_result"
    }
   ],
   "source": [
    "import cv2\n",
    "cv2.__version__ \n",
    "\n",
    "vid = cv2.VideoCapture('../VideosHPB/IMAG0003.mp4')\n",
    " \n",
    "ret, frame = vid.read()\n",
    "print(ret)                     #should output True inside the console\n",
    "cv2.imwrite('test.png', frame) #should save the frame as image"
   ]
  },
  {
   "cell_type": "code",
   "execution_count": 9,
   "metadata": {},
   "outputs": [
    {
     "name": "stdout",
     "output_type": "stream",
     "text": [
      "Error reading from camera\n"
     ]
    }
   ],
   "source": [
    "import numpy as np\n",
    "import cv2\n",
    "cap = cv2.VideoCapture(0)\n",
    "while True:\n",
    "    ret, frame = cap.read()\n",
    "    if (ret == False):\n",
    "        print(\"Error reading from camera\")\n",
    "        break\n",
    "    cv2.imshow('frame',frame)\n",
    "    key = cv2.waitKey(1) & 0xFF;\n",
    "    if (key == 27 or key == ord('q') or key == ord('x')):\n",
    "        break;\n",
    "\n",
    "cap.release()\n",
    "cv2.destroyAllWindows()"
   ]
  },
  {
   "cell_type": "markdown",
   "metadata": {},
   "source": [
    "# Training and Testing"
   ]
  },
  {
   "cell_type": "markdown",
   "metadata": {},
   "source": [
    "# Camera & Video"
   ]
  },
  {
   "cell_type": "code",
   "execution_count": null,
   "metadata": {},
   "outputs": [],
   "source": [
    "!python flow2.py --model cfg/yolo.cfg --load bin/yolo.weights --demo \"../VideosHPB/IMAG0011.mp4\" --saveVideo"
   ]
  },
  {
   "cell_type": "code",
   "execution_count": null,
   "metadata": {},
   "outputs": [],
   "source": []
  }
 ],
 "metadata": {
  "kernelspec": {
   "display_name": "Python 3",
   "language": "python",
   "name": "python3"
  },
  "language_info": {
   "codemirror_mode": {
    "name": "ipython",
    "version": 3
   },
   "file_extension": ".py",
   "mimetype": "text/x-python",
   "name": "python",
   "nbconvert_exporter": "python",
   "pygments_lexer": "ipython3",
   "version": "3.5.4"
  }
 },
 "nbformat": 4,
 "nbformat_minor": 2
}
