{
 "cells": [
  {
   "cell_type": "code",
   "execution_count": 1,
   "metadata": {},
   "outputs": [
    {
     "name": "stdout",
     "output_type": "stream",
     "text": [
      "Python version: 3.5.4 |Anaconda custom (64-bit)| (default, Nov 20 2017, 18:44:38) \n",
      "[GCC 7.2.0]\n",
      "pandas version: 0.22.0\n",
      "matplotlib version: 2.1.2\n",
      "NumPy version: 1.14.2\n",
      "SciPy version: 1.0.0\n",
      "IPython version: 6.2.1\n",
      "scikit-learn version: 0.19.1\n"
     ]
    }
   ],
   "source": [
    "import sys\n",
    "print(\"Python version: {}\".format(sys.version))\n",
    "\n",
    "import pandas as pd\n",
    "print(\"pandas version: {}\".format(pd.__version__))\n",
    "\n",
    "import matplotlib\n",
    "print(\"matplotlib version: {}\".format(matplotlib.__version__))\n",
    "\n",
    "import numpy as np\n",
    "print(\"NumPy version: {}\".format(np.__version__))\n",
    "\n",
    "import scipy as sp\n",
    "print(\"SciPy version: {}\".format(sp.__version__))\n",
    "\n",
    "import IPython\n",
    "print(\"IPython version: {}\".format(IPython.__version__))\n",
    "\n",
    "import sklearn\n",
    "print(\"scikit-learn version: {}\".format(sklearn.__version__))"
   ]
  },
  {
   "cell_type": "code",
   "execution_count": 2,
   "metadata": {},
   "outputs": [
    {
     "name": "stderr",
     "output_type": "stream",
     "text": [
      "/home/cfchen/anaconda3/envs/py35/lib/python3.5/site-packages/h5py/__init__.py:36: FutureWarning: Conversion of the second argument of issubdtype from `float` to `np.floating` is deprecated. In future, it will be treated as `np.float64 == np.dtype(float).type`.\n",
      "  from ._conv import register_converters as _register_converters\n"
     ]
    },
    {
     "name": "stdout",
     "output_type": "stream",
     "text": [
      "tensorflow: 1.7.0\n"
     ]
    }
   ],
   "source": [
    "import tensorflow\n",
    "print('tensorflow: %s' % tensorflow.__version__)"
   ]
  },
  {
   "cell_type": "code",
   "execution_count": 3,
   "metadata": {},
   "outputs": [
    {
     "name": "stdout",
     "output_type": "stream",
     "text": [
      "total 90584\r\n",
      "drwxr-xr-x 2 cfchen cfchen     4096  四  24 13:57 \u001b[0m\u001b[01;34mbin\u001b[0m/\r\n",
      "drwxrwxr-x 4 cfchen cfchen     4096  四  24 13:48 \u001b[01;34mbuild\u001b[0m/\r\n",
      "drwxrwxr-x 4 cfchen cfchen     4096  四  24 14:12 \u001b[01;34mcfg\u001b[0m/\r\n",
      "drwxrwxr-x 2 cfchen cfchen     4096  四  25 09:20 \u001b[01;34mckpt\u001b[0m/\r\n",
      "drwxrwxr-x 7 cfchen cfchen     4096  四  24 13:48 \u001b[01;34mdarkflow\u001b[0m/\r\n",
      "-rw-rw-r-- 1 cfchen cfchen    42776  四  25 09:44 darkflow_camera_gpu.ipynb\r\n",
      "-rw-rw-r-- 1 cfchen cfchen 14900940  三  25 10:17 \u001b[01;35mdemo.gif\u001b[0m\r\n",
      "-rwxr-xr-x 1 cfchen cfchen       94  三  25 10:17 \u001b[01;32mflow\u001b[0m*\r\n",
      "-rw-r--r-- 1 cfchen cfchen      135  四  24 14:09 labels20c.txt\r\n",
      "-rw-r--r-- 1 cfchen cfchen       21  四  24 14:09 labels3c.txt\r\n",
      "-rw-r--r-- 1 cfchen cfchen       15  四  24 14:09 labels_fidget.txt\r\n",
      "-rw-r--r-- 1 cfchen cfchen       27  四  24 14:09 labels_o.txt\r\n",
      "-rw-r--r-- 1 cfchen cfchen       21  四  24 14:09 labels.txt\r\n",
      "-rw-rw-r-- 1 cfchen cfchen    35141  三  25 10:17 LICENSE\r\n",
      "-rw-rw-r-- 1 cfchen cfchen   283380  三  25 10:17 \u001b[01;35mpreview.png\u001b[0m\r\n",
      "-rw-rw-r-- 1 cfchen cfchen    11539  三  25 10:17 README.md\r\n",
      "drwxrwxr-x 2 cfchen cfchen     4096  四  24 21:39 \u001b[01;34mresults2018\u001b[0m/\r\n",
      "drwxrwxr-x 3 cfchen cfchen     4096  四  24 13:58 \u001b[01;34msample_img\u001b[0m/\r\n",
      "-rw-rw-r-- 1 cfchen cfchen     2575  三  25 10:17 setup.py\r\n",
      "drwxrwxr-x 3 cfchen cfchen     4096  三  25 10:17 \u001b[01;34mtest\u001b[0m/\r\n",
      "-rw-rw-r-- 1 cfchen cfchen  2222347  四  25 09:24 \u001b[01;35mtest.png\u001b[0m\r\n",
      "-rw-rw-r-- 1 cfchen cfchen 25062686  四  25 09:43 \u001b[01;35mvideo.avi\u001b[0m\r\n",
      "-rw-rw-r-- 1 cfchen cfchen 25062662  四  25 09:38 \u001b[01;35mvideocpu.avi\u001b[0m\r\n",
      "-rw-rw-r-- 1 cfchen cfchen 25062686  四  25 09:40 \u001b[01;35mvideogpu.avi\u001b[0m\r\n"
     ]
    }
   ],
   "source": [
    "ls -l"
   ]
  },
  {
   "cell_type": "code",
   "execution_count": 4,
   "metadata": {},
   "outputs": [
    {
     "name": "stdout",
     "output_type": "stream",
     "text": [
      "/home/cfchen/anaconda3/envs/py35/lib/python3.5/site-packages/h5py/__init__.py:36: FutureWarning: Conversion of the second argument of issubdtype from `float` to `np.floating` is deprecated. In future, it will be treated as `np.float64 == np.dtype(float).type`.\n",
      "  from ._conv import register_converters as _register_converters\n",
      "WARNING:tensorflow:From /home/cfchen/anaconda3/envs/py35/lib/python3.5/site-packages/tensorflow/contrib/learn/python/learn/datasets/base.py:198: retry (from tensorflow.contrib.learn.python.learn.datasets.base) is deprecated and will be removed in a future version.\n",
      "Instructions for updating:\n",
      "Use the retry module or similar alternatives.\n",
      "\n",
      "Example usage: flow --imgdir sample_img/ --model cfg/yolo.cfg --load bin/yolo.weights\n",
      "\n",
      "Arguments:\n",
      "  --summary        path to TensorBoard summaries directory\n",
      "  --metaLoad       path to .meta file generated during --savepb that corresponds to .pb file\n",
      "  --load           how to initialize the net? Either from .weights or a checkpoint, or even from scratch\n",
      "  --imgdir         path to testing directory with images\n",
      "  --verbalise      say out loud while building graph\n",
      "  --binary         path to .weights directory\n",
      "  --train          train the whole net\n",
      "  --queue          process demo in batch\n",
      "  --model          configuration of choice\n",
      "  --config         path to .cfg directory\n",
      "  --epoch          number of epoch\n",
      "  --trainer        training algorithm\n",
      "  --json           Outputs bounding box information in json format.\n",
      "  --threshold      detection threshold\n",
      "  --momentum       applicable for rmsprop and momentum optimizers\n",
      "  --backup         path to backup folder\n",
      "  --save           save checkpoint every ? training examples\n",
      "  --keep           Number of most recent training results to save\n",
      "  --help, --h, -h  show this super helpful message and exit\n",
      "  --demo           demo on webcam\n",
      "  --savepb         save net and weight to a .pb file\n",
      "  --batch          batch size\n",
      "  --annotation     path to annotation directory\n",
      "  --saveVideo      Records video from input video or camera\n",
      "  --dataset        path to dataset directory\n",
      "  --pbLoad         path to .pb protobuf file (metaLoad must also be specified)\n",
      "  --lr             learning rate\n",
      "  --gpu            how much gpu (from 0.0 to 1.0)\n",
      "  --gpuName        GPU device name\n",
      "  --labels         path to labels file\n",
      "\n"
     ]
    }
   ],
   "source": [
    "!./flow --h"
   ]
  },
  {
   "cell_type": "code",
   "execution_count": 10,
   "metadata": {},
   "outputs": [
    {
     "name": "stdout",
     "output_type": "stream",
     "text": [
      "/home/cfchen/anaconda3/envs/py35/lib/python3.5/site-packages/h5py/__init__.py:36: FutureWarning: Conversion of the second argument of issubdtype from `float` to `np.floating` is deprecated. In future, it will be treated as `np.float64 == np.dtype(float).type`.\n",
      "  from ._conv import register_converters as _register_converters\n",
      "WARNING:tensorflow:From /home/cfchen/anaconda3/envs/py35/lib/python3.5/site-packages/tensorflow/contrib/learn/python/learn/datasets/base.py:198: retry (from tensorflow.contrib.learn.python.learn.datasets.base) is deprecated and will be removed in a future version.\n",
      "Instructions for updating:\n",
      "Use the retry module or similar alternatives.\n",
      "\n",
      "Parsing ./cfg/tiny-yolo-voc.cfg\n",
      "Parsing cfg/tiny-yolo.cfg\n",
      "Loading bin/tiny-yolo-voc.weights ...\n",
      "Successfully identified 63471556 bytes\n",
      "Finished in 0.0030975341796875s\n",
      "Model has a coco model name, loading coco labels.\n",
      "\n",
      "Building net ...\n",
      "Source | Train? | Layer description                | Output size\n",
      "-------+--------+----------------------------------+---------------\n",
      "       |        | input                            | (?, 416, 416, 3)\n",
      " Load  |  Yep!  | conv 3x3p1_1  +bnorm  leaky      | (?, 416, 416, 16)\n",
      " Load  |  Yep!  | maxp 2x2p0_2                     | (?, 208, 208, 16)\n",
      " Load  |  Yep!  | conv 3x3p1_1  +bnorm  leaky      | (?, 208, 208, 32)\n",
      " Load  |  Yep!  | maxp 2x2p0_2                     | (?, 104, 104, 32)\n",
      " Load  |  Yep!  | conv 3x3p1_1  +bnorm  leaky      | (?, 104, 104, 64)\n",
      " Load  |  Yep!  | maxp 2x2p0_2                     | (?, 52, 52, 64)\n",
      " Load  |  Yep!  | conv 3x3p1_1  +bnorm  leaky      | (?, 52, 52, 128)\n",
      " Load  |  Yep!  | maxp 2x2p0_2                     | (?, 26, 26, 128)\n",
      " Load  |  Yep!  | conv 3x3p1_1  +bnorm  leaky      | (?, 26, 26, 256)\n",
      " Load  |  Yep!  | maxp 2x2p0_2                     | (?, 13, 13, 256)\n",
      " Load  |  Yep!  | conv 3x3p1_1  +bnorm  leaky      | (?, 13, 13, 512)\n",
      " Load  |  Yep!  | maxp 2x2p0_1                     | (?, 13, 13, 512)\n",
      " Load  |  Yep!  | conv 3x3p1_1  +bnorm  leaky      | (?, 13, 13, 1024)\n",
      " Load  |  Yep!  | conv 3x3p1_1  +bnorm  leaky      | (?, 13, 13, 1024)\n",
      " Init  |  Yep!  | conv 1x1p0_1    linear           | (?, 13, 13, 425)\n",
      "-------+--------+----------------------------------+---------------\n",
      "GPU mode with 0.8 usage\n",
      "2018-04-25 15:32:59.408609: I tensorflow/core/platform/cpu_feature_guard.cc:140] Your CPU supports instructions that this TensorFlow binary was not compiled to use: SSE4.1 SSE4.2 AVX AVX2 FMA\n",
      "2018-04-25 15:32:59.511878: I tensorflow/stream_executor/cuda/cuda_gpu_executor.cc:898] successful NUMA node read from SysFS had negative value (-1), but there must be at least one NUMA node, so returning NUMA node zero\n",
      "2018-04-25 15:32:59.512141: I tensorflow/core/common_runtime/gpu/gpu_device.cc:1344] Found device 0 with properties: \n",
      "name: GeForce GTX 1080 Ti major: 6 minor: 1 memoryClockRate(GHz): 1.582\n",
      "pciBusID: 0000:01:00.0\n",
      "totalMemory: 10.91GiB freeMemory: 10.06GiB\n",
      "2018-04-25 15:32:59.512156: I tensorflow/core/common_runtime/gpu/gpu_device.cc:1423] Adding visible gpu devices: 0\n",
      "2018-04-25 15:32:59.679176: I tensorflow/core/common_runtime/gpu/gpu_device.cc:911] Device interconnect StreamExecutor with strength 1 edge matrix:\n",
      "2018-04-25 15:32:59.679206: I tensorflow/core/common_runtime/gpu/gpu_device.cc:917]      0 \n",
      "2018-04-25 15:32:59.679212: I tensorflow/core/common_runtime/gpu/gpu_device.cc:930] 0:   N \n",
      "2018-04-25 15:32:59.679361: I tensorflow/core/common_runtime/gpu/gpu_device.cc:1041] Created TensorFlow device (/job:localhost/replica:0/task:0/device:GPU:0 with 8936 MB memory) -> physical GPU (device: 0, name: GeForce GTX 1080 Ti, pci bus id: 0000:01:00.0, compute capability: 6.1)\n",
      "Finished in 2.6872215270996094s\n",
      "\n",
      "Forwarding 8 inputs ...\n",
      "Total time = 0.8196334838867188s / 8 inps = 9.760460202362447 ips\n",
      "Post processing 8 inputs ...\n",
      "Total time = 0.335918664932251s / 8 inps = 23.81528874441515 ips\n"
     ]
    }
   ],
   "source": [
    "!./flow --model cfg/tiny-yolo.cfg --load bin/tiny-yolo-voc.weights --gpu 0.8"
   ]
  },
  {
   "cell_type": "code",
   "execution_count": 13,
   "metadata": {},
   "outputs": [
    {
     "name": "stdout",
     "output_type": "stream",
     "text": [
      "/home/cfchen/anaconda3/envs/py35/lib/python3.5/site-packages/h5py/__init__.py:36: FutureWarning: Conversion of the second argument of issubdtype from `float` to `np.floating` is deprecated. In future, it will be treated as `np.float64 == np.dtype(float).type`.\n",
      "  from ._conv import register_converters as _register_converters\n",
      "WARNING:tensorflow:From /home/cfchen/anaconda3/envs/py35/lib/python3.5/site-packages/tensorflow/contrib/learn/python/learn/datasets/base.py:198: retry (from tensorflow.contrib.learn.python.learn.datasets.base) is deprecated and will be removed in a future version.\n",
      "Instructions for updating:\n",
      "Use the retry module or similar alternatives.\n",
      "\n",
      "Parsing ./cfg/tiny-yolo-voc.cfg\n",
      "Parsing cfg/tiny-yolo.cfg\n",
      "Loading bin/tiny-yolo-voc.weights ...\n",
      "Successfully identified 63471556 bytes\n",
      "Finished in 0.0031728744506835938s\n",
      "Model has a coco model name, loading coco labels.\n",
      "\n",
      "Building net ...\n",
      "Source | Train? | Layer description                | Output size\n",
      "-------+--------+----------------------------------+---------------\n",
      "       |        | input                            | (?, 416, 416, 3)\n",
      " Load  |  Yep!  | conv 3x3p1_1  +bnorm  leaky      | (?, 416, 416, 16)\n",
      " Load  |  Yep!  | maxp 2x2p0_2                     | (?, 208, 208, 16)\n",
      " Load  |  Yep!  | conv 3x3p1_1  +bnorm  leaky      | (?, 208, 208, 32)\n",
      " Load  |  Yep!  | maxp 2x2p0_2                     | (?, 104, 104, 32)\n",
      " Load  |  Yep!  | conv 3x3p1_1  +bnorm  leaky      | (?, 104, 104, 64)\n",
      " Load  |  Yep!  | maxp 2x2p0_2                     | (?, 52, 52, 64)\n",
      " Load  |  Yep!  | conv 3x3p1_1  +bnorm  leaky      | (?, 52, 52, 128)\n",
      " Load  |  Yep!  | maxp 2x2p0_2                     | (?, 26, 26, 128)\n",
      " Load  |  Yep!  | conv 3x3p1_1  +bnorm  leaky      | (?, 26, 26, 256)\n",
      " Load  |  Yep!  | maxp 2x2p0_2                     | (?, 13, 13, 256)\n",
      " Load  |  Yep!  | conv 3x3p1_1  +bnorm  leaky      | (?, 13, 13, 512)\n",
      " Load  |  Yep!  | maxp 2x2p0_1                     | (?, 13, 13, 512)\n",
      " Load  |  Yep!  | conv 3x3p1_1  +bnorm  leaky      | (?, 13, 13, 1024)\n",
      " Load  |  Yep!  | conv 3x3p1_1  +bnorm  leaky      | (?, 13, 13, 1024)\n",
      " Init  |  Yep!  | conv 1x1p0_1    linear           | (?, 13, 13, 425)\n",
      "-------+--------+----------------------------------+---------------\n",
      "GPU mode with 0.8 usage\n",
      "2018-04-25 15:34:02.478669: I tensorflow/core/platform/cpu_feature_guard.cc:140] Your CPU supports instructions that this TensorFlow binary was not compiled to use: SSE4.1 SSE4.2 AVX AVX2 FMA\n",
      "2018-04-25 15:34:02.593347: I tensorflow/stream_executor/cuda/cuda_gpu_executor.cc:898] successful NUMA node read from SysFS had negative value (-1), but there must be at least one NUMA node, so returning NUMA node zero\n",
      "2018-04-25 15:34:02.593707: I tensorflow/core/common_runtime/gpu/gpu_device.cc:1344] Found device 0 with properties: \n",
      "name: GeForce GTX 1080 Ti major: 6 minor: 1 memoryClockRate(GHz): 1.582\n",
      "pciBusID: 0000:01:00.0\n",
      "totalMemory: 10.91GiB freeMemory: 10.04GiB\n",
      "2018-04-25 15:34:02.593724: I tensorflow/core/common_runtime/gpu/gpu_device.cc:1423] Adding visible gpu devices: 0\n",
      "2018-04-25 15:34:02.765690: I tensorflow/core/common_runtime/gpu/gpu_device.cc:911] Device interconnect StreamExecutor with strength 1 edge matrix:\n",
      "2018-04-25 15:34:02.765719: I tensorflow/core/common_runtime/gpu/gpu_device.cc:917]      0 \n",
      "2018-04-25 15:34:02.765725: I tensorflow/core/common_runtime/gpu/gpu_device.cc:930] 0:   N \n",
      "2018-04-25 15:34:02.765884: I tensorflow/core/common_runtime/gpu/gpu_device.cc:1041] Created TensorFlow device (/job:localhost/replica:0/task:0/device:GPU:0 with 8936 MB memory) -> physical GPU (device: 0, name: GeForce GTX 1080 Ti, pci bus id: 0000:01:00.0, compute capability: 6.1)\n",
      "Finished in 2.7351863384246826s\n",
      "\n",
      "Forwarding 8 inputs ...\n",
      "Total time = 0.8589565753936768s / 8 inps = 9.313625658355829 ips\n",
      "Post processing 8 inputs ...\n",
      "Total time = 0.342602014541626s / 8 inps = 23.350709162359593 ips\n"
     ]
    }
   ],
   "source": [
    "!./flow --imgdir sample_img/ --model cfg/tiny-yolo.cfg --load bin/tiny-yolo-voc.weights --gpu 0.8"
   ]
  },
  {
   "cell_type": "code",
   "execution_count": 15,
   "metadata": {},
   "outputs": [
    {
     "name": "stdout",
     "output_type": "stream",
     "text": [
      "/home/cfchen/anaconda3/envs/py35/lib/python3.5/site-packages/h5py/__init__.py:36: FutureWarning: Conversion of the second argument of issubdtype from `float` to `np.floating` is deprecated. In future, it will be treated as `np.float64 == np.dtype(float).type`.\n",
      "  from ._conv import register_converters as _register_converters\n",
      "WARNING:tensorflow:From /home/cfchen/anaconda3/envs/py35/lib/python3.5/site-packages/tensorflow/contrib/learn/python/learn/datasets/base.py:198: retry (from tensorflow.contrib.learn.python.learn.datasets.base) is deprecated and will be removed in a future version.\n",
      "Instructions for updating:\n",
      "Use the retry module or similar alternatives.\n",
      "\n",
      "Parsing ./cfg/tiny-yolo-voc.cfg\n",
      "Parsing cfg/tiny-yolo.cfg\n",
      "Loading bin/tiny-yolo-voc.weights ...\n",
      "Successfully identified 63471556 bytes\n",
      "Finished in 0.004037618637084961s\n",
      "Model has a coco model name, loading coco labels.\n",
      "\n",
      "Building net ...\n",
      "Source | Train? | Layer description                | Output size\n",
      "-------+--------+----------------------------------+---------------\n",
      "       |        | input                            | (?, 416, 416, 3)\n",
      " Load  |  Yep!  | conv 3x3p1_1  +bnorm  leaky      | (?, 416, 416, 16)\n",
      " Load  |  Yep!  | maxp 2x2p0_2                     | (?, 208, 208, 16)\n",
      " Load  |  Yep!  | conv 3x3p1_1  +bnorm  leaky      | (?, 208, 208, 32)\n",
      " Load  |  Yep!  | maxp 2x2p0_2                     | (?, 104, 104, 32)\n",
      " Load  |  Yep!  | conv 3x3p1_1  +bnorm  leaky      | (?, 104, 104, 64)\n",
      " Load  |  Yep!  | maxp 2x2p0_2                     | (?, 52, 52, 64)\n",
      " Load  |  Yep!  | conv 3x3p1_1  +bnorm  leaky      | (?, 52, 52, 128)\n",
      " Load  |  Yep!  | maxp 2x2p0_2                     | (?, 26, 26, 128)\n",
      " Load  |  Yep!  | conv 3x3p1_1  +bnorm  leaky      | (?, 26, 26, 256)\n",
      " Load  |  Yep!  | maxp 2x2p0_2                     | (?, 13, 13, 256)\n",
      " Load  |  Yep!  | conv 3x3p1_1  +bnorm  leaky      | (?, 13, 13, 512)\n",
      " Load  |  Yep!  | maxp 2x2p0_1                     | (?, 13, 13, 512)\n",
      " Load  |  Yep!  | conv 3x3p1_1  +bnorm  leaky      | (?, 13, 13, 1024)\n",
      " Load  |  Yep!  | conv 3x3p1_1  +bnorm  leaky      | (?, 13, 13, 1024)\n",
      " Init  |  Yep!  | conv 1x1p0_1    linear           | (?, 13, 13, 425)\n",
      "-------+--------+----------------------------------+---------------\n",
      "GPU mode with 0.85 usage\n",
      "2018-04-25 15:34:37.975381: I tensorflow/core/platform/cpu_feature_guard.cc:140] Your CPU supports instructions that this TensorFlow binary was not compiled to use: SSE4.1 SSE4.2 AVX AVX2 FMA\n",
      "2018-04-25 15:34:38.087307: I tensorflow/stream_executor/cuda/cuda_gpu_executor.cc:898] successful NUMA node read from SysFS had negative value (-1), but there must be at least one NUMA node, so returning NUMA node zero\n",
      "2018-04-25 15:34:38.087561: I tensorflow/core/common_runtime/gpu/gpu_device.cc:1344] Found device 0 with properties: \n",
      "name: GeForce GTX 1080 Ti major: 6 minor: 1 memoryClockRate(GHz): 1.582\n",
      "pciBusID: 0000:01:00.0\n",
      "totalMemory: 10.91GiB freeMemory: 10.04GiB\n",
      "2018-04-25 15:34:38.087575: I tensorflow/core/common_runtime/gpu/gpu_device.cc:1423] Adding visible gpu devices: 0\n",
      "2018-04-25 15:34:38.254110: I tensorflow/core/common_runtime/gpu/gpu_device.cc:911] Device interconnect StreamExecutor with strength 1 edge matrix:\n",
      "2018-04-25 15:34:38.254142: I tensorflow/core/common_runtime/gpu/gpu_device.cc:917]      0 \n",
      "2018-04-25 15:34:38.254148: I tensorflow/core/common_runtime/gpu/gpu_device.cc:930] 0:   N \n",
      "2018-04-25 15:34:38.254299: I tensorflow/core/common_runtime/gpu/gpu_device.cc:1041] Created TensorFlow device (/job:localhost/replica:0/task:0/device:GPU:0 with 9495 MB memory) -> physical GPU (device: 0, name: GeForce GTX 1080 Ti, pci bus id: 0000:01:00.0, compute capability: 6.1)\n",
      "Finished in 2.640773057937622s\n",
      "\n",
      "Forwarding 8 inputs ...\n",
      "Total time = 0.8628621101379395s / 8 inps = 9.271469804973936 ips\n",
      "Post processing 8 inputs ...\n",
      "Total time = 0.1411304473876953s / 8 inps = 56.68514589217899 ips\n"
     ]
    }
   ],
   "source": [
    "!./flow --imgdir sample_img/ --model cfg/tiny-yolo.cfg --load bin/tiny-yolo-voc.weights --json --gpu 0.85"
   ]
  },
  {
   "cell_type": "markdown",
   "metadata": {},
   "source": [
    "# Training and Testing GPU"
   ]
  },
  {
   "cell_type": "code",
   "execution_count": 18,
   "metadata": {},
   "outputs": [
    {
     "name": "stdout",
     "output_type": "stream",
     "text": [
      "/home/cfchen/anaconda3/envs/py35/lib/python3.5/site-packages/h5py/__init__.py:36: FutureWarning: Conversion of the second argument of issubdtype from `float` to `np.floating` is deprecated. In future, it will be treated as `np.float64 == np.dtype(float).type`.\n",
      "  from ._conv import register_converters as _register_converters\n",
      "WARNING:tensorflow:From /home/cfchen/anaconda3/envs/py35/lib/python3.5/site-packages/tensorflow/contrib/learn/python/learn/datasets/base.py:198: retry (from tensorflow.contrib.learn.python.learn.datasets.base) is deprecated and will be removed in a future version.\n",
      "Instructions for updating:\n",
      "Use the retry module or similar alternatives.\n",
      "\n",
      "Parsing ./cfg/tiny-yolo-voc.cfg\n",
      "Parsing cfg/tiny-yolo-voc-3c.cfg\n",
      "Loading bin/tiny-yolo-voc.weights ...\n",
      "Successfully identified 63471556 bytes\n",
      "Finished in 0.0030858516693115234s\n",
      "\n",
      "Building net ...\n",
      "Source | Train? | Layer description                | Output size\n",
      "-------+--------+----------------------------------+---------------\n",
      "       |        | input                            | (?, 416, 416, 3)\n",
      " Load  |  Yep!  | conv 3x3p1_1  +bnorm  leaky      | (?, 416, 416, 16)\n",
      " Load  |  Yep!  | maxp 2x2p0_2                     | (?, 208, 208, 16)\n",
      " Load  |  Yep!  | conv 3x3p1_1  +bnorm  leaky      | (?, 208, 208, 32)\n",
      " Load  |  Yep!  | maxp 2x2p0_2                     | (?, 104, 104, 32)\n",
      " Load  |  Yep!  | conv 3x3p1_1  +bnorm  leaky      | (?, 104, 104, 64)\n",
      " Load  |  Yep!  | maxp 2x2p0_2                     | (?, 52, 52, 64)\n",
      " Load  |  Yep!  | conv 3x3p1_1  +bnorm  leaky      | (?, 52, 52, 128)\n",
      " Load  |  Yep!  | maxp 2x2p0_2                     | (?, 26, 26, 128)\n",
      " Load  |  Yep!  | conv 3x3p1_1  +bnorm  leaky      | (?, 26, 26, 256)\n",
      " Load  |  Yep!  | maxp 2x2p0_2                     | (?, 13, 13, 256)\n",
      " Load  |  Yep!  | conv 3x3p1_1  +bnorm  leaky      | (?, 13, 13, 512)\n",
      " Load  |  Yep!  | maxp 2x2p0_1                     | (?, 13, 13, 512)\n",
      " Load  |  Yep!  | conv 3x3p1_1  +bnorm  leaky      | (?, 13, 13, 1024)\n",
      " Load  |  Yep!  | conv 3x3p1_1  +bnorm  leaky      | (?, 13, 13, 1024)\n",
      " Init  |  Yep!  | conv 1x1p0_1    linear           | (?, 13, 13, 40)\n",
      "-------+--------+----------------------------------+---------------\n",
      "GPU mode with 0.85 usage\n",
      "cfg/tiny-yolo-voc-3c.cfg loss hyper-parameters:\n",
      "\tH       = 13\n",
      "\tW       = 13\n",
      "\tbox     = 5\n",
      "\tclasses = 3\n",
      "\tscales  = [1.0, 5.0, 1.0, 1.0]\n",
      "Building cfg/tiny-yolo-voc-3c.cfg loss\n",
      "Building cfg/tiny-yolo-voc-3c.cfg train op\n",
      "2018-04-25 15:35:52.643542: I tensorflow/core/platform/cpu_feature_guard.cc:140] Your CPU supports instructions that this TensorFlow binary was not compiled to use: SSE4.1 SSE4.2 AVX AVX2 FMA\n",
      "2018-04-25 15:35:52.762756: I tensorflow/stream_executor/cuda/cuda_gpu_executor.cc:898] successful NUMA node read from SysFS had negative value (-1), but there must be at least one NUMA node, so returning NUMA node zero\n",
      "2018-04-25 15:35:52.763063: I tensorflow/core/common_runtime/gpu/gpu_device.cc:1344] Found device 0 with properties: \n",
      "name: GeForce GTX 1080 Ti major: 6 minor: 1 memoryClockRate(GHz): 1.582\n",
      "pciBusID: 0000:01:00.0\n",
      "totalMemory: 10.91GiB freeMemory: 10.06GiB\n",
      "2018-04-25 15:35:52.763089: I tensorflow/core/common_runtime/gpu/gpu_device.cc:1423] Adding visible gpu devices: 0\n",
      "2018-04-25 15:35:52.931413: I tensorflow/core/common_runtime/gpu/gpu_device.cc:911] Device interconnect StreamExecutor with strength 1 edge matrix:\n",
      "2018-04-25 15:35:52.931442: I tensorflow/core/common_runtime/gpu/gpu_device.cc:917]      0 \n",
      "2018-04-25 15:35:52.931448: I tensorflow/core/common_runtime/gpu/gpu_device.cc:930] 0:   N \n",
      "2018-04-25 15:35:52.931616: I tensorflow/core/common_runtime/gpu/gpu_device.cc:1041] Created TensorFlow device (/job:localhost/replica:0/task:0/device:GPU:0 with 9495 MB memory) -> physical GPU (device: 0, name: GeForce GTX 1080 Ti, pci bus id: 0000:01:00.0, compute capability: 6.1)\n",
      "Finished in 3.7789528369903564s\n",
      "\n",
      "Enter training ...\n",
      "\n",
      "cfg/tiny-yolo-voc-3c.cfg parsing ../darkflow_data/MY20173c/Annotations\n",
      "Parsing for ['benz', 'volkswagen', 'audi'] \n",
      "[====================>]100%  023.xml\n",
      "Statistics:\n",
      "audi: 10\n",
      "volkswagen: 10\n",
      "benz: 10\n",
      "Dataset size: 30\n",
      "Dataset of 30 instance(s)\n",
      "Training statistics: \n",
      "\tLearning rate : 1e-05\n",
      "\tBatch size    : 16\n",
      "\tEpoch number  : 5\n",
      "\tBackup every  : 2000\n",
      "step 1 - loss 116.22623443603516 - moving ave loss 116.22623443603516\n",
      "Finish 1 epoch(es)\n",
      "step 2 - loss 115.509033203125 - moving ave loss 116.15451431274414\n",
      "Finish 2 epoch(es)\n",
      "step 3 - loss 114.98231506347656 - moving ave loss 116.03729438781738\n",
      "Finish 3 epoch(es)\n",
      "step 4 - loss 114.32269287109375 - moving ave loss 115.86583423614502\n",
      "Finish 4 epoch(es)\n",
      "step 5 - loss 113.80569458007812 - moving ave loss 115.65982027053833\n",
      "Finish 5 epoch(es)\n",
      "Checkpoint at step 5\n",
      "Training finished, exit.\n"
     ]
    }
   ],
   "source": [
    "!./flow --model cfg/tiny-yolo-voc-3c.cfg --train --dataset \"../darkflow_data/MY20173c/JPEGImages\" --annotation \"../darkflow_data/MY20173c/Annotations\" --epoch 5 --trainer adam --load bin/tiny-yolo-voc.weights --gpu 0.85"
   ]
  },
  {
   "cell_type": "code",
   "execution_count": 21,
   "metadata": {},
   "outputs": [
    {
     "name": "stdout",
     "output_type": "stream",
     "text": [
      "/home/cfchen/anaconda3/envs/py35/lib/python3.5/site-packages/h5py/__init__.py:36: FutureWarning: Conversion of the second argument of issubdtype from `float` to `np.floating` is deprecated. In future, it will be treated as `np.float64 == np.dtype(float).type`.\n",
      "  from ._conv import register_converters as _register_converters\n",
      "WARNING:tensorflow:From /home/cfchen/anaconda3/envs/py35/lib/python3.5/site-packages/tensorflow/contrib/learn/python/learn/datasets/base.py:198: retry (from tensorflow.contrib.learn.python.learn.datasets.base) is deprecated and will be removed in a future version.\n",
      "Instructions for updating:\n",
      "Use the retry module or similar alternatives.\n",
      "\n",
      "Parsing cfg/tiny-yolo-voc-3c.cfg\n",
      "Loading None ...\n",
      "Finished in 4.57763671875e-05s\n",
      "\n",
      "Building net ...\n",
      "Source | Train? | Layer description                | Output size\n",
      "-------+--------+----------------------------------+---------------\n",
      "       |        | input                            | (?, 416, 416, 3)\n",
      " Init  |  Yep!  | conv 3x3p1_1  +bnorm  leaky      | (?, 416, 416, 16)\n",
      " Load  |  Yep!  | maxp 2x2p0_2                     | (?, 208, 208, 16)\n",
      " Init  |  Yep!  | conv 3x3p1_1  +bnorm  leaky      | (?, 208, 208, 32)\n",
      " Load  |  Yep!  | maxp 2x2p0_2                     | (?, 104, 104, 32)\n",
      " Init  |  Yep!  | conv 3x3p1_1  +bnorm  leaky      | (?, 104, 104, 64)\n",
      " Load  |  Yep!  | maxp 2x2p0_2                     | (?, 52, 52, 64)\n",
      " Init  |  Yep!  | conv 3x3p1_1  +bnorm  leaky      | (?, 52, 52, 128)\n",
      " Load  |  Yep!  | maxp 2x2p0_2                     | (?, 26, 26, 128)\n",
      " Init  |  Yep!  | conv 3x3p1_1  +bnorm  leaky      | (?, 26, 26, 256)\n",
      " Load  |  Yep!  | maxp 2x2p0_2                     | (?, 13, 13, 256)\n",
      " Init  |  Yep!  | conv 3x3p1_1  +bnorm  leaky      | (?, 13, 13, 512)\n",
      " Load  |  Yep!  | maxp 2x2p0_1                     | (?, 13, 13, 512)\n",
      " Init  |  Yep!  | conv 3x3p1_1  +bnorm  leaky      | (?, 13, 13, 1024)\n",
      " Init  |  Yep!  | conv 3x3p1_1  +bnorm  leaky      | (?, 13, 13, 1024)\n",
      " Init  |  Yep!  | conv 1x1p0_1    linear           | (?, 13, 13, 40)\n",
      "-------+--------+----------------------------------+---------------\n",
      "GPU mode with 0.8 usage\n",
      "2018-04-25 15:37:17.529538: I tensorflow/core/platform/cpu_feature_guard.cc:140] Your CPU supports instructions that this TensorFlow binary was not compiled to use: SSE4.1 SSE4.2 AVX AVX2 FMA\n",
      "2018-04-25 15:37:17.651742: I tensorflow/stream_executor/cuda/cuda_gpu_executor.cc:898] successful NUMA node read from SysFS had negative value (-1), but there must be at least one NUMA node, so returning NUMA node zero\n",
      "2018-04-25 15:37:17.651996: I tensorflow/core/common_runtime/gpu/gpu_device.cc:1344] Found device 0 with properties: \n",
      "name: GeForce GTX 1080 Ti major: 6 minor: 1 memoryClockRate(GHz): 1.582\n",
      "pciBusID: 0000:01:00.0\n",
      "totalMemory: 10.91GiB freeMemory: 10.08GiB\n",
      "2018-04-25 15:37:17.652010: I tensorflow/core/common_runtime/gpu/gpu_device.cc:1423] Adding visible gpu devices: 0\n",
      "2018-04-25 15:37:17.814718: I tensorflow/core/common_runtime/gpu/gpu_device.cc:911] Device interconnect StreamExecutor with strength 1 edge matrix:\n",
      "2018-04-25 15:37:17.814748: I tensorflow/core/common_runtime/gpu/gpu_device.cc:917]      0 \n",
      "2018-04-25 15:37:17.814753: I tensorflow/core/common_runtime/gpu/gpu_device.cc:930] 0:   N \n",
      "2018-04-25 15:37:17.814906: I tensorflow/core/common_runtime/gpu/gpu_device.cc:1041] Created TensorFlow device (/job:localhost/replica:0/task:0/device:GPU:0 with 8936 MB memory) -> physical GPU (device: 0, name: GeForce GTX 1080 Ti, pci bus id: 0000:01:00.0, compute capability: 6.1)\n",
      "Loading from ./ckpt/tiny-yolo-voc-3c-5\n",
      "Finished in 3.325284242630005s\n",
      "\n",
      "Forwarding 32 inputs ...\n",
      "Total time = 0.9495143890380859s / 32 inps = 33.70143767112143 ips\n",
      "Post processing 32 inputs ...\n",
      "Total time = 0.16614580154418945s / 32 inps = 192.60191772880296 ips\n",
      "Forwarding 18 inputs ...\n",
      "Total time = 0.2152845859527588s / 18 inps = 83.61025904543789 ips\n",
      "Post processing 18 inputs ...\n",
      "Total time = 0.17513799667358398s / 18 inps = 102.77609851589067 ips\n"
     ]
    }
   ],
   "source": [
    "!./flow --imgdir \"../darkflow_data/MY20173c_test/\" --model cfg/tiny-yolo-voc-3c.cfg --load -1 --lr 0.0001 --batch 32 --gpu 0.8"
   ]
  },
  {
   "cell_type": "markdown",
   "metadata": {},
   "source": [
    "# Videos"
   ]
  },
  {
   "cell_type": "code",
   "execution_count": 22,
   "metadata": {},
   "outputs": [
    {
     "data": {
      "text/plain": [
       "'3.2.0'"
      ]
     },
     "execution_count": 22,
     "metadata": {},
     "output_type": "execute_result"
    }
   ],
   "source": [
    "import cv2 \n",
    "\n",
    "cv2.__version__"
   ]
  },
  {
   "cell_type": "code",
   "execution_count": 23,
   "metadata": {},
   "outputs": [
    {
     "name": "stdout",
     "output_type": "stream",
     "text": [
      "capture failed\n"
     ]
    }
   ],
   "source": [
    "import cv2\n",
    "import sys\n",
    "cap = cv2.VideoCapture(sys.argv[1])\n",
    "\n",
    "ret, frame = cap.read()\n",
    "if not ret:\n",
    "    print (\"capture failed\")"
   ]
  },
  {
   "cell_type": "code",
   "execution_count": 24,
   "metadata": {},
   "outputs": [],
   "source": [
    "cap = cv2.VideoCapture('../VideosHPB/IMAG0003.mp4')\n",
    "#cap = cv2.VideoCapture(0) #use this to get frames from webcam\n",
    "\n",
    "while(cap.isOpened()):\n",
    "    ret, frame = cap.read()\n",
    "    cv2.imshow('frame', frame)\n",
    "    if cv2.waitKey(1) & 0xFF == ord('q'):\n",
    "        break\n",
    "\n",
    "cap.release()\n",
    "cv2.destroyAllWindows()"
   ]
  },
  {
   "cell_type": "code",
   "execution_count": 25,
   "metadata": {},
   "outputs": [
    {
     "name": "stdout",
     "output_type": "stream",
     "text": [
      "True\n"
     ]
    },
    {
     "data": {
      "text/plain": [
       "True"
      ]
     },
     "execution_count": 25,
     "metadata": {},
     "output_type": "execute_result"
    }
   ],
   "source": [
    "import cv2\n",
    "cv2.__version__ \n",
    "\n",
    "vid = cv2.VideoCapture('../VideosHPB/IMAG0003.mp4')\n",
    " \n",
    "ret, frame = vid.read()\n",
    "print(ret)                     #should output True inside the console\n",
    "cv2.imwrite('test.png', frame) #should save the frame as image"
   ]
  },
  {
   "cell_type": "code",
   "execution_count": 26,
   "metadata": {},
   "outputs": [
    {
     "name": "stdout",
     "output_type": "stream",
     "text": [
      "Error reading from camera\n"
     ]
    }
   ],
   "source": [
    "import numpy as np\n",
    "import cv2\n",
    "cap = cv2.VideoCapture(0)\n",
    "while True:\n",
    "    ret, frame = cap.read()\n",
    "    if (ret == False):\n",
    "        print(\"Error reading from camera\")\n",
    "        break\n",
    "    cv2.imshow('frame',frame)\n",
    "    key = cv2.waitKey(1) & 0xFF;\n",
    "    if (key == 27 or key == ord('q') or key == ord('x')):\n",
    "        break;\n",
    "\n",
    "cap.release()\n",
    "cv2.destroyAllWindows()"
   ]
  },
  {
   "cell_type": "code",
   "execution_count": 28,
   "metadata": {},
   "outputs": [
    {
     "name": "stdout",
     "output_type": "stream",
     "text": [
      "/home/cfchen/anaconda3/envs/py35/lib/python3.5/site-packages/h5py/__init__.py:36: FutureWarning: Conversion of the second argument of issubdtype from `float` to `np.floating` is deprecated. In future, it will be treated as `np.float64 == np.dtype(float).type`.\n",
      "  from ._conv import register_converters as _register_converters\n",
      "WARNING:tensorflow:From /home/cfchen/anaconda3/envs/py35/lib/python3.5/site-packages/tensorflow/contrib/learn/python/learn/datasets/base.py:198: retry (from tensorflow.contrib.learn.python.learn.datasets.base) is deprecated and will be removed in a future version.\n",
      "Instructions for updating:\n",
      "Use the retry module or similar alternatives.\n",
      "\n",
      "Parsing ./cfg/yolo.cfg\n",
      "Parsing cfg/yolo.cfg\n",
      "Loading bin/yolo.weights ...\n",
      "Successfully identified 203934260 bytes\n",
      "Finished in 0.018963098526000977s\n",
      "Model has a coco model name, loading coco labels.\n",
      "\n",
      "Building net ...\n",
      "Source | Train? | Layer description                | Output size\n",
      "-------+--------+----------------------------------+---------------\n",
      "       |        | input                            | (?, 608, 608, 3)\n",
      " Load  |  Yep!  | conv 3x3p1_1  +bnorm  leaky      | (?, 608, 608, 32)\n",
      " Load  |  Yep!  | maxp 2x2p0_2                     | (?, 304, 304, 32)\n",
      " Load  |  Yep!  | conv 3x3p1_1  +bnorm  leaky      | (?, 304, 304, 64)\n",
      " Load  |  Yep!  | maxp 2x2p0_2                     | (?, 152, 152, 64)\n",
      " Load  |  Yep!  | conv 3x3p1_1  +bnorm  leaky      | (?, 152, 152, 128)\n",
      " Load  |  Yep!  | conv 1x1p0_1  +bnorm  leaky      | (?, 152, 152, 64)\n",
      " Load  |  Yep!  | conv 3x3p1_1  +bnorm  leaky      | (?, 152, 152, 128)\n",
      " Load  |  Yep!  | maxp 2x2p0_2                     | (?, 76, 76, 128)\n",
      " Load  |  Yep!  | conv 3x3p1_1  +bnorm  leaky      | (?, 76, 76, 256)\n",
      " Load  |  Yep!  | conv 1x1p0_1  +bnorm  leaky      | (?, 76, 76, 128)\n",
      " Load  |  Yep!  | conv 3x3p1_1  +bnorm  leaky      | (?, 76, 76, 256)\n",
      " Load  |  Yep!  | maxp 2x2p0_2                     | (?, 38, 38, 256)\n",
      " Load  |  Yep!  | conv 3x3p1_1  +bnorm  leaky      | (?, 38, 38, 512)\n",
      " Load  |  Yep!  | conv 1x1p0_1  +bnorm  leaky      | (?, 38, 38, 256)\n",
      " Load  |  Yep!  | conv 3x3p1_1  +bnorm  leaky      | (?, 38, 38, 512)\n",
      " Load  |  Yep!  | conv 1x1p0_1  +bnorm  leaky      | (?, 38, 38, 256)\n",
      " Load  |  Yep!  | conv 3x3p1_1  +bnorm  leaky      | (?, 38, 38, 512)\n",
      " Load  |  Yep!  | maxp 2x2p0_2                     | (?, 19, 19, 512)\n",
      " Load  |  Yep!  | conv 3x3p1_1  +bnorm  leaky      | (?, 19, 19, 1024)\n",
      " Load  |  Yep!  | conv 1x1p0_1  +bnorm  leaky      | (?, 19, 19, 512)\n",
      " Load  |  Yep!  | conv 3x3p1_1  +bnorm  leaky      | (?, 19, 19, 1024)\n",
      " Load  |  Yep!  | conv 1x1p0_1  +bnorm  leaky      | (?, 19, 19, 512)\n",
      " Load  |  Yep!  | conv 3x3p1_1  +bnorm  leaky      | (?, 19, 19, 1024)\n",
      " Load  |  Yep!  | conv 3x3p1_1  +bnorm  leaky      | (?, 19, 19, 1024)\n",
      " Load  |  Yep!  | conv 3x3p1_1  +bnorm  leaky      | (?, 19, 19, 1024)\n",
      " Load  |  Yep!  | concat [16]                      | (?, 38, 38, 512)\n",
      " Load  |  Yep!  | conv 1x1p0_1  +bnorm  leaky      | (?, 38, 38, 64)\n",
      " Load  |  Yep!  | local flatten 2x2                | (?, 19, 19, 256)\n",
      " Load  |  Yep!  | concat [27, 24]                  | (?, 19, 19, 1280)\n",
      " Load  |  Yep!  | conv 3x3p1_1  +bnorm  leaky      | (?, 19, 19, 1024)\n",
      " Load  |  Yep!  | conv 1x1p0_1    linear           | (?, 19, 19, 425)\n",
      "-------+--------+----------------------------------+---------------\n",
      "GPU mode with 0.85 usage\n",
      "2018-04-25 15:38:46.181533: I tensorflow/core/platform/cpu_feature_guard.cc:140] Your CPU supports instructions that this TensorFlow binary was not compiled to use: SSE4.1 SSE4.2 AVX AVX2 FMA\n",
      "2018-04-25 15:38:46.300620: I tensorflow/stream_executor/cuda/cuda_gpu_executor.cc:898] successful NUMA node read from SysFS had negative value (-1), but there must be at least one NUMA node, so returning NUMA node zero\n",
      "2018-04-25 15:38:46.300874: I tensorflow/core/common_runtime/gpu/gpu_device.cc:1344] Found device 0 with properties: \n",
      "name: GeForce GTX 1080 Ti major: 6 minor: 1 memoryClockRate(GHz): 1.582\n",
      "pciBusID: 0000:01:00.0\n",
      "totalMemory: 10.91GiB freeMemory: 10.07GiB\n",
      "2018-04-25 15:38:46.300888: I tensorflow/core/common_runtime/gpu/gpu_device.cc:1423] Adding visible gpu devices: 0\n",
      "2018-04-25 15:38:46.463763: I tensorflow/core/common_runtime/gpu/gpu_device.cc:911] Device interconnect StreamExecutor with strength 1 edge matrix:\n",
      "2018-04-25 15:38:46.463792: I tensorflow/core/common_runtime/gpu/gpu_device.cc:917]      0 \n",
      "2018-04-25 15:38:46.463798: I tensorflow/core/common_runtime/gpu/gpu_device.cc:930] 0:   N \n",
      "2018-04-25 15:38:46.463942: I tensorflow/core/common_runtime/gpu/gpu_device.cc:1041] Created TensorFlow device (/job:localhost/replica:0/task:0/device:GPU:0 with 9495 MB memory) -> physical GPU (device: 0, name: GeForce GTX 1080 Ti, pci bus id: 0000:01:00.0, compute capability: 6.1)\n",
      "Finished in 7.277318000793457s\n",
      "\n",
      "Press [ESC] to quit demo\n",
      "21.436 FPS\n",
      "End of Video\n",
      "\n",
      "Demo stopped, exit.\n"
     ]
    }
   ],
   "source": [
    "!./flow --model cfg/yolo.cfg --load bin/yolo.weights --demo \"../VideosHPB/IMAG0011.mp4\" --saveVideo --gpu 0.85"
   ]
  },
  {
   "cell_type": "code",
   "execution_count": null,
   "metadata": {},
   "outputs": [],
   "source": []
  }
 ],
 "metadata": {
  "kernelspec": {
   "display_name": "Python 3",
   "language": "python",
   "name": "python3"
  },
  "language_info": {
   "codemirror_mode": {
    "name": "ipython",
    "version": 3
   },
   "file_extension": ".py",
   "mimetype": "text/x-python",
   "name": "python",
   "nbconvert_exporter": "python",
   "pygments_lexer": "ipython3",
   "version": "3.5.4"
  }
 },
 "nbformat": 4,
 "nbformat_minor": 2
}
