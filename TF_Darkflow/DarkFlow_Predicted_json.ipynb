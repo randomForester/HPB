{
 "cells": [
  {
   "cell_type": "code",
   "execution_count": 2,
   "metadata": {},
   "outputs": [
    {
     "name": "stdout",
     "output_type": "stream",
     "text": [
      "total 15248\r\n",
      "drwxr-xr-x 2 cesare cesare     4096  三  26 14:40 \u001b[0m\u001b[01;34mbin\u001b[0m/\r\n",
      "drwxrwxr-x 4 cesare cesare     4096  三  26 12:46 \u001b[01;34mbuild\u001b[0m/\r\n",
      "drwxrwxr-x 4 cesare cesare     4096  三  27 18:55 \u001b[01;34mcfg\u001b[0m/\r\n",
      "drwxrwxr-x 2 cesare cesare     4096  四   3 17:55 \u001b[01;34mckpt\u001b[0m/\r\n",
      "drwxrwxr-x 7 cesare cesare     4096  三  26 12:46 \u001b[01;34mdarkflow\u001b[0m/\r\n",
      "-rw-rw-r-- 1 cesare cesare 14900940  三  25 10:17 \u001b[01;35mdemo.gif\u001b[0m\r\n",
      "-rw-rw-r-- 1 cesare cesare   163759  三  26 12:26 \u001b[01;35mdog.jpg\u001b[0m\r\n",
      "-rw-rw-r-- 1 cesare cesare   141886  三  27 15:21 \u001b[01;35meagle.jpg\u001b[0m\r\n",
      "-rwxr-xr-x 1 cesare cesare       94  三  25 10:17 \u001b[01;32mflow\u001b[0m*\r\n",
      "-rw-r--r-- 1 cesare cesare      135  三  22 16:58 labels20c.txt\r\n",
      "-rw-r--r-- 1 cesare cesare       21  三  21 17:32 labels3c.txt\r\n",
      "-rw-r--r-- 1 cesare cesare       15  三  28 09:48 labels_fidget.txt\r\n",
      "-rw-r--r-- 1 cesare cesare       27  三  21 17:32 labels_o.txt\r\n",
      "-rw-r--r-- 1 cesare cesare       21  四   3 17:50 labels.txt\r\n",
      "-rw-rw-r-- 1 cesare cesare    35141  三  25 10:17 LICENSE\r\n",
      "-rw-rw-r-- 1 cesare cesare     5686  三  30 10:55 \u001b[01;35moutput.avi\u001b[0m\r\n",
      "-rw-rw-r-- 1 cesare cesare   283380  三  25 10:17 \u001b[01;35mpreview.png\u001b[0m\r\n",
      "-rw-rw-r-- 1 cesare cesare    11539  三  25 10:17 README.md\r\n",
      "drwxrwxr-x 3 cesare cesare     4096  三  26 13:11 \u001b[01;34msample_img\u001b[0m/\r\n",
      "-rw-rw-r-- 1 cesare cesare     2575  三  25 10:17 setup.py\r\n",
      "drwxrwxr-x 3 cesare cesare     4096  三  25 10:17 \u001b[01;34mtest\u001b[0m/\r\n",
      "-rw-rw-r-- 1 cesare cesare     2930  四   3 17:55 Untitled.ipynb\r\n"
     ]
    }
   ],
   "source": [
    "ls -l"
   ]
  },
  {
   "cell_type": "code",
   "execution_count": 5,
   "metadata": {},
   "outputs": [
    {
     "name": "stdout",
     "output_type": "stream",
     "text": [
      "/home/cesare/anaconda3/envs/py35/lib/python3.5/site-packages/h5py/__init__.py:36: FutureWarning: Conversion of the second argument of issubdtype from `float` to `np.floating` is deprecated. In future, it will be treated as `np.float64 == np.dtype(float).type`.\n",
      "  from ._conv import register_converters as _register_converters\n",
      "\n",
      "Parsing cfg/tiny-yolo-voc-3c.cfg\n",
      "Loading None ...\n",
      "Finished in 5.459785461425781e-05s\n",
      "\n",
      "Building net ...\n",
      "Source | Train? | Layer description                | Output size\n",
      "-------+--------+----------------------------------+---------------\n",
      "       |        | input                            | (?, 416, 416, 3)\n",
      " Init  |  Yep!  | conv 3x3p1_1  +bnorm  leaky      | (?, 416, 416, 16)\n",
      " Load  |  Yep!  | maxp 2x2p0_2                     | (?, 208, 208, 16)\n",
      " Init  |  Yep!  | conv 3x3p1_1  +bnorm  leaky      | (?, 208, 208, 32)\n",
      " Load  |  Yep!  | maxp 2x2p0_2                     | (?, 104, 104, 32)\n",
      " Init  |  Yep!  | conv 3x3p1_1  +bnorm  leaky      | (?, 104, 104, 64)\n",
      " Load  |  Yep!  | maxp 2x2p0_2                     | (?, 52, 52, 64)\n",
      " Init  |  Yep!  | conv 3x3p1_1  +bnorm  leaky      | (?, 52, 52, 128)\n",
      " Load  |  Yep!  | maxp 2x2p0_2                     | (?, 26, 26, 128)\n",
      " Init  |  Yep!  | conv 3x3p1_1  +bnorm  leaky      | (?, 26, 26, 256)\n",
      " Load  |  Yep!  | maxp 2x2p0_2                     | (?, 13, 13, 256)\n",
      " Init  |  Yep!  | conv 3x3p1_1  +bnorm  leaky      | (?, 13, 13, 512)\n",
      " Load  |  Yep!  | maxp 2x2p0_1                     | (?, 13, 13, 512)\n",
      " Init  |  Yep!  | conv 3x3p1_1  +bnorm  leaky      | (?, 13, 13, 1024)\n",
      " Init  |  Yep!  | conv 3x3p1_1  +bnorm  leaky      | (?, 13, 13, 1024)\n",
      " Init  |  Yep!  | conv 1x1p0_1    linear           | (?, 13, 13, 40)\n",
      "-------+--------+----------------------------------+---------------\n",
      "Running entirely on CPU\n",
      "2018-04-03 17:57:52.501576: I tensorflow/core/platform/cpu_feature_guard.cc:137] Your CPU supports instructions that this TensorFlow binary was not compiled to use: SSE4.1 SSE4.2 AVX AVX2\n",
      "Loading from ./ckpt/tiny-yolo-voc-3c-2000\n",
      "Finished in 2.5986270904541016s\n",
      "\n",
      "Forwarding 16 inputs ...\n",
      "Total time = 2.4911000728607178s / 16 inps = 6.42286521296834 ips\n",
      "Post processing 16 inputs ...\n",
      "Total time = 0.03144240379333496s / 16 inps = 508.8669462158494 ips\n",
      "Forwarding 16 inputs ...\n",
      "Total time = 2.4927966594696045s / 16 inps = 6.418493838725032 ips\n",
      "Post processing 16 inputs ...\n",
      "Total time = 0.04306769371032715s / 16 inps = 371.5081682250234 ips\n",
      "Forwarding 16 inputs ...\n",
      "Total time = 2.546477794647217s / 16 inps = 6.283188502029174 ips\n",
      "Post processing 16 inputs ...\n",
      "Total time = 0.08459305763244629s / 16 inps = 189.1408166083724 ips\n",
      "Forwarding 2 inputs ...\n",
      "Total time = 0.32918715476989746s / 2 inps = 6.07557120932621 ips\n",
      "Post processing 2 inputs ...\n",
      "Total time = 0.004667520523071289s / 2 inps = 428.4930275323083 ips\n"
     ]
    }
   ],
   "source": [
    "#\n",
    "# Prediced --> json files\n",
    "#\n",
    "!./flow --imgdir \"../darkflow_data/MY20173c_test/\" --model cfg/tiny-yolo-voc-3c.cfg --load -1 --json"
   ]
  },
  {
   "cell_type": "code",
   "execution_count": null,
   "metadata": {},
   "outputs": [],
   "source": []
  }
 ],
 "metadata": {
  "kernelspec": {
   "display_name": "Python 3",
   "language": "python",
   "name": "python3"
  },
  "language_info": {
   "codemirror_mode": {
    "name": "ipython",
    "version": 3
   },
   "file_extension": ".py",
   "mimetype": "text/x-python",
   "name": "python",
   "nbconvert_exporter": "python",
   "pygments_lexer": "ipython3",
   "version": "3.5.4"
  }
 },
 "nbformat": 4,
 "nbformat_minor": 2
}
