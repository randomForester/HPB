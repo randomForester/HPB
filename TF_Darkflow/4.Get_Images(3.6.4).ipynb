{
 "cells": [
  {
   "cell_type": "code",
   "execution_count": 1,
   "metadata": {},
   "outputs": [
    {
     "name": "stdout",
     "output_type": "stream",
     "text": [
      "Python version: 3.6.4 |Anaconda custom (64-bit)| (default, Jan 16 2018, 18:10:19) \n",
      "[GCC 7.2.0]\n"
     ]
    }
   ],
   "source": [
    "import sys\n",
    "print(\"Python version: {}\".format(sys.version))"
   ]
  },
  {
   "cell_type": "code",
   "execution_count": 2,
   "metadata": {},
   "outputs": [],
   "source": [
    "import os\n",
    "import urllib.request as ulib\n",
    "from bs4 import BeautifulSoup as Soup\n",
    "import json"
   ]
  },
  {
   "cell_type": "code",
   "execution_count": 3,
   "metadata": {},
   "outputs": [],
   "source": [
    "url_a = 'https://www.google.com/search?ei=1m7NWePfFYaGmQG51q7IBg&hl=en&q={}'\n",
    "url_b = '\\&tbm=isch&ved=0ahUKEwjjovnD7sjWAhUGQyYKHTmrC2kQuT0I7gEoAQ&start={}'\n",
    "url_c = '\\&yv=2&vet=10ahUKEwjjovnD7sjWAhUGQyYKHTmrC2kQuT0I7gEoAQ.1m7NWePfFYaGmQG51q7IBg'\n",
    "url_d = '\\.i&ijn=1&asearch=ichunk&async=_id:rg_s,_pms:s'\n",
    "url_base = ''.join((url_a, url_b, url_c, url_d))\n",
    "\n",
    "headers = {'User-Agent': 'Chrome/41.0.2228.0 Safari/537.36'}"
   ]
  },
  {
   "cell_type": "code",
   "execution_count": 4,
   "metadata": {},
   "outputs": [],
   "source": [
    "def get_links(search_name):\n",
    "    search_name = search_name.replace(' ', '+')\n",
    "    url = url_base.format(search_name, 0)\n",
    "    request = ulib.Request(url, None, headers)\n",
    "    json_string = ulib.urlopen(request).read()\n",
    "    page = json.loads(json_string)\n",
    "    new_soup = Soup(page[1][1], 'lxml')\n",
    "    images = new_soup.find_all('img')\n",
    "    links = [image['src'] for image in images]\n",
    "    return links"
   ]
  },
  {
   "cell_type": "code",
   "execution_count": 5,
   "metadata": {},
   "outputs": [
    {
     "name": "stdout",
     "output_type": "stream",
     "text": [
      "https://encrypted-tbn0.gstatic.com/images?q=tbn:ANd9GcTKRtoAzsfxa0x35djdJe9PcbDN9_XUAJWv5RUMqzy24mL_pn0h\n",
      "https://encrypted-tbn0.gstatic.com/images?q=tbn:ANd9GcTipmTG59AusNspKfu3YXJt_SpX0e-_SPwrKj65dFoLifkS1cc-MQ\n",
      "https://encrypted-tbn0.gstatic.com/images?q=tbn:ANd9GcT5Z2QDKogNlwX7ZKK27NiryA2xLJ7m1WOqFLluhY5izsj4iCjl9w\n",
      "https://encrypted-tbn0.gstatic.com/images?q=tbn:ANd9GcTeCJuVNtGmn5k-YpPoNFBKLOtOPFD9JIs_jFiFYqMLOXsOb7X9gA\n",
      "https://encrypted-tbn0.gstatic.com/images?q=tbn:ANd9GcSuc26AteBPsY4jlVk_NUUN1b-9ct_QSeCTQfAz42G3qd2-HSSWbw\n",
      "https://encrypted-tbn0.gstatic.com/images?q=tbn:ANd9GcRzypSujHvwFxcMfwRkOvlIMcIs20tMP94GCS_gpwsKbNaZiWqd\n",
      "https://encrypted-tbn0.gstatic.com/images?q=tbn:ANd9GcRfogXFU2m8QEIR8EBlGMCqt-fpxwpECx-rQqKPcb37OKy1BDHDcg\n",
      "https://encrypted-tbn0.gstatic.com/images?q=tbn:ANd9GcRM_z_phSFJqL7A4BsPKYrhhqei-wzZTRv5jpTw7deKuEuVZtQi\n",
      "https://encrypted-tbn0.gstatic.com/images?q=tbn:ANd9GcReg3zo99yJT6Y9oB5q8XXPYC7kIkJQj6lq18O-WqFxbkUmf9PcOw\n",
      "https://encrypted-tbn0.gstatic.com/images?q=tbn:ANd9GcSW1RbEwa-ZUbj4Xt2XWhjGVl2UYqGW9helWzgDmsIFzp1twBOg\n",
      "https://encrypted-tbn0.gstatic.com/images?q=tbn:ANd9GcSZTFTe78Sx10XXc9qGtajQ-2V1sXu0HIfdR8hThe96pkKCe9YCPQ\n",
      "https://encrypted-tbn0.gstatic.com/images?q=tbn:ANd9GcSYxjqRuk3KFcMMbWn0vPP5a3silykYnaK_WfLOVlsKRY2RHjOe\n",
      "https://encrypted-tbn0.gstatic.com/images?q=tbn:ANd9GcSfryc32K7S8wx2PnJ8TPQpx44j2j53Ww8U6IZmQ8-BwPKARt3-jA\n",
      "https://encrypted-tbn0.gstatic.com/images?q=tbn:ANd9GcRg2ZUSnKcokw4zV73SZYjM8wOgyQ50MKA5UUbQ7LRpD3GSwnL2vQ\n",
      "https://encrypted-tbn0.gstatic.com/images?q=tbn:ANd9GcSNFFVMMJSYuzpgacuV0RTopGS5Q2m7K06n_peUgUA6LU7iPNtp\n",
      "https://encrypted-tbn0.gstatic.com/images?q=tbn:ANd9GcTqkemrmkmISQ6czEzQCp90tb_BHjc32wrnYXqo2X5PVYuSwI3Q\n",
      "https://encrypted-tbn0.gstatic.com/images?q=tbn:ANd9GcT90dpVvKE7VRZD2TdozTiY2aps839ek0QzIZ_Uq3FX54MRkOKl\n",
      "https://encrypted-tbn0.gstatic.com/images?q=tbn:ANd9GcQ_nSFE-eIO9wHvYcL94FBVPmpEnQ7Qxp6lArefhbYDqYu3vqCN\n",
      "https://encrypted-tbn0.gstatic.com/images?q=tbn:ANd9GcR8b4W_Vx_8HPdXeq4baOkzxORnVu_Sobxvuv7uc3UgtMelc8L3\n",
      "https://encrypted-tbn0.gstatic.com/images?q=tbn:ANd9GcSgFJg1SzRgwSr5W0ZApIlK7TiZRYgUoriyF3pO3KQujauYsS0Fzw\n",
      "https://encrypted-tbn0.gstatic.com/images?q=tbn:ANd9GcTg1yi4hPnuIbMTn6uCbTSOfEjExDkf7sEk_RIuoK0pwFgCOzOjJg\n",
      "https://encrypted-tbn0.gstatic.com/images?q=tbn:ANd9GcS9_z6ytj7GXjYiyLo2wOhvZrSPdmFLyU93oYIS2o-RMeiH12S_\n",
      "https://encrypted-tbn0.gstatic.com/images?q=tbn:ANd9GcThk_U3ncZ87cqyo2ho493H-n8uOXQaAyEdPeq4u_POyGWv1Wxn\n",
      "https://encrypted-tbn0.gstatic.com/images?q=tbn:ANd9GcTeyH_z3uo9MK3MZeAR3aqoqLWFpd10_f5JOuGWT5wOIus7TZ7w\n",
      "https://encrypted-tbn0.gstatic.com/images?q=tbn:ANd9GcTJesVmloYdRLF6GJ2voo611F74uZi0_fQMqHz3i7WsQxWfVd--fw\n",
      "https://encrypted-tbn0.gstatic.com/images?q=tbn:ANd9GcQBxhSDnMANaUHhcIEcm05tO_SXSTXR0ATlq3nf-bIMAFXMaInk\n",
      "https://encrypted-tbn0.gstatic.com/images?q=tbn:ANd9GcSZ_JJk1Le5ENfbAbQ2Hk5zLcEs-n_1Q2P6rVLM2qAiV-At-d43\n",
      "https://encrypted-tbn0.gstatic.com/images?q=tbn:ANd9GcSEYXBpFj2hytOH505hG5QG99b0jgYWOEHhf98RfY1-WzDpxWoB\n",
      "https://encrypted-tbn0.gstatic.com/images?q=tbn:ANd9GcTxVtZmWJ56S7s6qRj3TQh--0yZirur5j6y7oL7CWFDn3kEkUFNnw\n",
      "https://encrypted-tbn0.gstatic.com/images?q=tbn:ANd9GcRWG-wRulwmepScf8SPD49glSvEFOw35eB0R9zvS7dUmegcJsK7Tg\n",
      "https://encrypted-tbn0.gstatic.com/images?q=tbn:ANd9GcTAkklcMQOoyM7N8Si6yLRzy8m9SZe9-hOpWwl8kW61PNTNq24R\n",
      "https://encrypted-tbn0.gstatic.com/images?q=tbn:ANd9GcQYljcsa4zqlRjQhMYvTBo41d0WYATmj--se6CwjHODI3MQOqi_\n",
      "https://encrypted-tbn0.gstatic.com/images?q=tbn:ANd9GcTsfcpFZQx8_bLVc-WmQ9mDFepdszVrbs4taDNtlwJZ6PfceCQMzg\n",
      "https://encrypted-tbn0.gstatic.com/images?q=tbn:ANd9GcQv_YrRCR9GOQ0aO11ouIrrbSHjxYfglz57Yf3k2Lcw4yjDkamv\n",
      "https://encrypted-tbn0.gstatic.com/images?q=tbn:ANd9GcRgaDzl8Qa8bwO5Y8RTtzUV1GortnjCz159WiWcItAVNN7u7zfZyw\n",
      "https://encrypted-tbn0.gstatic.com/images?q=tbn:ANd9GcQk0YgGC0oVOwEE86yxRxxJztMnJshizbssw7iMFRALhzjNWwGV0A\n",
      "https://encrypted-tbn0.gstatic.com/images?q=tbn:ANd9GcTzqNTFWbGQt804KOE9HXgVauSH9TtnqyotR1_SU9wuYswtAcYx\n",
      "https://encrypted-tbn0.gstatic.com/images?q=tbn:ANd9GcQBdM1RqnGHMX63qhVaLdGH70zqD_kAuGf4JN4QpDdiQgw7yOCl\n",
      "https://encrypted-tbn0.gstatic.com/images?q=tbn:ANd9GcTL40_86BIkpYt-yUozfqANwopeDGEj3m_u41IpW3a7RKFt_dITDg\n",
      "https://encrypted-tbn0.gstatic.com/images?q=tbn:ANd9GcSX8T5F2je563yoPzcMatfddM9UW5WUMJg6yI7DM3golxrUwOWH\n",
      "https://encrypted-tbn0.gstatic.com/images?q=tbn:ANd9GcSvTKSQ8cp6FJ-_-CrTrebtlWDoDgAJbAW-uxbbEzyq_rLn0QgD\n",
      "https://encrypted-tbn0.gstatic.com/images?q=tbn:ANd9GcSjn8m_k73o4uMf15Jq3A5yc1IdIgYl602uQWmM0cjdI0VR1xdC\n",
      "https://encrypted-tbn0.gstatic.com/images?q=tbn:ANd9GcSu_VS-HVwA_LOFGt3mxaF5vlI6Flio51nMjiX84mZBucn3MsJ7dQ\n",
      "https://encrypted-tbn0.gstatic.com/images?q=tbn:ANd9GcTePxm7MjLgXJ6IfNDH-M5rpTyCndyBCQzO9l-oDXQd1dqoWE33\n",
      "https://encrypted-tbn0.gstatic.com/images?q=tbn:ANd9GcQmUEfcVNxNxLwXUhuFd4bmC8DuwIKKMYGfDB9HSJNS9w-zv5pz\n",
      "https://encrypted-tbn0.gstatic.com/images?q=tbn:ANd9GcSJQeMiK7bZkn7Ru877vJ11otk-2NCmJSHvy3u26o7WuzDP48mG\n",
      "https://encrypted-tbn0.gstatic.com/images?q=tbn:ANd9GcQCkncbZ_4Nrw1mRHEA_F70iFcrZmkfydxFDBoDu4BJC8PYdTWu\n",
      "https://encrypted-tbn0.gstatic.com/images?q=tbn:ANd9GcQMhSpBbpB7fm01x4cm_LZdC_e2L2O_FyiA9VZdVaCLqy1jIIU9\n",
      "https://encrypted-tbn0.gstatic.com/images?q=tbn:ANd9GcTR14I2c_TVO22HNfdJmkn5f7VaW9Fn2LaY_pvXcKqCsMxvQbIH\n",
      "https://encrypted-tbn0.gstatic.com/images?q=tbn:ANd9GcQ9BOg3lVpBuCCoV5BgWUKk7D9Str3hlH6xZ_3r-VnwFUmUds46\n",
      "https://encrypted-tbn0.gstatic.com/images?q=tbn:ANd9GcRiM68Wgv8nyhObSSZXvBjfFMp96l83gwQdBO0HJrquHX4-fXIBYA\n",
      "https://encrypted-tbn0.gstatic.com/images?q=tbn:ANd9GcQNQyrkwCp6lspfi7s8ns5TKjQJ1HBDlm6v5nCMO5qBggtI8-C0pg\n",
      "https://encrypted-tbn0.gstatic.com/images?q=tbn:ANd9GcS-xPxftnzbh7Cg-iR8J_vWkU8GwAPmmiiOE1cVa8p3qyM3i7fnkg\n",
      "https://encrypted-tbn0.gstatic.com/images?q=tbn:ANd9GcR2P8DNPIZ7Uv1l6QgnWQyhRMSQquCCs1konx3ETZGtfp7GbV2YSA\n",
      "https://encrypted-tbn0.gstatic.com/images?q=tbn:ANd9GcSmNiLgVP6qMZmwKjq78vrRcdYTTNXkdVqjpjo4_MgjJgRJvWWfuA\n",
      "https://encrypted-tbn0.gstatic.com/images?q=tbn:ANd9GcRHeB8xxbz0bv_u00Xeju0KfhOWAgxYnXfTnjHZNpd9oLZyhWmTcQ\n",
      "https://encrypted-tbn0.gstatic.com/images?q=tbn:ANd9GcSWJXUmMUKbsow6NtUsY46jITlu6VBOO9VPdVwPdik3zT-A2ta_jA\n",
      "https://encrypted-tbn0.gstatic.com/images?q=tbn:ANd9GcQdOvWesNplk-TcO4SRFJJ1zys9pN4kCGjzFmDWqKDNqaEFkuCE\n",
      "https://encrypted-tbn0.gstatic.com/images?q=tbn:ANd9GcQo5BKOmmWc6QJ0Rbsfd2__dTopYAik8lBTuqRI6VVQaSMtbwJ8yQ\n",
      "https://encrypted-tbn0.gstatic.com/images?q=tbn:ANd9GcQOfVcZWSHgQHjjp49yE2DCE3qVPCISHSZaRBLZNtrNc9KsfW1o\n",
      "https://encrypted-tbn0.gstatic.com/images?q=tbn:ANd9GcREQC-sRtkshCoTG6EctAjHAlSV1BLyhHSoVMzkzcI4NBY8d-1boQ\n",
      "https://encrypted-tbn0.gstatic.com/images?q=tbn:ANd9GcRLA05YNqsWSGqAnNWJgGbTjA7r8nECoUR_E5kXjgObvWJqe7cvGA\n",
      "https://encrypted-tbn0.gstatic.com/images?q=tbn:ANd9GcT6NpByDOEfXDylqDtc0ZG-sfiEY_XW40jnyzdIOSDkiUuyAZ9k\n",
      "https://encrypted-tbn0.gstatic.com/images?q=tbn:ANd9GcTuJB1Ug6gxkE2jxHaUPzRO7z08VTZvwcajeu3Hle-syMlqjE_T\n",
      "https://encrypted-tbn0.gstatic.com/images?q=tbn:ANd9GcQbsMiUL8gZOsuRUSfwbwcZJqVAcgHwAdQqfdz-CDEdLJSwhDR5\n",
      "https://encrypted-tbn0.gstatic.com/images?q=tbn:ANd9GcTrZTu2J_flwg4yv9oPQZvao_IQ5plzv7Hu92NVVgTzPAfj3QhX\n",
      "https://encrypted-tbn0.gstatic.com/images?q=tbn:ANd9GcSORvVfCZcmLy81rmRJul0ShTQaxOlrWqcePN6L9vSn4_komGrDuQ\n",
      "https://encrypted-tbn0.gstatic.com/images?q=tbn:ANd9GcT46Im3cixR6mCwj8qeHnLEhOq3L_ct3dyXG6moi1LpjY6CWKnY\n",
      "https://encrypted-tbn0.gstatic.com/images?q=tbn:ANd9GcSgFw0VWxSkxHMWTVhpeSNtPZD1Yv1G83F50cpjwRxkW72MKLiP\n",
      "https://encrypted-tbn0.gstatic.com/images?q=tbn:ANd9GcTei--3ihfrgZLteRfeYRsIMTgejwmQwN3cGNORfnoDDOgJc_X1\n",
      "https://encrypted-tbn0.gstatic.com/images?q=tbn:ANd9GcRfcV2gzYrVsbDrHCADO9hjVP0BA0HtDUJb8v-8-Oh5AcstthDobA\n",
      "https://encrypted-tbn0.gstatic.com/images?q=tbn:ANd9GcTSeoCOa7VIlum4QR9OtyN0gd14aJos6AuGqMoV-ZxTZ9Zw5nma\n",
      "https://encrypted-tbn0.gstatic.com/images?q=tbn:ANd9GcQTrHl8kOrJWoxpRwNEcyvz8Lh0O70kV7058Yo9pqKUB_7uC6DlfA\n",
      "https://encrypted-tbn0.gstatic.com/images?q=tbn:ANd9GcTL0E82VLdG7C9ErCrufuhnAwGjM77unAIIxITdLGI0CuJDt_x6\n",
      "https://encrypted-tbn0.gstatic.com/images?q=tbn:ANd9GcQsZXTl1QoPytJfUKdwY53l1twAJcT_Q8O1zvaJamGrNL_eAkeZ1w\n",
      "https://encrypted-tbn0.gstatic.com/images?q=tbn:ANd9GcTu50Fe-x4644gMu8_enqz84T_IvFpvLnrKNwFQJScD1pJZtjE2Kw\n",
      "https://encrypted-tbn0.gstatic.com/images?q=tbn:ANd9GcRQbIJlNSGh8lZkB7AXFI2Jq4BMkbm_yhhxcB1z3V6oOOegmjiTkg\n",
      "https://encrypted-tbn0.gstatic.com/images?q=tbn:ANd9GcQvxMTAhjNTAKTFnRYgX55yxC65makr3fxULn01lbI8WXJHocFm\n",
      "https://encrypted-tbn0.gstatic.com/images?q=tbn:ANd9GcRfPNUAR50KJk8jdWdJur_X-xnxApYXqztI3C2cqRhPzK1flINw\n",
      "https://encrypted-tbn0.gstatic.com/images?q=tbn:ANd9GcQFQGPbd1CjbVNWIL_oheeD7QdWyHpt7Tmu4LMt4SmbeNsp7-hu\n",
      "https://encrypted-tbn0.gstatic.com/images?q=tbn:ANd9GcSHv9QmhfgKX5pBrm3ykKLs7XHlZq3btR3kBNeqTRiBM0NcxMpxhg\n",
      "https://encrypted-tbn0.gstatic.com/images?q=tbn:ANd9GcRhp-jK_EZqyH-rZB9Am7jD2q-3nzdl0SJeMIPG60NUwrHc0I2z\n",
      "https://encrypted-tbn0.gstatic.com/images?q=tbn:ANd9GcQIRff8gV9oXC-lsZd-V3KF2DmGjlk6LBTeppVcl4G9_WjINCAq\n",
      "https://encrypted-tbn0.gstatic.com/images?q=tbn:ANd9GcRZHg68yNG9-qAUr58oul2NS3qjZxJ4APUT7z2t0ZjSXx3SD-lXKA\n",
      "https://encrypted-tbn0.gstatic.com/images?q=tbn:ANd9GcTgyB875SkspnA03lRLj1bznRnQt9y-4ALCG62GuNjScmTcjSqLjw\n",
      "https://encrypted-tbn0.gstatic.com/images?q=tbn:ANd9GcTDOVdo3exFjMF6jl4OJzL-iQbVqpEsCK9s-ldqp0YvxWIPMM8r\n",
      "https://encrypted-tbn0.gstatic.com/images?q=tbn:ANd9GcQ_EauLPVTL8mcjTTJp2EglkBGxq91rofghlmRHAWcprBvi-BZQfw\n",
      "https://encrypted-tbn0.gstatic.com/images?q=tbn:ANd9GcQOFApMkzEd8aWYN4N6RRPVnuh83fIlzcFfxXlOjf1oIWcKvW0Z_A\n",
      "https://encrypted-tbn0.gstatic.com/images?q=tbn:ANd9GcSRJ-Zfe-g-e6lYcXnI8AKE6mYOrkQIgjCA5jHTuIEgRWJVE6B0bw\n",
      "https://encrypted-tbn0.gstatic.com/images?q=tbn:ANd9GcTyc4pRZf8r65AOm_CyZhtWrX-e-og8JtnG1j82XbjVWkyi3YS1UQ\n",
      "https://encrypted-tbn0.gstatic.com/images?q=tbn:ANd9GcSZaIR07BFgFeiRPmeE8UxB3vRZ25pCkVZjqEstBpL4PjBYuI-o\n",
      "https://encrypted-tbn0.gstatic.com/images?q=tbn:ANd9GcRNzsb340aGIOFEvnL60alUsXh_VJ7cJ1naT05e8cuTUx6JYMk-\n",
      "https://encrypted-tbn0.gstatic.com/images?q=tbn:ANd9GcRaOKryF5sNrDEqlV2iKt_jnKCtUGayhPp4xlNWaESD6Quog1aM\n",
      "https://encrypted-tbn0.gstatic.com/images?q=tbn:ANd9GcTkIBmOe6FlCdtpR9w00SPt7Jl447EkzzSBmSlcp456SZAbpS58\n",
      "https://encrypted-tbn0.gstatic.com/images?q=tbn:ANd9GcTZWJK86DxV9dXgHxw2Nsa9OHubllMKMWfSMuSwuwVoEiuY6o7H\n",
      "https://encrypted-tbn0.gstatic.com/images?q=tbn:ANd9GcR8QBIOQx9NuiINifpf4IuQ5P8fvzr9icjK_NgWb3WcLcOFpRg4\n",
      "https://encrypted-tbn0.gstatic.com/images?q=tbn:ANd9GcSZt0auYNtUyqKxr8lDnkpW3rh92BUVF4lAMj4Hbem5xKCy0u9jHQ\n",
      "https://encrypted-tbn0.gstatic.com/images?q=tbn:ANd9GcSaf4GRdQNSJTuUY7H0ICVarqwseipfVuZYReEJaO-eo5vjY4hJzw\n",
      "https://encrypted-tbn0.gstatic.com/images?q=tbn:ANd9GcTTwWB1J1naYySOSwc-fwCvf0Iik9XnJ2Li5RlaEodordO7M1gPLQ\n",
      "https://encrypted-tbn0.gstatic.com/images?q=tbn:ANd9GcTx4FTvR-d6RM3CES0FnUctoLV-W5CxHnQqi9lSm8v7IinGkeao\n"
     ]
    }
   ],
   "source": [
    "if __name__ == '__main__':\n",
    "    search_name = 'fidget spinners'\n",
    "    links = get_links(search_name)\n",
    "\n",
    "    for link in links:\n",
    "        print(link)"
   ]
  },
  {
   "cell_type": "code",
   "execution_count": 6,
   "metadata": {},
   "outputs": [],
   "source": [
    "def save_images(links, search_name):\n",
    "    directory = search_name.replace(' ', '_')\n",
    "    if not os.path.isdir(directory):\n",
    "        os.mkdir(directory)\n",
    "\n",
    "    for i, link in enumerate(links):\n",
    "        savepath = os.path.join(directory, '{:06}.png'.format(i))\n",
    "        ulib.urlretrieve(link, savepath)"
   ]
  },
  {
   "cell_type": "code",
   "execution_count": 7,
   "metadata": {},
   "outputs": [],
   "source": [
    "if __name__ == '__main__':\n",
    "    search_name = 'fidget kid spinner toys'\n",
    "    links = get_links(search_name)\n",
    "    save_images(links, search_name)"
   ]
  },
  {
   "cell_type": "code",
   "execution_count": 8,
   "metadata": {},
   "outputs": [
    {
     "name": "stdout",
     "output_type": "stream",
     "text": [
      "1.1M\tfidget_kid_spinner_toys/\r\n"
     ]
    }
   ],
   "source": [
    "!du -h fidget_kid_spinner_toys/"
   ]
  },
  {
   "cell_type": "code",
   "execution_count": null,
   "metadata": {},
   "outputs": [],
   "source": []
  }
 ],
 "metadata": {
  "kernelspec": {
   "display_name": "Python 3",
   "language": "python",
   "name": "python3"
  },
  "language_info": {
   "codemirror_mode": {
    "name": "ipython",
    "version": 3
   },
   "file_extension": ".py",
   "mimetype": "text/x-python",
   "name": "python",
   "nbconvert_exporter": "python",
   "pygments_lexer": "ipython3",
   "version": "3.6.4"
  }
 },
 "nbformat": 4,
 "nbformat_minor": 2
}
