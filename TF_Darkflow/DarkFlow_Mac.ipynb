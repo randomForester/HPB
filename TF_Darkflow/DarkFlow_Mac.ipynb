{
 "cells": [
  {
   "cell_type": "code",
   "execution_count": 2,
   "metadata": {},
   "outputs": [
    {
     "name": "stdout",
     "output_type": "stream",
     "text": [
      "total 29960\r\n",
      "-rw-r--r--@  1 chung  staff     22580 Mar  9 13:57 DarkFlow.ipynb\r\n",
      "-rw-r--r--@  1 chung  staff     26637 Mar  8 17:37 DarkFlow_Mac.ipynb\r\n",
      "-rw-r--r--@  1 chung  staff     26722 Mar  9 15:02 DarkFlow_Mac2.ipynb\r\n",
      "-rw-r--r--   1 chung  staff     35141 Feb 26 23:07 LICENSE\r\n",
      "-rw-r--r--   1 chung  staff     11539 Feb 26 23:07 README.md\r\n",
      "drwxr-xr-x   5 chung  staff       170 Mar  8 14:51 \u001b[34mbin\u001b[m\u001b[m/\r\n",
      "drwxr-xr-x   4 chung  staff       136 Mar  8 14:49 \u001b[34mbuild\u001b[m\u001b[m/\r\n",
      "drwxr-xr-x  14 chung  staff       476 Mar  8 16:43 \u001b[34mcfg\u001b[m\u001b[m/\r\n",
      "drwxr-xr-x   8 chung  staff       272 Mar  9 15:01 \u001b[34mckpt\u001b[m\u001b[m/\r\n",
      "drwxr-xr-x  12 chung  staff       408 Mar  8 17:36 \u001b[34mdarkflow\u001b[m\u001b[m/\r\n",
      "-rw-r--r--   1 chung  staff  14900940 Feb 26 23:07 demo.gif\r\n",
      "-rwxr-xr-x   1 chung  staff        94 Feb 26 23:07 \u001b[31mflow\u001b[m\u001b[m*\r\n",
      "-rw-r--r--@  1 chung  staff        21 Mar  8 16:43 labels.txt\r\n",
      "-rw-r--r--@  1 chung  staff        21 Mar  8 16:43 labels3c.txt\r\n",
      "-rw-r--r--@  1 chung  staff        27 Mar  8 16:43 labels_o.txt\r\n",
      "-rw-r--r--   1 chung  staff    283380 Feb 26 23:07 preview.png\r\n",
      "drwxr-xr-x  12 chung  staff       408 Mar  8 15:15 \u001b[34msample_img\u001b[m\u001b[m/\r\n",
      "-rw-r--r--   1 chung  staff      2575 Feb 26 23:07 setup.py\r\n",
      "drwxr-xr-x   5 chung  staff       170 Feb 26 23:07 \u001b[34mtest\u001b[m\u001b[m/\r\n"
     ]
    }
   ],
   "source": [
    "ls -l "
   ]
  },
  {
   "cell_type": "code",
   "execution_count": 3,
   "metadata": {},
   "outputs": [
    {
     "name": "stdout",
     "output_type": "stream",
     "text": [
      "\r\n",
      "Example usage: flow --imgdir sample_img/ --model cfg/yolo.cfg --load bin/yolo.weights\r\n",
      "\r\n",
      "Arguments:\r\n",
      "  --binary         path to .weights directory\r\n",
      "  --config         path to .cfg directory\r\n",
      "  --keep           Number of most recent training results to save\r\n",
      "  --lr             learning rate\r\n",
      "  --gpuName        GPU device name\r\n",
      "  --model          configuration of choice\r\n",
      "  --annotation     path to annotation directory\r\n",
      "  --epoch          number of epoch\r\n",
      "  --metaLoad       path to .meta file generated during --savepb that corresponds to .pb file\r\n",
      "  --verbalise      say out loud while building graph\r\n",
      "  --batch          batch size\r\n",
      "  --train          train the whole net\r\n",
      "  --gpu            how much gpu (from 0.0 to 1.0)\r\n",
      "  --imgdir         path to testing directory with images\r\n",
      "  --momentum       applicable for rmsprop and momentum optimizers\r\n",
      "  --trainer        training algorithm\r\n",
      "  --demo           demo on webcam\r\n",
      "  --labels         path to labels file\r\n",
      "  --threshold      detection threshold\r\n",
      "  --backup         path to backup folder\r\n",
      "  --load           how to initialize the net? Either from .weights or a checkpoint, or even from scratch\r\n",
      "  --queue          process demo in batch\r\n",
      "  --dataset        path to dataset directory\r\n",
      "  --summary        path to TensorBoard summaries directory\r\n",
      "  --json           Outputs bounding box information in json format.\r\n",
      "  --pbLoad         path to .pb protobuf file (metaLoad must also be specified)\r\n",
      "  --savepb         save net and weight to a .pb file\r\n",
      "  --save           save checkpoint every ? training examples\r\n",
      "  --help, --h, -h  show this super helpful message and exit\r\n",
      "  --saveVideo      Records video from input video or camera\r\n",
      "\r\n"
     ]
    }
   ],
   "source": [
    "!./flow --h"
   ]
  },
  {
   "cell_type": "code",
   "execution_count": 4,
   "metadata": {},
   "outputs": [
    {
     "name": "stdout",
     "output_type": "stream",
     "text": [
      "\n",
      "Parsing ./cfg/tiny-yolo-voc.cfg\n",
      "Parsing cfg/tiny-yolo.cfg\n",
      "Loading bin/tiny-yolo-voc.weights ...\n",
      "Successfully identified 63471556 bytes\n",
      "Finished in 0.4476189613342285s\n",
      "Model has a coco model name, loading coco labels.\n",
      "\n",
      "Building net ...\n",
      "Source | Train? | Layer description                | Output size\n",
      "-------+--------+----------------------------------+---------------\n",
      "       |        | input                            | (?, 416, 416, 3)\n",
      " Load  |  Yep!  | conv 3x3p1_1  +bnorm  leaky      | (?, 416, 416, 16)\n",
      " Load  |  Yep!  | maxp 2x2p0_2                     | (?, 208, 208, 16)\n",
      " Load  |  Yep!  | conv 3x3p1_1  +bnorm  leaky      | (?, 208, 208, 32)\n",
      " Load  |  Yep!  | maxp 2x2p0_2                     | (?, 104, 104, 32)\n",
      " Load  |  Yep!  | conv 3x3p1_1  +bnorm  leaky      | (?, 104, 104, 64)\n",
      " Load  |  Yep!  | maxp 2x2p0_2                     | (?, 52, 52, 64)\n",
      " Load  |  Yep!  | conv 3x3p1_1  +bnorm  leaky      | (?, 52, 52, 128)\n",
      " Load  |  Yep!  | maxp 2x2p0_2                     | (?, 26, 26, 128)\n",
      " Load  |  Yep!  | conv 3x3p1_1  +bnorm  leaky      | (?, 26, 26, 256)\n",
      " Load  |  Yep!  | maxp 2x2p0_2                     | (?, 13, 13, 256)\n",
      " Load  |  Yep!  | conv 3x3p1_1  +bnorm  leaky      | (?, 13, 13, 512)\n",
      " Load  |  Yep!  | maxp 2x2p0_1                     | (?, 13, 13, 512)\n",
      " Load  |  Yep!  | conv 3x3p1_1  +bnorm  leaky      | (?, 13, 13, 1024)\n",
      " Load  |  Yep!  | conv 3x3p1_1  +bnorm  leaky      | (?, 13, 13, 1024)\n",
      " Init  |  Yep!  | conv 1x1p0_1    linear           | (?, 13, 13, 425)\n",
      "-------+--------+----------------------------------+---------------\n",
      "Running entirely on CPU\n",
      "2018-03-09 17:51:47.253720: W tensorflow/core/platform/cpu_feature_guard.cc:45] The TensorFlow library wasn't compiled to use SSE4.2 instructions, but these are available on your machine and could speed up CPU computations.\n",
      "2018-03-09 17:51:47.253755: W tensorflow/core/platform/cpu_feature_guard.cc:45] The TensorFlow library wasn't compiled to use AVX instructions, but these are available on your machine and could speed up CPU computations.\n",
      "Finished in 4.212849140167236s\n",
      "\n",
      "Forwarding 8 inputs ...\n",
      "Total time = 4.81452202796936s / 8 inps = 1.6616395051315596 ips\n",
      "Post processing 8 inputs ...\n",
      "Total time = 0.8110091686248779s / 8 inps = 9.864253462836373 ips\n"
     ]
    }
   ],
   "source": [
    "!./flow --model cfg/tiny-yolo.cfg --load bin/tiny-yolo-voc.weights"
   ]
  },
  {
   "cell_type": "code",
   "execution_count": 5,
   "metadata": {},
   "outputs": [
    {
     "name": "stdout",
     "output_type": "stream",
     "text": [
      "\n",
      "Parsing ./cfg/tiny-yolo-voc.cfg\n",
      "Parsing cfg/tiny-yolo.cfg\n",
      "Loading bin/tiny-yolo-voc.weights ...\n",
      "Successfully identified 63471556 bytes\n",
      "Finished in 0.21795988082885742s\n",
      "Model has a coco model name, loading coco labels.\n",
      "\n",
      "Building net ...\n",
      "Source | Train? | Layer description                | Output size\n",
      "-------+--------+----------------------------------+---------------\n",
      "       |        | input                            | (?, 416, 416, 3)\n",
      " Load  |  Yep!  | conv 3x3p1_1  +bnorm  leaky      | (?, 416, 416, 16)\n",
      " Load  |  Yep!  | maxp 2x2p0_2                     | (?, 208, 208, 16)\n",
      " Load  |  Yep!  | conv 3x3p1_1  +bnorm  leaky      | (?, 208, 208, 32)\n",
      " Load  |  Yep!  | maxp 2x2p0_2                     | (?, 104, 104, 32)\n",
      " Load  |  Yep!  | conv 3x3p1_1  +bnorm  leaky      | (?, 104, 104, 64)\n",
      " Load  |  Yep!  | maxp 2x2p0_2                     | (?, 52, 52, 64)\n",
      " Load  |  Yep!  | conv 3x3p1_1  +bnorm  leaky      | (?, 52, 52, 128)\n",
      " Load  |  Yep!  | maxp 2x2p0_2                     | (?, 26, 26, 128)\n",
      " Load  |  Yep!  | conv 3x3p1_1  +bnorm  leaky      | (?, 26, 26, 256)\n",
      " Load  |  Yep!  | maxp 2x2p0_2                     | (?, 13, 13, 256)\n",
      " Load  |  Yep!  | conv 3x3p1_1  +bnorm  leaky      | (?, 13, 13, 512)\n",
      " Load  |  Yep!  | maxp 2x2p0_1                     | (?, 13, 13, 512)\n",
      " Load  |  Yep!  | conv 3x3p1_1  +bnorm  leaky      | (?, 13, 13, 1024)\n",
      " Load  |  Yep!  | conv 3x3p1_1  +bnorm  leaky      | (?, 13, 13, 1024)\n",
      " Init  |  Yep!  | conv 1x1p0_1    linear           | (?, 13, 13, 425)\n",
      "-------+--------+----------------------------------+---------------\n",
      "Running entirely on CPU\n",
      "2018-03-09 17:53:25.721013: W tensorflow/core/platform/cpu_feature_guard.cc:45] The TensorFlow library wasn't compiled to use SSE4.2 instructions, but these are available on your machine and could speed up CPU computations.\n",
      "2018-03-09 17:53:25.721047: W tensorflow/core/platform/cpu_feature_guard.cc:45] The TensorFlow library wasn't compiled to use AVX instructions, but these are available on your machine and could speed up CPU computations.\n",
      "Finished in 2.7114551067352295s\n",
      "\n",
      "Forwarding 8 inputs ...\n",
      "Total time = 3.8728151321411133s / 8 inps = 2.065680836042681 ips\n",
      "Post processing 8 inputs ...\n",
      "Total time = 0.7512378692626953s / 8 inps = 10.649090424383989 ips\n"
     ]
    }
   ],
   "source": [
    "!./flow --imgdir sample_img/ --model cfg/tiny-yolo.cfg --load bin/tiny-yolo-voc.weights"
   ]
  },
  {
   "cell_type": "code",
   "execution_count": 6,
   "metadata": {},
   "outputs": [
    {
     "name": "stdout",
     "output_type": "stream",
     "text": [
      "\n",
      "Parsing ./cfg/tiny-yolo-voc.cfg\n",
      "Parsing cfg/tiny-yolo.cfg\n",
      "Loading bin/tiny-yolo-voc.weights ...\n",
      "Successfully identified 63471556 bytes\n",
      "Finished in 0.2063591480255127s\n",
      "Model has a coco model name, loading coco labels.\n",
      "\n",
      "Building net ...\n",
      "Source | Train? | Layer description                | Output size\n",
      "-------+--------+----------------------------------+---------------\n",
      "       |        | input                            | (?, 416, 416, 3)\n",
      " Load  |  Yep!  | conv 3x3p1_1  +bnorm  leaky      | (?, 416, 416, 16)\n",
      " Load  |  Yep!  | maxp 2x2p0_2                     | (?, 208, 208, 16)\n",
      " Load  |  Yep!  | conv 3x3p1_1  +bnorm  leaky      | (?, 208, 208, 32)\n",
      " Load  |  Yep!  | maxp 2x2p0_2                     | (?, 104, 104, 32)\n",
      " Load  |  Yep!  | conv 3x3p1_1  +bnorm  leaky      | (?, 104, 104, 64)\n",
      " Load  |  Yep!  | maxp 2x2p0_2                     | (?, 52, 52, 64)\n",
      " Load  |  Yep!  | conv 3x3p1_1  +bnorm  leaky      | (?, 52, 52, 128)\n",
      " Load  |  Yep!  | maxp 2x2p0_2                     | (?, 26, 26, 128)\n",
      " Load  |  Yep!  | conv 3x3p1_1  +bnorm  leaky      | (?, 26, 26, 256)\n",
      " Load  |  Yep!  | maxp 2x2p0_2                     | (?, 13, 13, 256)\n",
      " Load  |  Yep!  | conv 3x3p1_1  +bnorm  leaky      | (?, 13, 13, 512)\n",
      " Load  |  Yep!  | maxp 2x2p0_1                     | (?, 13, 13, 512)\n",
      " Load  |  Yep!  | conv 3x3p1_1  +bnorm  leaky      | (?, 13, 13, 1024)\n",
      " Load  |  Yep!  | conv 3x3p1_1  +bnorm  leaky      | (?, 13, 13, 1024)\n",
      " Init  |  Yep!  | conv 1x1p0_1    linear           | (?, 13, 13, 425)\n",
      "-------+--------+----------------------------------+---------------\n",
      "Running entirely on CPU\n",
      "2018-03-09 17:55:59.571172: W tensorflow/core/platform/cpu_feature_guard.cc:45] The TensorFlow library wasn't compiled to use SSE4.2 instructions, but these are available on your machine and could speed up CPU computations.\n",
      "2018-03-09 17:55:59.571207: W tensorflow/core/platform/cpu_feature_guard.cc:45] The TensorFlow library wasn't compiled to use AVX instructions, but these are available on your machine and could speed up CPU computations.\n",
      "Finished in 2.8312501907348633s\n",
      "\n",
      "Forwarding 8 inputs ...\n",
      "Total time = 3.934149980545044s / 8 inps = 2.03347611035705 ips\n",
      "Post processing 8 inputs ...\n",
      "Total time = 0.33953118324279785s / 8 inps = 23.561900628959965 ips\n"
     ]
    }
   ],
   "source": [
    "!./flow --imgdir sample_img/ --model cfg/tiny-yolo.cfg --load bin/tiny-yolo-voc.weights --json"
   ]
  },
  {
   "cell_type": "markdown",
   "metadata": {},
   "source": [
    "# Training and Testing"
   ]
  },
  {
   "cell_type": "markdown",
   "metadata": {},
   "source": [
    "Script for 3 classes\n",
    "==\n",
    "\n",
    "Train: (3C)\n",
    "==\n",
    "./flow --model cfg/tiny-yolo-voc-3c.cfg --train --dataset \"../MY20173c/JPEGImages\" --annotation \"../MY20173c/Annotations\" --epoch 1000 --trainer adam --load bin/tiny-yolo-voc.weights\n",
    "\n",
    "Test: (3C)\n",
    "==\n",
    "./flow --imgdir \"../MY20173c_test/\" --model cfg/tiny-yolo-voc-3c.cfg --load -1 --lr 0.0001 --batch 32\n",
    "\n",
    "Script for 1 class\n",
    "==\n",
    "\n",
    "Train: (1C)\n",
    "==\n",
    "./flow --model cfg/tiny-yolo-voc-1c.cfg --train --dataset \"../MY2017/JPEGImages\" --annotation \"../MY2017/Annotations\" --epoch 5 --trainer adam --load bin/tiny-yolo-voc.weights\n",
    "\n",
    "Test: (1C)\n",
    "==\n",
    "./flow --imgdir \"../MY2017_test/\" --model cfg/tiny-yolo-voc-1c.cfg --load bin/tiny-yolo-voc.weights --lr 0.0001 --batch 32"
   ]
  },
  {
   "cell_type": "code",
   "execution_count": 7,
   "metadata": {},
   "outputs": [
    {
     "name": "stdout",
     "output_type": "stream",
     "text": [
      "\n",
      "Parsing ./cfg/tiny-yolo-voc.cfg\n",
      "Parsing cfg/tiny-yolo-voc-3c.cfg\n",
      "Loading bin/tiny-yolo-voc.weights ...\n",
      "Successfully identified 63471556 bytes\n",
      "Finished in 0.19501304626464844s\n",
      "\n",
      "Building net ...\n",
      "Source | Train? | Layer description                | Output size\n",
      "-------+--------+----------------------------------+---------------\n",
      "       |        | input                            | (?, 416, 416, 3)\n",
      " Load  |  Yep!  | conv 3x3p1_1  +bnorm  leaky      | (?, 416, 416, 16)\n",
      " Load  |  Yep!  | maxp 2x2p0_2                     | (?, 208, 208, 16)\n",
      " Load  |  Yep!  | conv 3x3p1_1  +bnorm  leaky      | (?, 208, 208, 32)\n",
      " Load  |  Yep!  | maxp 2x2p0_2                     | (?, 104, 104, 32)\n",
      " Load  |  Yep!  | conv 3x3p1_1  +bnorm  leaky      | (?, 104, 104, 64)\n",
      " Load  |  Yep!  | maxp 2x2p0_2                     | (?, 52, 52, 64)\n",
      " Load  |  Yep!  | conv 3x3p1_1  +bnorm  leaky      | (?, 52, 52, 128)\n",
      " Load  |  Yep!  | maxp 2x2p0_2                     | (?, 26, 26, 128)\n",
      " Load  |  Yep!  | conv 3x3p1_1  +bnorm  leaky      | (?, 26, 26, 256)\n",
      " Load  |  Yep!  | maxp 2x2p0_2                     | (?, 13, 13, 256)\n",
      " Load  |  Yep!  | conv 3x3p1_1  +bnorm  leaky      | (?, 13, 13, 512)\n",
      " Load  |  Yep!  | maxp 2x2p0_1                     | (?, 13, 13, 512)\n",
      " Load  |  Yep!  | conv 3x3p1_1  +bnorm  leaky      | (?, 13, 13, 1024)\n",
      " Load  |  Yep!  | conv 3x3p1_1  +bnorm  leaky      | (?, 13, 13, 1024)\n",
      " Init  |  Yep!  | conv 1x1p0_1    linear           | (?, 13, 13, 40)\n",
      "-------+--------+----------------------------------+---------------\n",
      "Running entirely on CPU\n",
      "cfg/tiny-yolo-voc-3c.cfg loss hyper-parameters:\n",
      "\tH       = 13\n",
      "\tW       = 13\n",
      "\tbox     = 5\n",
      "\tclasses = 3\n",
      "\tscales  = [1.0, 5.0, 1.0, 1.0]\n",
      "Building cfg/tiny-yolo-voc-3c.cfg loss\n",
      "Building cfg/tiny-yolo-voc-3c.cfg train op\n",
      "2018-03-09 17:57:13.565347: W tensorflow/core/platform/cpu_feature_guard.cc:45] The TensorFlow library wasn't compiled to use SSE4.2 instructions, but these are available on your machine and could speed up CPU computations.\n",
      "2018-03-09 17:57:13.565388: W tensorflow/core/platform/cpu_feature_guard.cc:45] The TensorFlow library wasn't compiled to use AVX instructions, but these are available on your machine and could speed up CPU computations.\n",
      "Finished in 9.465157985687256s\n",
      "\n",
      "Enter training ...\n",
      "\n",
      "cfg/tiny-yolo-voc-3c.cfg parsing ../darkflow_data/MY20173c/Annotations\n",
      "Parsing for ['benz', 'volkswagen', 'audi'] \n",
      "[====================>]100%  030.xml\n",
      "Statistics:\n",
      "volkswagen: 10\n",
      "benz: 10\n",
      "audi: 10\n",
      "Dataset size: 30\n",
      "Dataset of 30 instance(s)\n",
      "Training statistics: \n",
      "\tLearning rate : 1e-05\n",
      "\tBatch size    : 16\n",
      "\tEpoch number  : 15\n",
      "\tBackup every  : 2000\n",
      "step 1 - loss 110.42813110351562 - moving ave loss 110.42813110351562\n",
      "Finish 1 epoch(es)\n",
      "step 2 - loss 109.81747436523438 - moving ave loss 110.3670654296875\n",
      "Finish 2 epoch(es)\n",
      "step 3 - loss 109.13626098632812 - moving ave loss 110.24398498535157\n",
      "Finish 3 epoch(es)\n",
      "step 4 - loss 108.40520477294922 - moving ave loss 110.06010696411136\n",
      "Finish 4 epoch(es)\n",
      "step 5 - loss 107.86729431152344 - moving ave loss 109.84082569885257\n",
      "Finish 5 epoch(es)\n",
      "step 6 - loss 107.33010864257812 - moving ave loss 109.58975399322512\n",
      "Finish 6 epoch(es)\n",
      "step 7 - loss 106.72136688232422 - moving ave loss 109.30291528213503\n",
      "Finish 7 epoch(es)\n",
      "step 8 - loss 106.05142974853516 - moving ave loss 108.97776672877505\n",
      "Finish 8 epoch(es)\n",
      "step 9 - loss 105.59494018554688 - moving ave loss 108.63948407445224\n",
      "Finish 9 epoch(es)\n",
      "step 10 - loss 105.16032409667969 - moving ave loss 108.29156807667499\n",
      "Finish 10 epoch(es)\n",
      "step 11 - loss 104.38410186767578 - moving ave loss 107.90082145577507\n",
      "Finish 11 epoch(es)\n",
      "step 12 - loss 103.96405792236328 - moving ave loss 107.5071451024339\n",
      "Finish 12 epoch(es)\n",
      "step 13 - loss 103.63091278076172 - moving ave loss 107.11952187026668\n",
      "Finish 13 epoch(es)\n",
      "step 14 - loss 103.17454528808594 - moving ave loss 106.72502421204861\n",
      "Finish 14 epoch(es)\n",
      "step 15 - loss 102.15706634521484 - moving ave loss 106.26822842536524\n",
      "Finish 15 epoch(es)\n",
      "Checkpoint at step 15\n",
      "Training finished, exit.\n"
     ]
    }
   ],
   "source": [
    "!./flow --model cfg/tiny-yolo-voc-3c.cfg --train --dataset \"../darkflow_data/MY20173c/JPEGImages\" --annotation \"../darkflow_data/MY20173c/Annotations\" --epoch 15 --trainer adam --load bin/tiny-yolo-voc.weights"
   ]
  },
  {
   "cell_type": "code",
   "execution_count": 9,
   "metadata": {},
   "outputs": [
    {
     "name": "stdout",
     "output_type": "stream",
     "text": [
      "\n",
      "Parsing cfg/tiny-yolo-voc-3c.cfg\n",
      "Loading None ...\n",
      "Finished in 0.00022101402282714844s\n",
      "\n",
      "Building net ...\n",
      "Source | Train? | Layer description                | Output size\n",
      "-------+--------+----------------------------------+---------------\n",
      "       |        | input                            | (?, 416, 416, 3)\n",
      " Init  |  Yep!  | conv 3x3p1_1  +bnorm  leaky      | (?, 416, 416, 16)\n",
      " Load  |  Yep!  | maxp 2x2p0_2                     | (?, 208, 208, 16)\n",
      " Init  |  Yep!  | conv 3x3p1_1  +bnorm  leaky      | (?, 208, 208, 32)\n",
      " Load  |  Yep!  | maxp 2x2p0_2                     | (?, 104, 104, 32)\n",
      " Init  |  Yep!  | conv 3x3p1_1  +bnorm  leaky      | (?, 104, 104, 64)\n",
      " Load  |  Yep!  | maxp 2x2p0_2                     | (?, 52, 52, 64)\n",
      " Init  |  Yep!  | conv 3x3p1_1  +bnorm  leaky      | (?, 52, 52, 128)\n",
      " Load  |  Yep!  | maxp 2x2p0_2                     | (?, 26, 26, 128)\n",
      " Init  |  Yep!  | conv 3x3p1_1  +bnorm  leaky      | (?, 26, 26, 256)\n",
      " Load  |  Yep!  | maxp 2x2p0_2                     | (?, 13, 13, 256)\n",
      " Init  |  Yep!  | conv 3x3p1_1  +bnorm  leaky      | (?, 13, 13, 512)\n",
      " Load  |  Yep!  | maxp 2x2p0_1                     | (?, 13, 13, 512)\n",
      " Init  |  Yep!  | conv 3x3p1_1  +bnorm  leaky      | (?, 13, 13, 1024)\n",
      " Init  |  Yep!  | conv 3x3p1_1  +bnorm  leaky      | (?, 13, 13, 1024)\n",
      " Init  |  Yep!  | conv 1x1p0_1    linear           | (?, 13, 13, 40)\n",
      "-------+--------+----------------------------------+---------------\n",
      "Running entirely on CPU\n",
      "2018-03-09 18:08:09.729915: W tensorflow/core/platform/cpu_feature_guard.cc:45] The TensorFlow library wasn't compiled to use SSE4.2 instructions, but these are available on your machine and could speed up CPU computations.\n",
      "2018-03-09 18:08:09.729946: W tensorflow/core/platform/cpu_feature_guard.cc:45] The TensorFlow library wasn't compiled to use AVX instructions, but these are available on your machine and could speed up CPU computations.\n",
      "Loading from ./ckpt/tiny-yolo-voc-3c-2000\n",
      "Finished in 4.826220989227295s\n",
      "\n",
      "Forwarding 32 inputs ...\n",
      "Total time = 14.031757831573486s / 32 inps = 2.2805410686318552 ips\n",
      "Post processing 32 inputs ...\n",
      "Total time = 0.9104080200195312s / 32 inps = 35.149075245749145 ips\n",
      "Forwarding 18 inputs ...\n",
      "Total time = 9.52835988998413s / 18 inps = 1.8890974110792091 ips\n",
      "Post processing 18 inputs ...\n",
      "Total time = 0.28025388717651367s / 18 inps = 64.2274766689069 ips\n"
     ]
    }
   ],
   "source": [
    "!./flow --imgdir \"../darkflow_data/MY20173c_test/\" --model cfg/tiny-yolo-voc-3c.cfg --load -1 --lr 0.0001 --batch 32"
   ]
  },
  {
   "cell_type": "code",
   "execution_count": null,
   "metadata": {
    "collapsed": true
   },
   "outputs": [],
   "source": []
  }
 ],
 "metadata": {
  "kernelspec": {
   "display_name": "Python [default]",
   "language": "python",
   "name": "python3"
  },
  "language_info": {
   "codemirror_mode": {
    "name": "ipython",
    "version": 3
   },
   "file_extension": ".py",
   "mimetype": "text/x-python",
   "name": "python",
   "nbconvert_exporter": "python",
   "pygments_lexer": "ipython3",
   "version": "3.5.3"
  }
 },
 "nbformat": 4,
 "nbformat_minor": 2
}
