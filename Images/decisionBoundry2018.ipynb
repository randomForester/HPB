{
 "cells": [
  {
   "cell_type": "code",
   "execution_count": 2,
   "metadata": {
    "collapsed": true
   },
   "outputs": [],
   "source": [
    "from IPython.display import display\n",
    "\n",
    "import matplotlib as plt\n",
    "import matplotlib.pyplot as plt\n",
    "import mglearn\n",
    "\n",
    "#\n",
    "############################# Modeling \n",
    "from sklearn.linear_model import LogisticRegression\n",
    "\n",
    "from sklearn.neighbors import KNeighborsClassifier\n",
    "from sklearn.ensemble import RandomForestClassifier\n",
    "from sklearn.neural_network import MLPClassifier\n",
    "from sklearn.svm import SVC\n",
    "from sklearn.svm import LinearSVC\n",
    "############################# Modeling \n",
    "#"
   ]
  },
  {
   "cell_type": "markdown",
   "metadata": {},
   "source": [
    "# Binary classification: class predictions 1"
   ]
  },
  {
   "cell_type": "code",
   "execution_count": 3,
   "metadata": {},
   "outputs": [
    {
     "name": "stdout",
     "output_type": "stream",
     "text": [
      "X=[-8.20781324 -6.68324836], Predicted=2\n",
      "X=[-2.97261532  8.54855637], Predicted=0\n",
      "X=[-6.6707636  -8.83977972], Predicted=2\n",
      "X=[4.09549611 2.08409227], Predicted=1\n",
      "X=[-3.52202874  9.32853346], Predicted=0\n",
      "X=[-2.26723535  7.10100588], Predicted=0\n",
      "X=[-0.92998481  9.78172086], Predicted=0\n",
      "X=[3.48888526 2.3488677 ], Predicted=1\n",
      "X=[-7.4813338  -5.02783141], Predicted=2\n",
      "X=[-6.05708228 -8.10095324], Predicted=2\n",
      "X=[-2.97867201  9.55684617], Predicted=0\n",
      "X=[-4.23411546  8.4519986 ], Predicted=0\n",
      "X=[-6.14116061 -6.70874131], Predicted=2\n",
      "X=[4.70740704 0.5484215 ], Predicted=1\n",
      "X=[4.03924015 1.68147593], Predicted=1\n",
      "X=[3.73185476 0.56086598], Predicted=1\n",
      "X=[-6.89312442 -7.93782052], Predicted=2\n",
      "X=[6.10552761 1.74739338], Predicted=1\n"
     ]
    }
   ],
   "source": [
    "# example of training a final classification model\n",
    "from sklearn.datasets.samples_generator import make_blobs\n",
    "# generate 2d classification dataset\n",
    "#\n",
    "#X, y = make_blobs(n_samples=100, centers=2, n_features=2, random_state=1)\n",
    "#X, y = make_blobs(n_samples=100, centers=3, n_features=3, random_state=1)\n",
    "X, y = make_blobs(random_state=42)\n",
    "#\n",
    "# fit final model\n",
    "#model = LogisticRegression()\n",
    "#model = MLPClassifier(solver='lbfgs', random_state=0)\n",
    "#model = KNeighborsClassifier(n_neighbors= 3)\n",
    "#model = RandomForestClassifier(n_estimators=100,random_state=0, n_jobs=-1)\n",
    "#model = LinearSVC()\n",
    "model = SVC(kernel='rbf', C=10, gamma=0.1)\n",
    "model.fit(X, y)\n",
    "# new instances where we do not know the answer\n",
    "#\n",
    "#Xnew, _ = make_blobs(n_samples=13, centers=2, n_features=2, random_state=1)\n",
    "#Xnew, _ = make_blobs(n_samples=13, centers=3, n_features=3, random_state=1)\n",
    "Xnew, _ = make_blobs(n_samples=18, random_state=42)\n",
    "#\n",
    "# make a prediction\n",
    "ynew = model.predict(Xnew)\n",
    "# show the inputs and predicted outputs\n",
    "for i in range(len(Xnew)):\n",
    "    print(\"X=%s, Predicted=%s\" % (Xnew[i], ynew[i]))"
   ]
  },
  {
   "cell_type": "markdown",
   "metadata": {},
   "source": [
    "# Probability Predictions"
   ]
  },
  {
   "cell_type": "code",
   "execution_count": 4,
   "metadata": {},
   "outputs": [
    {
     "name": "stdout",
     "output_type": "stream",
     "text": [
      "X=[-8.20781324 -6.68324836], Predicted=[3.73991178e-06 6.86979978e-06 9.99989390e-01]\n",
      "X=[-2.97261532  8.54855637], Predicted=[9.99978170e-01 9.94336269e-06 1.18865518e-05]\n",
      "X=[-6.6707636  -8.83977972], Predicted=[1.91936046e-06 1.76135567e-05 9.99980467e-01]\n",
      "X=[4.09549611 2.08409227], Predicted=[6.63678282e-06 9.99977663e-01 1.56997687e-05]\n",
      "X=[-3.52202874  9.32853346], Predicted=[9.99993842e-01 2.14509106e-06 4.01273049e-06]\n",
      "X=[-2.26723535  7.10100588], Predicted=[9.99810330e-01 1.04467346e-04 8.52024569e-05]\n",
      "X=[-0.92998481  9.78172086], Predicted=[9.99569988e-01 4.20369828e-04 9.64260205e-06]\n",
      "X=[3.48888526 2.3488677 ], Predicted=[3.22219015e-05 9.99922304e-01 4.54738539e-05]\n",
      "X=[-7.4813338  -5.02783141], Predicted=[3.39446578e-05 2.85297101e-05 9.99937526e-01]\n",
      "X=[-6.05708228 -8.10095324], Predicted=[5.97768885e-06 4.62071002e-05 9.99947815e-01]\n",
      "X=[-2.97867201  9.55684617], Predicted=[9.99992428e-01 4.15952263e-06 3.41218805e-06]\n",
      "X=[-4.23411546  8.4519986 ], Predicted=[9.99985877e-01 1.84438548e-06 1.22782498e-05]\n",
      "X=[-6.14116061 -6.70874131], Predicted=[1.89319839e-05 7.22598641e-05 9.99908808e-01]\n",
      "X=[4.70740704 0.5484215 ], Predicted=[2.72113480e-06 9.99980339e-01 1.69402317e-05]\n",
      "X=[4.03924015 1.68147593], Predicted=[8.13520727e-06 9.99967253e-01 2.46114952e-05]\n",
      "X=[3.73185476 0.56086598], Predicted=[3.04368645e-05 9.99842064e-01 1.27499519e-04]\n",
      "X=[-6.89312442 -7.93782052], Predicted=[3.54402264e-06 1.95604511e-05 9.99976896e-01]\n",
      "X=[6.10552761 1.74739338], Predicted=[4.32606227e-08 9.99999647e-01 3.10091223e-07]\n"
     ]
    }
   ],
   "source": [
    "# example of making multiple probability predictions\n",
    "from sklearn.linear_model import LogisticRegression\n",
    "from sklearn.datasets.samples_generator import make_blobs\n",
    "# generate 2d classification dataset\n",
    "#\n",
    "#X, y = make_blobs(n_samples=100, centers=2, n_features=2, random_state=1)\n",
    "#X, y = make_blobs(n_samples=100, centers=3, n_features=3, random_state=1)\n",
    "X, y = make_blobs(random_state=42)\n",
    "#\n",
    "# fit final model\n",
    "#model = LogisticRegression()\n",
    "model = MLPClassifier(solver='lbfgs', random_state=0)\n",
    "#model = KNeighborsClassifier(n_neighbors= 13)\n",
    "#model = RandomForestClassifier(n_estimators=100,random_state=0, n_jobs=-1)\n",
    "model.fit(X, y)\n",
    "# new instances where we do not know the answer\n",
    "#\n",
    "#Xnew, _ = make_blobs(n_samples=13, centers=2, n_features=2, random_state=1)\n",
    "#Xnew, _ = make_blobs(n_samples=13, centers=3, n_features=3, random_state=1)\n",
    "Xnew, _ = make_blobs(n_samples=18, random_state=42)\n",
    "#\n",
    "# make a prediction\n",
    "ynew = model.predict_proba(Xnew)\n",
    "# show the inputs and predicted probabilities\n",
    "for i in range(len(Xnew)):\n",
    "\tprint(\"X=%s, Predicted=%s\" % (Xnew[i], ynew[i]))"
   ]
  },
  {
   "cell_type": "code",
   "execution_count": 5,
   "metadata": {},
   "outputs": [
    {
     "data": {
      "image/png": "[encoded data removed]",
      "text/plain": [
       "<matplotlib.figure.Figure at 0x112744b70>"
      ]
     },
     "metadata": {},
     "output_type": "display_data"
    }
   ],
   "source": [
    "mglearn.plots.plot_2d_classification(model, X, fill=True, alpha=.7)\n",
    "#plt.scatter(X[:, 0], X[:, 1], s=40, c=y, cmap=plt.cm.Spectral)\n",
    "mglearn.discrete_scatter(X[:, 0], X[:, 1], y)\n",
    "plt.title(\"\")\n",
    "plt.xlabel(\"Feature 0\")\n",
    "plt.ylabel(\"Feature 1\")\n",
    "plt.show()"
   ]
  },
  {
   "cell_type": "markdown",
   "metadata": {
    "collapsed": true
   },
   "source": [
    "## Plotting"
   ]
  },
  {
   "cell_type": "code",
   "execution_count": 6,
   "metadata": {},
   "outputs": [
    {
     "data": {
      "image/png": "[encoded data removed]",
      "text/plain": [
       "<matplotlib.figure.Figure at 0x112780a90>"
      ]
     },
     "metadata": {},
     "output_type": "display_data"
    }
   ],
   "source": [
    "plt.scatter(X[:,0], X[:,1], s=40, c=y, cmap=plt.cm.Spectral)\n",
    "plt.show()"
   ]
  },
  {
   "cell_type": "code",
   "execution_count": 7,
   "metadata": {},
   "outputs": [
    {
     "data": {
      "image/png": "[encoded data removed]",
      "text/plain": [
       "<matplotlib.figure.Figure at 0x10863f860>"
      ]
     },
     "metadata": {},
     "output_type": "display_data"
    }
   ],
   "source": [
    "mglearn.discrete_scatter(X[:, 0], X[:, 1], y)\n",
    "plt.xlabel(\"Feature 0\")\n",
    "plt.ylabel(\"Feature 1\")\n",
    "plt.legend([\"Class 0\", \"Class 1\"])\n",
    "plt.show()"
   ]
  },
  {
   "cell_type": "markdown",
   "metadata": {
    "collapsed": true
   },
   "source": [
    "## Plotting"
   ]
  },
  {
   "cell_type": "code",
   "execution_count": 8,
   "metadata": {},
   "outputs": [
    {
     "data": {
      "image/png": "[encoded data removed]",
      "text/plain": [
       "<matplotlib.figure.Figure at 0x1191e3e48>"
      ]
     },
     "metadata": {},
     "output_type": "display_data"
    }
   ],
   "source": [
    "X, y = make_blobs(random_state=42)\n",
    "mglearn.discrete_scatter(X[:, 0], X[:, 1], y)\n",
    "plt.xlabel(\"Feature 0\")\n",
    "plt.ylabel(\"Feature 1\")\n",
    "plt.legend([\"Class 0\", \"Class 1\", \"Class 2\"])\n",
    "plt.show()"
   ]
  },
  {
   "cell_type": "markdown",
   "metadata": {},
   "source": [
    "# Binary classification: class predictions 2"
   ]
  },
  {
   "cell_type": "code",
   "execution_count": 9,
   "metadata": {},
   "outputs": [
    {
     "name": "stdout",
     "output_type": "stream",
     "text": [
      "X=[-0.79415228, 2.10495117], Predicted=0\n"
     ]
    }
   ],
   "source": [
    "# example of making a single class prediction\n",
    "from sklearn.linear_model import LogisticRegression\n",
    "from sklearn.datasets.samples_generator import make_blobs\n",
    "# generate 2d classification dataset\n",
    "X, y = make_blobs(n_samples=100, centers=2, n_features=2, random_state=1)\n",
    "# fit final model\n",
    "model = LogisticRegression()\n",
    "model.fit(X, y)\n",
    "# define one new instance\n",
    "Xnew = [[-0.79415228, 2.10495117]]\n",
    "# make a prediction\n",
    "ynew = model.predict(Xnew)\n",
    "print(\"X=%s, Predicted=%s\" % (Xnew[0], ynew[0]))"
   ]
  },
  {
   "cell_type": "markdown",
   "metadata": {
    "collapsed": true
   },
   "source": [
    "# Save and Load Machine Learning Models in Python with scikit-learn"
   ]
  },
  {
   "cell_type": "code",
   "execution_count": 10,
   "metadata": {
    "collapsed": true
   },
   "outputs": [],
   "source": [
    "# Save Model Using Pickle\n",
    "import pandas\n",
    "from sklearn import model_selection\n",
    "from sklearn.linear_model import LogisticRegression\n",
    "import pickle\n",
    "url = \"https://raw.githubusercontent.com/jbrownlee/Datasets/master/pima-indians-diabetes.data.csv\"\n",
    "names = ['preg', 'plas', 'pres', 'skin', 'test', 'mass', 'pedi', 'age', 'class']\n",
    "dataframe = pandas.read_csv(url, names=names)\n",
    "array = dataframe.values\n",
    "X = array[:,0:8]\n",
    "Y = array[:,8]\n",
    "test_size = 0.33\n",
    "seed = 7\n",
    "X_train, X_test, Y_train, Y_test = model_selection.train_test_split(X, Y, test_size=test_size, random_state=seed)"
   ]
  },
  {
   "cell_type": "code",
   "execution_count": 11,
   "metadata": {},
   "outputs": [
    {
     "data": {
      "text/html": [
       "<div>\n",
       "<style>\n",
       "    .dataframe thead tr:only-child th {\n",
       "        text-align: right;\n",
       "    }\n",
       "\n",
       "    .dataframe thead th {\n",
       "        text-align: left;\n",
       "    }\n",
       "\n",
       "    .dataframe tbody tr th {\n",
       "        vertical-align: top;\n",
       "    }\n",
       "</style>\n",
       "<table border=\"1\" class=\"dataframe\">\n",
       "  <thead>\n",
       "    <tr style=\"text-align: right;\">\n",
       "      <th></th>\n",
       "      <th>preg</th>\n",
       "      <th>plas</th>\n",
       "      <th>pres</th>\n",
       "      <th>skin</th>\n",
       "      <th>test</th>\n",
       "      <th>mass</th>\n",
       "      <th>pedi</th>\n",
       "      <th>age</th>\n",
       "      <th>class</th>\n",
       "    </tr>\n",
       "  </thead>\n",
       "  <tbody>\n",
       "    <tr>\n",
       "      <th>0</th>\n",
       "      <td>6</td>\n",
       "      <td>148</td>\n",
       "      <td>72</td>\n",
       "      <td>35</td>\n",
       "      <td>0</td>\n",
       "      <td>33.6</td>\n",
       "      <td>0.627</td>\n",
       "      <td>50</td>\n",
       "      <td>1</td>\n",
       "    </tr>\n",
       "    <tr>\n",
       "      <th>1</th>\n",
       "      <td>1</td>\n",
       "      <td>85</td>\n",
       "      <td>66</td>\n",
       "      <td>29</td>\n",
       "      <td>0</td>\n",
       "      <td>26.6</td>\n",
       "      <td>0.351</td>\n",
       "      <td>31</td>\n",
       "      <td>0</td>\n",
       "    </tr>\n",
       "    <tr>\n",
       "      <th>2</th>\n",
       "      <td>8</td>\n",
       "      <td>183</td>\n",
       "      <td>64</td>\n",
       "      <td>0</td>\n",
       "      <td>0</td>\n",
       "      <td>23.3</td>\n",
       "      <td>0.672</td>\n",
       "      <td>32</td>\n",
       "      <td>1</td>\n",
       "    </tr>\n",
       "    <tr>\n",
       "      <th>3</th>\n",
       "      <td>1</td>\n",
       "      <td>89</td>\n",
       "      <td>66</td>\n",
       "      <td>23</td>\n",
       "      <td>94</td>\n",
       "      <td>28.1</td>\n",
       "      <td>0.167</td>\n",
       "      <td>21</td>\n",
       "      <td>0</td>\n",
       "    </tr>\n",
       "    <tr>\n",
       "      <th>4</th>\n",
       "      <td>0</td>\n",
       "      <td>137</td>\n",
       "      <td>40</td>\n",
       "      <td>35</td>\n",
       "      <td>168</td>\n",
       "      <td>43.1</td>\n",
       "      <td>2.288</td>\n",
       "      <td>33</td>\n",
       "      <td>1</td>\n",
       "    </tr>\n",
       "  </tbody>\n",
       "</table>\n",
       "</div>"
      ],
      "text/plain": [
       "   preg  plas  pres  skin  test  mass   pedi  age  class\n",
       "0     6   148    72    35     0  33.6  0.627   50      1\n",
       "1     1    85    66    29     0  26.6  0.351   31      0\n",
       "2     8   183    64     0     0  23.3  0.672   32      1\n",
       "3     1    89    66    23    94  28.1  0.167   21      0\n",
       "4     0   137    40    35   168  43.1  2.288   33      1"
      ]
     },
     "execution_count": 11,
     "metadata": {},
     "output_type": "execute_result"
    }
   ],
   "source": [
    "dataframe.head()"
   ]
  },
  {
   "cell_type": "code",
   "execution_count": 12,
   "metadata": {
    "collapsed": true
   },
   "outputs": [],
   "source": [
    "# Fit the model on 33%\n",
    "model = LogisticRegression()\n",
    "model.fit(X_train, Y_train)\n",
    "# save the model to disk\n",
    "filename = 'finalized_model.sav'\n",
    "pickle.dump(model, open(filename, 'wb'))"
   ]
  },
  {
   "cell_type": "code",
   "execution_count": 13,
   "metadata": {},
   "outputs": [
    {
     "name": "stdout",
     "output_type": "stream",
     "text": [
      "0.7559055118110236\n"
     ]
    }
   ],
   "source": [
    "# some time later...\n",
    "\n",
    "# load the model from disk\n",
    "loaded_model = pickle.load(open(filename, 'rb'))\n",
    "result = loaded_model.score(X_test, Y_test)\n",
    "print(result)"
   ]
  },
  {
   "cell_type": "code",
   "execution_count": null,
   "metadata": {
    "collapsed": true
   },
   "outputs": [],
   "source": []
  }
 ],
 "metadata": {
  "kernelspec": {
   "display_name": "Python [conda env:py35]",
   "language": "python",
   "name": "conda-env-py35-py"
  },
  "language_info": {
   "codemirror_mode": {
    "name": "ipython",
    "version": 3
   },
   "file_extension": ".py",
   "mimetype": "text/x-python",
   "name": "python",
   "nbconvert_exporter": "python",
   "pygments_lexer": "ipython3",
   "version": "3.5.3"
  }
 },
 "nbformat": 4,
 "nbformat_minor": 2
}
