{
 "cells": [
  {
   "cell_type": "code",
   "execution_count": 1,
   "metadata": {},
   "outputs": [
    {
     "name": "stdout",
     "output_type": "stream",
     "text": [
      "total 15740\r\n",
      "drwxrwxr-x 2 cesare cesare     4096  三   8 15:02 \u001b[0m\u001b[01;34mbin\u001b[0m/\r\n",
      "drwxrwxr-x 4 cesare cesare     4096  三  18 10:37 \u001b[01;34mbuild\u001b[0m/\r\n",
      "drwxrwxr-x 4 cesare cesare     4096  三  18 10:41 \u001b[01;34mcfg\u001b[0m/\r\n",
      "drwxrwxr-x 2 cesare cesare     4096  三  18 10:46 \u001b[01;34mckpt\u001b[0m/\r\n",
      "drwxrwxr-x 7 cesare cesare     4096  三  18 10:37 \u001b[01;34mdarkflow\u001b[0m/\r\n",
      "-rwxrwxr-x 1 cesare cesare    32493  三  18 10:28 \u001b[01;32mdarkflow_camera_linux.ipynb\u001b[0m*\r\n",
      "-rw-rw-r-- 1 cesare cesare 14900940  二  26 23:07 \u001b[01;35mdemo.gif\u001b[0m\r\n",
      "-rwxr-xr-x 1 cesare cesare       94  二  26 23:07 \u001b[01;32mflow\u001b[0m*\r\n",
      "-rw-rw-r-- 1 cesare cesare       21  三  18 10:42 labels3c.txt\r\n",
      "-rw-rw-r-- 1 cesare cesare       27  三  18 10:42 labels_o.txt\r\n",
      "-rw-rw-r-- 1 cesare cesare       21  三  18 10:42 labels.txt\r\n",
      "-rw-rw-r-- 1 cesare cesare    35141  二  26 23:07 LICENSE\r\n",
      "-rw-rw-r-- 1 cesare cesare   283380  二  26 23:07 \u001b[01;35mpreview.png\u001b[0m\r\n",
      "-rw-rw-r-- 1 cesare cesare    11539  二  26 23:07 README.md\r\n",
      "drwxrwxr-x 3 cesare cesare     4096  三  18 10:43 \u001b[01;34msample_img\u001b[0m/\r\n",
      "-rw-rw-r-- 1 cesare cesare     2575  二  26 23:07 setup.py\r\n",
      "drwxrwxr-x 3 cesare cesare     4096  二  26 23:07 \u001b[01;34mtest\u001b[0m/\r\n",
      "-rw-rw-r-- 1 cesare cesare   766585  三  17 15:54 TFTF.ipynb\r\n",
      "-rw-rw-r-- 1 cesare cesare    27412  三  18 10:48 Untitled.ipynb\r\n"
     ]
    }
   ],
   "source": [
    "ls -l"
   ]
  },
  {
   "cell_type": "code",
   "execution_count": 2,
   "metadata": {},
   "outputs": [
    {
     "name": "stdout",
     "output_type": "stream",
     "text": [
      "/home/cesare/anaconda3/envs/py35/lib/python3.5/site-packages/h5py/__init__.py:36: FutureWarning: Conversion of the second argument of issubdtype from `float` to `np.floating` is deprecated. In future, it will be treated as `np.float64 == np.dtype(float).type`.\n",
      "  from ._conv import register_converters as _register_converters\n",
      "\n",
      "Example usage: flow --imgdir sample_img/ --model cfg/yolo.cfg --load bin/yolo.weights\n",
      "\n",
      "Arguments:\n",
      "  --json           Outputs bounding box information in json format.\n",
      "  --verbalise      say out loud while building graph\n",
      "  --binary         path to .weights directory\n",
      "  --queue          process demo in batch\n",
      "  --gpuName        GPU device name\n",
      "  --model          configuration of choice\n",
      "  --save           save checkpoint every ? training examples\n",
      "  --help, --h, -h  show this super helpful message and exit\n",
      "  --epoch          number of epoch\n",
      "  --metaLoad       path to .meta file generated during --savepb that corresponds to .pb file\n",
      "  --labels         path to labels file\n",
      "  --gpu            how much gpu (from 0.0 to 1.0)\n",
      "  --keep           Number of most recent training results to save\n",
      "  --batch          batch size\n",
      "  --trainer        training algorithm\n",
      "  --summary        path to TensorBoard summaries directory\n",
      "  --config         path to .cfg directory\n",
      "  --saveVideo      Records video from input video or camera\n",
      "  --imgdir         path to testing directory with images\n",
      "  --threshold      detection threshold\n",
      "  --momentum       applicable for rmsprop and momentum optimizers\n",
      "  --pbLoad         path to .pb protobuf file (metaLoad must also be specified)\n",
      "  --savepb         save net and weight to a .pb file\n",
      "  --backup         path to backup folder\n",
      "  --load           how to initialize the net? Either from .weights or a checkpoint, or even from scratch\n",
      "  --lr             learning rate\n",
      "  --demo           demo on webcam\n",
      "  --train          train the whole net\n",
      "  --dataset        path to dataset directory\n",
      "  --annotation     path to annotation directory\n",
      "\n"
     ]
    }
   ],
   "source": [
    "!./flow --h"
   ]
  },
  {
   "cell_type": "code",
   "execution_count": 3,
   "metadata": {},
   "outputs": [
    {
     "name": "stdout",
     "output_type": "stream",
     "text": [
      "Python version: 3.5.4 |Anaconda custom (64-bit)| (default, Nov 20 2017, 18:44:38) \n",
      "[GCC 7.2.0]\n",
      "pandas version: 0.22.0\n",
      "matplotlib version: 2.1.2\n",
      "NumPy version: 1.14.0\n",
      "SciPy version: 1.0.0\n",
      "IPython version: 6.2.1\n",
      "scikit-learn version: 0.19.1\n"
     ]
    }
   ],
   "source": [
    "import sys\n",
    "print(\"Python version: {}\".format(sys.version))\n",
    "\n",
    "import pandas as pd\n",
    "print(\"pandas version: {}\".format(pd.__version__))\n",
    "\n",
    "import matplotlib\n",
    "print(\"matplotlib version: {}\".format(matplotlib.__version__))\n",
    "\n",
    "import numpy as np\n",
    "print(\"NumPy version: {}\".format(np.__version__))\n",
    "\n",
    "import scipy as sp\n",
    "print(\"SciPy version: {}\".format(sp.__version__))\n",
    "\n",
    "import IPython\n",
    "print(\"IPython version: {}\".format(IPython.__version__))\n",
    "\n",
    "import sklearn\n",
    "print(\"scikit-learn version: {}\".format(sklearn.__version__))"
   ]
  },
  {
   "cell_type": "code",
   "execution_count": 4,
   "metadata": {},
   "outputs": [
    {
     "data": {
      "text/plain": [
       "'3.2.0'"
      ]
     },
     "execution_count": 4,
     "metadata": {},
     "output_type": "execute_result"
    }
   ],
   "source": [
    "import cv2 \n",
    "\n",
    "cv2.__version__ \n"
   ]
  },
  {
   "cell_type": "code",
   "execution_count": 5,
   "metadata": {},
   "outputs": [
    {
     "name": "stdout",
     "output_type": "stream",
     "text": [
      "capture failed\n"
     ]
    }
   ],
   "source": [
    "import cv2\n",
    "import sys\n",
    "cap = cv2.VideoCapture(sys.argv[1])\n",
    "\n",
    "ret, frame = cap.read()\n",
    "if not ret:\n",
    "    print (\"capture failed\")"
   ]
  },
  {
   "cell_type": "code",
   "execution_count": 6,
   "metadata": {},
   "outputs": [
    {
     "name": "stdout",
     "output_type": "stream",
     "text": [
      "\n",
      "General configuration for OpenCV 3.2.0 =====================================\n",
      "  Version control:               unknown\n",
      "\n",
      "  Extra modules:\n",
      "    Location (extra):            /home/cesare/HPB/opencv_contrib-3.2.0/modules\n",
      "    Version control (extra):     unknown\n",
      "\n",
      "  Platform:\n",
      "    Timestamp:                   2018-03-18T02:16:46Z\n",
      "    Host:                        Linux 4.13.0-37-generic x86_64\n",
      "    CMake:                       3.5.1\n",
      "    CMake generator:             Unix Makefiles\n",
      "    CMake build tool:            /usr/bin/make\n",
      "    Configuration:               RELEASE\n",
      "\n",
      "  C/C++:\n",
      "    Built as dynamic libs?:      YES\n",
      "    C++ Compiler:                /usr/bin/c++  (ver 5.4.0)\n",
      "    C++ flags (Release):         -fsigned-char -W -Wall -Werror=return-type -Werror=non-virtual-dtor -Werror=address -Werror=sequence-point -Wformat -Werror=format-security -Wmissing-declarations -Wundef -Winit-self -Wpointer-arith -Wshadow -Wsign-promo -Wno-narrowing -Wno-delete-non-virtual-dtor -Wno-comment -fdiagnostics-show-option -Wno-long-long -pthread -fomit-frame-pointer -msse -msse2 -mno-avx -msse3 -mno-ssse3 -mno-sse4.1 -mno-sse4.2 -ffunction-sections -fvisibility=hidden -fvisibility-inlines-hidden -O3 -DNDEBUG  -DNDEBUG\n",
      "    C++ flags (Debug):           -fsigned-char -W -Wall -Werror=return-type -Werror=non-virtual-dtor -Werror=address -Werror=sequence-point -Wformat -Werror=format-security -Wmissing-declarations -Wundef -Winit-self -Wpointer-arith -Wshadow -Wsign-promo -Wno-narrowing -Wno-delete-non-virtual-dtor -Wno-comment -fdiagnostics-show-option -Wno-long-long -pthread -fomit-frame-pointer -msse -msse2 -mno-avx -msse3 -mno-ssse3 -mno-sse4.1 -mno-sse4.2 -ffunction-sections -fvisibility=hidden -fvisibility-inlines-hidden -g  -O0 -DDEBUG -D_DEBUG\n",
      "    C Compiler:                  /usr/bin/cc\n",
      "    C flags (Release):           -fsigned-char -W -Wall -Werror=return-type -Werror=non-virtual-dtor -Werror=address -Werror=sequence-point -Wformat -Werror=format-security -Wmissing-declarations -Wmissing-prototypes -Wstrict-prototypes -Wundef -Winit-self -Wpointer-arith -Wshadow -Wno-narrowing -Wno-comment -fdiagnostics-show-option -Wno-long-long -pthread -fomit-frame-pointer -msse -msse2 -mno-avx -msse3 -mno-ssse3 -mno-sse4.1 -mno-sse4.2 -ffunction-sections -fvisibility=hidden -O3 -DNDEBUG  -DNDEBUG\n",
      "    C flags (Debug):             -fsigned-char -W -Wall -Werror=return-type -Werror=non-virtual-dtor -Werror=address -Werror=sequence-point -Wformat -Werror=format-security -Wmissing-declarations -Wmissing-prototypes -Wstrict-prototypes -Wundef -Winit-self -Wpointer-arith -Wshadow -Wno-narrowing -Wno-comment -fdiagnostics-show-option -Wno-long-long -pthread -fomit-frame-pointer -msse -msse2 -mno-avx -msse3 -mno-ssse3 -mno-sse4.1 -mno-sse4.2 -ffunction-sections -fvisibility=hidden -g  -O0 -DDEBUG -D_DEBUG\n",
      "    Linker flags (Release):\n",
      "    Linker flags (Debug):\n",
      "    ccache:                      NO\n",
      "    Precompiled headers:         YES\n",
      "    Extra dependencies:          /home/cesare/anaconda3/envs/py35/lib/libpng.so /home/cesare/anaconda3/envs/py35/lib/libtiff.so /usr/lib/x86_64-linux-gnu/libjasper.so /home/cesare/anaconda3/envs/py35/lib/libjpeg.so /usr/lib/x86_64-linux-gnu/libImath.so /usr/lib/x86_64-linux-gnu/libIlmImf.so /usr/lib/x86_64-linux-gnu/libIex.so /usr/lib/x86_64-linux-gnu/libHalf.so /usr/lib/x86_64-linux-gnu/libIlmThread.so gtk-3 gdk-3 pangocairo-1.0 pango-1.0 atk-1.0 cairo-gobject cairo gdk_pixbuf-2.0 gio-2.0 gobject-2.0 glib-2.0 gthread-2.0 gstbase-1.0 gstreamer-1.0 gstvideo-1.0 gstapp-1.0 gstriff-1.0 gstpbutils-1.0 dc1394 avcodec-ffmpeg avformat-ffmpeg avutil-ffmpeg swscale-ffmpeg /home/cesare/anaconda3/envs/py35/lib/libhdf5.so /usr/lib/x86_64-linux-gnu/librt.so /usr/lib/x86_64-linux-gnu/libpthread.so /home/cesare/anaconda3/envs/py35/lib/libz.so /usr/lib/x86_64-linux-gnu/libdl.so /usr/lib/x86_64-linux-gnu/libm.so dl m pthread rt\n",
      "    3rdparty dependencies:       libwebp libprotobuf\n",
      "\n",
      "  OpenCV modules:\n",
      "    To be built:                 core flann hdf imgproc ml photo reg surface_matching video dnn freetype fuzzy imgcodecs shape videoio highgui objdetect plot superres ts xobjdetect xphoto bgsegm bioinspired dpm face features2d line_descriptor saliency text calib3d ccalib datasets rgbd stereo tracking videostab xfeatures2d ximgproc aruco optflow phase_unwrapping stitching structured_light python3\n",
      "    Disabled:                    world contrib_world\n",
      "    Disabled by dependency:      -\n",
      "    Unavailable:                 cudaarithm cudabgsegm cudacodec cudafeatures2d cudafilters cudaimgproc cudalegacy cudaobjdetect cudaoptflow cudastereo cudawarping cudev java python2 viz cnn_3dobj cvv matlab sfm\n",
      "\n",
      "  GUI: \n",
      "    QT:                          NO\n",
      "    GTK+ 3.x:                    YES (ver 3.18.9)\n",
      "    GThread :                    YES (ver 2.48.2)\n",
      "    GtkGlExt:                    NO\n",
      "    OpenGL support:              NO\n",
      "    VTK support:                 NO\n",
      "\n",
      "  Media I/O: \n",
      "    ZLib:                        /home/cesare/anaconda3/envs/py35/lib/libz.so (ver 1.2.11)\n",
      "    JPEG:                        /home/cesare/anaconda3/envs/py35/lib/libjpeg.so (ver 90)\n",
      "    WEBP:                        build (ver 0.3.1)\n",
      "    PNG:                         /home/cesare/anaconda3/envs/py35/lib/libpng.so (ver 1.6.34)\n",
      "    TIFF:                        /home/cesare/anaconda3/envs/py35/lib/libtiff.so (ver 42 - 4.0.9)\n",
      "    JPEG 2000:                   /usr/lib/x86_64-linux-gnu/libjasper.so (ver 1.900.1)\n",
      "    OpenEXR:                     /usr/lib/x86_64-linux-gnu/libImath.so /usr/lib/x86_64-linux-gnu/libIlmImf.so /usr/lib/x86_64-linux-gnu/libIex.so /usr/lib/x86_64-linux-gnu/libHalf.so /usr/lib/x86_64-linux-gnu/libIlmThread.so (ver 2.2.0)\n",
      "    GDAL:                        NO\n",
      "    GDCM:                        NO\n",
      "\n",
      "  Video I/O:\n",
      "    DC1394 1.x:                  NO\n",
      "    DC1394 2.x:                  YES (ver 2.2.4)\n",
      "    FFMPEG:                      YES\n",
      "      avcodec:                   YES (ver 56.60.100)\n",
      "      avformat:                  YES (ver 56.40.101)\n",
      "      avutil:                    YES (ver 54.31.100)\n",
      "      swscale:                   YES (ver 3.1.101)\n",
      "      avresample:                NO\n",
      "    GStreamer:                   \n",
      "      base:                      YES (ver 1.8.3)\n",
      "      video:                     YES (ver 1.8.3)\n",
      "      app:                       YES (ver 1.8.3)\n",
      "      riff:                      YES (ver 1.8.3)\n",
      "      pbutils:                   YES (ver 1.8.3)\n",
      "    OpenNI:                      NO\n",
      "    OpenNI PrimeSensor Modules:  NO\n",
      "    OpenNI2:                     NO\n",
      "    PvAPI:                       NO\n",
      "    GigEVisionSDK:               NO\n",
      "    Aravis SDK:                  NO\n",
      "    UniCap:                      NO\n",
      "    UniCap ucil:                 NO\n",
      "    V4L/V4L2:                    NO/YES\n",
      "    XIMEA:                       NO\n",
      "    Xine:                        NO\n",
      "    gPhoto2:                     NO\n",
      "\n",
      "  Parallel framework:            pthreads\n",
      "\n",
      "  Other third-party libraries:\n",
      "    Use IPP:                     9.0.1 [9.0.1]\n",
      "         at:                     /home/cesare/HPB/opencv-3.2.0/build/3rdparty/ippicv/ippicv_lnx\n",
      "    Use IPP Async:               NO\n",
      "    Use VA:                      NO\n",
      "    Use Intel VA-API/OpenCL:     NO\n",
      "    Use Lapack:                  NO\n",
      "    Use Eigen:                   NO\n",
      "    Use Cuda:                    NO\n",
      "    Use OpenCL:                  YES\n",
      "    Use OpenVX:                  NO\n",
      "    Use custom HAL:              NO\n",
      "\n",
      "  OpenCL:                        <Dynamic loading of OpenCL library>\n",
      "    Include path:                /home/cesare/HPB/opencv-3.2.0/3rdparty/include/opencl/1.2\n",
      "    Use AMDFFT:                  NO\n",
      "    Use AMDBLAS:                 NO\n",
      "\n",
      "  Python 2:\n",
      "    Interpreter:                 /usr/bin/python2.7 (ver 2.7.12)\n",
      "\n",
      "  Python 3:\n",
      "    Interpreter:                 /home/cesare/anaconda3/envs/py35/bin/python (ver 3.5.4)\n",
      "    Libraries:                   /home/cesare/anaconda3/envs/py35/lib/libpython3.5m.so (ver 3.5.4)\n",
      "    numpy:                       /home/cesare/anaconda3/envs/py35/lib/python3.5/site-packages/numpy/core/include (ver 1.14.0)\n",
      "    packages path:               /home/cesare/anaconda3/envs/py35/lib/python3.5\n",
      "\n",
      "  Python (for build):            /usr/bin/python2.7\n",
      "\n",
      "  Java:\n",
      "    ant:                         NO\n",
      "    JNI:                         NO\n",
      "    Java wrappers:               NO\n",
      "    Java tests:                  NO\n",
      "\n",
      "  Matlab:                        Matlab not found or implicitly disabled\n",
      "\n",
      "  Documentation:\n",
      "    Doxygen:                     NO\n",
      "\n",
      "  Tests and samples:\n",
      "    Tests:                       YES\n",
      "    Performance tests:           YES\n",
      "    C/C++ Examples:              NO\n",
      "\n",
      "  Install path:                  /home/cesare/HPB/opencv-3.2.0\n",
      "\n",
      "  cvconfig.h is in:              /home/cesare/HPB/opencv-3.2.0/build\n",
      "-----------------------------------------------------------------\n",
      "\n",
      "\n"
     ]
    }
   ],
   "source": [
    "import cv2\n",
    "print(cv2.getBuildInformation())"
   ]
  },
  {
   "cell_type": "code",
   "execution_count": 7,
   "metadata": {},
   "outputs": [
    {
     "ename": "KeyboardInterrupt",
     "evalue": "",
     "output_type": "error",
     "traceback": [
      "\u001b[0;31m---------------------------------------------------------------------------\u001b[0m",
      "\u001b[0;31mKeyboardInterrupt\u001b[0m                         Traceback (most recent call last)",
      "\u001b[0;32m<ipython-input-7-176b1c997043>\u001b[0m in \u001b[0;36m<module>\u001b[0;34m()\u001b[0m\n\u001b[1;32m      4\u001b[0m \u001b[0;32mwhile\u001b[0m\u001b[0;34m(\u001b[0m\u001b[0mcap\u001b[0m\u001b[0;34m.\u001b[0m\u001b[0misOpened\u001b[0m\u001b[0;34m(\u001b[0m\u001b[0;34m)\u001b[0m\u001b[0;34m)\u001b[0m\u001b[0;34m:\u001b[0m\u001b[0;34m\u001b[0m\u001b[0m\n\u001b[1;32m      5\u001b[0m     \u001b[0mret\u001b[0m\u001b[0;34m,\u001b[0m \u001b[0mframe\u001b[0m \u001b[0;34m=\u001b[0m \u001b[0mcap\u001b[0m\u001b[0;34m.\u001b[0m\u001b[0mread\u001b[0m\u001b[0;34m(\u001b[0m\u001b[0;34m)\u001b[0m\u001b[0;34m\u001b[0m\u001b[0m\n\u001b[0;32m----> 6\u001b[0;31m     \u001b[0mcv2\u001b[0m\u001b[0;34m.\u001b[0m\u001b[0mimshow\u001b[0m\u001b[0;34m(\u001b[0m\u001b[0;34m'frame'\u001b[0m\u001b[0;34m,\u001b[0m \u001b[0mframe\u001b[0m\u001b[0;34m)\u001b[0m\u001b[0;34m\u001b[0m\u001b[0m\n\u001b[0m\u001b[1;32m      7\u001b[0m     \u001b[0;32mif\u001b[0m \u001b[0mcv2\u001b[0m\u001b[0;34m.\u001b[0m\u001b[0mwaitKey\u001b[0m\u001b[0;34m(\u001b[0m\u001b[0;36m1\u001b[0m\u001b[0;34m)\u001b[0m \u001b[0;34m&\u001b[0m \u001b[0;36m0xFF\u001b[0m \u001b[0;34m==\u001b[0m \u001b[0mord\u001b[0m\u001b[0;34m(\u001b[0m\u001b[0;34m'q'\u001b[0m\u001b[0;34m)\u001b[0m\u001b[0;34m:\u001b[0m\u001b[0;34m\u001b[0m\u001b[0m\n\u001b[1;32m      8\u001b[0m         \u001b[0;32mbreak\u001b[0m\u001b[0;34m\u001b[0m\u001b[0m\n",
      "\u001b[0;31mKeyboardInterrupt\u001b[0m: "
     ]
    }
   ],
   "source": [
    "cap = cv2.VideoCapture('../VideosHPB/IMAG0003.mp4')\n",
    "#cap = cv2.VideoCapture(0) #use this to get frames from webcam\n",
    "\n",
    "while(cap.isOpened()):\n",
    "    ret, frame = cap.read()\n",
    "    cv2.imshow('frame', frame)\n",
    "    if cv2.waitKey(1) & 0xFF == ord('q'):\n",
    "        break\n",
    "\n",
    "cap.release()\n",
    "cv2.destroyAllWindows()"
   ]
  },
  {
   "cell_type": "code",
   "execution_count": 6,
   "metadata": {},
   "outputs": [
    {
     "name": "stdout",
     "output_type": "stream",
     "text": [
      "True\n"
     ]
    },
    {
     "data": {
      "text/plain": [
       "True"
      ]
     },
     "execution_count": 6,
     "metadata": {},
     "output_type": "execute_result"
    }
   ],
   "source": [
    "import cv2\n",
    "cv2.__version__ \n",
    "\n",
    "vid = cv2.VideoCapture('../VideosHPB/IMAG0003.mp4')\n",
    " \n",
    "ret, frame = vid.read()\n",
    "print(ret)                     #should output True inside the console\n",
    "cv2.imwrite('test.png', frame) #should save the frame as image"
   ]
  },
  {
   "cell_type": "code",
   "execution_count": 5,
   "metadata": {},
   "outputs": [
    {
     "name": "stdout",
     "output_type": "stream",
     "text": [
      "Error reading from camera\n"
     ]
    }
   ],
   "source": [
    "import numpy as np\n",
    "import cv2\n",
    "cap = cv2.VideoCapture(0)\n",
    "while True:\n",
    "    ret, frame = cap.read()\n",
    "    if (ret == False):\n",
    "        print(\"Error reading from camera\")\n",
    "        break\n",
    "    cv2.imshow('frame',frame)\n",
    "    key = cv2.waitKey(1) & 0xFF;\n",
    "    if (key == 27 or key == ord('q') or key == ord('x')):\n",
    "        break;\n",
    "\n",
    "cap.release()\n",
    "cv2.destroyAllWindows()"
   ]
  },
  {
   "cell_type": "markdown",
   "metadata": {},
   "source": [
    "# Training and Testing"
   ]
  },
  {
   "cell_type": "markdown",
   "metadata": {},
   "source": [
    "# Camera & Video"
   ]
  },
  {
   "cell_type": "code",
   "execution_count": 4,
   "metadata": {},
   "outputs": [
    {
     "name": "stdout",
     "output_type": "stream",
     "text": [
      "/home/cesare/anaconda3/envs/py35/lib/python3.5/site-packages/h5py/__init__.py:36: FutureWarning: Conversion of the second argument of issubdtype from `float` to `np.floating` is deprecated. In future, it will be treated as `np.float64 == np.dtype(float).type`.\n",
      "  from ._conv import register_converters as _register_converters\n",
      "\n",
      "Parsing ./cfg/yolo.cfg\n",
      "Parsing cfg/yolo.cfg\n",
      "Loading bin/yolo.weights ...\n",
      "Successfully identified 203934260 bytes\n",
      "Finished in 0.07239294052124023s\n",
      "Model has a coco model name, loading coco labels.\n",
      "\n",
      "Building net ...\n",
      "Source | Train? | Layer description                | Output size\n",
      "-------+--------+----------------------------------+---------------\n",
      "       |        | input                            | (?, 608, 608, 3)\n",
      " Load  |  Yep!  | conv 3x3p1_1  +bnorm  leaky      | (?, 608, 608, 32)\n",
      " Load  |  Yep!  | maxp 2x2p0_2                     | (?, 304, 304, 32)\n",
      " Load  |  Yep!  | conv 3x3p1_1  +bnorm  leaky      | (?, 304, 304, 64)\n",
      " Load  |  Yep!  | maxp 2x2p0_2                     | (?, 152, 152, 64)\n",
      " Load  |  Yep!  | conv 3x3p1_1  +bnorm  leaky      | (?, 152, 152, 128)\n",
      " Load  |  Yep!  | conv 1x1p0_1  +bnorm  leaky      | (?, 152, 152, 64)\n",
      " Load  |  Yep!  | conv 3x3p1_1  +bnorm  leaky      | (?, 152, 152, 128)\n",
      " Load  |  Yep!  | maxp 2x2p0_2                     | (?, 76, 76, 128)\n",
      " Load  |  Yep!  | conv 3x3p1_1  +bnorm  leaky      | (?, 76, 76, 256)\n",
      " Load  |  Yep!  | conv 1x1p0_1  +bnorm  leaky      | (?, 76, 76, 128)\n",
      " Load  |  Yep!  | conv 3x3p1_1  +bnorm  leaky      | (?, 76, 76, 256)\n",
      " Load  |  Yep!  | maxp 2x2p0_2                     | (?, 38, 38, 256)\n",
      " Load  |  Yep!  | conv 3x3p1_1  +bnorm  leaky      | (?, 38, 38, 512)\n",
      " Load  |  Yep!  | conv 1x1p0_1  +bnorm  leaky      | (?, 38, 38, 256)\n",
      " Load  |  Yep!  | conv 3x3p1_1  +bnorm  leaky      | (?, 38, 38, 512)\n",
      " Load  |  Yep!  | conv 1x1p0_1  +bnorm  leaky      | (?, 38, 38, 256)\n",
      " Load  |  Yep!  | conv 3x3p1_1  +bnorm  leaky      | (?, 38, 38, 512)\n",
      " Load  |  Yep!  | maxp 2x2p0_2                     | (?, 19, 19, 512)\n",
      " Load  |  Yep!  | conv 3x3p1_1  +bnorm  leaky      | (?, 19, 19, 1024)\n",
      " Load  |  Yep!  | conv 1x1p0_1  +bnorm  leaky      | (?, 19, 19, 512)\n",
      " Load  |  Yep!  | conv 3x3p1_1  +bnorm  leaky      | (?, 19, 19, 1024)\n",
      " Load  |  Yep!  | conv 1x1p0_1  +bnorm  leaky      | (?, 19, 19, 512)\n",
      " Load  |  Yep!  | conv 3x3p1_1  +bnorm  leaky      | (?, 19, 19, 1024)\n",
      " Load  |  Yep!  | conv 3x3p1_1  +bnorm  leaky      | (?, 19, 19, 1024)\n",
      " Load  |  Yep!  | conv 3x3p1_1  +bnorm  leaky      | (?, 19, 19, 1024)\n",
      " Load  |  Yep!  | concat [16]                      | (?, 38, 38, 512)\n",
      " Load  |  Yep!  | conv 1x1p0_1  +bnorm  leaky      | (?, 38, 38, 64)\n",
      " Load  |  Yep!  | local flatten 2x2                | (?, 19, 19, 256)\n",
      " Load  |  Yep!  | concat [27, 24]                  | (?, 19, 19, 1280)\n",
      " Load  |  Yep!  | conv 3x3p1_1  +bnorm  leaky      | (?, 19, 19, 1024)\n",
      " Load  |  Yep!  | conv 1x1p0_1    linear           | (?, 19, 19, 425)\n",
      "-------+--------+----------------------------------+---------------\n",
      "Running entirely on CPU\n",
      "2018-03-18 10:54:30.606375: I tensorflow/core/platform/cpu_feature_guard.cc:137] Your CPU supports instructions that this TensorFlow binary was not compiled to use: SSE4.1 SSE4.2 AVX AVX2\n",
      "Finished in 7.055814504623413s\n",
      "\n",
      "Press [ESC] to quit demo\n",
      "0.871 FPS^C\n",
      "Traceback (most recent call last):\n",
      "  File \"./flow\", line 6, in <module>\n",
      "    cliHandler(sys.argv)\n",
      "  File \"/home/cesare/HPB/darkflow-master35/darkflow/cli.py\", line 29, in cliHandler\n",
      "    tfnet.camera()\n",
      "  File \"/home/cesare/HPB/darkflow-master35/darkflow/net/help.py\", line 127, in camera\n",
      "    net_out = self.sess.run(self.out, feed_dict)\n",
      "  File \"/home/cesare/anaconda3/envs/py35/lib/python3.5/site-packages/tensorflow/python/client/session.py\", line 895, in run\n",
      "    run_metadata_ptr)\n",
      "  File \"/home/cesare/anaconda3/envs/py35/lib/python3.5/site-packages/tensorflow/python/client/session.py\", line 1128, in _run\n",
      "    feed_dict_tensor, options, run_metadata)\n",
      "  File \"/home/cesare/anaconda3/envs/py35/lib/python3.5/site-packages/tensorflow/python/client/session.py\", line 1344, in _do_run\n",
      "    options, run_metadata)\n",
      "  File \"/home/cesare/anaconda3/envs/py35/lib/python3.5/site-packages/tensorflow/python/client/session.py\", line 1350, in _do_call\n",
      "    return fn(*args)\n",
      "  File \"/home/cesare/anaconda3/envs/py35/lib/python3.5/site-packages/tensorflow/python/client/session.py\", line 1329, in _run_fn\n",
      "    status, run_metadata)\n",
      "KeyboardInterrupt\n"
     ]
    }
   ],
   "source": [
    "#!./flow --model cfg/yolo.cfg --load bin/yolo.weights --demo \"../VideosHPB/IMAG0003.mp4\" --saveVideo\n",
    "!./flow --model cfg/yolo.cfg --load bin/yolo.weights --demo \"../VideosHPB/IMAG0011.mp4\" --saveVideo\n",
    "\n",
    "#!./flow --model cfg/yolo.cfg --load bin/yolo.weights --demo \"../VideosHPB/IMAG0009.mp4\" --saveVideo"
   ]
  },
  {
   "cell_type": "code",
   "execution_count": 7,
   "metadata": {},
   "outputs": [
    {
     "name": "stdout",
     "output_type": "stream",
     "text": [
      "/home/cesare/anaconda3/envs/py35/lib/python3.5/site-packages/h5py/__init__.py:36: FutureWarning: Conversion of the second argument of issubdtype from `float` to `np.floating` is deprecated. In future, it will be treated as `np.float64 == np.dtype(float).type`.\n",
      "  from ._conv import register_converters as _register_converters\n",
      "\n",
      "Parsing ./cfg/yolo.cfg\n",
      "Parsing cfg/yolo.cfg\n",
      "Loading bin/yolo.weights ...\n",
      "Successfully identified 203934260 bytes\n",
      "Finished in 0.02770829200744629s\n",
      "Model has a coco model name, loading coco labels.\n",
      "\n",
      "Building net ...\n",
      "Source | Train? | Layer description                | Output size\n",
      "-------+--------+----------------------------------+---------------\n",
      "       |        | input                            | (?, 608, 608, 3)\n",
      " Load  |  Yep!  | conv 3x3p1_1  +bnorm  leaky      | (?, 608, 608, 32)\n",
      " Load  |  Yep!  | maxp 2x2p0_2                     | (?, 304, 304, 32)\n",
      " Load  |  Yep!  | conv 3x3p1_1  +bnorm  leaky      | (?, 304, 304, 64)\n",
      " Load  |  Yep!  | maxp 2x2p0_2                     | (?, 152, 152, 64)\n",
      " Load  |  Yep!  | conv 3x3p1_1  +bnorm  leaky      | (?, 152, 152, 128)\n",
      " Load  |  Yep!  | conv 1x1p0_1  +bnorm  leaky      | (?, 152, 152, 64)\n",
      " Load  |  Yep!  | conv 3x3p1_1  +bnorm  leaky      | (?, 152, 152, 128)\n",
      " Load  |  Yep!  | maxp 2x2p0_2                     | (?, 76, 76, 128)\n",
      " Load  |  Yep!  | conv 3x3p1_1  +bnorm  leaky      | (?, 76, 76, 256)\n",
      " Load  |  Yep!  | conv 1x1p0_1  +bnorm  leaky      | (?, 76, 76, 128)\n",
      " Load  |  Yep!  | conv 3x3p1_1  +bnorm  leaky      | (?, 76, 76, 256)\n",
      " Load  |  Yep!  | maxp 2x2p0_2                     | (?, 38, 38, 256)\n",
      " Load  |  Yep!  | conv 3x3p1_1  +bnorm  leaky      | (?, 38, 38, 512)\n",
      " Load  |  Yep!  | conv 1x1p0_1  +bnorm  leaky      | (?, 38, 38, 256)\n",
      " Load  |  Yep!  | conv 3x3p1_1  +bnorm  leaky      | (?, 38, 38, 512)\n",
      " Load  |  Yep!  | conv 1x1p0_1  +bnorm  leaky      | (?, 38, 38, 256)\n",
      " Load  |  Yep!  | conv 3x3p1_1  +bnorm  leaky      | (?, 38, 38, 512)\n",
      " Load  |  Yep!  | maxp 2x2p0_2                     | (?, 19, 19, 512)\n",
      " Load  |  Yep!  | conv 3x3p1_1  +bnorm  leaky      | (?, 19, 19, 1024)\n",
      " Load  |  Yep!  | conv 1x1p0_1  +bnorm  leaky      | (?, 19, 19, 512)\n",
      " Load  |  Yep!  | conv 3x3p1_1  +bnorm  leaky      | (?, 19, 19, 1024)\n",
      " Load  |  Yep!  | conv 1x1p0_1  +bnorm  leaky      | (?, 19, 19, 512)\n",
      " Load  |  Yep!  | conv 3x3p1_1  +bnorm  leaky      | (?, 19, 19, 1024)\n",
      " Load  |  Yep!  | conv 3x3p1_1  +bnorm  leaky      | (?, 19, 19, 1024)\n",
      " Load  |  Yep!  | conv 3x3p1_1  +bnorm  leaky      | (?, 19, 19, 1024)\n",
      " Load  |  Yep!  | concat [16]                      | (?, 38, 38, 512)\n",
      " Load  |  Yep!  | conv 1x1p0_1  +bnorm  leaky      | (?, 38, 38, 64)\n",
      " Load  |  Yep!  | local flatten 2x2                | (?, 19, 19, 256)\n",
      " Load  |  Yep!  | concat [27, 24]                  | (?, 19, 19, 1280)\n",
      " Load  |  Yep!  | conv 3x3p1_1  +bnorm  leaky      | (?, 19, 19, 1024)\n",
      " Load  |  Yep!  | conv 1x1p0_1    linear           | (?, 19, 19, 425)\n",
      "-------+--------+----------------------------------+---------------\n",
      "Running entirely on CPU\n",
      "2018-03-18 10:57:55.940042: I tensorflow/core/platform/cpu_feature_guard.cc:137] Your CPU supports instructions that this TensorFlow binary was not compiled to use: SSE4.1 SSE4.2 AVX AVX2\n",
      "Finished in 5.646766662597656s\n",
      "\n",
      "Press [ESC] to quit demo\n",
      "Traceback (most recent call last):\n",
      "  File \"./flow\", line 6, in <module>\n",
      "    cliHandler(sys.argv)\n",
      "  File \"/home/cesare/HPB/darkflow-master35/darkflow/cli.py\", line 29, in cliHandler\n",
      "    tfnet.camera()\n",
      "  File \"/home/cesare/HPB/darkflow-master35/darkflow/net/help.py\", line 84, in camera\n",
      "    'Cannot capture source'\n",
      "AssertionError: Cannot capture source\n"
     ]
    }
   ],
   "source": [
    "\n",
    "!./flow --model cfg/yolo.cfg --load bin/yolo.weights --demo camera"
   ]
  },
  {
   "cell_type": "code",
   "execution_count": null,
   "metadata": {},
   "outputs": [],
   "source": []
  }
 ],
 "metadata": {
  "kernelspec": {
   "display_name": "Python 3",
   "language": "python",
   "name": "python3"
  },
  "language_info": {
   "codemirror_mode": {
    "name": "ipython",
    "version": 3
   },
   "file_extension": ".py",
   "mimetype": "text/x-python",
   "name": "python",
   "nbconvert_exporter": "python",
   "pygments_lexer": "ipython3",
   "version": "3.5.4"
  }
 },
 "nbformat": 4,
 "nbformat_minor": 2
}
