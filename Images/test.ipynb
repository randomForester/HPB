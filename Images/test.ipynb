{
 "cells": [
  {
   "cell_type": "markdown",
   "metadata": {},
   "source": [
    "# Test"
   ]
  },
  {
   "cell_type": "code",
   "execution_count": 1,
   "metadata": {},
   "outputs": [
    {
     "name": "stdout",
     "output_type": "stream",
     "text": [
      "Python version: 3.5.4 |Anaconda custom (64-bit)| (default, Nov 20 2017, 18:44:38) \n",
      "[GCC 7.2.0]\n",
      "pandas version: 0.22.0\n",
      "matplotlib version: 2.1.2\n",
      "NumPy version: 1.14.0\n",
      "SciPy version: 1.0.0\n",
      "IPython version: 6.2.1\n",
      "scikit-learn version: 0.19.1\n"
     ]
    }
   ],
   "source": [
    "import sys\n",
    "print(\"Python version: {}\".format(sys.version))\n",
    "\n",
    "import pandas as pd\n",
    "print(\"pandas version: {}\".format(pd.__version__))\n",
    "\n",
    "import matplotlib\n",
    "print(\"matplotlib version: {}\".format(matplotlib.__version__))\n",
    "\n",
    "import numpy as np\n",
    "print(\"NumPy version: {}\".format(np.__version__))\n",
    "\n",
    "import scipy as sp\n",
    "print(\"SciPy version: {}\".format(sp.__version__))\n",
    "\n",
    "import IPython\n",
    "print(\"IPython version: {}\".format(IPython.__version__))\n",
    "\n",
    "import sklearn\n",
    "print(\"scikit-learn version: {}\".format(sklearn.__version__))"
   ]
  },
  {
   "cell_type": "code",
   "execution_count": 2,
   "metadata": {},
   "outputs": [
    {
     "name": "stderr",
     "output_type": "stream",
     "text": [
      "/home/cesare/anaconda3/envs/py35/lib/python3.5/site-packages/h5py/__init__.py:36: FutureWarning: Conversion of the second argument of issubdtype from `float` to `np.floating` is deprecated. In future, it will be treated as `np.float64 == np.dtype(float).type`.\n",
      "  from ._conv import register_converters as _register_converters\n"
     ]
    },
    {
     "name": "stdout",
     "output_type": "stream",
     "text": [
      "tensorflow: 1.5.0\n"
     ]
    }
   ],
   "source": [
    "import tensorflow\n",
    "print('tensorflow: %s' % tensorflow.__version__)\n"
   ]
  },
  {
   "cell_type": "code",
   "execution_count": 3,
   "metadata": {},
   "outputs": [
    {
     "name": "stdout",
     "output_type": "stream",
     "text": [
      "WARNING:tensorflow:float64 is not supported by many models, consider casting to float32.\n",
      "INFO:tensorflow:Using default config.\n",
      "INFO:tensorflow:Using config: {'_save_summary_steps': 100, '_keep_checkpoint_max': 5, '_save_checkpoints_steps': None, '_task_id': 0, '_tf_random_seed': None, '_task_type': None, '_environment': 'local', '_tf_config': gpu_options {\n",
      "  per_process_gpu_memory_fraction: 1.0\n",
      "}\n",
      ", '_log_step_count_steps': 100, '_model_dir': '/tmp/tf/linear/', '_save_checkpoints_secs': 600, '_master': '', '_is_chief': True, '_keep_checkpoint_every_n_hours': 10000, '_evaluation_master': '', '_num_worker_replicas': 0, '_cluster_spec': <tensorflow.python.training.server_lib.ClusterSpec object at 0x7f8766e16400>, '_session_config': None, '_num_ps_replicas': 0}\n",
      "WARNING:tensorflow:From <ipython-input-3-2d7140210c25>:20: calling BaseEstimator.fit (from tensorflow.contrib.learn.python.learn.estimators.estimator) with x is deprecated and will be removed after 2016-12-01.\n",
      "Instructions for updating:\n",
      "Estimator is decoupled from Scikit Learn interface by moving into\n",
      "separate class SKCompat. Arguments x, y and batch_size are only\n",
      "available in the SKCompat class, Estimator will only accept input_fn.\n",
      "Example conversion:\n",
      "  est = Estimator(...) -> est = SKCompat(Estimator(...))\n"
     ]
    },
    {
     "name": "stderr",
     "output_type": "stream",
     "text": [
      "/home/cesare/anaconda3/envs/py35/lib/python3.5/site-packages/sklearn/cross_validation.py:41: DeprecationWarning: This module was deprecated in version 0.18 in favor of the model_selection module into which all the refactored classes and functions are moved. Also note that the interface of the new CV iterators are different from that of this module. This module will be removed in 0.20.\n",
      "  \"This module will be removed in 0.20.\", DeprecationWarning)\n"
     ]
    },
    {
     "name": "stdout",
     "output_type": "stream",
     "text": [
      "WARNING:tensorflow:From <ipython-input-3-2d7140210c25>:20: calling BaseEstimator.fit (from tensorflow.contrib.learn.python.learn.estimators.estimator) with y is deprecated and will be removed after 2016-12-01.\n",
      "Instructions for updating:\n",
      "Estimator is decoupled from Scikit Learn interface by moving into\n",
      "separate class SKCompat. Arguments x, y and batch_size are only\n",
      "available in the SKCompat class, Estimator will only accept input_fn.\n",
      "Example conversion:\n",
      "  est = Estimator(...) -> est = SKCompat(Estimator(...))\n",
      "WARNING:tensorflow:From <ipython-input-3-2d7140210c25>:20: calling BaseEstimator.fit (from tensorflow.contrib.learn.python.learn.estimators.estimator) with batch_size is deprecated and will be removed after 2016-12-01.\n",
      "Instructions for updating:\n",
      "Estimator is decoupled from Scikit Learn interface by moving into\n",
      "separate class SKCompat. Arguments x, y and batch_size are only\n",
      "available in the SKCompat class, Estimator will only accept input_fn.\n",
      "Example conversion:\n",
      "  est = Estimator(...) -> est = SKCompat(Estimator(...))\n",
      "WARNING:tensorflow:float64 is not supported by many models, consider casting to float32.\n",
      "INFO:tensorflow:Create CheckpointSaverHook.\n",
      "INFO:tensorflow:Restoring parameters from /tmp/tf/linear/model.ckpt-200\n",
      "INFO:tensorflow:Saving checkpoints for 201 into /tmp/tf/linear/model.ckpt.\n",
      "INFO:tensorflow:loss = 0.33740604, step = 201\n",
      "INFO:tensorflow:global_step/sec: 1448.36\n",
      "INFO:tensorflow:loss = 0.21875843, step = 301 (0.070 sec)\n",
      "INFO:tensorflow:Saving checkpoints for 400 into /tmp/tf/linear/model.ckpt.\n",
      "INFO:tensorflow:Loss for final step: 0.18075311.\n",
      "WARNING:tensorflow:From /home/cesare/anaconda3/envs/py35/lib/python3.5/site-packages/tensorflow/python/util/deprecation.py:381: calling LinearClassifier.predict (from tensorflow.contrib.learn.python.learn.estimators.linear) with outputs=None is deprecated and will be removed after 2017-03-01.\n",
      "Instructions for updating:\n",
      "Please switch to predict_classes, or set `outputs` argument.\n",
      "WARNING:tensorflow:From /home/cesare/anaconda3/envs/py35/lib/python3.5/site-packages/tensorflow/contrib/learn/python/learn/estimators/linear.py:563: calling BaseEstimator.predict (from tensorflow.contrib.learn.python.learn.estimators.estimator) with x is deprecated and will be removed after 2016-12-01.\n",
      "Instructions for updating:\n",
      "Estimator is decoupled from Scikit Learn interface by moving into\n",
      "separate class SKCompat. Arguments x, y and batch_size are only\n",
      "available in the SKCompat class, Estimator will only accept input_fn.\n",
      "Example conversion:\n",
      "  est = Estimator(...) -> est = SKCompat(Estimator(...))\n",
      "WARNING:tensorflow:float64 is not supported by many models, consider casting to float32.\n",
      "INFO:tensorflow:Restoring parameters from /tmp/tf/linear/model.ckpt-400\n",
      "Accuracy: 1.000000\n",
      "WARNING:tensorflow:float64 is not supported by many models, consider casting to float32.\n",
      "INFO:tensorflow:Restoring parameters from /tmp/tf/linear/model.ckpt-400\n",
      "Accuracy: 1.000000\n",
      "INFO:tensorflow:Using default config.\n",
      "INFO:tensorflow:Using config: {'_save_summary_steps': 100, '_keep_checkpoint_max': 5, '_save_checkpoints_steps': None, '_task_id': 0, '_tf_random_seed': None, '_task_type': None, '_environment': 'local', '_tf_config': gpu_options {\n",
      "  per_process_gpu_memory_fraction: 1.0\n",
      "}\n",
      ", '_log_step_count_steps': 100, '_model_dir': '/tmp/tf/mlp/', '_save_checkpoints_secs': 600, '_master': '', '_is_chief': True, '_keep_checkpoint_every_n_hours': 10000, '_evaluation_master': '', '_num_worker_replicas': 0, '_cluster_spec': <tensorflow.python.training.server_lib.ClusterSpec object at 0x7f87641b20f0>, '_session_config': None, '_num_ps_replicas': 0}\n",
      "WARNING:tensorflow:float64 is not supported by many models, consider casting to float32.\n",
      "INFO:tensorflow:Create CheckpointSaverHook.\n",
      "INFO:tensorflow:Restoring parameters from /tmp/tf/mlp/model.ckpt-200\n",
      "INFO:tensorflow:Saving checkpoints for 201 into /tmp/tf/mlp/model.ckpt.\n",
      "INFO:tensorflow:loss = 0.07789777, step = 201\n",
      "INFO:tensorflow:global_step/sec: 775.339\n",
      "INFO:tensorflow:loss = 0.068282925, step = 301 (0.132 sec)\n",
      "INFO:tensorflow:Saving checkpoints for 400 into /tmp/tf/mlp/model.ckpt.\n",
      "INFO:tensorflow:Loss for final step: 0.06379635.\n",
      "WARNING:tensorflow:From /home/cesare/anaconda3/envs/py35/lib/python3.5/site-packages/tensorflow/python/util/deprecation.py:381: calling DNNClassifier.predict (from tensorflow.contrib.learn.python.learn.estimators.dnn) with outputs=None is deprecated and will be removed after 2017-03-01.\n",
      "Instructions for updating:\n",
      "Please switch to predict_classes, or set `outputs` argument.\n",
      "WARNING:tensorflow:float64 is not supported by many models, consider casting to float32.\n",
      "INFO:tensorflow:Restoring parameters from /tmp/tf/mlp/model.ckpt-400\n",
      "Accuracy: 1.000000\n"
     ]
    }
   ],
   "source": [
    "#Import library\n",
    "\n",
    "#import tensorflow.contrib.learn as skflow\n",
    "import tensorflow.contrib.learn as learn\n",
    "from sklearn import datasets, metrics\n",
    "from sklearn import cross_validation\n",
    "\n",
    "#Load dataset\n",
    "\n",
    "iris = datasets.load_iris()\n",
    "x_train, x_test, y_train, y_test = cross_validation.train_test_split(\n",
    "    iris.data, iris.target, test_size=0.2, random_state=42)\n",
    "\n",
    "# Feature columns is required for new versions\n",
    "feature_columns = learn.infer_real_valued_columns_from_input(x_train)\n",
    "\n",
    "#Linear classifier\n",
    "\n",
    "classifier = learn.LinearClassifier(feature_columns=feature_columns, n_classes=3,model_dir='/tmp/tf/linear/')\n",
    "classifier.fit(x_train, y_train, steps=200, batch_size=32)\n",
    "score = metrics.accuracy_score(y_test, list(classifier.predict(x_test, as_iterable=True)))\n",
    "#score = metrics.accuracy_score(y_test, list(classifier.predict(x_test)))\n",
    "print(\"Accuracy: %f\" % score)\n",
    "#\n",
    "iris_predictions = list(classifier.predict(x_test, as_iterable=True))\n",
    "score = metrics.accuracy_score(y_test, iris_predictions)\n",
    "print(\"Accuracy: %f\" % score)\n",
    "#\n",
    "\n",
    "#Multi layer perceptron\n",
    "\n",
    "classifier = learn.DNNClassifier(feature_columns=feature_columns, hidden_units=[10, 20, 10], \n",
    "                                  n_classes=3,model_dir='/tmp/tf/mlp/')\n",
    "classifier.fit(x_train, y_train, steps=200)\n",
    "\n",
    "score = metrics.accuracy_score(y_test, list(classifier.predict(x_test)))\n",
    "print(\"Accuracy: %f\" % score)\n",
    "\n",
    "#classifier = skflow.DNNClassifier(feature_columns=feature_columns, hidden_units=[10, 20, 10], n_classes=3,model_dir='/tmp/tf_examples/test/')\n"
   ]
  },
  {
   "cell_type": "code",
   "execution_count": 4,
   "metadata": {},
   "outputs": [
    {
     "name": "stdout",
     "output_type": "stream",
     "text": [
      "WARNING:tensorflow:float64 is not supported by many models, consider casting to float32.\n",
      "INFO:tensorflow:Using default config.\n",
      "WARNING:tensorflow:Using temporary folder as model directory: /tmp/tmp9jqrmw_i\n",
      "INFO:tensorflow:Using config: {'_save_summary_steps': 100, '_keep_checkpoint_max': 5, '_save_checkpoints_steps': None, '_task_id': 0, '_tf_random_seed': None, '_task_type': None, '_environment': 'local', '_tf_config': gpu_options {\n",
      "  per_process_gpu_memory_fraction: 1.0\n",
      "}\n",
      ", '_log_step_count_steps': 100, '_model_dir': '/tmp/tmp9jqrmw_i', '_save_checkpoints_secs': 600, '_master': '', '_is_chief': True, '_keep_checkpoint_every_n_hours': 10000, '_evaluation_master': '', '_num_worker_replicas': 0, '_cluster_spec': <tensorflow.python.training.server_lib.ClusterSpec object at 0x7f874e7a76a0>, '_session_config': None, '_num_ps_replicas': 0}\n",
      "WARNING:tensorflow:float64 is not supported by many models, consider casting to float32.\n",
      "INFO:tensorflow:Create CheckpointSaverHook.\n",
      "INFO:tensorflow:Saving checkpoints for 1 into /tmp/tmp9jqrmw_i/model.ckpt.\n",
      "INFO:tensorflow:loss = 1.2205188, step = 1\n",
      "INFO:tensorflow:global_step/sec: 1060.59\n",
      "INFO:tensorflow:loss = 0.23865783, step = 101 (0.096 sec)\n",
      "INFO:tensorflow:Saving checkpoints for 200 into /tmp/tmp9jqrmw_i/model.ckpt.\n",
      "INFO:tensorflow:Loss for final step: 0.069970384.\n",
      "WARNING:tensorflow:float64 is not supported by many models, consider casting to float32.\n",
      "INFO:tensorflow:Restoring parameters from /tmp/tmp9jqrmw_i/model.ckpt-200\n",
      "Accuracy: 0.953333\n"
     ]
    }
   ],
   "source": [
    "##########################################################\n",
    "#import tensorflow as tf\n",
    "#from tensorflow.contrib import skflow\n",
    "#import tensorflow.contrib.learn.python.learn as learn\n",
    "import tensorflow.contrib.learn as learn\n",
    "from sklearn import datasets, metrics\n",
    "\n",
    "iris = datasets.load_iris()\n",
    "feature_columns = learn.infer_real_valued_columns_from_input(iris.data)\n",
    "classifier = learn.DNNClassifier(hidden_units=[10, 20, 10], n_classes=3, feature_columns=feature_columns)\n",
    "classifier.fit(iris.data, iris.target, steps=200, batch_size=32)\n",
    "iris_predictions = list(classifier.predict(iris.data, as_iterable=True))\n",
    "score = metrics.accuracy_score(iris.target, iris_predictions)\n",
    "print(\"Accuracy: %f\" % score)\n",
    "##########################################################"
   ]
  },
  {
   "cell_type": "code",
   "execution_count": 5,
   "metadata": {},
   "outputs": [],
   "source": [
    "import matplotlib.pyplot as plt\n",
    "%matplotlib inline\n",
    "import random\n",
    "import numpy as np\n",
    "import pandas as pd\n",
    "from sklearn import datasets, svm, cross_validation, tree, preprocessing, metrics\n",
    "import sklearn.ensemble as ske\n",
    "\n",
    "import tensorflow as tf\n",
    "#from tensorflow.contrib import skflow\n",
    "#import tensorflow.contrib.learn.python.learn as learn\n",
    "import tensorflow.contrib.learn as learn\n",
    "import tensorflow.contrib.learn as skflow\n"
   ]
  },
  {
   "cell_type": "code",
   "execution_count": 6,
   "metadata": {},
   "outputs": [],
   "source": [
    "import os\n",
    "os.chdir(\"/home/cesare/Documents/01_CODE_INT/_Regression/\")\n"
   ]
  },
  {
   "cell_type": "code",
   "execution_count": 7,
   "metadata": {},
   "outputs": [
    {
     "data": {
      "image/png": "[encoded data removed]",
      "text/plain": [
       "<matplotlib.figure.Figure at 0x7f874e3f1e80>"
      ]
     },
     "metadata": {},
     "output_type": "display_data"
    }
   ],
   "source": [
    "titanic_df = pd.read_excel('titanic3.xls', 'titanic3', index_col=None, na_values=['NA'])\n",
    "\n",
    "titanic_df.head()\n",
    "\n",
    "titanic_df['survived'].mean()\n",
    "\n",
    "titanic_df.groupby('pclass').mean()\n",
    "#\n",
    "class_sex_grouping = titanic_df.groupby(['pclass','sex']).mean()\n",
    "class_sex_grouping\n",
    "\n",
    "class_sex_grouping['survived'].plot.bar()\n",
    "#\n",
    "group_by_age = pd.cut(titanic_df[\"age\"], np.arange(0, 90, 10))\n",
    "age_grouping = titanic_df.groupby(group_by_age).mean()\n",
    "age_grouping['survived'].plot.bar()\n",
    "#\n",
    "#Preparing The Data\n",
    "#\n",
    "titanic_df.count()\n",
    "titanic_df = titanic_df.drop(['body','cabin','boat'], axis=1)\n",
    "\n",
    "titanic_df[\"home.dest\"] = titanic_df[\"home.dest\"].fillna(\"NA\")\n",
    "\n",
    "titanic_df = titanic_df.dropna()\n",
    "\n",
    "titanic_df.count()\n",
    "#\n",
    "def preprocess_titanic_df(df):\n",
    "    processed_df = df.copy()\n",
    "    le = preprocessing.LabelEncoder()\n",
    "    processed_df.sex = le.fit_transform(processed_df.sex)\n",
    "    processed_df.embarked = le.fit_transform(processed_df.embarked)\n",
    "    processed_df = processed_df.drop(['name','ticket','home.dest'],axis=1)\n",
    "    return processed_df\n",
    "#\n"
   ]
  },
  {
   "cell_type": "code",
   "execution_count": 8,
   "metadata": {},
   "outputs": [
    {
     "name": "stdout",
     "output_type": "stream",
     "text": [
      "Accuracy: 0.7730 (+/- 0.02)\n",
      "Accuracy: 0.7811 (+/- 0.02)\n",
      "Accuracy: 0.8201 (+/- 0.02)\n"
     ]
    },
    {
     "name": "stderr",
     "output_type": "stream",
     "text": [
      "/home/cesare/anaconda3/envs/py35/lib/python3.5/site-packages/sklearn/preprocessing/label.py:151: DeprecationWarning: The truth value of an empty array is ambiguous. Returning False, but in future this will result in an error. Use `array.size > 0` to check that an array is not empty.\n",
      "  if diff:\n",
      "/home/cesare/anaconda3/envs/py35/lib/python3.5/site-packages/sklearn/preprocessing/label.py:151: DeprecationWarning: The truth value of an empty array is ambiguous. Returning False, but in future this will result in an error. Use `array.size > 0` to check that an array is not empty.\n",
      "  if diff:\n",
      "/home/cesare/anaconda3/envs/py35/lib/python3.5/site-packages/sklearn/preprocessing/label.py:151: DeprecationWarning: The truth value of an empty array is ambiguous. Returning False, but in future this will result in an error. Use `array.size > 0` to check that an array is not empty.\n",
      "  if diff:\n",
      "/home/cesare/anaconda3/envs/py35/lib/python3.5/site-packages/sklearn/preprocessing/label.py:151: DeprecationWarning: The truth value of an empty array is ambiguous. Returning False, but in future this will result in an error. Use `array.size > 0` to check that an array is not empty.\n",
      "  if diff:\n",
      "/home/cesare/anaconda3/envs/py35/lib/python3.5/site-packages/sklearn/preprocessing/label.py:151: DeprecationWarning: The truth value of an empty array is ambiguous. Returning False, but in future this will result in an error. Use `array.size > 0` to check that an array is not empty.\n",
      "  if diff:\n",
      "/home/cesare/anaconda3/envs/py35/lib/python3.5/site-packages/sklearn/preprocessing/label.py:151: DeprecationWarning: The truth value of an empty array is ambiguous. Returning False, but in future this will result in an error. Use `array.size > 0` to check that an array is not empty.\n",
      "  if diff:\n",
      "/home/cesare/anaconda3/envs/py35/lib/python3.5/site-packages/sklearn/preprocessing/label.py:151: DeprecationWarning: The truth value of an empty array is ambiguous. Returning False, but in future this will result in an error. Use `array.size > 0` to check that an array is not empty.\n",
      "  if diff:\n",
      "/home/cesare/anaconda3/envs/py35/lib/python3.5/site-packages/sklearn/preprocessing/label.py:151: DeprecationWarning: The truth value of an empty array is ambiguous. Returning False, but in future this will result in an error. Use `array.size > 0` to check that an array is not empty.\n",
      "  if diff:\n",
      "/home/cesare/anaconda3/envs/py35/lib/python3.5/site-packages/sklearn/preprocessing/label.py:151: DeprecationWarning: The truth value of an empty array is ambiguous. Returning False, but in future this will result in an error. Use `array.size > 0` to check that an array is not empty.\n",
      "  if diff:\n",
      "/home/cesare/anaconda3/envs/py35/lib/python3.5/site-packages/sklearn/preprocessing/label.py:151: DeprecationWarning: The truth value of an empty array is ambiguous. Returning False, but in future this will result in an error. Use `array.size > 0` to check that an array is not empty.\n",
      "  if diff:\n",
      "/home/cesare/anaconda3/envs/py35/lib/python3.5/site-packages/sklearn/preprocessing/label.py:151: DeprecationWarning: The truth value of an empty array is ambiguous. Returning False, but in future this will result in an error. Use `array.size > 0` to check that an array is not empty.\n",
      "  if diff:\n",
      "/home/cesare/anaconda3/envs/py35/lib/python3.5/site-packages/sklearn/preprocessing/label.py:151: DeprecationWarning: The truth value of an empty array is ambiguous. Returning False, but in future this will result in an error. Use `array.size > 0` to check that an array is not empty.\n",
      "  if diff:\n",
      "/home/cesare/anaconda3/envs/py35/lib/python3.5/site-packages/sklearn/preprocessing/label.py:151: DeprecationWarning: The truth value of an empty array is ambiguous. Returning False, but in future this will result in an error. Use `array.size > 0` to check that an array is not empty.\n",
      "  if diff:\n",
      "/home/cesare/anaconda3/envs/py35/lib/python3.5/site-packages/sklearn/preprocessing/label.py:151: DeprecationWarning: The truth value of an empty array is ambiguous. Returning False, but in future this will result in an error. Use `array.size > 0` to check that an array is not empty.\n",
      "  if diff:\n",
      "/home/cesare/anaconda3/envs/py35/lib/python3.5/site-packages/sklearn/preprocessing/label.py:151: DeprecationWarning: The truth value of an empty array is ambiguous. Returning False, but in future this will result in an error. Use `array.size > 0` to check that an array is not empty.\n",
      "  if diff:\n",
      "/home/cesare/anaconda3/envs/py35/lib/python3.5/site-packages/sklearn/preprocessing/label.py:151: DeprecationWarning: The truth value of an empty array is ambiguous. Returning False, but in future this will result in an error. Use `array.size > 0` to check that an array is not empty.\n",
      "  if diff:\n",
      "/home/cesare/anaconda3/envs/py35/lib/python3.5/site-packages/sklearn/preprocessing/label.py:151: DeprecationWarning: The truth value of an empty array is ambiguous. Returning False, but in future this will result in an error. Use `array.size > 0` to check that an array is not empty.\n",
      "  if diff:\n",
      "/home/cesare/anaconda3/envs/py35/lib/python3.5/site-packages/sklearn/preprocessing/label.py:151: DeprecationWarning: The truth value of an empty array is ambiguous. Returning False, but in future this will result in an error. Use `array.size > 0` to check that an array is not empty.\n",
      "  if diff:\n",
      "/home/cesare/anaconda3/envs/py35/lib/python3.5/site-packages/sklearn/preprocessing/label.py:151: DeprecationWarning: The truth value of an empty array is ambiguous. Returning False, but in future this will result in an error. Use `array.size > 0` to check that an array is not empty.\n",
      "  if diff:\n"
     ]
    },
    {
     "name": "stdout",
     "output_type": "stream",
     "text": [
      "Accuracy: 0.8055 (+/- 0.02)\n"
     ]
    },
    {
     "name": "stderr",
     "output_type": "stream",
     "text": [
      "/home/cesare/anaconda3/envs/py35/lib/python3.5/site-packages/sklearn/preprocessing/label.py:151: DeprecationWarning: The truth value of an empty array is ambiguous. Returning False, but in future this will result in an error. Use `array.size > 0` to check that an array is not empty.\n",
      "  if diff:\n"
     ]
    }
   ],
   "source": [
    "processed_df = preprocess_titanic_df(titanic_df)\n",
    "#\n",
    "X = processed_df.drop(['survived'], axis=1).values\n",
    "y = processed_df['survived'].values\n",
    "\n",
    "X_train, X_test, y_train, y_test = cross_validation.train_test_split(X,y,test_size=0.2)\n",
    "#\n",
    "# Decision Tree\n",
    "#\n",
    "clf_dt = tree.DecisionTreeClassifier(max_depth=10)\n",
    "\n",
    "clf_dt.fit (X_train, y_train)\n",
    "clf_dt.score (X_test, y_test)\n",
    "#\n",
    "shuffle_validator = cross_validation.ShuffleSplit(len(X), n_iter=20, test_size=0.2, random_state=0)\n",
    "def test_classifier(clf):\n",
    "    scores = cross_validation.cross_val_score(clf, X, y, cv=shuffle_validator)\n",
    "    print(\"Accuracy: %0.4f (+/- %0.2f)\" % (scores.mean(), scores.std()))\n",
    "#\n",
    "test_classifier(clf_dt)\n",
    "#\n",
    "# Random Forest\n",
    "#\n",
    "clf_rf = ske.RandomForestClassifier(n_estimators=50)\n",
    "test_classifier(clf_rf)\n",
    "#\n",
    "# Gradient Boosting\n",
    "#\n",
    "clf_gb = ske.GradientBoostingClassifier(n_estimators=50)\n",
    "test_classifier(clf_gb)\n",
    "# Voting\n",
    "eclf = ske.VotingClassifier([('dt', clf_dt), ('rf', clf_rf), ('gb', clf_gb)])\n",
    "test_classifier(eclf)\n"
   ]
  },
  {
   "cell_type": "code",
   "execution_count": 9,
   "metadata": {},
   "outputs": [
    {
     "name": "stdout",
     "output_type": "stream",
     "text": [
      "WARNING:tensorflow:float64 is not supported by many models, consider casting to float32.\n",
      "WARNING:tensorflow:float64 is not supported by many models, consider casting to float32.\n",
      "INFO:tensorflow:Using default config.\n",
      "WARNING:tensorflow:Using temporary folder as model directory: /tmp/tmpeq47cq43\n",
      "INFO:tensorflow:Using config: {'_save_summary_steps': 100, '_keep_checkpoint_max': 5, '_save_checkpoints_steps': None, '_task_id': 0, '_tf_random_seed': None, '_task_type': None, '_environment': 'local', '_tf_config': gpu_options {\n",
      "  per_process_gpu_memory_fraction: 1.0\n",
      "}\n",
      ", '_log_step_count_steps': 100, '_model_dir': '/tmp/tmpeq47cq43', '_save_checkpoints_secs': 600, '_master': '', '_is_chief': True, '_keep_checkpoint_every_n_hours': 10000, '_evaluation_master': '', '_num_worker_replicas': 0, '_cluster_spec': <tensorflow.python.training.server_lib.ClusterSpec object at 0x7f874e13dda0>, '_session_config': None, '_num_ps_replicas': 0}\n",
      "WARNING:tensorflow:float64 is not supported by many models, consider casting to float32.\n"
     ]
    },
    {
     "name": "stderr",
     "output_type": "stream",
     "text": [
      "/home/cesare/anaconda3/envs/py35/lib/python3.5/site-packages/sklearn/preprocessing/label.py:151: DeprecationWarning: The truth value of an empty array is ambiguous. Returning False, but in future this will result in an error. Use `array.size > 0` to check that an array is not empty.\n",
      "  if diff:\n"
     ]
    },
    {
     "name": "stdout",
     "output_type": "stream",
     "text": [
      "WARNING:tensorflow:Casting <dtype: 'int64'> labels to bool.\n",
      "WARNING:tensorflow:Casting <dtype: 'int64'> labels to bool.\n",
      "INFO:tensorflow:Create CheckpointSaverHook.\n",
      "INFO:tensorflow:Saving checkpoints for 1 into /tmp/tmpeq47cq43/model.ckpt.\n",
      "INFO:tensorflow:loss = 0.7381485, step = 1\n",
      "INFO:tensorflow:global_step/sec: 507.524\n",
      "INFO:tensorflow:loss = 0.5756264, step = 101 (0.196 sec)\n",
      "INFO:tensorflow:global_step/sec: 609.629\n",
      "INFO:tensorflow:loss = 0.6112933, step = 201 (0.164 sec)\n",
      "INFO:tensorflow:global_step/sec: 717.515\n",
      "INFO:tensorflow:loss = 0.5627967, step = 301 (0.140 sec)\n",
      "INFO:tensorflow:global_step/sec: 738.754\n",
      "INFO:tensorflow:loss = 0.5506449, step = 401 (0.136 sec)\n",
      "INFO:tensorflow:global_step/sec: 682.152\n",
      "INFO:tensorflow:loss = 0.59874904, step = 501 (0.145 sec)\n",
      "INFO:tensorflow:global_step/sec: 684.84\n",
      "INFO:tensorflow:loss = 0.47478202, step = 601 (0.148 sec)\n",
      "INFO:tensorflow:global_step/sec: 647.214\n",
      "INFO:tensorflow:loss = 0.44027254, step = 701 (0.153 sec)\n",
      "INFO:tensorflow:global_step/sec: 624.961\n",
      "INFO:tensorflow:loss = 0.44189247, step = 801 (0.160 sec)\n",
      "INFO:tensorflow:global_step/sec: 760.44\n",
      "INFO:tensorflow:loss = 0.44722494, step = 901 (0.131 sec)\n",
      "INFO:tensorflow:Saving checkpoints for 1000 into /tmp/tmpeq47cq43/model.ckpt.\n",
      "INFO:tensorflow:Loss for final step: 0.47946182.\n",
      "WARNING:tensorflow:float64 is not supported by many models, consider casting to float32.\n",
      "INFO:tensorflow:Restoring parameters from /tmp/tmpeq47cq43/model.ckpt-1000\n",
      "Accuracy: 0.818182\n"
     ]
    }
   ],
   "source": [
    "##################################################\n",
    "#\n",
    "clf_rf.fit(X_train, y_train)\n",
    "test_preds_rf = clf_rf.predict(X=X_test)\n",
    "\n",
    "clf_gb.fit(X_train, y_train)\n",
    "test_preds_gb = clf_gb.predict(X=X_test)\n",
    "\n",
    "eclf.fit(X_train, y_train)\n",
    "test_preds_vt = eclf.predict(X=X_test)\n",
    "\n",
    "#\n",
    "##################################################\n",
    "# dnn\n",
    "##################################################\n",
    "feature_columns = learn.infer_real_valued_columns_from_input(X_train)\n",
    "feature_columns = learn.infer_real_valued_columns_from_input(X_test)\n",
    "\n",
    "tf_clf_dnn = skflow.DNNClassifier(hidden_units=[20, 40, 20], n_classes=2, feature_columns=feature_columns)\n",
    "\n",
    "tf_clf_dnn.fit(X_train, y_train, batch_size=256, steps=1000)\n",
    "\n",
    "predictions_ = list(tf_clf_dnn.predict(X_test, as_iterable=True))\n",
    "score = metrics.accuracy_score(y_test, predictions_)\n",
    "print(\"Accuracy: %f\" % score)\n",
    "\n",
    "\n",
    "#\n"
   ]
  },
  {
   "cell_type": "code",
   "execution_count": 10,
   "metadata": {},
   "outputs": [],
   "source": [
    "# Create a submission # DNN see below\n",
    "submission = pd.DataFrame({\"Actual\" : y_test,\n",
    "                           \"Pred_rf\": test_preds_rf,\n",
    "                           \"Pred_gb\": test_preds_gb,\n",
    "                           \"Pred_vt\": test_preds_vt,\n",
    "                           \"Pred_dnn\":predictions_})\n"
   ]
  },
  {
   "cell_type": "code",
   "execution_count": 11,
   "metadata": {},
   "outputs": [
    {
     "name": "stderr",
     "output_type": "stream",
     "text": [
      "Using TensorFlow backend.\n"
     ]
    }
   ],
   "source": [
    "# 3. Import libraries and modules\n",
    "import numpy as np\n",
    "np.random.seed(123)  # for reproducibility\n",
    " \n",
    "from keras.models import Sequential\n",
    "from keras.layers import Dense, Dropout, Activation, Flatten\n",
    "from keras.layers import Convolution2D, MaxPooling2D\n",
    "from keras.utils import np_utils\n",
    "from keras.datasets import mnist\n",
    " "
   ]
  },
  {
   "cell_type": "code",
   "execution_count": 12,
   "metadata": {},
   "outputs": [],
   "source": [
    "#Loading The CIFAR-10 Dataset in Keras\n",
    "\n",
    "# Plot ad hoc CIFAR10 instances\n",
    "from keras.datasets import cifar10\n",
    "from matplotlib import pyplot\n",
    "from scipy.misc import toimage\n",
    "# load data\n",
    "(X_train, y_train), (X_test, y_test) = cifar10.load_data()\n"
   ]
  },
  {
   "cell_type": "code",
   "execution_count": 13,
   "metadata": {},
   "outputs": [],
   "source": [
    "\n",
    "# Simple CNN model for CIFAR-10\n",
    "import numpy\n",
    "from keras.datasets import cifar10\n",
    "from keras.models import Sequential\n",
    "from keras.layers import Dense\n",
    "from keras.layers import Dropout\n",
    "from keras.layers import Flatten\n",
    "from keras.constraints import maxnorm\n",
    "from keras.optimizers import SGD\n",
    "from keras.layers.convolutional import Conv2D\n",
    "from keras.layers.convolutional import MaxPooling2D\n",
    "from keras.utils import np_utils\n",
    "from keras import backend as K\n",
    "K.set_image_dim_ordering('th')\n"
   ]
  },
  {
   "cell_type": "code",
   "execution_count": 14,
   "metadata": {},
   "outputs": [
    {
     "name": "stdout",
     "output_type": "stream",
     "text": [
      "Extracting MNIST_data/train-images-idx3-ubyte.gz\n",
      "Extracting MNIST_data/train-labels-idx1-ubyte.gz\n",
      "Extracting MNIST_data/t10k-images-idx3-ubyte.gz\n",
      "Extracting MNIST_data/t10k-labels-idx1-ubyte.gz\n",
      "WARNING:tensorflow:From <ipython-input-14-2048e8b239a8>:22: softmax_cross_entropy_with_logits (from tensorflow.python.ops.nn_ops) is deprecated and will be removed in a future version.\n",
      "Instructions for updating:\n",
      "\n",
      "Future major versions of TensorFlow will allow gradients to flow\n",
      "into the labels input on backprop by default.\n",
      "\n",
      "See tf.nn.softmax_cross_entropy_with_logits_v2.\n",
      "\n",
      "0.9078\n"
     ]
    }
   ],
   "source": [
    "#\n",
    "# MNIST For ML Beginners\n",
    "#\n",
    "from tensorflow.examples.tutorials.mnist import input_data\n",
    "mnist = input_data.read_data_sets(\"MNIST_data/\", one_hot=True)\n",
    "\n",
    "import tensorflow as tf\n",
    "\n",
    "# Create the model\n",
    "\n",
    "x = tf.placeholder(tf.float32, [None, 784])\n",
    "W = tf.Variable(tf.zeros([784, 10]))\n",
    "b = tf.Variable(tf.zeros([10]))\n",
    "y = tf.nn.softmax(tf.matmul(x, W) + b)\n",
    "\n",
    "# Define loss and optimizer\n",
    "\n",
    "y_ = tf.placeholder(tf.float32, [None, 10])\n",
    "\n",
    "cross_entropy = tf.reduce_mean(-tf.reduce_sum(y_ * tf.log(y), reduction_indices=[1]))\n",
    "\n",
    "cross_entropy = tf.reduce_mean(tf.nn.softmax_cross_entropy_with_logits(labels=y_, logits=y))\n",
    "\n",
    "train_step = tf.train.GradientDescentOptimizer(0.5).minimize(cross_entropy)\n",
    "\n",
    "sess = tf.InteractiveSession()\n",
    "\n",
    "tf.global_variables_initializer().run()\n",
    "\n",
    "# Train\n",
    "\n",
    "for _ in range(1000):\n",
    "  batch_xs, batch_ys = mnist.train.next_batch(100)\n",
    "  sess.run(train_step, feed_dict={x: batch_xs, y_: batch_ys})\n",
    "  \n",
    "# Test trained model\n",
    "\n",
    "correct_prediction = tf.equal(tf.argmax(y,1), tf.argmax(y_,1))\n",
    "\n",
    "accuracy = tf.reduce_mean(tf.cast(correct_prediction, tf.float32))\n",
    "  \n",
    "print(sess.run(accuracy, feed_dict={x: mnist.test.images, y_: mnist.test.labels}))\n",
    "\n"
   ]
  },
  {
   "cell_type": "code",
   "execution_count": 15,
   "metadata": {},
   "outputs": [
    {
     "name": "stdout",
     "output_type": "stream",
     "text": [
      "Extracting MNIST_data/train-images-idx3-ubyte.gz\n",
      "Extracting MNIST_data/train-labels-idx1-ubyte.gz\n",
      "Extracting MNIST_data/t10k-images-idx3-ubyte.gz\n",
      "Extracting MNIST_data/t10k-labels-idx1-ubyte.gz\n",
      "0.9204\n"
     ]
    }
   ],
   "source": [
    "##\n",
    "#MNIST For ML Experts\n",
    "##\n",
    "from tensorflow.examples.tutorials.mnist import input_data\n",
    "mnist = input_data.read_data_sets('MNIST_data', one_hot=True)\n",
    "import tensorflow as tf\n",
    "sess = tf.InteractiveSession()\n",
    "\n",
    "x = tf.placeholder(tf.float32, shape=[None, 784])\n",
    "y_ = tf.placeholder(tf.float32, shape=[None, 10])\n",
    "W = tf.Variable(tf.zeros([784,10]))\n",
    "b = tf.Variable(tf.zeros([10]))\n",
    "\n",
    "sess.run(tf.global_variables_initializer())\n",
    "y = tf.matmul(x,W) + b\n",
    "cross_entropy = tf.reduce_mean(\n",
    "    tf.nn.softmax_cross_entropy_with_logits(labels=y_, logits=y))\n",
    "\n",
    "train_step = tf.train.GradientDescentOptimizer(0.5).minimize(cross_entropy)\n",
    "\n",
    "for _ in range(1000):\n",
    "  batch = mnist.train.next_batch(100)\n",
    "  train_step.run(feed_dict={x: batch[0], y_: batch[1]})\n",
    "\n",
    "correct_prediction = tf.equal(tf.argmax(y,1), tf.argmax(y_,1))\n",
    "accuracy = tf.reduce_mean(tf.cast(correct_prediction, tf.float32))\n",
    "print(accuracy.eval(feed_dict={x: mnist.test.images, y_: mnist.test.labels}))\n",
    "\n",
    "def weight_variable(shape):\n",
    "  initial = tf.truncated_normal(shape, stddev=0.1)\n",
    "  return tf.Variable(initial)\n",
    "\n",
    "def bias_variable(shape):\n",
    "  initial = tf.constant(0.1, shape=shape)\n",
    "  return tf.Variable(initial)\n",
    "\n",
    "\n",
    "def conv2d(x, W):\n",
    "  return tf.nn.conv2d(x, W, strides=[1, 1, 1, 1], padding='SAME')\n",
    "\n",
    "def max_pool_2x2(x):\n",
    "  return tf.nn.max_pool(x, ksize=[1, 2, 2, 1],\n",
    "                        strides=[1, 2, 2, 1], padding='SAME')\n",
    "  "
   ]
  },
  {
   "cell_type": "code",
   "execution_count": 16,
   "metadata": {},
   "outputs": [],
   "source": [
    "W_conv1 = weight_variable([5, 5, 1, 32])\n",
    "b_conv1 = bias_variable([32])\n",
    "x_image = tf.reshape(x, [-1,28,28,1])\n",
    "\n",
    "h_conv1 = tf.nn.relu(conv2d(x_image, W_conv1) + b_conv1)\n",
    "h_pool1 = max_pool_2x2(h_conv1)\n",
    "  \n",
    "W_conv2 = weight_variable([5, 5, 32, 64])\n",
    "b_conv2 = bias_variable([64])\n",
    "\n",
    "h_conv2 = tf.nn.relu(conv2d(h_pool1, W_conv2) + b_conv2)\n",
    "h_pool2 = max_pool_2x2(h_conv2)\n",
    "\n",
    "W_fc1 = weight_variable([7 * 7 * 64, 1024])\n",
    "b_fc1 = bias_variable([1024])\n",
    "\n",
    "h_pool2_flat = tf.reshape(h_pool2, [-1, 7*7*64])\n",
    "h_fc1 = tf.nn.relu(tf.matmul(h_pool2_flat, W_fc1) + b_fc1)\n",
    "\n",
    "\n",
    "keep_prob = tf.placeholder(tf.float32)\n",
    "h_fc1_drop = tf.nn.dropout(h_fc1, keep_prob)\n",
    "\n",
    "W_fc2 = weight_variable([1024, 10])\n",
    "b_fc2 = bias_variable([10])\n",
    "\n",
    "y_conv = tf.matmul(h_fc1_drop, W_fc2) + b_fc2\n"
   ]
  },
  {
   "cell_type": "code",
   "execution_count": 17,
   "metadata": {},
   "outputs": [
    {
     "data": {
      "text/plain": [
       "'\\ncross_entropy = tf.reduce_mean(\\n    tf.nn.softmax_cross_entropy_with_logits(labels=y_, logits=y_conv))\\ntrain_step = tf.train.AdamOptimizer(1e-4).minimize(cross_entropy)\\ncorrect_prediction = tf.equal(tf.argmax(y_conv,1), tf.argmax(y_,1))\\naccuracy = tf.reduce_mean(tf.cast(correct_prediction, tf.float32))\\nsess.run(tf.global_variables_initializer())\\nfor i in range(400):\\n  batch = mnist.train.next_batch(50)\\n  if i%100 == 0:\\n    train_accuracy = accuracy.eval(feed_dict={\\n        x:batch[0], y_: batch[1], keep_prob: 1.0})\\n    print(\"step %d, training accuracy %g\"%(i, train_accuracy))\\n  train_step.run(feed_dict={x: batch[0], y_: batch[1], keep_prob: 0.5})\\n\\nprint(\"test accuracy %g\"%accuracy.eval(feed_dict={\\n    x: mnist.test.images, y_: mnist.test.labels, keep_prob: 1.0}))\\n'"
      ]
     },
     "execution_count": 17,
     "metadata": {},
     "output_type": "execute_result"
    }
   ],
   "source": [
    "'''\n",
    "cross_entropy = tf.reduce_mean(\n",
    "    tf.nn.softmax_cross_entropy_with_logits(labels=y_, logits=y_conv))\n",
    "train_step = tf.train.AdamOptimizer(1e-4).minimize(cross_entropy)\n",
    "correct_prediction = tf.equal(tf.argmax(y_conv,1), tf.argmax(y_,1))\n",
    "accuracy = tf.reduce_mean(tf.cast(correct_prediction, tf.float32))\n",
    "sess.run(tf.global_variables_initializer())\n",
    "for i in range(400):\n",
    "  batch = mnist.train.next_batch(50)\n",
    "  if i%100 == 0:\n",
    "    train_accuracy = accuracy.eval(feed_dict={\n",
    "        x:batch[0], y_: batch[1], keep_prob: 1.0})\n",
    "    print(\"step %d, training accuracy %g\"%(i, train_accuracy))\n",
    "  train_step.run(feed_dict={x: batch[0], y_: batch[1], keep_prob: 0.5})\n",
    "\n",
    "print(\"test accuracy %g\"%accuracy.eval(feed_dict={\n",
    "    x: mnist.test.images, y_: mnist.test.labels, keep_prob: 1.0}))\n",
    "'''"
   ]
  },
  {
   "cell_type": "code",
   "execution_count": 18,
   "metadata": {},
   "outputs": [],
   "source": [
    "import pandas as pd\n",
    "import numpy as np\n",
    "import matplotlib as plt\n",
    "import matplotlib.pyplot as plt\n",
    "import seaborn as sns\n",
    "from pandas.tools.plotting import scatter_matrix\n",
    "from pandas import DataFrame\n",
    "\n",
    "import matplotlib.gridspec as gridspec\n",
    "import itertools\n",
    "from mlxtend.plotting import plot_decision_regions\n",
    "\n",
    "import mglearn\n"
   ]
  },
  {
   "cell_type": "code",
   "execution_count": 19,
   "metadata": {},
   "outputs": [],
   "source": [
    "############################# Working directory\n",
    "import os;\n",
    "os.chdir(\"/home/cesare/Documents/1-A167081513256-CSV/\")"
   ]
  },
  {
   "cell_type": "code",
   "execution_count": 20,
   "metadata": {},
   "outputs": [
    {
     "name": "stdout",
     "output_type": "stream",
     "text": [
      "/home/cesare/Documents/1-A167081513256-CSV\n",
      "Python3: Chinese characters in csv file need to be removed!!! \n",
      "\n"
     ]
    },
    {
     "data": {
      "text/html": [
       "<div>\n",
       "<style scoped>\n",
       "    .dataframe tbody tr th:only-of-type {\n",
       "        vertical-align: middle;\n",
       "    }\n",
       "\n",
       "    .dataframe tbody tr th {\n",
       "        vertical-align: top;\n",
       "    }\n",
       "\n",
       "    .dataframe thead th {\n",
       "        text-align: right;\n",
       "    }\n",
       "</style>\n",
       "<table border=\"1\" class=\"dataframe\">\n",
       "  <thead>\n",
       "    <tr style=\"text-align: right;\">\n",
       "      <th></th>\n",
       "      <th>0</th>\n",
       "      <th>1</th>\n",
       "      <th>2</th>\n",
       "      <th>3</th>\n",
       "      <th>4</th>\n",
       "      <th>5</th>\n",
       "      <th>6</th>\n",
       "      <th>7</th>\n",
       "      <th>8</th>\n",
       "      <th>9</th>\n",
       "      <th>...</th>\n",
       "      <th>710</th>\n",
       "      <th>711</th>\n",
       "      <th>712</th>\n",
       "      <th>713</th>\n",
       "      <th>714</th>\n",
       "      <th>715</th>\n",
       "      <th>716</th>\n",
       "      <th>717</th>\n",
       "      <th>718</th>\n",
       "      <th>719</th>\n",
       "    </tr>\n",
       "  </thead>\n",
       "  <tbody>\n",
       "    <tr>\n",
       "      <th>count</th>\n",
       "      <td>1280.000000</td>\n",
       "      <td>1280.000000</td>\n",
       "      <td>1280.000000</td>\n",
       "      <td>1280.000000</td>\n",
       "      <td>1280.000000</td>\n",
       "      <td>1280.000000</td>\n",
       "      <td>1280.000000</td>\n",
       "      <td>1280.000000</td>\n",
       "      <td>1280.000000</td>\n",
       "      <td>1280.000000</td>\n",
       "      <td>...</td>\n",
       "      <td>1280.000000</td>\n",
       "      <td>1280.000000</td>\n",
       "      <td>1280.000000</td>\n",
       "      <td>1280.000000</td>\n",
       "      <td>1280.000000</td>\n",
       "      <td>1280.000000</td>\n",
       "      <td>1280.000000</td>\n",
       "      <td>1280.000000</td>\n",
       "      <td>1280.000000</td>\n",
       "      <td>1280.000000</td>\n",
       "    </tr>\n",
       "    <tr>\n",
       "      <th>mean</th>\n",
       "      <td>1.040620</td>\n",
       "      <td>1.163859</td>\n",
       "      <td>1.146075</td>\n",
       "      <td>1.178466</td>\n",
       "      <td>1.163667</td>\n",
       "      <td>1.196759</td>\n",
       "      <td>1.182290</td>\n",
       "      <td>1.210540</td>\n",
       "      <td>1.192939</td>\n",
       "      <td>1.232365</td>\n",
       "      <td>...</td>\n",
       "      <td>1.365950</td>\n",
       "      <td>1.396796</td>\n",
       "      <td>1.357146</td>\n",
       "      <td>1.375284</td>\n",
       "      <td>1.338937</td>\n",
       "      <td>1.353590</td>\n",
       "      <td>1.313933</td>\n",
       "      <td>1.310307</td>\n",
       "      <td>1.249532</td>\n",
       "      <td>1.012610</td>\n",
       "    </tr>\n",
       "    <tr>\n",
       "      <th>std</th>\n",
       "      <td>0.310651</td>\n",
       "      <td>0.329385</td>\n",
       "      <td>0.334138</td>\n",
       "      <td>0.341057</td>\n",
       "      <td>0.334519</td>\n",
       "      <td>0.347153</td>\n",
       "      <td>0.340418</td>\n",
       "      <td>0.341559</td>\n",
       "      <td>0.343046</td>\n",
       "      <td>0.347047</td>\n",
       "      <td>...</td>\n",
       "      <td>0.394727</td>\n",
       "      <td>0.405909</td>\n",
       "      <td>0.401702</td>\n",
       "      <td>0.398314</td>\n",
       "      <td>0.384667</td>\n",
       "      <td>0.387028</td>\n",
       "      <td>0.377439</td>\n",
       "      <td>0.375556</td>\n",
       "      <td>0.354176</td>\n",
       "      <td>0.297931</td>\n",
       "    </tr>\n",
       "    <tr>\n",
       "      <th>min</th>\n",
       "      <td>0.451520</td>\n",
       "      <td>0.538590</td>\n",
       "      <td>0.533730</td>\n",
       "      <td>0.518770</td>\n",
       "      <td>0.556660</td>\n",
       "      <td>0.499090</td>\n",
       "      <td>0.545750</td>\n",
       "      <td>0.605590</td>\n",
       "      <td>0.300280</td>\n",
       "      <td>0.608400</td>\n",
       "      <td>...</td>\n",
       "      <td>0.596470</td>\n",
       "      <td>0.620970</td>\n",
       "      <td>0.577250</td>\n",
       "      <td>0.630840</td>\n",
       "      <td>0.628440</td>\n",
       "      <td>0.566150</td>\n",
       "      <td>0.631050</td>\n",
       "      <td>0.634770</td>\n",
       "      <td>0.554230</td>\n",
       "      <td>0.403430</td>\n",
       "    </tr>\n",
       "    <tr>\n",
       "      <th>25%</th>\n",
       "      <td>0.771207</td>\n",
       "      <td>0.879730</td>\n",
       "      <td>0.850450</td>\n",
       "      <td>0.890822</td>\n",
       "      <td>0.870792</td>\n",
       "      <td>0.900272</td>\n",
       "      <td>0.885323</td>\n",
       "      <td>0.919532</td>\n",
       "      <td>0.885775</td>\n",
       "      <td>0.927968</td>\n",
       "      <td>...</td>\n",
       "      <td>1.030525</td>\n",
       "      <td>1.051475</td>\n",
       "      <td>1.020950</td>\n",
       "      <td>1.037800</td>\n",
       "      <td>1.007025</td>\n",
       "      <td>1.033100</td>\n",
       "      <td>1.000725</td>\n",
       "      <td>0.995107</td>\n",
       "      <td>0.952235</td>\n",
       "      <td>0.763872</td>\n",
       "    </tr>\n",
       "    <tr>\n",
       "      <th>50%</th>\n",
       "      <td>1.030500</td>\n",
       "      <td>1.138450</td>\n",
       "      <td>1.136500</td>\n",
       "      <td>1.165250</td>\n",
       "      <td>1.141200</td>\n",
       "      <td>1.188650</td>\n",
       "      <td>1.172000</td>\n",
       "      <td>1.191650</td>\n",
       "      <td>1.184000</td>\n",
       "      <td>1.225550</td>\n",
       "      <td>...</td>\n",
       "      <td>1.344250</td>\n",
       "      <td>1.385600</td>\n",
       "      <td>1.339250</td>\n",
       "      <td>1.352150</td>\n",
       "      <td>1.319300</td>\n",
       "      <td>1.325650</td>\n",
       "      <td>1.287250</td>\n",
       "      <td>1.292500</td>\n",
       "      <td>1.223900</td>\n",
       "      <td>1.001200</td>\n",
       "    </tr>\n",
       "    <tr>\n",
       "      <th>75%</th>\n",
       "      <td>1.280050</td>\n",
       "      <td>1.398950</td>\n",
       "      <td>1.417850</td>\n",
       "      <td>1.431125</td>\n",
       "      <td>1.385150</td>\n",
       "      <td>1.446000</td>\n",
       "      <td>1.423300</td>\n",
       "      <td>1.440950</td>\n",
       "      <td>1.442700</td>\n",
       "      <td>1.473325</td>\n",
       "      <td>...</td>\n",
       "      <td>1.640400</td>\n",
       "      <td>1.665975</td>\n",
       "      <td>1.617400</td>\n",
       "      <td>1.638625</td>\n",
       "      <td>1.601750</td>\n",
       "      <td>1.633125</td>\n",
       "      <td>1.561900</td>\n",
       "      <td>1.568375</td>\n",
       "      <td>1.486150</td>\n",
       "      <td>1.210750</td>\n",
       "    </tr>\n",
       "    <tr>\n",
       "      <th>max</th>\n",
       "      <td>1.922500</td>\n",
       "      <td>2.058100</td>\n",
       "      <td>2.088300</td>\n",
       "      <td>2.315800</td>\n",
       "      <td>2.122000</td>\n",
       "      <td>2.557300</td>\n",
       "      <td>2.265800</td>\n",
       "      <td>2.277100</td>\n",
       "      <td>2.265600</td>\n",
       "      <td>2.310400</td>\n",
       "      <td>...</td>\n",
       "      <td>2.504000</td>\n",
       "      <td>2.575600</td>\n",
       "      <td>2.737900</td>\n",
       "      <td>2.554300</td>\n",
       "      <td>2.512400</td>\n",
       "      <td>2.622700</td>\n",
       "      <td>2.410000</td>\n",
       "      <td>2.823000</td>\n",
       "      <td>2.272100</td>\n",
       "      <td>1.998500</td>\n",
       "    </tr>\n",
       "  </tbody>\n",
       "</table>\n",
       "<p>8 rows × 720 columns</p>\n",
       "</div>"
      ],
      "text/plain": [
       "               0            1            2            3            4    \\\n",
       "count  1280.000000  1280.000000  1280.000000  1280.000000  1280.000000   \n",
       "mean      1.040620     1.163859     1.146075     1.178466     1.163667   \n",
       "std       0.310651     0.329385     0.334138     0.341057     0.334519   \n",
       "min       0.451520     0.538590     0.533730     0.518770     0.556660   \n",
       "25%       0.771207     0.879730     0.850450     0.890822     0.870792   \n",
       "50%       1.030500     1.138450     1.136500     1.165250     1.141200   \n",
       "75%       1.280050     1.398950     1.417850     1.431125     1.385150   \n",
       "max       1.922500     2.058100     2.088300     2.315800     2.122000   \n",
       "\n",
       "               5            6            7            8            9    \\\n",
       "count  1280.000000  1280.000000  1280.000000  1280.000000  1280.000000   \n",
       "mean      1.196759     1.182290     1.210540     1.192939     1.232365   \n",
       "std       0.347153     0.340418     0.341559     0.343046     0.347047   \n",
       "min       0.499090     0.545750     0.605590     0.300280     0.608400   \n",
       "25%       0.900272     0.885323     0.919532     0.885775     0.927968   \n",
       "50%       1.188650     1.172000     1.191650     1.184000     1.225550   \n",
       "75%       1.446000     1.423300     1.440950     1.442700     1.473325   \n",
       "max       2.557300     2.265800     2.277100     2.265600     2.310400   \n",
       "\n",
       "          ...               710          711          712          713  \\\n",
       "count     ...       1280.000000  1280.000000  1280.000000  1280.000000   \n",
       "mean      ...          1.365950     1.396796     1.357146     1.375284   \n",
       "std       ...          0.394727     0.405909     0.401702     0.398314   \n",
       "min       ...          0.596470     0.620970     0.577250     0.630840   \n",
       "25%       ...          1.030525     1.051475     1.020950     1.037800   \n",
       "50%       ...          1.344250     1.385600     1.339250     1.352150   \n",
       "75%       ...          1.640400     1.665975     1.617400     1.638625   \n",
       "max       ...          2.504000     2.575600     2.737900     2.554300   \n",
       "\n",
       "               714          715          716          717          718  \\\n",
       "count  1280.000000  1280.000000  1280.000000  1280.000000  1280.000000   \n",
       "mean      1.338937     1.353590     1.313933     1.310307     1.249532   \n",
       "std       0.384667     0.387028     0.377439     0.375556     0.354176   \n",
       "min       0.628440     0.566150     0.631050     0.634770     0.554230   \n",
       "25%       1.007025     1.033100     1.000725     0.995107     0.952235   \n",
       "50%       1.319300     1.325650     1.287250     1.292500     1.223900   \n",
       "75%       1.601750     1.633125     1.561900     1.568375     1.486150   \n",
       "max       2.512400     2.622700     2.410000     2.823000     2.272100   \n",
       "\n",
       "               719  \n",
       "count  1280.000000  \n",
       "mean      1.012610  \n",
       "std       0.297931  \n",
       "min       0.403430  \n",
       "25%       0.763872  \n",
       "50%       1.001200  \n",
       "75%       1.210750  \n",
       "max       1.998500  \n",
       "\n",
       "[8 rows x 720 columns]"
      ]
     },
     "execution_count": 20,
     "metadata": {},
     "output_type": "execute_result"
    }
   ],
   "source": [
    "print (os.getcwd());\n",
    "############################# Reading the dataset in a dataframe using Pandas\n",
    "print('Python3: Chinese characters in csv file need to be removed!!! \\n')\n",
    "df_B = pd.read_csv(\"Single_Blue_064.csv\",header=None)\n",
    "#df_B = df_B.loc[0:127,0:71]\n",
    "############################# Summarizing and Computing Descriptive Statistics\n",
    "df_B.describe()"
   ]
  },
  {
   "cell_type": "code",
   "execution_count": 21,
   "metadata": {},
   "outputs": [
    {
     "data": {
      "text/plain": [
       "1.441889197200521"
      ]
     },
     "execution_count": 21,
     "metadata": {},
     "output_type": "execute_result"
    },
    {
     "data": {
      "image/png": "[encoded data removed]",
      "text/plain": [
       "<matplotlib.figure.Figure at 0x7f873753ecf8>"
      ]
     },
     "metadata": {},
     "output_type": "display_data"
    }
   ],
   "source": [
    "#\n",
    "df_B.shape\n",
    "df_B.size\n",
    "m=len(df_B)\n",
    "m\n",
    "n=len(df_B.columns)\n",
    "n\n",
    "#\n",
    "df_B.iloc[:,0:].values\n",
    "df_B.iloc[:, 1].hist(bins=70)\n",
    "df_B.boxplot(column=1)\n",
    "#\n",
    "# Return the number of missing values per column\n",
    "df_B.apply(lambda x: sum(x.isnull()),axis=0) \n",
    "df_B.isnull().sum()\n",
    "#\n",
    "# Return the mean per column (axis=0)\n",
    "df_column_mean = df_B.mean(axis=0)\n",
    "#df_column_mean = df_B.mean(axis=1)\n",
    "df_column_mean\n",
    "# Select a cut off in order to separate data into binary\n",
    "cut_off = df_column_mean.mean()\n",
    "cut_off\n",
    "#\n",
    "############################# Binary "
   ]
  },
  {
   "cell_type": "code",
   "execution_count": 22,
   "metadata": {},
   "outputs": [],
   "source": [
    "#\n",
    "#df_B[19][22] == df_B.loc[22,19]\n",
    "#\n",
    "X=np.zeros((df_B.size,2))\n",
    "Y=np.zeros(df_B.size)\n",
    "#\n",
    "for i in range(len(df_B)):\n",
    "    for j in range(len(df_B.columns)):\n",
    "        X[j+i*720]=[i,j]\n",
    "        if df_B.loc[i,j] >= cut_off:\n",
    "            Y[j+i*720]=1\n",
    "        else:\n",
    "            Y[j+i*720]=0\n",
    "#\n",
    "#\n",
    "X\n",
    "Y\n",
    "Y=Y.astype(np.integer)"
   ]
  },
  {
   "cell_type": "code",
   "execution_count": 23,
   "metadata": {},
   "outputs": [
    {
     "name": "stdout",
     "output_type": "stream",
     "text": [
      "(1280, 720)\n",
      "[[0.000e+00 0.000e+00]\n",
      " [0.000e+00 1.000e+00]\n",
      " [0.000e+00 2.000e+00]\n",
      " ...\n",
      " [1.279e+03 7.170e+02]\n",
      " [1.279e+03 7.180e+02]\n",
      " [1.279e+03 7.190e+02]]\n",
      "[0. 1. 1. ... 0. 0. 0.]\n"
     ]
    }
   ],
   "source": [
    "############################# Binary data (Numpy) - James\n",
    "#\n",
    "raw_data = np.loadtxt(\"Single_Blue_064.csv\", delimiter=\",\")\n",
    "#raw_data = raw_data[0:128,0:72]\n",
    "\n",
    "X=np.zeros((raw_data.size,2))\n",
    "Y=np.zeros(raw_data.size)           \n",
    "avg=np.mean(raw_data)\n",
    "avg\n",
    "\n",
    "\n",
    "for i in range(raw_data.shape[0]):\n",
    "    for j in range(raw_data.shape[1]):\n",
    "        X[j+i*720]=[i,j]\n",
    "        if raw_data[i,j]>avg:\n",
    "            Y[j+i*720]=1\n",
    "        else:\n",
    "            Y[j+i*720]=0\n",
    "\n",
    "'''\n",
    "for i in range(raw_data.shape[0]):\n",
    "    for j in range(raw_data.shape[1]):\n",
    "        X[j+i*72]=[i,j]\n",
    "        if raw_data[i,j]>avg:\n",
    "            Y[j+i*72]=1\n",
    "        else:\n",
    "            Y[j+i*72]=0\n",
    "'''\n",
    "        \n",
    "print(raw_data.shape)\n",
    "print(X)\n",
    "print(Y)\n",
    "X\n",
    "Y\n",
    "Y=Y.astype(np.integer)\n",
    "############################# Binary data (Numpy) - James"
   ]
  },
  {
   "cell_type": "code",
   "execution_count": 24,
   "metadata": {},
   "outputs": [
    {
     "data": {
      "text/plain": [
       "<matplotlib.collections.PathCollection at 0x7f8737468c18>"
      ]
     },
     "execution_count": 24,
     "metadata": {},
     "output_type": "execute_result"
    },
    {
     "data": {
      "image/png": "[encoded data removed]",
      "text/plain": [
       "<matplotlib.figure.Figure at 0x7f87360eb080>"
      ]
     },
     "metadata": {},
     "output_type": "display_data"
    }
   ],
   "source": [
    "plt.scatter(X[:,0], X[:,1], s=40, c=Y, cmap=plt.cm.Spectral)\n"
   ]
  },
  {
   "cell_type": "code",
   "execution_count": 25,
   "metadata": {},
   "outputs": [],
   "source": [
    "############################# Modeling \n",
    "from sklearn.neighbors import KNeighborsClassifier\n",
    "from sklearn.ensemble import RandomForestClassifier\n",
    "from sklearn.neural_network import MLPClassifier\n",
    "from sklearn.svm import SVC\n",
    "############################# Modeling \n",
    "#\n",
    "def custom_div_cmap(numcolors=11, name='custom_div_cmap',\n",
    "                    mincol='blue', midcol='white', maxcol='red'):\n",
    "    \"\"\" Create a custom diverging colormap with three colors\n",
    "    \n",
    "    Default is blue to white to red with 11 colors.  Colors can be specified\n",
    "    in any way understandable by matplotlib.colors.ColorConverter.to_rgb()\n",
    "    \"\"\"\n",
    "\n",
    "    from matplotlib.colors import LinearSegmentedColormap \n",
    "    \n",
    "    cmap = LinearSegmentedColormap.from_list(name=name, \n",
    "                                             colors =[mincol, midcol, maxcol],\n",
    "                                             N=numcolors)\n",
    "    return cmap\n",
    "#"
   ]
  },
  {
   "cell_type": "code",
   "execution_count": 26,
   "metadata": {},
   "outputs": [
    {
     "data": {
      "text/plain": [
       "Text(0,0.5,'Feature 1')"
      ]
     },
     "execution_count": 26,
     "metadata": {},
     "output_type": "execute_result"
    },
    {
     "data": {
      "image/png": "[encoded data removed]",
      "text/plain": [
       "<matplotlib.figure.Figure at 0x7f8705dd8240>"
      ]
     },
     "metadata": {},
     "output_type": "display_data"
    }
   ],
   "source": [
    "###### KNN\n",
    "#\n",
    "knn = KNeighborsClassifier(n_neighbors= 1).fit(X, Y)\n",
    "#\n",
    "#plt.scatter(X[:, 0], X[:, 1], s=40, c=Y, cmap=plt.cm.Spectral)\n",
    "#plt.scatter(X[:, 0], X[:, 1], s=40, c=Y, cmap=plt.cm.coolwarm,label='rain')\n",
    "#plt.scatter(X[:, 0], X[:, 1], s=40, c=Y, cmap=plt.cm.coolwarm)\n",
    "#plt.scatter(X[:, 0], X[:, 1], s=40, c=Y, cmap=plt.cm.bwr)\n",
    "plt.scatter(X[:, 0], X[:, 1], s=40, c=Y, cmap=plt.cm.get_cmap('Blues'))\n",
    "#plt.scatter(X[:, 0], X[:, 1], s=40, c=Y, cmap=plt.cm.get_cmap('Dark2'))\n",
    "#plt.scatter(X[:, 0], X[:, 1], s=40, c=Y, cmap=plt.cm.RdYlGn)\n",
    "#plt.scatter(X[:, 0], X[:, 1], s=40, c=Y, cmap=custom_div_cmap(numcolors=51, mincol='#01665e', maxcol='#8c510a'))\n",
    "#\n",
    "mglearn.plots.plot_2d_separator(knn, X, fill=True, eps=2.5,alpha=.35)\n",
    "#mglearn.plots.plot_2d_separator(knn, X, fill=True, eps=0.5,alpha=.7)\n",
    "\n",
    "plt.xlabel(\"Feature 0\")\n",
    "plt.ylabel(\"Feature 1\")\n",
    "#"
   ]
  },
  {
   "cell_type": "code",
   "execution_count": 27,
   "metadata": {},
   "outputs": [
    {
     "data": {
      "text/plain": [
       "Text(0,0.5,'Feature 1')"
      ]
     },
     "execution_count": 27,
     "metadata": {},
     "output_type": "execute_result"
    },
    {
     "data": {
      "image/png": "[encoded data removed]",
      "text/plain": [
       "<matplotlib.figure.Figure at 0x7f8706d95cf8>"
      ]
     },
     "metadata": {},
     "output_type": "display_data"
    }
   ],
   "source": [
    "###### Random Forest\n",
    "#\n",
    "forest = RandomForestClassifier(n_estimators=5,  random_state=2).fit(X, Y)\n",
    "#\n",
    "forest = RandomForestClassifier(n_estimators=100,random_state=0, n_jobs=-1).fit(X, Y)\n",
    "\n",
    "plt.scatter(X[:, 0], X[:, 1], s=40, c=Y, cmap=plt.cm.get_cmap('Blues'))\n",
    "mglearn.plots.plot_2d_separator(forest, X, fill=True, eps=4.5,alpha=.35)\n",
    "\n",
    "plt.xlabel(\"Feature 0\")\n",
    "plt.ylabel(\"Feature 1\")\n",
    "#\n",
    "###### Kernelized Support Vector Machines \n",
    "#\n"
   ]
  },
  {
   "cell_type": "code",
   "execution_count": 28,
   "metadata": {},
   "outputs": [
    {
     "name": "stdout",
     "output_type": "stream",
     "text": [
      "Extracting MNIST_data/train-images-idx3-ubyte.gz\n",
      "Extracting MNIST_data/train-labels-idx1-ubyte.gz\n",
      "Extracting MNIST_data/t10k-images-idx3-ubyte.gz\n",
      "Extracting MNIST_data/t10k-labels-idx1-ubyte.gz\n",
      "WARNING:tensorflow:From /home/cesare/anaconda3/envs/py35/lib/python3.5/site-packages/tensorflow/python/util/tf_should_use.py:118: initialize_all_variables (from tensorflow.python.ops.variables) is deprecated and will be removed after 2017-03-02.\n",
      "Instructions for updating:\n",
      "Use `tf.global_variables_initializer` instead.\n",
      "Epoch: 0001 cost= 1.176438249\n",
      "Epoch: 0002 cost= 0.662463268\n",
      "Epoch: 0003 cost= 0.550717256\n",
      "Epoch: 0004 cost= 0.496801362\n",
      "Epoch: 0005 cost= 0.463744727\n",
      "Epoch: 0006 cost= 0.440960875\n",
      "Epoch: 0007 cost= 0.423910538\n",
      "Epoch: 0008 cost= 0.410693034\n",
      "Epoch: 0009 cost= 0.399906344\n",
      "Epoch: 0010 cost= 0.390954900\n",
      "Epoch: 0011 cost= 0.383322986\n",
      "Epoch: 0012 cost= 0.376781172\n",
      "Epoch: 0013 cost= 0.371028773\n",
      "Epoch: 0014 cost= 0.365941240\n",
      "Epoch: 0015 cost= 0.361391503\n",
      "Epoch: 0016 cost= 0.357232584\n",
      "Epoch: 0017 cost= 0.353529507\n",
      "Epoch: 0018 cost= 0.350169453\n",
      "Epoch: 0019 cost= 0.346970679\n",
      "Epoch: 0020 cost= 0.344143716\n",
      "Epoch: 0021 cost= 0.341479446\n",
      "Epoch: 0022 cost= 0.338983204\n",
      "Epoch: 0023 cost= 0.336702177\n",
      "Epoch: 0024 cost= 0.334510505\n",
      "Epoch: 0025 cost= 0.332473476\n",
      "Training phase finished\n"
     ]
    },
    {
     "data": {
      "image/png": "[encoded data removed]",
      "text/plain": [
       "<matplotlib.figure.Figure at 0x7f8705f724e0>"
      ]
     },
     "metadata": {},
     "output_type": "display_data"
    },
    {
     "name": "stdout",
     "output_type": "stream",
     "text": [
      "Model accuracy: 0.9142\n"
     ]
    }
   ],
   "source": [
    "# Import MINST data\n",
    "import tensorflow as tf\n",
    "import matplotlib.pyplot as plt\n",
    "import numpy as np\n",
    "from tensorflow.examples.tutorials.mnist import input_data\n",
    "#\n",
    "mnist = input_data.read_data_sets(\"MNIST_data/\", one_hot=True)\n",
    "#\n",
    "# Parameters\n",
    "# Parameters\n",
    "learning_rate = 0.01\n",
    "training_epochs = 25\n",
    "batch_size = 100\n",
    "display_step = 1\n",
    "\n",
    "# tf Graph Input\n",
    "x = tf.placeholder(\"float\", [None, 784]) # mnist data image of shape 28*28=784\n",
    "y = tf.placeholder(\"float\", [None, 10]) # 0-9 digits recognition => 10 classes\n",
    "\n",
    "# Create model\n",
    "\n",
    "# Set model weights\n",
    "W = tf.Variable(tf.zeros([784, 10]))\n",
    "b = tf.Variable(tf.zeros([10]))\n",
    "\n",
    "# Construct model\n",
    "activation = tf.nn.softmax(tf.matmul(x, W) + b) # Softmax\n",
    "\n",
    "# Minimize error using cross entropy\n",
    "cross_entropy = y*tf.log(activation)\n",
    "cost = tf.reduce_mean(-tf.reduce_sum(cross_entropy,reduction_indices=1))\n",
    "\n",
    "optimizer = tf.train.GradientDescentOptimizer(learning_rate).minimize(cost) \n",
    "\n",
    "#Plot settings\n",
    "avg_set = []\n",
    "epoch_set=[]\n",
    "\n",
    "# Initializing the variables\n",
    "init = tf.initialize_all_variables()\n",
    "\n",
    "# Launch the graph\n",
    "with tf.Session() as sess:\n",
    "    sess.run(init)\n",
    "\n",
    "    # Training cycle\n",
    "    for epoch in range(training_epochs):\n",
    "        avg_cost = 0.\n",
    "        total_batch = int(mnist.train.num_examples/batch_size)\n",
    "        # Loop over all batches\n",
    "        for i in range(total_batch):\n",
    "            batch_xs, batch_ys = \\\n",
    "                      mnist.train.next_batch(batch_size)\n",
    "            # Fit training using batch data\n",
    "            sess.run(optimizer, \\\n",
    "                     feed_dict={x: batch_xs, y: batch_ys})\n",
    "            # Compute average loss\n",
    "            avg_cost += sess.run(cost, \\\n",
    "                                 feed_dict={x: batch_xs, \\\n",
    "                                            y: batch_ys})/total_batch\n",
    "        # Display logs per epoch step\n",
    "        if epoch % display_step == 0:\n",
    "            print (\"Epoch:\", '%04d' % (epoch+1), \"cost=\", \"{:.9f}\".format(avg_cost))\n",
    "        avg_set.append(avg_cost)\n",
    "        epoch_set.append(epoch+1)\n",
    "    print (\"Training phase finished\")\n",
    "\n",
    "\n",
    "    plt.plot(epoch_set,avg_set, 'o', label='Logistic Regression Training phase')\n",
    "    plt.ylabel('cost')\n",
    "    plt.xlabel('epoch')\n",
    "    plt.legend()\n",
    "    plt.show()\n",
    "\n",
    "    # Test model\n",
    "    correct_prediction = tf.equal(tf.argmax(activation, 1), tf.argmax(y, 1))\n",
    "    # Calculate accuracy\n",
    "    accuracy = tf.reduce_mean(tf.cast(correct_prediction, \"float\"))\n",
    "    print (\"Model accuracy:\", accuracy.eval({x: mnist.test.images, y: mnist.test.labels}))\n",
    "\n",
    "\n"
   ]
  },
  {
   "cell_type": "code",
   "execution_count": 29,
   "metadata": {},
   "outputs": [
    {
     "data": {
      "image/png": "[encoded data removed]",
      "text/plain": [
       "<matplotlib.figure.Figure at 0x7f8705ec5a58>"
      ]
     },
     "metadata": {},
     "output_type": "display_data"
    },
    {
     "data": {
      "image/png": "[encoded data removed]",
      "text/plain": [
       "<matplotlib.figure.Figure at 0x7f8705e4f860>"
      ]
     },
     "metadata": {},
     "output_type": "display_data"
    },
    {
     "data": {
      "image/png": "[encoded data removed]",
      "text/plain": [
       "<matplotlib.figure.Figure at 0x7f8704d45f28>"
      ]
     },
     "metadata": {},
     "output_type": "display_data"
    },
    {
     "data": {
      "image/png": "[encoded data removed]",
      "text/plain": [
       "<matplotlib.figure.Figure at 0x7f8704cfe4e0>"
      ]
     },
     "metadata": {},
     "output_type": "display_data"
    },
    {
     "data": {
      "image/png": "[encoded data removed]",
      "text/plain": [
       "<matplotlib.figure.Figure at 0x7f8704cb7898>"
      ]
     },
     "metadata": {},
     "output_type": "display_data"
    },
    {
     "data": {
      "image/png": "[encoded data removed]",
      "text/plain": [
       "<matplotlib.figure.Figure at 0x7f8705e90c88>"
      ]
     },
     "metadata": {},
     "output_type": "display_data"
    }
   ],
   "source": [
    "import numpy as np\n",
    "\n",
    "number_of_points = 200\n",
    "x_point = []\n",
    "y_point = []\n",
    "a = 0.22\n",
    "b = 0.78\n",
    "for i in range(number_of_points):\n",
    "    x = np.random.normal(0.0,0.5)\n",
    "    y = a*x + b +np.random.normal(0.0,0.1)\n",
    "    x_point.append([x])\n",
    "    y_point.append([y])\n",
    "\n",
    "\n",
    "import matplotlib.pyplot as plt\n",
    "\n",
    "plt.plot(x_point,y_point, 'o', label='Input Data')\n",
    "plt.legend()\n",
    "plt.show()\n",
    "\n",
    "import tensorflow as tf\n",
    "\n",
    "\n",
    "A = tf.Variable(tf.random_uniform([1], -1.0, 1.0))\n",
    "B = tf.Variable(tf.zeros([1]))\n",
    "y = A * x_point + B\n",
    "\n",
    "cost_function = tf.reduce_mean(tf.square(y - y_point))\n",
    "optimizer = tf.train.GradientDescentOptimizer(0.5)\n",
    "train = optimizer.minimize(cost_function)\n",
    "\n",
    "model = tf.initialize_all_variables()\n",
    "\n",
    "with tf.Session() as session:\n",
    "        session.run(model)\n",
    "        for step in range(0,21):\n",
    "                session.run(train)\n",
    "                if (step % 5) == 0:\n",
    "                        plt.plot(x_point, y_point,\n",
    "                                 'o',label='step = {}'.format(step))\n",
    "                        plt.plot(x_point,\n",
    "                                 session.run(A) * x_point + session.run(B))\n",
    "                        plt.legend()\n",
    "                        plt.show()\n",
    "                        \n",
    "\n"
   ]
  },
  {
   "cell_type": "code",
   "execution_count": 30,
   "metadata": {},
   "outputs": [
    {
     "data": {
      "text/plain": [
       "LogisticRegressionCV(Cs=10, class_weight=None, cv=None, dual=False,\n",
       "           fit_intercept=True, intercept_scaling=1.0, max_iter=100,\n",
       "           multi_class='ovr', n_jobs=1, penalty='l2', random_state=None,\n",
       "           refit=True, scoring=None, solver='lbfgs', tol=0.0001, verbose=0)"
      ]
     },
     "execution_count": 30,
     "metadata": {},
     "output_type": "execute_result"
    },
    {
     "data": {
      "image/png": "[encoded data removed]",
      "text/plain": [
       "<matplotlib.figure.Figure at 0x7f874dd8a668>"
      ]
     },
     "metadata": {},
     "output_type": "display_data"
    }
   ],
   "source": [
    "# Package imports\n",
    "import matplotlib.pyplot as plt\n",
    "import numpy as np\n",
    "import sklearn\n",
    "import sklearn.datasets\n",
    "import sklearn.linear_model\n",
    "import matplotlib\n",
    "\n",
    "# Display plots inline and change default figure size\n",
    "%matplotlib inline\n",
    "matplotlib.rcParams['figure.figsize'] = (8.0, 6.0)\n",
    "\n",
    "# Generate a dataset and plot it\n",
    "np.random.seed(0)\n",
    "X, y = sklearn.datasets.make_moons(200, noise=0.20)\n",
    "plt.scatter(X[:,0], X[:,1], s=40, c=y, cmap=plt.cm.Spectral)\n",
    "\n",
    "# Train the logistic regeression classifier\n",
    "clf = sklearn.linear_model.LogisticRegressionCV()\n",
    "clf.fit(X, y)"
   ]
  },
  {
   "cell_type": "code",
   "execution_count": 31,
   "metadata": {},
   "outputs": [
    {
     "data": {
      "image/png": "[encoded data removed]",
      "text/plain": [
       "<matplotlib.figure.Figure at 0x7f8704c319e8>"
      ]
     },
     "metadata": {},
     "output_type": "display_data"
    }
   ],
   "source": [
    "# Helper function to plot a decision boundary.\n",
    "# If you don't fully understand this function don't worry, it just generates the contour plot below.\n",
    "def plot_decision_boundary(pred_func):\n",
    "    # Set min and max values and give it some padding\n",
    "    x_min, x_max = X[:, 0].min() - .5, X[:, 0].max() + .5\n",
    "    y_min, y_max = X[:, 1].min() - .5, X[:, 1].max() + .5\n",
    "    h = 0.01\n",
    "    # Generate a grid of points with distance h between them\n",
    "    xx, yy = np.meshgrid(np.arange(x_min, x_max, h), np.arange(y_min, y_max, h))\n",
    "    # Predict the function value for the whole gid\n",
    "    Z = pred_func(np.c_[xx.ravel(), yy.ravel()])\n",
    "    Z = Z.reshape(xx.shape)\n",
    "    # Plot the contour and training examples\n",
    "    plt.contourf(xx, yy, Z, cmap=plt.cm.Spectral)\n",
    "    plt.scatter(X[:, 0], X[:, 1], c=y, cmap=plt.cm.Spectral)\n",
    "\n",
    "\n",
    "# Plot the decision boundary\n",
    "plot_decision_boundary(lambda x: clf.predict(x))\n",
    "plt.title(\"Logistic Regression\")\n",
    "\n",
    "\n",
    "num_examples = len(X) # training set size\n",
    "nn_input_dim = 2 # input layer dimensionality\n",
    "nn_output_dim = 2 # output layer dimensionality\n",
    "\n",
    "# Gradient descent parameters (I picked these by hand)\n",
    "epsilon = 0.01 # learning rate for gradient descent\n",
    "reg_lambda = 0.01 # regularization strength\n",
    "\n",
    "# Helper function to evaluate the total loss on the dataset\n",
    "def calculate_loss(model):\n",
    "    W1, b1, W2, b2 = model['W1'], model['b1'], model['W2'], model['b2']\n",
    "    # Forward propagation to calculate our predictions\n",
    "    z1 = X.dot(W1) + b1\n",
    "    a1 = np.tanh(z1)\n",
    "    z2 = a1.dot(W2) + b2\n",
    "    exp_scores = np.exp(z2)\n",
    "    probs = exp_scores / np.sum(exp_scores, axis=1, keepdims=True)\n",
    "    # Calculating the loss\n",
    "    corect_logprobs = -np.log(probs[range(num_examples), y])\n",
    "    data_loss = np.sum(corect_logprobs)\n",
    "    # Add regulatization term to loss (optional)\n",
    "    data_loss += reg_lambda/2 * (np.sum(np.square(W1)) + np.sum(np.square(W2)))\n",
    "    return 1./num_examples * data_loss\n",
    "\n",
    "\n",
    "# Helper function to predict an output (0 or 1)\n",
    "def predict(model, x):\n",
    "    W1, b1, W2, b2 = model['W1'], model['b1'], model['W2'], model['b2']\n",
    "    # Forward propagation\n",
    "    z1 = x.dot(W1) + b1\n",
    "    a1 = np.tanh(z1)\n",
    "    z2 = a1.dot(W2) + b2\n",
    "    exp_scores = np.exp(z2)\n",
    "    probs = exp_scores / np.sum(exp_scores, axis=1, keepdims=True)\n",
    "    return np.argmax(probs, axis=1)\n",
    "\n",
    "\n",
    "# This function learns parameters for the neural network and returns the model.\n",
    "# - nn_hdim: Number of nodes in the hidden layer\n",
    "# - num_passes: Number of passes through the training data for gradient descent\n",
    "# - print_loss: If True, print the loss every 1000 iterations\n",
    "def build_model(nn_hdim, num_passes=20000, print_loss=False):\n",
    "    \n",
    "    # Initialize the parameters to random values. We need to learn these.\n",
    "    np.random.seed(0)\n",
    "    W1 = np.random.randn(nn_input_dim, nn_hdim) / np.sqrt(nn_input_dim)\n",
    "    b1 = np.zeros((1, nn_hdim))\n",
    "    W2 = np.random.randn(nn_hdim, nn_output_dim) / np.sqrt(nn_hdim)\n",
    "    b2 = np.zeros((1, nn_output_dim))\n",
    "    \n",
    "    # This is what we return at the end\n",
    "    model = {}\n",
    "    \n",
    "    # Gradient descent. For each batch...\n",
    "    for i in range(0, num_passes):\n",
    "        \n",
    "        # Forward propagation\n",
    "        z1 = X.dot(W1) + b1\n",
    "        a1 = np.tanh(z1)\n",
    "        z2 = a1.dot(W2) + b2\n",
    "        exp_scores = np.exp(z2)\n",
    "        probs = exp_scores / np.sum(exp_scores, axis=1, keepdims=True)\n",
    "        \n",
    "        # Backpropagation\n",
    "        delta3 = probs\n",
    "        delta3[range(num_examples), y] -= 1\n",
    "        dW2 = (a1.T).dot(delta3)\n",
    "        db2 = np.sum(delta3, axis=0, keepdims=True)\n",
    "        delta2 = delta3.dot(W2.T) * (1 - np.power(a1, 2))\n",
    "        dW1 = np.dot(X.T, delta2)\n",
    "        db1 = np.sum(delta2, axis=0)\n",
    "        \n",
    "        # Add regularization terms (b1 and b2 don't have regularization terms)\n",
    "        dW2 += reg_lambda * W2\n",
    "        dW1 += reg_lambda * W1\n",
    "        \n",
    "        # Gradient descent parameter update\n",
    "        W1 += -epsilon * dW1\n",
    "        b1 += -epsilon * db1\n",
    "        W2 += -epsilon * dW2\n",
    "        b2 += -epsilon * db2\n",
    "        \n",
    "        # Assign new parameters to the model\n",
    "        model = { 'W1': W1, 'b1': b1, 'W2': W2, 'b2': b2}\n",
    "        \n",
    "        # Optionally print the loss.\n",
    "        # This is expensive because it uses the whole dataset, so we don't want to do it too often.\n",
    "        if print_loss and i % 1000 == 0:\n",
    "            print(\"Loss after iteration %i: %f\" %(i, calculate_loss(model)))\n",
    "    \n",
    "    return model\n",
    "\n",
    "\n"
   ]
  },
  {
   "cell_type": "code",
   "execution_count": 32,
   "metadata": {},
   "outputs": [
    {
     "data": {
      "text/plain": [
       "'\\n# Build a model with a 3-dimensional hidden layer\\nmodel = build_model(3, print_loss=True)\\n\\n# Plot the decision boundary\\nplot_decision_boundary(lambda x: predict(model, x))\\nplt.title(\"Decision Boundary for hidden layer size 3\")\\n\\n\\nplt.figure(figsize=(10, 20))\\nhidden_layer_dimensions = [1, 2, 3, 4, 5, 20, 50]\\nfor i, nn_hdim in enumerate(hidden_layer_dimensions):\\n    plt.subplot(5, 2, i+1)\\n    plt.title(\\'Hidden Layer size %d\\' % nn_hdim)\\n    model = build_model(nn_hdim)\\n    plot_decision_boundary(lambda x: predict(model, x))\\nplt.show()\\n'"
      ]
     },
     "execution_count": 32,
     "metadata": {},
     "output_type": "execute_result"
    }
   ],
   "source": [
    "'''\n",
    "# Build a model with a 3-dimensional hidden layer\n",
    "model = build_model(3, print_loss=True)\n",
    "\n",
    "# Plot the decision boundary\n",
    "plot_decision_boundary(lambda x: predict(model, x))\n",
    "plt.title(\"Decision Boundary for hidden layer size 3\")\n",
    "\n",
    "\n",
    "plt.figure(figsize=(10, 20))\n",
    "hidden_layer_dimensions = [1, 2, 3, 4, 5, 20, 50]\n",
    "for i, nn_hdim in enumerate(hidden_layer_dimensions):\n",
    "    plt.subplot(5, 2, i+1)\n",
    "    plt.title('Hidden Layer size %d' % nn_hdim)\n",
    "    model = build_model(nn_hdim)\n",
    "    plot_decision_boundary(lambda x: predict(model, x))\n",
    "plt.show()\n",
    "'''\n"
   ]
  },
  {
   "cell_type": "code",
   "execution_count": 33,
   "metadata": {},
   "outputs": [
    {
     "name": "stdout",
     "output_type": "stream",
     "text": [
      "opencv version: 3.2.0\n"
     ]
    }
   ],
   "source": [
    "import cv2\n",
    "print(\"opencv version: {}\".format(cv2.__version__))"
   ]
  },
  {
   "cell_type": "markdown",
   "metadata": {},
   "source": [
    "# Setup - TF"
   ]
  },
  {
   "cell_type": "code",
   "execution_count": 34,
   "metadata": {},
   "outputs": [],
   "source": [
    "# To support both python 2 and python 3\n",
    "from __future__ import division, print_function, unicode_literals\n",
    "\n",
    "# Common imports\n",
    "import numpy as np\n",
    "import os\n",
    "\n",
    "# to make this notebook's output stable across runs\n",
    "def reset_graph(seed=42):\n",
    "    tf.reset_default_graph()\n",
    "    tf.set_random_seed(seed)\n",
    "    np.random.seed(seed)\n",
    "\n",
    "# To plot pretty figures\n",
    "%matplotlib inline\n",
    "import matplotlib\n",
    "import matplotlib.pyplot as plt\n",
    "plt.rcParams['axes.labelsize'] = 14\n",
    "plt.rcParams['xtick.labelsize'] = 12\n",
    "plt.rcParams['ytick.labelsize'] = 12\n",
    "\n",
    "# Where to save the figures\n",
    "PROJECT_ROOT_DIR = \".\"\n",
    "CHAPTER_ID = \"tensorflow\"\n",
    "\n",
    "def save_fig(fig_id, tight_layout=True):\n",
    "    path = os.path.join(PROJECT_ROOT_DIR, \"images\", CHAPTER_ID, fig_id + \".png\")\n",
    "    print(\"Saving figure\", fig_id)\n",
    "    if tight_layout:\n",
    "        plt.tight_layout()\n",
    "    plt.savefig(path, format='png', dpi=300)"
   ]
  },
  {
   "cell_type": "code",
   "execution_count": 35,
   "metadata": {},
   "outputs": [],
   "source": [
    "import tensorflow as tf\n",
    "\n",
    "reset_graph()\n",
    "\n",
    "x = tf.Variable(3, name=\"x\")\n",
    "y = tf.Variable(4, name=\"y\")\n",
    "f = x*x*y + y + 2"
   ]
  },
  {
   "cell_type": "code",
   "execution_count": 36,
   "metadata": {},
   "outputs": [
    {
     "data": {
      "text/plain": [
       "<tf.Tensor 'add_1:0' shape=() dtype=int32>"
      ]
     },
     "execution_count": 36,
     "metadata": {},
     "output_type": "execute_result"
    }
   ],
   "source": [
    "f"
   ]
  },
  {
   "cell_type": "code",
   "execution_count": 37,
   "metadata": {},
   "outputs": [
    {
     "name": "stdout",
     "output_type": "stream",
     "text": [
      "42\n"
     ]
    }
   ],
   "source": [
    "sess = tf.Session()\n",
    "sess.run(x.initializer)\n",
    "sess.run(y.initializer)\n",
    "result = sess.run(f)\n",
    "print(result)\n"
   ]
  },
  {
   "cell_type": "code",
   "execution_count": 38,
   "metadata": {},
   "outputs": [],
   "source": [
    "sess.close()\n"
   ]
  },
  {
   "cell_type": "code",
   "execution_count": 39,
   "metadata": {},
   "outputs": [],
   "source": [
    "with tf.Session() as sess:\n",
    "    x.initializer.run()\n",
    "    y.initializer.run()\n",
    "    result = f.eval()"
   ]
  },
  {
   "cell_type": "code",
   "execution_count": 40,
   "metadata": {},
   "outputs": [
    {
     "data": {
      "text/plain": [
       "42"
      ]
     },
     "execution_count": 40,
     "metadata": {},
     "output_type": "execute_result"
    }
   ],
   "source": [
    "result"
   ]
  },
  {
   "cell_type": "code",
   "execution_count": 41,
   "metadata": {},
   "outputs": [],
   "source": [
    "init = tf.global_variables_initializer()\n",
    "\n",
    "with tf.Session() as sess:\n",
    "    init.run()\n",
    "    result = f.eval()"
   ]
  },
  {
   "cell_type": "code",
   "execution_count": 42,
   "metadata": {},
   "outputs": [
    {
     "data": {
      "text/plain": [
       "42"
      ]
     },
     "execution_count": 42,
     "metadata": {},
     "output_type": "execute_result"
    }
   ],
   "source": [
    "result"
   ]
  },
  {
   "cell_type": "code",
   "execution_count": 43,
   "metadata": {},
   "outputs": [],
   "source": [
    "init = tf.global_variables_initializer()\n"
   ]
  },
  {
   "cell_type": "code",
   "execution_count": 44,
   "metadata": {},
   "outputs": [
    {
     "name": "stdout",
     "output_type": "stream",
     "text": [
      "42\n"
     ]
    }
   ],
   "source": [
    "sess = tf.InteractiveSession()\n",
    "init.run()\n",
    "result = f.eval()\n",
    "print(result)"
   ]
  },
  {
   "cell_type": "code",
   "execution_count": 45,
   "metadata": {},
   "outputs": [],
   "source": [
    "sess.close()\n"
   ]
  },
  {
   "cell_type": "code",
   "execution_count": 46,
   "metadata": {},
   "outputs": [
    {
     "data": {
      "text/plain": [
       "42"
      ]
     },
     "execution_count": 46,
     "metadata": {},
     "output_type": "execute_result"
    }
   ],
   "source": [
    "result"
   ]
  },
  {
   "cell_type": "code",
   "execution_count": 47,
   "metadata": {},
   "outputs": [
    {
     "data": {
      "text/plain": [
       "True"
      ]
     },
     "execution_count": 47,
     "metadata": {},
     "output_type": "execute_result"
    }
   ],
   "source": [
    "reset_graph()\n",
    "\n",
    "x1 = tf.Variable(1)\n",
    "x1.graph is tf.get_default_graph()"
   ]
  },
  {
   "cell_type": "code",
   "execution_count": 48,
   "metadata": {},
   "outputs": [
    {
     "data": {
      "text/plain": [
       "True"
      ]
     },
     "execution_count": 48,
     "metadata": {},
     "output_type": "execute_result"
    }
   ],
   "source": [
    "\n",
    "graph = tf.Graph()\n",
    "with graph.as_default():\n",
    "    x2 = tf.Variable(2)\n",
    "\n",
    "x2.graph is graph"
   ]
  },
  {
   "cell_type": "code",
   "execution_count": 49,
   "metadata": {},
   "outputs": [
    {
     "data": {
      "text/plain": [
       "False"
      ]
     },
     "execution_count": 49,
     "metadata": {},
     "output_type": "execute_result"
    }
   ],
   "source": [
    "x2.graph is tf.get_default_graph()\n"
   ]
  },
  {
   "cell_type": "code",
   "execution_count": 50,
   "metadata": {},
   "outputs": [
    {
     "name": "stdout",
     "output_type": "stream",
     "text": [
      "10\n",
      "15\n"
     ]
    }
   ],
   "source": [
    "w = tf.constant(3)\n",
    "x = w + 2\n",
    "y = x + 5\n",
    "z = x * 3\n",
    "\n",
    "with tf.Session() as sess:\n",
    "    print(y.eval())  # 10\n",
    "    print(z.eval())  # 15"
   ]
  },
  {
   "cell_type": "code",
   "execution_count": 51,
   "metadata": {},
   "outputs": [
    {
     "name": "stdout",
     "output_type": "stream",
     "text": [
      "10\n",
      "15\n"
     ]
    }
   ],
   "source": [
    "with tf.Session() as sess:\n",
    "    y_val, z_val = sess.run([y, z])\n",
    "    print(y_val)  # 10\n",
    "    print(z_val)  # 15"
   ]
  },
  {
   "cell_type": "markdown",
   "metadata": {},
   "source": [
    "# Linear Regression"
   ]
  },
  {
   "cell_type": "markdown",
   "metadata": {},
   "source": [
    "## Using the Normal Equation"
   ]
  },
  {
   "cell_type": "code",
   "execution_count": 52,
   "metadata": {},
   "outputs": [],
   "source": [
    "import numpy as np\n",
    "from sklearn.datasets import fetch_california_housing\n",
    "\n",
    "reset_graph()\n",
    "\n",
    "housing = fetch_california_housing()\n",
    "m, n = housing.data.shape\n",
    "housing_data_plus_bias = np.c_[np.ones((m, 1)), housing.data]\n",
    "\n",
    "X = tf.constant(housing_data_plus_bias, dtype=tf.float32, name=\"X\")\n",
    "y = tf.constant(housing.target.reshape(-1, 1), dtype=tf.float32, name=\"y\")\n",
    "XT = tf.transpose(X)\n",
    "theta = tf.matmul(tf.matmul(tf.matrix_inverse(tf.matmul(XT, X)), XT), y)\n",
    "\n",
    "with tf.Session() as sess:\n",
    "    theta_value = theta.eval()"
   ]
  },
  {
   "cell_type": "code",
   "execution_count": 53,
   "metadata": {},
   "outputs": [
    {
     "data": {
      "text/plain": [
       "array([[-3.7465141e+01],\n",
       "       [ 4.3573415e-01],\n",
       "       [ 9.3382923e-03],\n",
       "       [-1.0662201e-01],\n",
       "       [ 6.4410698e-01],\n",
       "       [-4.2513184e-06],\n",
       "       [-3.7732250e-03],\n",
       "       [-4.2664889e-01],\n",
       "       [-4.4051403e-01]], dtype=float32)"
      ]
     },
     "execution_count": 53,
     "metadata": {},
     "output_type": "execute_result"
    }
   ],
   "source": [
    "theta_value"
   ]
  },
  {
   "cell_type": "code",
   "execution_count": 54,
   "metadata": {},
   "outputs": [
    {
     "name": "stdout",
     "output_type": "stream",
     "text": [
      "[[-3.69419202e+01]\n",
      " [ 4.36693293e-01]\n",
      " [ 9.43577803e-03]\n",
      " [-1.07322041e-01]\n",
      " [ 6.45065694e-01]\n",
      " [-3.97638942e-06]\n",
      " [-3.78654265e-03]\n",
      " [-4.21314378e-01]\n",
      " [-4.34513755e-01]]\n"
     ]
    }
   ],
   "source": [
    "X = housing_data_plus_bias\n",
    "y = housing.target.reshape(-1, 1)\n",
    "theta_numpy = np.linalg.inv(X.T.dot(X)).dot(X.T).dot(y)\n",
    "\n",
    "print(theta_numpy)"
   ]
  },
  {
   "cell_type": "code",
   "execution_count": 55,
   "metadata": {},
   "outputs": [
    {
     "name": "stdout",
     "output_type": "stream",
     "text": [
      "[[-3.69419202e+01]\n",
      " [ 4.36693293e-01]\n",
      " [ 9.43577803e-03]\n",
      " [-1.07322041e-01]\n",
      " [ 6.45065694e-01]\n",
      " [-3.97638942e-06]\n",
      " [-3.78654265e-03]\n",
      " [-4.21314378e-01]\n",
      " [-4.34513755e-01]]\n"
     ]
    }
   ],
   "source": [
    "from sklearn.linear_model import LinearRegression\n",
    "lin_reg = LinearRegression()\n",
    "lin_reg.fit(housing.data, housing.target.reshape(-1, 1))\n",
    "\n",
    "print(np.r_[lin_reg.intercept_.reshape(-1, 1), lin_reg.coef_.T])"
   ]
  },
  {
   "cell_type": "markdown",
   "metadata": {},
   "source": [
    "## Using Batch Gradient Descent"
   ]
  },
  {
   "cell_type": "code",
   "execution_count": 56,
   "metadata": {},
   "outputs": [],
   "source": [
    "from sklearn.preprocessing import StandardScaler\n",
    "scaler = StandardScaler()\n",
    "scaled_housing_data = scaler.fit_transform(housing.data)\n",
    "scaled_housing_data_plus_bias = np.c_[np.ones((m, 1)), scaled_housing_data]"
   ]
  },
  {
   "cell_type": "code",
   "execution_count": 57,
   "metadata": {},
   "outputs": [
    {
     "name": "stdout",
     "output_type": "stream",
     "text": [
      "[ 1.00000000e+00  6.60969987e-17  5.50808322e-18  6.60969987e-17\n",
      " -1.06030602e-16 -1.10161664e-17  3.44255201e-18 -1.07958431e-15\n",
      " -8.52651283e-15]\n",
      "[ 0.38915536  0.36424355  0.5116157  ... -0.06612179 -0.06360587\n",
      "  0.01359031]\n",
      "0.11111111111111005\n",
      "(20640, 9)\n"
     ]
    }
   ],
   "source": [
    "print(scaled_housing_data_plus_bias.mean(axis=0))\n",
    "print(scaled_housing_data_plus_bias.mean(axis=1))\n",
    "print(scaled_housing_data_plus_bias.mean())\n",
    "print(scaled_housing_data_plus_bias.shape)"
   ]
  },
  {
   "cell_type": "markdown",
   "metadata": {},
   "source": [
    "### Manually computing the gradients"
   ]
  },
  {
   "cell_type": "code",
   "execution_count": 58,
   "metadata": {},
   "outputs": [
    {
     "name": "stdout",
     "output_type": "stream",
     "text": [
      "Epoch 0 MSE = 9.161543\n",
      "Epoch 100 MSE = 0.7145007\n",
      "Epoch 200 MSE = 0.5667047\n",
      "Epoch 300 MSE = 0.5555716\n",
      "Epoch 400 MSE = 0.5488116\n",
      "Epoch 500 MSE = 0.54363626\n",
      "Epoch 600 MSE = 0.53962916\n",
      "Epoch 700 MSE = 0.53650916\n",
      "Epoch 800 MSE = 0.5340678\n",
      "Epoch 900 MSE = 0.53214705\n"
     ]
    }
   ],
   "source": [
    "reset_graph()\n",
    "\n",
    "n_epochs = 1000\n",
    "learning_rate = 0.01\n",
    "\n",
    "X = tf.constant(scaled_housing_data_plus_bias, dtype=tf.float32, name=\"X\")\n",
    "y = tf.constant(housing.target.reshape(-1, 1), dtype=tf.float32, name=\"y\")\n",
    "theta = tf.Variable(tf.random_uniform([n + 1, 1], -1.0, 1.0, seed=42), name=\"theta\")\n",
    "y_pred = tf.matmul(X, theta, name=\"predictions\")\n",
    "error = y_pred - y\n",
    "mse = tf.reduce_mean(tf.square(error), name=\"mse\")\n",
    "gradients = 2/m * tf.matmul(tf.transpose(X), error)\n",
    "training_op = tf.assign(theta, theta - learning_rate * gradients)\n",
    "\n",
    "init = tf.global_variables_initializer()\n",
    "\n",
    "with tf.Session() as sess:\n",
    "    sess.run(init)\n",
    "\n",
    "    for epoch in range(n_epochs):\n",
    "        if epoch % 100 == 0:\n",
    "            print(\"Epoch\", epoch, \"MSE =\", mse.eval())\n",
    "        sess.run(training_op)\n",
    "    \n",
    "    best_theta = theta.eval()"
   ]
  },
  {
   "cell_type": "code",
   "execution_count": 59,
   "metadata": {},
   "outputs": [
    {
     "data": {
      "text/plain": [
       "array([[ 2.0685525 ],\n",
       "       [ 0.8874027 ],\n",
       "       [ 0.14401658],\n",
       "       [-0.34770882],\n",
       "       [ 0.36178368],\n",
       "       [ 0.00393812],\n",
       "       [-0.04269557],\n",
       "       [-0.6614528 ],\n",
       "       [-0.63752776]], dtype=float32)"
      ]
     },
     "execution_count": 59,
     "metadata": {},
     "output_type": "execute_result"
    }
   ],
   "source": [
    "best_theta\n"
   ]
  },
  {
   "cell_type": "code",
   "execution_count": 60,
   "metadata": {},
   "outputs": [],
   "source": [
    "reset_graph()\n",
    "\n",
    "n_epochs = 1000\n",
    "learning_rate = 0.01\n",
    "\n",
    "X = tf.constant(scaled_housing_data_plus_bias, dtype=tf.float32, name=\"X\")\n",
    "y = tf.constant(housing.target.reshape(-1, 1), dtype=tf.float32, name=\"y\")\n",
    "theta = tf.Variable(tf.random_uniform([n + 1, 1], -1.0, 1.0, seed=42), name=\"theta\")\n",
    "y_pred = tf.matmul(X, theta, name=\"predictions\")\n",
    "error = y_pred - y\n",
    "mse = tf.reduce_mean(tf.square(error), name=\"mse\")"
   ]
  },
  {
   "cell_type": "code",
   "execution_count": 61,
   "metadata": {},
   "outputs": [],
   "source": [
    "gradients = tf.gradients(mse, [theta])[0]\n"
   ]
  },
  {
   "cell_type": "code",
   "execution_count": 62,
   "metadata": {},
   "outputs": [
    {
     "name": "stdout",
     "output_type": "stream",
     "text": [
      "Epoch 0 MSE = 9.161543\n",
      "Epoch 100 MSE = 0.7145006\n",
      "Epoch 200 MSE = 0.56670463\n",
      "Epoch 300 MSE = 0.5555716\n",
      "Epoch 400 MSE = 0.5488117\n",
      "Epoch 500 MSE = 0.5436362\n",
      "Epoch 600 MSE = 0.53962916\n",
      "Epoch 700 MSE = 0.53650916\n",
      "Epoch 800 MSE = 0.5340678\n",
      "Epoch 900 MSE = 0.53214717\n",
      "Best theta:\n",
      "[[ 2.0685525 ]\n",
      " [ 0.8874027 ]\n",
      " [ 0.14401658]\n",
      " [-0.34770882]\n",
      " [ 0.36178368]\n",
      " [ 0.00393811]\n",
      " [-0.04269556]\n",
      " [-0.6614528 ]\n",
      " [-0.6375277 ]]\n"
     ]
    }
   ],
   "source": [
    "training_op = tf.assign(theta, theta - learning_rate * gradients)\n",
    "\n",
    "init = tf.global_variables_initializer()\n",
    "\n",
    "with tf.Session() as sess:\n",
    "    sess.run(init)\n",
    "\n",
    "    for epoch in range(n_epochs):\n",
    "        if epoch % 100 == 0:\n",
    "            print(\"Epoch\", epoch, \"MSE =\", mse.eval())\n",
    "        sess.run(training_op)\n",
    "    \n",
    "    best_theta = theta.eval()\n",
    "\n",
    "print(\"Best theta:\")\n",
    "print(best_theta)"
   ]
  },
  {
   "cell_type": "code",
   "execution_count": 63,
   "metadata": {},
   "outputs": [],
   "source": [
    "def my_func(a, b):\n",
    "    z = 0\n",
    "    for i in range(100):\n",
    "        z = a * np.cos(z + i) + z * np.sin(b - i)\n",
    "    return z"
   ]
  },
  {
   "cell_type": "code",
   "execution_count": 64,
   "metadata": {},
   "outputs": [
    {
     "data": {
      "text/plain": [
       "-0.21253923284754914"
      ]
     },
     "execution_count": 64,
     "metadata": {},
     "output_type": "execute_result"
    }
   ],
   "source": [
    "my_func(0.2, 0.3)\n"
   ]
  },
  {
   "cell_type": "code",
   "execution_count": 65,
   "metadata": {},
   "outputs": [],
   "source": [
    "reset_graph()\n",
    "\n",
    "a = tf.Variable(0.2, name=\"a\")\n",
    "b = tf.Variable(0.3, name=\"b\")\n",
    "z = tf.constant(0.0, name=\"z0\")\n",
    "for i in range(100):\n",
    "    z = a * tf.cos(z + i) + z * tf.sin(b - i)\n",
    "\n",
    "grads = tf.gradients(z, [a, b])\n",
    "init = tf.global_variables_initializer()"
   ]
  },
  {
   "cell_type": "code",
   "execution_count": 66,
   "metadata": {},
   "outputs": [
    {
     "name": "stdout",
     "output_type": "stream",
     "text": [
      "-0.21253741\n",
      "[-1.1388494, 0.19671395]\n"
     ]
    }
   ],
   "source": [
    "with tf.Session() as sess:\n",
    "    init.run()\n",
    "    print(z.eval())\n",
    "    print(sess.run(grads))"
   ]
  },
  {
   "cell_type": "markdown",
   "metadata": {
    "collapsed": true
   },
   "source": [
    "# Using a GradientDescentOptimizer"
   ]
  },
  {
   "cell_type": "code",
   "execution_count": 67,
   "metadata": {},
   "outputs": [],
   "source": [
    "reset_graph()\n",
    "\n",
    "n_epochs = 1000\n",
    "learning_rate = 0.01\n",
    "\n",
    "X = tf.constant(scaled_housing_data_plus_bias, dtype=tf.float32, name=\"X\")\n",
    "y = tf.constant(housing.target.reshape(-1, 1), dtype=tf.float32, name=\"y\")\n",
    "theta = tf.Variable(tf.random_uniform([n + 1, 1], -1.0, 1.0, seed=42), name=\"theta\")\n",
    "y_pred = tf.matmul(X, theta, name=\"predictions\")\n",
    "error = y_pred - y\n",
    "mse = tf.reduce_mean(tf.square(error), name=\"mse\")"
   ]
  },
  {
   "cell_type": "code",
   "execution_count": 68,
   "metadata": {},
   "outputs": [],
   "source": [
    "optimizer = tf.train.GradientDescentOptimizer(learning_rate=learning_rate)\n",
    "training_op = optimizer.minimize(mse)"
   ]
  },
  {
   "cell_type": "code",
   "execution_count": 69,
   "metadata": {},
   "outputs": [
    {
     "name": "stdout",
     "output_type": "stream",
     "text": [
      "Epoch 0 MSE = 9.161543\n",
      "Epoch 100 MSE = 0.7145006\n",
      "Epoch 200 MSE = 0.56670463\n",
      "Epoch 300 MSE = 0.5555716\n",
      "Epoch 400 MSE = 0.5488117\n",
      "Epoch 500 MSE = 0.5436362\n",
      "Epoch 600 MSE = 0.53962916\n",
      "Epoch 700 MSE = 0.53650916\n",
      "Epoch 800 MSE = 0.5340678\n",
      "Epoch 900 MSE = 0.53214717\n",
      "Best theta:\n",
      "[[ 2.0685525 ]\n",
      " [ 0.8874027 ]\n",
      " [ 0.14401658]\n",
      " [-0.34770882]\n",
      " [ 0.36178368]\n",
      " [ 0.00393811]\n",
      " [-0.04269556]\n",
      " [-0.6614528 ]\n",
      " [-0.6375277 ]]\n"
     ]
    }
   ],
   "source": [
    "init = tf.global_variables_initializer()\n",
    "\n",
    "with tf.Session() as sess:\n",
    "    sess.run(init)\n",
    "\n",
    "    for epoch in range(n_epochs):\n",
    "        if epoch % 100 == 0:\n",
    "            print(\"Epoch\", epoch, \"MSE =\", mse.eval())\n",
    "        sess.run(training_op)\n",
    "    \n",
    "    best_theta = theta.eval()\n",
    "\n",
    "print(\"Best theta:\")\n",
    "print(best_theta)"
   ]
  },
  {
   "cell_type": "code",
   "execution_count": 70,
   "metadata": {},
   "outputs": [],
   "source": [
    "reset_graph()\n",
    "\n",
    "n_epochs = 1000\n",
    "learning_rate = 0.01\n",
    "\n",
    "X = tf.constant(scaled_housing_data_plus_bias, dtype=tf.float32, name=\"X\")\n",
    "y = tf.constant(housing.target.reshape(-1, 1), dtype=tf.float32, name=\"y\")\n",
    "theta = tf.Variable(tf.random_uniform([n + 1, 1], -1.0, 1.0, seed=42), name=\"theta\")\n",
    "y_pred = tf.matmul(X, theta, name=\"predictions\")\n",
    "error = y_pred - y\n",
    "mse = tf.reduce_mean(tf.square(error), name=\"mse\")"
   ]
  },
  {
   "cell_type": "code",
   "execution_count": 71,
   "metadata": {},
   "outputs": [],
   "source": [
    "optimizer = tf.train.MomentumOptimizer(learning_rate=learning_rate,\n",
    "                                       momentum=0.9)"
   ]
  },
  {
   "cell_type": "code",
   "execution_count": 72,
   "metadata": {},
   "outputs": [],
   "source": [
    "training_op = optimizer.minimize(mse)\n",
    "\n",
    "init = tf.global_variables_initializer()"
   ]
  },
  {
   "cell_type": "code",
   "execution_count": 73,
   "metadata": {},
   "outputs": [
    {
     "name": "stdout",
     "output_type": "stream",
     "text": [
      "Best theta:\n",
      "[[ 2.068558  ]\n",
      " [ 0.8296286 ]\n",
      " [ 0.11875337]\n",
      " [-0.26554456]\n",
      " [ 0.3057109 ]\n",
      " [-0.00450251]\n",
      " [-0.03932662]\n",
      " [-0.89986444]\n",
      " [-0.87052065]]\n"
     ]
    }
   ],
   "source": [
    "with tf.Session() as sess:\n",
    "    sess.run(init)\n",
    "\n",
    "    for epoch in range(n_epochs):\n",
    "        sess.run(training_op)\n",
    "    \n",
    "    best_theta = theta.eval()\n",
    "\n",
    "print(\"Best theta:\")\n",
    "print(best_theta)"
   ]
  },
  {
   "cell_type": "code",
   "execution_count": 74,
   "metadata": {},
   "outputs": [
    {
     "name": "stdout",
     "output_type": "stream",
     "text": [
      "[[6. 7. 8.]]\n"
     ]
    }
   ],
   "source": [
    "reset_graph()\n",
    "\n",
    "A = tf.placeholder(tf.float32, shape=(None, 3))\n",
    "B = A + 5\n",
    "with tf.Session() as sess:\n",
    "    B_val_1 = B.eval(feed_dict={A: [[1, 2, 3]]})\n",
    "    B_val_2 = B.eval(feed_dict={A: [[4, 5, 6], [7, 8, 9]]})\n",
    "\n",
    "print(B_val_1)"
   ]
  },
  {
   "cell_type": "code",
   "execution_count": 75,
   "metadata": {},
   "outputs": [
    {
     "name": "stdout",
     "output_type": "stream",
     "text": [
      "[[ 9. 10. 11.]\n",
      " [12. 13. 14.]]\n"
     ]
    }
   ],
   "source": [
    "print(B_val_2)\n"
   ]
  },
  {
   "cell_type": "markdown",
   "metadata": {},
   "source": [
    "# Mini-batch Gradient Descent"
   ]
  },
  {
   "cell_type": "code",
   "execution_count": 76,
   "metadata": {},
   "outputs": [],
   "source": [
    "n_epochs = 1000\n",
    "learning_rate = 0.01"
   ]
  },
  {
   "cell_type": "code",
   "execution_count": 77,
   "metadata": {},
   "outputs": [],
   "source": [
    "reset_graph()\n",
    "\n",
    "X = tf.placeholder(tf.float32, shape=(None, n + 1), name=\"X\")\n",
    "y = tf.placeholder(tf.float32, shape=(None, 1), name=\"y\")"
   ]
  },
  {
   "cell_type": "code",
   "execution_count": 78,
   "metadata": {},
   "outputs": [],
   "source": [
    "theta = tf.Variable(tf.random_uniform([n + 1, 1], -1.0, 1.0, seed=42), name=\"theta\")\n",
    "y_pred = tf.matmul(X, theta, name=\"predictions\")\n",
    "error = y_pred - y\n",
    "mse = tf.reduce_mean(tf.square(error), name=\"mse\")\n",
    "optimizer = tf.train.GradientDescentOptimizer(learning_rate=learning_rate)\n",
    "training_op = optimizer.minimize(mse)\n",
    "\n",
    "init = tf.global_variables_initializer()"
   ]
  },
  {
   "cell_type": "code",
   "execution_count": 79,
   "metadata": {},
   "outputs": [],
   "source": [
    "n_epochs = 10\n"
   ]
  },
  {
   "cell_type": "code",
   "execution_count": 80,
   "metadata": {},
   "outputs": [],
   "source": [
    "batch_size = 100\n",
    "n_batches = int(np.ceil(m / batch_size))"
   ]
  },
  {
   "cell_type": "code",
   "execution_count": 81,
   "metadata": {},
   "outputs": [],
   "source": [
    "def fetch_batch(epoch, batch_index, batch_size):\n",
    "    np.random.seed(epoch * n_batches + batch_index)  # not shown in the book\n",
    "    indices = np.random.randint(m, size=batch_size)  # not shown\n",
    "    X_batch = scaled_housing_data_plus_bias[indices] # not shown\n",
    "    y_batch = housing.target.reshape(-1, 1)[indices] # not shown\n",
    "    return X_batch, y_batch\n",
    "\n",
    "with tf.Session() as sess:\n",
    "    sess.run(init)\n",
    "\n",
    "    for epoch in range(n_epochs):\n",
    "        for batch_index in range(n_batches):\n",
    "            X_batch, y_batch = fetch_batch(epoch, batch_index, batch_size)\n",
    "            sess.run(training_op, feed_dict={X: X_batch, y: y_batch})\n",
    "\n",
    "    best_theta = theta.eval()"
   ]
  },
  {
   "cell_type": "code",
   "execution_count": 82,
   "metadata": {},
   "outputs": [
    {
     "data": {
      "text/plain": [
       "array([[ 2.0703337 ],\n",
       "       [ 0.8637145 ],\n",
       "       [ 0.12255151],\n",
       "       [-0.31211874],\n",
       "       [ 0.38510373],\n",
       "       [ 0.00434168],\n",
       "       [-0.01232954],\n",
       "       [-0.83376896],\n",
       "       [-0.8030471 ]], dtype=float32)"
      ]
     },
     "execution_count": 82,
     "metadata": {},
     "output_type": "execute_result"
    }
   ],
   "source": [
    "best_theta\n"
   ]
  },
  {
   "cell_type": "markdown",
   "metadata": {},
   "source": [
    "# Visualizing the graph"
   ]
  },
  {
   "cell_type": "code",
   "execution_count": 83,
   "metadata": {},
   "outputs": [],
   "source": [
    "from IPython.display import clear_output, Image, display, HTML\n",
    "\n",
    "def strip_consts(graph_def, max_const_size=32):\n",
    "    \"\"\"Strip large constant values from graph_def.\"\"\"\n",
    "    strip_def = tf.GraphDef()\n",
    "    for n0 in graph_def.node:\n",
    "        n = strip_def.node.add() \n",
    "        n.MergeFrom(n0)\n",
    "        if n.op == 'Const':\n",
    "            tensor = n.attr['value'].tensor\n",
    "            size = len(tensor.tensor_content)\n",
    "            if size > max_const_size:\n",
    "                tensor.tensor_content = b\"<stripped %d bytes>\"%size\n",
    "    return strip_def\n",
    "\n",
    "def show_graph(graph_def, max_const_size=32):\n",
    "    \"\"\"Visualize TensorFlow graph.\"\"\"\n",
    "    if hasattr(graph_def, 'as_graph_def'):\n",
    "        graph_def = graph_def.as_graph_def()\n",
    "    strip_def = strip_consts(graph_def, max_const_size=max_const_size)\n",
    "    code = \"\"\"\n",
    "        <script>\n",
    "          function load() {{\n",
    "            document.getElementById(\"{id}\").pbtxt = {data};\n",
    "          }}\n",
    "        </script>\n",
    "        <link rel=\"import\" href=\"https://tensorboard.appspot.com/tf-graph-basic.build.html\" onload=load()>\n",
    "        <div style=\"height:600px\">\n",
    "          <tf-graph-basic id=\"{id}\"></tf-graph-basic>\n",
    "        </div>\n",
    "    \"\"\".format(data=repr(str(strip_def)), id='graph'+str(np.random.rand()))\n",
    "\n",
    "    iframe = \"\"\"\n",
    "        <iframe seamless style=\"width:1200px;height:620px;border:0\" srcdoc=\"{}\"></iframe>\n",
    "    \"\"\".format(code.replace('\"', '&quot;'))\n",
    "    display(HTML(iframe))"
   ]
  },
  {
   "cell_type": "code",
   "execution_count": 84,
   "metadata": {},
   "outputs": [
    {
     "data": {
      "text/html": [
       "\n",
       "        <iframe seamless style=\"width:1200px;height:620px;border:0\" srcdoc=\"\n",
       "        <script>\n",
       "          function load() {\n",
       "            document.getElementById(&quot;graph0.1784179106002547&quot;).pbtxt = 'node {\\n  name: &quot;X&quot;\\n  op: &quot;Placeholder&quot;\\n  attr {\\n    key: &quot;dtype&quot;\\n    value {\\n      type: DT_FLOAT\\n    }\\n  }\\n  attr {\\n    key: &quot;shape&quot;\\n    value {\\n      shape {\\n        dim {\\n          size: -1\\n        }\\n        dim {\\n          size: 9\\n        }\\n      }\\n    }\\n  }\\n}\\nnode {\\n  name: &quot;y&quot;\\n  op: &quot;Placeholder&quot;\\n  attr {\\n    key: &quot;dtype&quot;\\n    value {\\n      type: DT_FLOAT\\n    }\\n  }\\n  attr {\\n    key: &quot;shape&quot;\\n    value {\\n      shape {\\n        dim {\\n          size: -1\\n        }\\n        dim {\\n          size: 1\\n        }\\n      }\\n    }\\n  }\\n}\\nnode {\\n  name: &quot;random_uniform/shape&quot;\\n  op: &quot;Const&quot;\\n  attr {\\n    key: &quot;dtype&quot;\\n    value {\\n      type: DT_INT32\\n    }\\n  }\\n  attr {\\n    key: &quot;value&quot;\\n    value {\\n      tensor {\\n        dtype: DT_INT32\\n        tensor_shape {\\n          dim {\\n            size: 2\\n          }\\n        }\\n        tensor_content: &quot;\\\\t\\\\000\\\\000\\\\000\\\\001\\\\000\\\\000\\\\000&quot;\\n      }\\n    }\\n  }\\n}\\nnode {\\n  name: &quot;random_uniform/min&quot;\\n  op: &quot;Const&quot;\\n  attr {\\n    key: &quot;dtype&quot;\\n    value {\\n      type: DT_FLOAT\\n    }\\n  }\\n  attr {\\n    key: &quot;value&quot;\\n    value {\\n      tensor {\\n        dtype: DT_FLOAT\\n        tensor_shape {\\n        }\\n        float_val: -1.0\\n      }\\n    }\\n  }\\n}\\nnode {\\n  name: &quot;random_uniform/max&quot;\\n  op: &quot;Const&quot;\\n  attr {\\n    key: &quot;dtype&quot;\\n    value {\\n      type: DT_FLOAT\\n    }\\n  }\\n  attr {\\n    key: &quot;value&quot;\\n    value {\\n      tensor {\\n        dtype: DT_FLOAT\\n        tensor_shape {\\n        }\\n        float_val: 1.0\\n      }\\n    }\\n  }\\n}\\nnode {\\n  name: &quot;random_uniform/RandomUniform&quot;\\n  op: &quot;RandomUniform&quot;\\n  input: &quot;random_uniform/shape&quot;\\n  attr {\\n    key: &quot;T&quot;\\n    value {\\n      type: DT_INT32\\n    }\\n  }\\n  attr {\\n    key: &quot;dtype&quot;\\n    value {\\n      type: DT_FLOAT\\n    }\\n  }\\n  attr {\\n    key: &quot;seed&quot;\\n    value {\\n      i: 42\\n    }\\n  }\\n  attr {\\n    key: &quot;seed2&quot;\\n    value {\\n      i: 42\\n    }\\n  }\\n}\\nnode {\\n  name: &quot;random_uniform/sub&quot;\\n  op: &quot;Sub&quot;\\n  input: &quot;random_uniform/max&quot;\\n  input: &quot;random_uniform/min&quot;\\n  attr {\\n    key: &quot;T&quot;\\n    value {\\n      type: DT_FLOAT\\n    }\\n  }\\n}\\nnode {\\n  name: &quot;random_uniform/mul&quot;\\n  op: &quot;Mul&quot;\\n  input: &quot;random_uniform/RandomUniform&quot;\\n  input: &quot;random_uniform/sub&quot;\\n  attr {\\n    key: &quot;T&quot;\\n    value {\\n      type: DT_FLOAT\\n    }\\n  }\\n}\\nnode {\\n  name: &quot;random_uniform&quot;\\n  op: &quot;Add&quot;\\n  input: &quot;random_uniform/mul&quot;\\n  input: &quot;random_uniform/min&quot;\\n  attr {\\n    key: &quot;T&quot;\\n    value {\\n      type: DT_FLOAT\\n    }\\n  }\\n}\\nnode {\\n  name: &quot;theta&quot;\\n  op: &quot;VariableV2&quot;\\n  attr {\\n    key: &quot;container&quot;\\n    value {\\n      s: &quot;&quot;\\n    }\\n  }\\n  attr {\\n    key: &quot;dtype&quot;\\n    value {\\n      type: DT_FLOAT\\n    }\\n  }\\n  attr {\\n    key: &quot;shape&quot;\\n    value {\\n      shape {\\n        dim {\\n          size: 9\\n        }\\n        dim {\\n          size: 1\\n        }\\n      }\\n    }\\n  }\\n  attr {\\n    key: &quot;shared_name&quot;\\n    value {\\n      s: &quot;&quot;\\n    }\\n  }\\n}\\nnode {\\n  name: &quot;theta/Assign&quot;\\n  op: &quot;Assign&quot;\\n  input: &quot;theta&quot;\\n  input: &quot;random_uniform&quot;\\n  attr {\\n    key: &quot;T&quot;\\n    value {\\n      type: DT_FLOAT\\n    }\\n  }\\n  attr {\\n    key: &quot;_class&quot;\\n    value {\\n      list {\\n        s: &quot;loc:@theta&quot;\\n      }\\n    }\\n  }\\n  attr {\\n    key: &quot;use_locking&quot;\\n    value {\\n      b: true\\n    }\\n  }\\n  attr {\\n    key: &quot;validate_shape&quot;\\n    value {\\n      b: true\\n    }\\n  }\\n}\\nnode {\\n  name: &quot;theta/read&quot;\\n  op: &quot;Identity&quot;\\n  input: &quot;theta&quot;\\n  attr {\\n    key: &quot;T&quot;\\n    value {\\n      type: DT_FLOAT\\n    }\\n  }\\n  attr {\\n    key: &quot;_class&quot;\\n    value {\\n      list {\\n        s: &quot;loc:@theta&quot;\\n      }\\n    }\\n  }\\n}\\nnode {\\n  name: &quot;predictions&quot;\\n  op: &quot;MatMul&quot;\\n  input: &quot;X&quot;\\n  input: &quot;theta/read&quot;\\n  attr {\\n    key: &quot;T&quot;\\n    value {\\n      type: DT_FLOAT\\n    }\\n  }\\n  attr {\\n    key: &quot;transpose_a&quot;\\n    value {\\n      b: false\\n    }\\n  }\\n  attr {\\n    key: &quot;transpose_b&quot;\\n    value {\\n      b: false\\n    }\\n  }\\n}\\nnode {\\n  name: &quot;sub&quot;\\n  op: &quot;Sub&quot;\\n  input: &quot;predictions&quot;\\n  input: &quot;y&quot;\\n  attr {\\n    key: &quot;T&quot;\\n    value {\\n      type: DT_FLOAT\\n    }\\n  }\\n}\\nnode {\\n  name: &quot;Square&quot;\\n  op: &quot;Square&quot;\\n  input: &quot;sub&quot;\\n  attr {\\n    key: &quot;T&quot;\\n    value {\\n      type: DT_FLOAT\\n    }\\n  }\\n}\\nnode {\\n  name: &quot;Const&quot;\\n  op: &quot;Const&quot;\\n  attr {\\n    key: &quot;dtype&quot;\\n    value {\\n      type: DT_INT32\\n    }\\n  }\\n  attr {\\n    key: &quot;value&quot;\\n    value {\\n      tensor {\\n        dtype: DT_INT32\\n        tensor_shape {\\n          dim {\\n            size: 2\\n          }\\n        }\\n        tensor_content: &quot;\\\\000\\\\000\\\\000\\\\000\\\\001\\\\000\\\\000\\\\000&quot;\\n      }\\n    }\\n  }\\n}\\nnode {\\n  name: &quot;mse&quot;\\n  op: &quot;Mean&quot;\\n  input: &quot;Square&quot;\\n  input: &quot;Const&quot;\\n  attr {\\n    key: &quot;T&quot;\\n    value {\\n      type: DT_FLOAT\\n    }\\n  }\\n  attr {\\n    key: &quot;Tidx&quot;\\n    value {\\n      type: DT_INT32\\n    }\\n  }\\n  attr {\\n    key: &quot;keep_dims&quot;\\n    value {\\n      b: false\\n    }\\n  }\\n}\\nnode {\\n  name: &quot;gradients/Shape&quot;\\n  op: &quot;Const&quot;\\n  attr {\\n    key: &quot;dtype&quot;\\n    value {\\n      type: DT_INT32\\n    }\\n  }\\n  attr {\\n    key: &quot;value&quot;\\n    value {\\n      tensor {\\n        dtype: DT_INT32\\n        tensor_shape {\\n          dim {\\n          }\\n        }\\n      }\\n    }\\n  }\\n}\\nnode {\\n  name: &quot;gradients/grad_ys_0&quot;\\n  op: &quot;Const&quot;\\n  attr {\\n    key: &quot;dtype&quot;\\n    value {\\n      type: DT_FLOAT\\n    }\\n  }\\n  attr {\\n    key: &quot;value&quot;\\n    value {\\n      tensor {\\n        dtype: DT_FLOAT\\n        tensor_shape {\\n        }\\n        float_val: 1.0\\n      }\\n    }\\n  }\\n}\\nnode {\\n  name: &quot;gradients/Fill&quot;\\n  op: &quot;Fill&quot;\\n  input: &quot;gradients/Shape&quot;\\n  input: &quot;gradients/grad_ys_0&quot;\\n  attr {\\n    key: &quot;T&quot;\\n    value {\\n      type: DT_FLOAT\\n    }\\n  }\\n}\\nnode {\\n  name: &quot;gradients/mse_grad/Reshape/shape&quot;\\n  op: &quot;Const&quot;\\n  attr {\\n    key: &quot;dtype&quot;\\n    value {\\n      type: DT_INT32\\n    }\\n  }\\n  attr {\\n    key: &quot;value&quot;\\n    value {\\n      tensor {\\n        dtype: DT_INT32\\n        tensor_shape {\\n          dim {\\n            size: 2\\n          }\\n        }\\n        tensor_content: &quot;\\\\001\\\\000\\\\000\\\\000\\\\001\\\\000\\\\000\\\\000&quot;\\n      }\\n    }\\n  }\\n}\\nnode {\\n  name: &quot;gradients/mse_grad/Reshape&quot;\\n  op: &quot;Reshape&quot;\\n  input: &quot;gradients/Fill&quot;\\n  input: &quot;gradients/mse_grad/Reshape/shape&quot;\\n  attr {\\n    key: &quot;T&quot;\\n    value {\\n      type: DT_FLOAT\\n    }\\n  }\\n  attr {\\n    key: &quot;Tshape&quot;\\n    value {\\n      type: DT_INT32\\n    }\\n  }\\n}\\nnode {\\n  name: &quot;gradients/mse_grad/Shape&quot;\\n  op: &quot;Shape&quot;\\n  input: &quot;Square&quot;\\n  attr {\\n    key: &quot;T&quot;\\n    value {\\n      type: DT_FLOAT\\n    }\\n  }\\n  attr {\\n    key: &quot;out_type&quot;\\n    value {\\n      type: DT_INT32\\n    }\\n  }\\n}\\nnode {\\n  name: &quot;gradients/mse_grad/Tile&quot;\\n  op: &quot;Tile&quot;\\n  input: &quot;gradients/mse_grad/Reshape&quot;\\n  input: &quot;gradients/mse_grad/Shape&quot;\\n  attr {\\n    key: &quot;T&quot;\\n    value {\\n      type: DT_FLOAT\\n    }\\n  }\\n  attr {\\n    key: &quot;Tmultiples&quot;\\n    value {\\n      type: DT_INT32\\n    }\\n  }\\n}\\nnode {\\n  name: &quot;gradients/mse_grad/Shape_1&quot;\\n  op: &quot;Shape&quot;\\n  input: &quot;Square&quot;\\n  attr {\\n    key: &quot;T&quot;\\n    value {\\n      type: DT_FLOAT\\n    }\\n  }\\n  attr {\\n    key: &quot;out_type&quot;\\n    value {\\n      type: DT_INT32\\n    }\\n  }\\n}\\nnode {\\n  name: &quot;gradients/mse_grad/Shape_2&quot;\\n  op: &quot;Const&quot;\\n  attr {\\n    key: &quot;dtype&quot;\\n    value {\\n      type: DT_INT32\\n    }\\n  }\\n  attr {\\n    key: &quot;value&quot;\\n    value {\\n      tensor {\\n        dtype: DT_INT32\\n        tensor_shape {\\n          dim {\\n          }\\n        }\\n      }\\n    }\\n  }\\n}\\nnode {\\n  name: &quot;gradients/mse_grad/Const&quot;\\n  op: &quot;Const&quot;\\n  attr {\\n    key: &quot;dtype&quot;\\n    value {\\n      type: DT_INT32\\n    }\\n  }\\n  attr {\\n    key: &quot;value&quot;\\n    value {\\n      tensor {\\n        dtype: DT_INT32\\n        tensor_shape {\\n          dim {\\n            size: 1\\n          }\\n        }\\n        int_val: 0\\n      }\\n    }\\n  }\\n}\\nnode {\\n  name: &quot;gradients/mse_grad/Prod&quot;\\n  op: &quot;Prod&quot;\\n  input: &quot;gradients/mse_grad/Shape_1&quot;\\n  input: &quot;gradients/mse_grad/Const&quot;\\n  attr {\\n    key: &quot;T&quot;\\n    value {\\n      type: DT_INT32\\n    }\\n  }\\n  attr {\\n    key: &quot;Tidx&quot;\\n    value {\\n      type: DT_INT32\\n    }\\n  }\\n  attr {\\n    key: &quot;keep_dims&quot;\\n    value {\\n      b: false\\n    }\\n  }\\n}\\nnode {\\n  name: &quot;gradients/mse_grad/Const_1&quot;\\n  op: &quot;Const&quot;\\n  attr {\\n    key: &quot;dtype&quot;\\n    value {\\n      type: DT_INT32\\n    }\\n  }\\n  attr {\\n    key: &quot;value&quot;\\n    value {\\n      tensor {\\n        dtype: DT_INT32\\n        tensor_shape {\\n          dim {\\n            size: 1\\n          }\\n        }\\n        int_val: 0\\n      }\\n    }\\n  }\\n}\\nnode {\\n  name: &quot;gradients/mse_grad/Prod_1&quot;\\n  op: &quot;Prod&quot;\\n  input: &quot;gradients/mse_grad/Shape_2&quot;\\n  input: &quot;gradients/mse_grad/Const_1&quot;\\n  attr {\\n    key: &quot;T&quot;\\n    value {\\n      type: DT_INT32\\n    }\\n  }\\n  attr {\\n    key: &quot;Tidx&quot;\\n    value {\\n      type: DT_INT32\\n    }\\n  }\\n  attr {\\n    key: &quot;keep_dims&quot;\\n    value {\\n      b: false\\n    }\\n  }\\n}\\nnode {\\n  name: &quot;gradients/mse_grad/Maximum/y&quot;\\n  op: &quot;Const&quot;\\n  attr {\\n    key: &quot;dtype&quot;\\n    value {\\n      type: DT_INT32\\n    }\\n  }\\n  attr {\\n    key: &quot;value&quot;\\n    value {\\n      tensor {\\n        dtype: DT_INT32\\n        tensor_shape {\\n        }\\n        int_val: 1\\n      }\\n    }\\n  }\\n}\\nnode {\\n  name: &quot;gradients/mse_grad/Maximum&quot;\\n  op: &quot;Maximum&quot;\\n  input: &quot;gradients/mse_grad/Prod_1&quot;\\n  input: &quot;gradients/mse_grad/Maximum/y&quot;\\n  attr {\\n    key: &quot;T&quot;\\n    value {\\n      type: DT_INT32\\n    }\\n  }\\n}\\nnode {\\n  name: &quot;gradients/mse_grad/floordiv&quot;\\n  op: &quot;FloorDiv&quot;\\n  input: &quot;gradients/mse_grad/Prod&quot;\\n  input: &quot;gradients/mse_grad/Maximum&quot;\\n  attr {\\n    key: &quot;T&quot;\\n    value {\\n      type: DT_INT32\\n    }\\n  }\\n}\\nnode {\\n  name: &quot;gradients/mse_grad/Cast&quot;\\n  op: &quot;Cast&quot;\\n  input: &quot;gradients/mse_grad/floordiv&quot;\\n  attr {\\n    key: &quot;DstT&quot;\\n    value {\\n      type: DT_FLOAT\\n    }\\n  }\\n  attr {\\n    key: &quot;SrcT&quot;\\n    value {\\n      type: DT_INT32\\n    }\\n  }\\n}\\nnode {\\n  name: &quot;gradients/mse_grad/truediv&quot;\\n  op: &quot;RealDiv&quot;\\n  input: &quot;gradients/mse_grad/Tile&quot;\\n  input: &quot;gradients/mse_grad/Cast&quot;\\n  attr {\\n    key: &quot;T&quot;\\n    value {\\n      type: DT_FLOAT\\n    }\\n  }\\n}\\nnode {\\n  name: &quot;gradients/Square_grad/mul/x&quot;\\n  op: &quot;Const&quot;\\n  input: &quot;^gradients/mse_grad/truediv&quot;\\n  attr {\\n    key: &quot;dtype&quot;\\n    value {\\n      type: DT_FLOAT\\n    }\\n  }\\n  attr {\\n    key: &quot;value&quot;\\n    value {\\n      tensor {\\n        dtype: DT_FLOAT\\n        tensor_shape {\\n        }\\n        float_val: 2.0\\n      }\\n    }\\n  }\\n}\\nnode {\\n  name: &quot;gradients/Square_grad/mul&quot;\\n  op: &quot;Mul&quot;\\n  input: &quot;gradients/Square_grad/mul/x&quot;\\n  input: &quot;sub&quot;\\n  attr {\\n    key: &quot;T&quot;\\n    value {\\n      type: DT_FLOAT\\n    }\\n  }\\n}\\nnode {\\n  name: &quot;gradients/Square_grad/mul_1&quot;\\n  op: &quot;Mul&quot;\\n  input: &quot;gradients/mse_grad/truediv&quot;\\n  input: &quot;gradients/Square_grad/mul&quot;\\n  attr {\\n    key: &quot;T&quot;\\n    value {\\n      type: DT_FLOAT\\n    }\\n  }\\n}\\nnode {\\n  name: &quot;gradients/sub_grad/Shape&quot;\\n  op: &quot;Shape&quot;\\n  input: &quot;predictions&quot;\\n  attr {\\n    key: &quot;T&quot;\\n    value {\\n      type: DT_FLOAT\\n    }\\n  }\\n  attr {\\n    key: &quot;out_type&quot;\\n    value {\\n      type: DT_INT32\\n    }\\n  }\\n}\\nnode {\\n  name: &quot;gradients/sub_grad/Shape_1&quot;\\n  op: &quot;Shape&quot;\\n  input: &quot;y&quot;\\n  attr {\\n    key: &quot;T&quot;\\n    value {\\n      type: DT_FLOAT\\n    }\\n  }\\n  attr {\\n    key: &quot;out_type&quot;\\n    value {\\n      type: DT_INT32\\n    }\\n  }\\n}\\nnode {\\n  name: &quot;gradients/sub_grad/BroadcastGradientArgs&quot;\\n  op: &quot;BroadcastGradientArgs&quot;\\n  input: &quot;gradients/sub_grad/Shape&quot;\\n  input: &quot;gradients/sub_grad/Shape_1&quot;\\n  attr {\\n    key: &quot;T&quot;\\n    value {\\n      type: DT_INT32\\n    }\\n  }\\n}\\nnode {\\n  name: &quot;gradients/sub_grad/Sum&quot;\\n  op: &quot;Sum&quot;\\n  input: &quot;gradients/Square_grad/mul_1&quot;\\n  input: &quot;gradients/sub_grad/BroadcastGradientArgs&quot;\\n  attr {\\n    key: &quot;T&quot;\\n    value {\\n      type: DT_FLOAT\\n    }\\n  }\\n  attr {\\n    key: &quot;Tidx&quot;\\n    value {\\n      type: DT_INT32\\n    }\\n  }\\n  attr {\\n    key: &quot;keep_dims&quot;\\n    value {\\n      b: false\\n    }\\n  }\\n}\\nnode {\\n  name: &quot;gradients/sub_grad/Reshape&quot;\\n  op: &quot;Reshape&quot;\\n  input: &quot;gradients/sub_grad/Sum&quot;\\n  input: &quot;gradients/sub_grad/Shape&quot;\\n  attr {\\n    key: &quot;T&quot;\\n    value {\\n      type: DT_FLOAT\\n    }\\n  }\\n  attr {\\n    key: &quot;Tshape&quot;\\n    value {\\n      type: DT_INT32\\n    }\\n  }\\n}\\nnode {\\n  name: &quot;gradients/sub_grad/Sum_1&quot;\\n  op: &quot;Sum&quot;\\n  input: &quot;gradients/Square_grad/mul_1&quot;\\n  input: &quot;gradients/sub_grad/BroadcastGradientArgs:1&quot;\\n  attr {\\n    key: &quot;T&quot;\\n    value {\\n      type: DT_FLOAT\\n    }\\n  }\\n  attr {\\n    key: &quot;Tidx&quot;\\n    value {\\n      type: DT_INT32\\n    }\\n  }\\n  attr {\\n    key: &quot;keep_dims&quot;\\n    value {\\n      b: false\\n    }\\n  }\\n}\\nnode {\\n  name: &quot;gradients/sub_grad/Neg&quot;\\n  op: &quot;Neg&quot;\\n  input: &quot;gradients/sub_grad/Sum_1&quot;\\n  attr {\\n    key: &quot;T&quot;\\n    value {\\n      type: DT_FLOAT\\n    }\\n  }\\n}\\nnode {\\n  name: &quot;gradients/sub_grad/Reshape_1&quot;\\n  op: &quot;Reshape&quot;\\n  input: &quot;gradients/sub_grad/Neg&quot;\\n  input: &quot;gradients/sub_grad/Shape_1&quot;\\n  attr {\\n    key: &quot;T&quot;\\n    value {\\n      type: DT_FLOAT\\n    }\\n  }\\n  attr {\\n    key: &quot;Tshape&quot;\\n    value {\\n      type: DT_INT32\\n    }\\n  }\\n}\\nnode {\\n  name: &quot;gradients/sub_grad/tuple/group_deps&quot;\\n  op: &quot;NoOp&quot;\\n  input: &quot;^gradients/sub_grad/Reshape&quot;\\n  input: &quot;^gradients/sub_grad/Reshape_1&quot;\\n}\\nnode {\\n  name: &quot;gradients/sub_grad/tuple/control_dependency&quot;\\n  op: &quot;Identity&quot;\\n  input: &quot;gradients/sub_grad/Reshape&quot;\\n  input: &quot;^gradients/sub_grad/tuple/group_deps&quot;\\n  attr {\\n    key: &quot;T&quot;\\n    value {\\n      type: DT_FLOAT\\n    }\\n  }\\n  attr {\\n    key: &quot;_class&quot;\\n    value {\\n      list {\\n        s: &quot;loc:@gradients/sub_grad/Reshape&quot;\\n      }\\n    }\\n  }\\n}\\nnode {\\n  name: &quot;gradients/sub_grad/tuple/control_dependency_1&quot;\\n  op: &quot;Identity&quot;\\n  input: &quot;gradients/sub_grad/Reshape_1&quot;\\n  input: &quot;^gradients/sub_grad/tuple/group_deps&quot;\\n  attr {\\n    key: &quot;T&quot;\\n    value {\\n      type: DT_FLOAT\\n    }\\n  }\\n  attr {\\n    key: &quot;_class&quot;\\n    value {\\n      list {\\n        s: &quot;loc:@gradients/sub_grad/Reshape_1&quot;\\n      }\\n    }\\n  }\\n}\\nnode {\\n  name: &quot;gradients/predictions_grad/MatMul&quot;\\n  op: &quot;MatMul&quot;\\n  input: &quot;gradients/sub_grad/tuple/control_dependency&quot;\\n  input: &quot;theta/read&quot;\\n  attr {\\n    key: &quot;T&quot;\\n    value {\\n      type: DT_FLOAT\\n    }\\n  }\\n  attr {\\n    key: &quot;transpose_a&quot;\\n    value {\\n      b: false\\n    }\\n  }\\n  attr {\\n    key: &quot;transpose_b&quot;\\n    value {\\n      b: true\\n    }\\n  }\\n}\\nnode {\\n  name: &quot;gradients/predictions_grad/MatMul_1&quot;\\n  op: &quot;MatMul&quot;\\n  input: &quot;X&quot;\\n  input: &quot;gradients/sub_grad/tuple/control_dependency&quot;\\n  attr {\\n    key: &quot;T&quot;\\n    value {\\n      type: DT_FLOAT\\n    }\\n  }\\n  attr {\\n    key: &quot;transpose_a&quot;\\n    value {\\n      b: true\\n    }\\n  }\\n  attr {\\n    key: &quot;transpose_b&quot;\\n    value {\\n      b: false\\n    }\\n  }\\n}\\nnode {\\n  name: &quot;gradients/predictions_grad/tuple/group_deps&quot;\\n  op: &quot;NoOp&quot;\\n  input: &quot;^gradients/predictions_grad/MatMul&quot;\\n  input: &quot;^gradients/predictions_grad/MatMul_1&quot;\\n}\\nnode {\\n  name: &quot;gradients/predictions_grad/tuple/control_dependency&quot;\\n  op: &quot;Identity&quot;\\n  input: &quot;gradients/predictions_grad/MatMul&quot;\\n  input: &quot;^gradients/predictions_grad/tuple/group_deps&quot;\\n  attr {\\n    key: &quot;T&quot;\\n    value {\\n      type: DT_FLOAT\\n    }\\n  }\\n  attr {\\n    key: &quot;_class&quot;\\n    value {\\n      list {\\n        s: &quot;loc:@gradients/predictions_grad/MatMul&quot;\\n      }\\n    }\\n  }\\n}\\nnode {\\n  name: &quot;gradients/predictions_grad/tuple/control_dependency_1&quot;\\n  op: &quot;Identity&quot;\\n  input: &quot;gradients/predictions_grad/MatMul_1&quot;\\n  input: &quot;^gradients/predictions_grad/tuple/group_deps&quot;\\n  attr {\\n    key: &quot;T&quot;\\n    value {\\n      type: DT_FLOAT\\n    }\\n  }\\n  attr {\\n    key: &quot;_class&quot;\\n    value {\\n      list {\\n        s: &quot;loc:@gradients/predictions_grad/MatMul_1&quot;\\n      }\\n    }\\n  }\\n}\\nnode {\\n  name: &quot;GradientDescent/learning_rate&quot;\\n  op: &quot;Const&quot;\\n  attr {\\n    key: &quot;dtype&quot;\\n    value {\\n      type: DT_FLOAT\\n    }\\n  }\\n  attr {\\n    key: &quot;value&quot;\\n    value {\\n      tensor {\\n        dtype: DT_FLOAT\\n        tensor_shape {\\n        }\\n        float_val: 0.009999999776482582\\n      }\\n    }\\n  }\\n}\\nnode {\\n  name: &quot;GradientDescent/update_theta/ApplyGradientDescent&quot;\\n  op: &quot;ApplyGradientDescent&quot;\\n  input: &quot;theta&quot;\\n  input: &quot;GradientDescent/learning_rate&quot;\\n  input: &quot;gradients/predictions_grad/tuple/control_dependency_1&quot;\\n  attr {\\n    key: &quot;T&quot;\\n    value {\\n      type: DT_FLOAT\\n    }\\n  }\\n  attr {\\n    key: &quot;_class&quot;\\n    value {\\n      list {\\n        s: &quot;loc:@theta&quot;\\n      }\\n    }\\n  }\\n  attr {\\n    key: &quot;use_locking&quot;\\n    value {\\n      b: false\\n    }\\n  }\\n}\\nnode {\\n  name: &quot;GradientDescent&quot;\\n  op: &quot;NoOp&quot;\\n  input: &quot;^GradientDescent/update_theta/ApplyGradientDescent&quot;\\n}\\nnode {\\n  name: &quot;init&quot;\\n  op: &quot;NoOp&quot;\\n  input: &quot;^theta/Assign&quot;\\n}\\n';\n",
       "          }\n",
       "        </script>\n",
       "        <link rel=&quot;import&quot; href=&quot;https://tensorboard.appspot.com/tf-graph-basic.build.html&quot; onload=load()>\n",
       "        <div style=&quot;height:600px&quot;>\n",
       "          <tf-graph-basic id=&quot;graph0.1784179106002547&quot;></tf-graph-basic>\n",
       "        </div>\n",
       "    \"></iframe>\n",
       "    "
      ],
      "text/plain": [
       "<IPython.core.display.HTML object>"
      ]
     },
     "metadata": {},
     "output_type": "display_data"
    }
   ],
   "source": [
    "show_graph(tf.get_default_graph())\n"
   ]
  },
  {
   "cell_type": "markdown",
   "metadata": {},
   "source": [
    "# Using TensorBoard"
   ]
  },
  {
   "cell_type": "code",
   "execution_count": 85,
   "metadata": {},
   "outputs": [],
   "source": [
    "reset_graph()\n",
    "\n",
    "from datetime import datetime\n",
    "\n",
    "now = datetime.utcnow().strftime(\"%Y%m%d%H%M%S\")\n",
    "root_logdir = \"tf_logs\"\n",
    "logdir = \"{}/run-{}/\".format(root_logdir, now)"
   ]
  },
  {
   "cell_type": "code",
   "execution_count": 86,
   "metadata": {},
   "outputs": [],
   "source": [
    "n_epochs = 1000\n",
    "learning_rate = 0.01\n",
    "\n",
    "X = tf.placeholder(tf.float32, shape=(None, n + 1), name=\"X\")\n",
    "y = tf.placeholder(tf.float32, shape=(None, 1), name=\"y\")\n",
    "theta = tf.Variable(tf.random_uniform([n + 1, 1], -1.0, 1.0, seed=42), name=\"theta\")\n",
    "y_pred = tf.matmul(X, theta, name=\"predictions\")\n",
    "error = y_pred - y\n",
    "mse = tf.reduce_mean(tf.square(error), name=\"mse\")\n",
    "optimizer = tf.train.GradientDescentOptimizer(learning_rate=learning_rate)\n",
    "training_op = optimizer.minimize(mse)\n",
    "\n",
    "init = tf.global_variables_initializer()"
   ]
  },
  {
   "cell_type": "code",
   "execution_count": 87,
   "metadata": {},
   "outputs": [],
   "source": [
    "mse_summary = tf.summary.scalar('MSE', mse)\n",
    "file_writer = tf.summary.FileWriter(logdir, tf.get_default_graph())"
   ]
  },
  {
   "cell_type": "code",
   "execution_count": 88,
   "metadata": {},
   "outputs": [],
   "source": [
    "n_epochs = 10\n",
    "batch_size = 100\n",
    "n_batches = int(np.ceil(m / batch_size))"
   ]
  },
  {
   "cell_type": "code",
   "execution_count": 89,
   "metadata": {},
   "outputs": [],
   "source": [
    "with tf.Session() as sess:                                                        # not shown in the book\n",
    "    sess.run(init)                                                                # not shown\n",
    "\n",
    "    for epoch in range(n_epochs):                                                 # not shown\n",
    "        for batch_index in range(n_batches):\n",
    "            X_batch, y_batch = fetch_batch(epoch, batch_index, batch_size)\n",
    "            if batch_index % 10 == 0:\n",
    "                summary_str = mse_summary.eval(feed_dict={X: X_batch, y: y_batch})\n",
    "                step = epoch * n_batches + batch_index\n",
    "                file_writer.add_summary(summary_str, step)\n",
    "            sess.run(training_op, feed_dict={X: X_batch, y: y_batch})\n",
    "\n",
    "    best_theta = theta.eval()                                                     # not shown"
   ]
  },
  {
   "cell_type": "code",
   "execution_count": 90,
   "metadata": {},
   "outputs": [],
   "source": [
    "file_writer.close()\n"
   ]
  },
  {
   "cell_type": "code",
   "execution_count": 91,
   "metadata": {},
   "outputs": [
    {
     "data": {
      "text/plain": [
       "array([[ 2.0703337 ],\n",
       "       [ 0.8637145 ],\n",
       "       [ 0.12255151],\n",
       "       [-0.31211874],\n",
       "       [ 0.38510373],\n",
       "       [ 0.00434168],\n",
       "       [-0.01232954],\n",
       "       [-0.83376896],\n",
       "       [-0.8030471 ]], dtype=float32)"
      ]
     },
     "execution_count": 91,
     "metadata": {},
     "output_type": "execute_result"
    }
   ],
   "source": [
    "best_theta\n"
   ]
  },
  {
   "cell_type": "markdown",
   "metadata": {},
   "source": [
    "# ANN"
   ]
  },
  {
   "cell_type": "code",
   "execution_count": 92,
   "metadata": {},
   "outputs": [],
   "source": [
    "# To support both python 2 and python 3\n",
    "from __future__ import division, print_function, unicode_literals\n",
    "\n",
    "# Common imports\n",
    "import numpy as np\n",
    "import os\n",
    "\n",
    "# to make this notebook's output stable across runs\n",
    "def reset_graph(seed=42):\n",
    "    tf.reset_default_graph()\n",
    "    tf.set_random_seed(seed)\n",
    "    np.random.seed(seed)\n",
    "\n",
    "# To plot pretty figures\n",
    "%matplotlib inline\n",
    "import matplotlib\n",
    "import matplotlib.pyplot as plt\n",
    "plt.rcParams['axes.labelsize'] = 14\n",
    "plt.rcParams['xtick.labelsize'] = 12\n",
    "plt.rcParams['ytick.labelsize'] = 12\n",
    "\n",
    "# Where to save the figures\n",
    "PROJECT_ROOT_DIR = \".\"\n",
    "CHAPTER_ID = \"ann\"\n",
    "\n",
    "def save_fig(fig_id, tight_layout=True):\n",
    "    path = os.path.join(PROJECT_ROOT_DIR, \"images\", CHAPTER_ID, fig_id + \".png\")\n",
    "    print(\"Saving figure\", fig_id)\n",
    "    if tight_layout:\n",
    "        plt.tight_layout()\n",
    "    plt.savefig(path, format='png', dpi=300)"
   ]
  },
  {
   "cell_type": "code",
   "execution_count": 93,
   "metadata": {},
   "outputs": [
    {
     "name": "stdout",
     "output_type": "stream",
     "text": [
      "Extracting /tmp/data/train-images-idx3-ubyte.gz\n",
      "Extracting /tmp/data/train-labels-idx1-ubyte.gz\n",
      "Extracting /tmp/data/t10k-images-idx3-ubyte.gz\n",
      "Extracting /tmp/data/t10k-labels-idx1-ubyte.gz\n"
     ]
    }
   ],
   "source": [
    "from tensorflow.examples.tutorials.mnist import input_data\n",
    "\n",
    "mnist = input_data.read_data_sets(\"/tmp/data/\")\n"
   ]
  },
  {
   "cell_type": "code",
   "execution_count": 94,
   "metadata": {},
   "outputs": [],
   "source": [
    "X_train = mnist.train.images\n",
    "X_test = mnist.test.images\n",
    "y_train = mnist.train.labels.astype(\"int\")\n",
    "y_test = mnist.test.labels.astype(\"int\")"
   ]
  },
  {
   "cell_type": "code",
   "execution_count": 95,
   "metadata": {},
   "outputs": [
    {
     "name": "stdout",
     "output_type": "stream",
     "text": [
      "WARNING:tensorflow:Using temporary folder as model directory: /tmp/tmpw96bfvkc\n",
      "INFO:tensorflow:Using config: {'_save_summary_steps': 100, '_keep_checkpoint_max': 5, '_save_checkpoints_steps': None, '_task_id': 0, '_tf_random_seed': 42, '_task_type': None, '_environment': 'local', '_tf_config': gpu_options {\n",
      "  per_process_gpu_memory_fraction: 1.0\n",
      "}\n",
      ", '_log_step_count_steps': 100, '_model_dir': '/tmp/tmpw96bfvkc', '_save_checkpoints_secs': 600, '_master': '', '_is_chief': True, '_keep_checkpoint_every_n_hours': 10000, '_evaluation_master': '', '_num_worker_replicas': 0, '_cluster_spec': <tensorflow.python.training.server_lib.ClusterSpec object at 0x7f86bf5a28d0>, '_session_config': None, '_num_ps_replicas': 0}\n",
      "INFO:tensorflow:Create CheckpointSaverHook.\n",
      "INFO:tensorflow:Saving checkpoints for 1 into /tmp/tmpw96bfvkc/model.ckpt.\n",
      "INFO:tensorflow:loss = 2.4005778, step = 1\n",
      "INFO:tensorflow:global_step/sec: 334.756\n",
      "INFO:tensorflow:loss = 0.31267592, step = 101 (0.301 sec)\n",
      "INFO:tensorflow:global_step/sec: 251.956\n",
      "INFO:tensorflow:loss = 0.29636884, step = 201 (0.396 sec)\n",
      "INFO:tensorflow:global_step/sec: 375.951\n",
      "INFO:tensorflow:loss = 0.4080767, step = 301 (0.274 sec)\n",
      "INFO:tensorflow:global_step/sec: 278.325\n",
      "INFO:tensorflow:loss = 0.23435771, step = 401 (0.351 sec)\n",
      "INFO:tensorflow:global_step/sec: 256.032\n",
      "INFO:tensorflow:loss = 0.29130784, step = 501 (0.391 sec)\n",
      "INFO:tensorflow:global_step/sec: 277.548\n",
      "INFO:tensorflow:loss = 0.07102562, step = 601 (0.361 sec)\n",
      "INFO:tensorflow:global_step/sec: 248.412\n",
      "INFO:tensorflow:loss = 0.13980396, step = 701 (0.404 sec)\n",
      "INFO:tensorflow:global_step/sec: 208.532\n",
      "INFO:tensorflow:loss = 0.19928496, step = 801 (0.476 sec)\n",
      "INFO:tensorflow:global_step/sec: 228.369\n",
      "INFO:tensorflow:loss = 0.11850691, step = 901 (0.440 sec)\n",
      "INFO:tensorflow:global_step/sec: 257.619\n",
      "INFO:tensorflow:loss = 0.24634868, step = 1001 (0.388 sec)\n",
      "INFO:tensorflow:global_step/sec: 248.109\n",
      "INFO:tensorflow:loss = 0.19104429, step = 1101 (0.402 sec)\n",
      "INFO:tensorflow:global_step/sec: 379.784\n",
      "INFO:tensorflow:loss = 0.14830574, step = 1201 (0.262 sec)\n",
      "INFO:tensorflow:global_step/sec: 262.039\n",
      "INFO:tensorflow:loss = 0.17135812, step = 1301 (0.383 sec)\n",
      "INFO:tensorflow:global_step/sec: 349.535\n",
      "INFO:tensorflow:loss = 0.07052782, step = 1401 (0.285 sec)\n",
      "INFO:tensorflow:global_step/sec: 258.487\n",
      "INFO:tensorflow:loss = 0.120289825, step = 1501 (0.395 sec)\n",
      "INFO:tensorflow:global_step/sec: 256.753\n",
      "INFO:tensorflow:loss = 0.09337096, step = 1601 (0.388 sec)\n",
      "INFO:tensorflow:global_step/sec: 270.836\n",
      "INFO:tensorflow:loss = 0.040081758, step = 1701 (0.365 sec)\n",
      "INFO:tensorflow:global_step/sec: 326.228\n",
      "INFO:tensorflow:loss = 0.15320377, step = 1801 (0.304 sec)\n",
      "INFO:tensorflow:global_step/sec: 247.711\n",
      "INFO:tensorflow:loss = 0.11849135, step = 1901 (0.405 sec)\n",
      "INFO:tensorflow:global_step/sec: 351.469\n",
      "INFO:tensorflow:loss = 0.10845868, step = 2001 (0.283 sec)\n",
      "INFO:tensorflow:global_step/sec: 374.706\n",
      "INFO:tensorflow:loss = 0.020292709, step = 2101 (0.275 sec)\n",
      "INFO:tensorflow:global_step/sec: 358.897\n",
      "INFO:tensorflow:loss = 0.023875084, step = 2201 (0.272 sec)\n",
      "INFO:tensorflow:global_step/sec: 363.692\n",
      "INFO:tensorflow:loss = 0.052399702, step = 2301 (0.275 sec)\n",
      "INFO:tensorflow:global_step/sec: 339.134\n",
      "INFO:tensorflow:loss = 0.05199257, step = 2401 (0.296 sec)\n",
      "INFO:tensorflow:global_step/sec: 232.596\n",
      "INFO:tensorflow:loss = 0.096770965, step = 2501 (0.428 sec)\n",
      "INFO:tensorflow:global_step/sec: 391.581\n",
      "INFO:tensorflow:loss = 0.052558728, step = 2601 (0.255 sec)\n",
      "INFO:tensorflow:global_step/sec: 237.193\n",
      "INFO:tensorflow:loss = 0.015304907, step = 2701 (0.422 sec)\n",
      "INFO:tensorflow:global_step/sec: 377.443\n",
      "INFO:tensorflow:loss = 0.049051818, step = 2801 (0.269 sec)\n",
      "INFO:tensorflow:global_step/sec: 247.459\n",
      "INFO:tensorflow:loss = 0.18377556, step = 2901 (0.404 sec)\n",
      "INFO:tensorflow:global_step/sec: 231.48\n",
      "INFO:tensorflow:loss = 0.017216897, step = 3001 (0.429 sec)\n",
      "INFO:tensorflow:global_step/sec: 397.711\n",
      "INFO:tensorflow:loss = 0.04804785, step = 3101 (0.252 sec)\n",
      "INFO:tensorflow:global_step/sec: 240.606\n",
      "INFO:tensorflow:loss = 0.010008319, step = 3201 (0.420 sec)\n",
      "INFO:tensorflow:global_step/sec: 293.564\n",
      "INFO:tensorflow:loss = 0.037557427, step = 3301 (0.335 sec)\n",
      "INFO:tensorflow:global_step/sec: 235.904\n",
      "INFO:tensorflow:loss = 0.2320632, step = 3401 (0.425 sec)\n",
      "INFO:tensorflow:global_step/sec: 301.824\n",
      "INFO:tensorflow:loss = 0.10651536, step = 3501 (0.330 sec)\n",
      "INFO:tensorflow:global_step/sec: 267.761\n",
      "INFO:tensorflow:loss = 0.1919081, step = 3601 (0.374 sec)\n",
      "INFO:tensorflow:global_step/sec: 307.667\n",
      "INFO:tensorflow:loss = 0.026960755, step = 3701 (0.326 sec)\n",
      "INFO:tensorflow:global_step/sec: 293.054\n",
      "INFO:tensorflow:loss = 0.010269203, step = 3801 (0.342 sec)\n",
      "INFO:tensorflow:global_step/sec: 249.488\n",
      "INFO:tensorflow:loss = 0.05830857, step = 3901 (0.400 sec)\n",
      "INFO:tensorflow:global_step/sec: 341.653\n",
      "INFO:tensorflow:loss = 0.10922377, step = 4001 (0.296 sec)\n",
      "INFO:tensorflow:global_step/sec: 366.137\n",
      "INFO:tensorflow:loss = 0.023374695, step = 4101 (0.269 sec)\n",
      "INFO:tensorflow:global_step/sec: 352.131\n",
      "INFO:tensorflow:loss = 0.059481893, step = 4201 (0.284 sec)\n",
      "INFO:tensorflow:global_step/sec: 260.718\n",
      "INFO:tensorflow:loss = 0.17837961, step = 4301 (0.387 sec)\n",
      "INFO:tensorflow:global_step/sec: 319.335\n",
      "INFO:tensorflow:loss = 0.14999853, step = 4401 (0.312 sec)\n",
      "INFO:tensorflow:global_step/sec: 334.887\n",
      "INFO:tensorflow:loss = 0.019877551, step = 4501 (0.297 sec)\n",
      "INFO:tensorflow:global_step/sec: 349.451\n",
      "INFO:tensorflow:loss = 0.020695062, step = 4601 (0.286 sec)\n",
      "INFO:tensorflow:global_step/sec: 329.637\n",
      "INFO:tensorflow:loss = 0.011141243, step = 4701 (0.305 sec)\n",
      "INFO:tensorflow:global_step/sec: 262.024\n",
      "INFO:tensorflow:loss = 0.021786023, step = 4801 (0.380 sec)\n",
      "INFO:tensorflow:global_step/sec: 386.247\n",
      "INFO:tensorflow:loss = 0.085162595, step = 4901 (0.259 sec)\n",
      "INFO:tensorflow:global_step/sec: 376.901\n",
      "INFO:tensorflow:loss = 0.0988793, step = 5001 (0.267 sec)\n",
      "INFO:tensorflow:global_step/sec: 254.061\n",
      "INFO:tensorflow:loss = 0.010089337, step = 5101 (0.392 sec)\n",
      "INFO:tensorflow:global_step/sec: 281.39\n",
      "INFO:tensorflow:loss = 0.027941765, step = 5201 (0.355 sec)\n",
      "INFO:tensorflow:global_step/sec: 276.837\n",
      "INFO:tensorflow:loss = 0.029675975, step = 5301 (0.363 sec)\n",
      "INFO:tensorflow:global_step/sec: 439.823\n",
      "INFO:tensorflow:loss = 0.02242714, step = 5401 (0.226 sec)\n",
      "INFO:tensorflow:global_step/sec: 296.299\n",
      "INFO:tensorflow:loss = 0.018540772, step = 5501 (0.339 sec)\n",
      "INFO:tensorflow:global_step/sec: 301.159\n",
      "INFO:tensorflow:loss = 0.048603285, step = 5601 (0.330 sec)\n",
      "INFO:tensorflow:global_step/sec: 211.331\n",
      "INFO:tensorflow:loss = 0.0097092865, step = 5701 (0.473 sec)\n",
      "INFO:tensorflow:global_step/sec: 244.107\n",
      "INFO:tensorflow:loss = 0.0070864167, step = 5801 (0.413 sec)\n",
      "INFO:tensorflow:global_step/sec: 240.778\n",
      "INFO:tensorflow:loss = 0.06685746, step = 5901 (0.414 sec)\n",
      "INFO:tensorflow:global_step/sec: 239.382\n",
      "INFO:tensorflow:loss = 0.09178291, step = 6001 (0.417 sec)\n",
      "INFO:tensorflow:global_step/sec: 376.911\n",
      "INFO:tensorflow:loss = 0.015643938, step = 6101 (0.269 sec)\n",
      "INFO:tensorflow:global_step/sec: 270.661\n",
      "INFO:tensorflow:loss = 0.013782194, step = 6201 (0.368 sec)\n",
      "INFO:tensorflow:global_step/sec: 312.847\n",
      "INFO:tensorflow:loss = 0.04796949, step = 6301 (0.318 sec)\n",
      "INFO:tensorflow:global_step/sec: 367.744\n",
      "INFO:tensorflow:loss = 0.029919825, step = 6401 (0.272 sec)\n",
      "INFO:tensorflow:global_step/sec: 242.249\n",
      "INFO:tensorflow:loss = 0.00894616, step = 6501 (0.413 sec)\n",
      "INFO:tensorflow:global_step/sec: 395.8\n",
      "INFO:tensorflow:loss = 0.014035127, step = 6601 (0.253 sec)\n",
      "INFO:tensorflow:global_step/sec: 337.692\n",
      "INFO:tensorflow:loss = 0.015689664, step = 6701 (0.296 sec)\n",
      "INFO:tensorflow:global_step/sec: 308.827\n",
      "INFO:tensorflow:loss = 0.005976353, step = 6801 (0.324 sec)\n",
      "INFO:tensorflow:global_step/sec: 406.984\n",
      "INFO:tensorflow:loss = 0.01135093, step = 6901 (0.246 sec)\n",
      "INFO:tensorflow:global_step/sec: 367.008\n",
      "INFO:tensorflow:loss = 0.019749274, step = 7001 (0.273 sec)\n",
      "INFO:tensorflow:global_step/sec: 392.954\n",
      "INFO:tensorflow:loss = 0.007467022, step = 7101 (0.255 sec)\n",
      "INFO:tensorflow:global_step/sec: 401.714\n",
      "INFO:tensorflow:loss = 0.06375049, step = 7201 (0.253 sec)\n",
      "INFO:tensorflow:global_step/sec: 376.889\n",
      "INFO:tensorflow:loss = 0.010067404, step = 7301 (0.260 sec)\n"
     ]
    },
    {
     "name": "stdout",
     "output_type": "stream",
     "text": [
      "INFO:tensorflow:global_step/sec: 427.14\n",
      "INFO:tensorflow:loss = 0.0119402055, step = 7401 (0.234 sec)\n",
      "INFO:tensorflow:global_step/sec: 375.878\n",
      "INFO:tensorflow:loss = 0.007149403, step = 7501 (0.276 sec)\n",
      "INFO:tensorflow:global_step/sec: 364.438\n",
      "INFO:tensorflow:loss = 0.014467157, step = 7601 (0.277 sec)\n",
      "INFO:tensorflow:global_step/sec: 402.831\n",
      "INFO:tensorflow:loss = 0.007830765, step = 7701 (0.236 sec)\n",
      "INFO:tensorflow:global_step/sec: 456.865\n",
      "INFO:tensorflow:loss = 0.004113314, step = 7801 (0.220 sec)\n",
      "INFO:tensorflow:global_step/sec: 422.936\n",
      "INFO:tensorflow:loss = 0.0049301, step = 7901 (0.235 sec)\n",
      "INFO:tensorflow:global_step/sec: 386.712\n",
      "INFO:tensorflow:loss = 0.002556291, step = 8001 (0.259 sec)\n",
      "INFO:tensorflow:global_step/sec: 395.638\n",
      "INFO:tensorflow:loss = 0.0063093067, step = 8101 (0.253 sec)\n",
      "INFO:tensorflow:global_step/sec: 406.679\n",
      "INFO:tensorflow:loss = 0.03664209, step = 8201 (0.246 sec)\n",
      "INFO:tensorflow:global_step/sec: 414.247\n",
      "INFO:tensorflow:loss = 0.027535245, step = 8301 (0.242 sec)\n",
      "INFO:tensorflow:global_step/sec: 394.357\n",
      "INFO:tensorflow:loss = 0.0040824036, step = 8401 (0.255 sec)\n",
      "INFO:tensorflow:global_step/sec: 398.764\n",
      "INFO:tensorflow:loss = 0.0062899454, step = 8501 (0.251 sec)\n",
      "INFO:tensorflow:global_step/sec: 410.508\n",
      "INFO:tensorflow:loss = 0.0070066648, step = 8601 (0.243 sec)\n",
      "INFO:tensorflow:global_step/sec: 383.211\n",
      "INFO:tensorflow:loss = 0.0039295447, step = 8701 (0.261 sec)\n",
      "INFO:tensorflow:global_step/sec: 382\n",
      "INFO:tensorflow:loss = 0.0095091555, step = 8801 (0.260 sec)\n",
      "INFO:tensorflow:global_step/sec: 390.499\n",
      "INFO:tensorflow:loss = 0.003326394, step = 8901 (0.256 sec)\n",
      "INFO:tensorflow:global_step/sec: 372.302\n",
      "INFO:tensorflow:loss = 0.0043650437, step = 9001 (0.275 sec)\n",
      "INFO:tensorflow:global_step/sec: 382.588\n",
      "INFO:tensorflow:loss = 0.0073857917, step = 9101 (0.255 sec)\n",
      "INFO:tensorflow:global_step/sec: 318.89\n",
      "INFO:tensorflow:loss = 0.006069087, step = 9201 (0.314 sec)\n",
      "INFO:tensorflow:global_step/sec: 434.998\n",
      "INFO:tensorflow:loss = 0.0053534214, step = 9301 (0.230 sec)\n",
      "INFO:tensorflow:global_step/sec: 367.92\n",
      "INFO:tensorflow:loss = 0.05597987, step = 9401 (0.272 sec)\n",
      "INFO:tensorflow:global_step/sec: 385.634\n",
      "INFO:tensorflow:loss = 0.0032020102, step = 9501 (0.264 sec)\n",
      "INFO:tensorflow:global_step/sec: 385.517\n",
      "INFO:tensorflow:loss = 0.031879906, step = 9601 (0.256 sec)\n",
      "INFO:tensorflow:global_step/sec: 316.503\n",
      "INFO:tensorflow:loss = 0.00876466, step = 9701 (0.320 sec)\n",
      "INFO:tensorflow:global_step/sec: 301.044\n",
      "INFO:tensorflow:loss = 0.0020891111, step = 9801 (0.330 sec)\n",
      "INFO:tensorflow:global_step/sec: 249.577\n",
      "INFO:tensorflow:loss = 0.014056279, step = 9901 (0.399 sec)\n",
      "INFO:tensorflow:global_step/sec: 292.065\n",
      "INFO:tensorflow:loss = 0.006198121, step = 10001 (0.342 sec)\n",
      "INFO:tensorflow:global_step/sec: 411.88\n",
      "INFO:tensorflow:loss = 0.0031517753, step = 10101 (0.250 sec)\n",
      "INFO:tensorflow:global_step/sec: 336.515\n",
      "INFO:tensorflow:loss = 0.014297294, step = 10201 (0.288 sec)\n",
      "INFO:tensorflow:global_step/sec: 401.068\n",
      "INFO:tensorflow:loss = 0.0019823748, step = 10301 (0.251 sec)\n",
      "INFO:tensorflow:global_step/sec: 385.136\n",
      "INFO:tensorflow:loss = 0.0053606536, step = 10401 (0.258 sec)\n",
      "INFO:tensorflow:global_step/sec: 374.47\n",
      "INFO:tensorflow:loss = 0.005195526, step = 10501 (0.274 sec)\n",
      "INFO:tensorflow:global_step/sec: 375.033\n",
      "INFO:tensorflow:loss = 0.013594584, step = 10601 (0.261 sec)\n",
      "INFO:tensorflow:global_step/sec: 393.655\n",
      "INFO:tensorflow:loss = 0.03496606, step = 10701 (0.253 sec)\n",
      "INFO:tensorflow:global_step/sec: 285.181\n",
      "INFO:tensorflow:loss = 0.0043758885, step = 10801 (0.351 sec)\n",
      "INFO:tensorflow:global_step/sec: 348.879\n",
      "INFO:tensorflow:loss = 0.0015781377, step = 10901 (0.286 sec)\n",
      "INFO:tensorflow:global_step/sec: 338.994\n",
      "INFO:tensorflow:loss = 0.017013244, step = 11001 (0.297 sec)\n",
      "INFO:tensorflow:global_step/sec: 367.581\n",
      "INFO:tensorflow:loss = 0.0041582445, step = 11101 (0.270 sec)\n",
      "INFO:tensorflow:global_step/sec: 366.014\n",
      "INFO:tensorflow:loss = 0.00069338514, step = 11201 (0.273 sec)\n",
      "INFO:tensorflow:global_step/sec: 386.089\n",
      "INFO:tensorflow:loss = 0.006306608, step = 11301 (0.259 sec)\n",
      "INFO:tensorflow:global_step/sec: 420.543\n",
      "INFO:tensorflow:loss = 0.0057381843, step = 11401 (0.238 sec)\n",
      "INFO:tensorflow:global_step/sec: 368.027\n",
      "INFO:tensorflow:loss = 0.014029238, step = 11501 (0.273 sec)\n",
      "INFO:tensorflow:global_step/sec: 284.875\n",
      "INFO:tensorflow:loss = 0.00080561126, step = 11601 (0.349 sec)\n",
      "INFO:tensorflow:global_step/sec: 255.506\n",
      "INFO:tensorflow:loss = 0.0039939852, step = 11701 (0.391 sec)\n",
      "INFO:tensorflow:global_step/sec: 315.367\n",
      "INFO:tensorflow:loss = 0.0005210722, step = 11801 (0.317 sec)\n",
      "INFO:tensorflow:global_step/sec: 503.309\n",
      "INFO:tensorflow:loss = 0.0064384914, step = 11901 (0.199 sec)\n",
      "INFO:tensorflow:global_step/sec: 470.548\n",
      "INFO:tensorflow:loss = 0.00034305785, step = 12001 (0.214 sec)\n",
      "INFO:tensorflow:global_step/sec: 458.864\n",
      "INFO:tensorflow:loss = 0.0029418925, step = 12101 (0.217 sec)\n",
      "INFO:tensorflow:global_step/sec: 463.928\n",
      "INFO:tensorflow:loss = 0.0034004992, step = 12201 (0.215 sec)\n",
      "INFO:tensorflow:global_step/sec: 456.258\n",
      "INFO:tensorflow:loss = 0.0047301925, step = 12301 (0.221 sec)\n",
      "INFO:tensorflow:global_step/sec: 456.102\n",
      "INFO:tensorflow:loss = 0.00027067921, step = 12401 (0.218 sec)\n",
      "INFO:tensorflow:global_step/sec: 462.047\n",
      "INFO:tensorflow:loss = 0.0017177799, step = 12501 (0.216 sec)\n",
      "INFO:tensorflow:global_step/sec: 462.326\n",
      "INFO:tensorflow:loss = 0.0035051515, step = 12601 (0.216 sec)\n",
      "INFO:tensorflow:global_step/sec: 426.21\n",
      "INFO:tensorflow:loss = 0.0017233272, step = 12701 (0.235 sec)\n",
      "INFO:tensorflow:global_step/sec: 365.376\n",
      "INFO:tensorflow:loss = 0.010890304, step = 12801 (0.283 sec)\n",
      "INFO:tensorflow:global_step/sec: 328.856\n",
      "INFO:tensorflow:loss = 0.0029570805, step = 12901 (0.295 sec)\n",
      "INFO:tensorflow:global_step/sec: 369.326\n",
      "INFO:tensorflow:loss = 0.0077366014, step = 13001 (0.271 sec)\n",
      "INFO:tensorflow:global_step/sec: 379.542\n",
      "INFO:tensorflow:loss = 0.0023666474, step = 13101 (0.263 sec)\n",
      "INFO:tensorflow:global_step/sec: 367.819\n",
      "INFO:tensorflow:loss = 0.0019570326, step = 13201 (0.272 sec)\n",
      "INFO:tensorflow:global_step/sec: 387.596\n",
      "INFO:tensorflow:loss = 0.008408217, step = 13301 (0.258 sec)\n",
      "INFO:tensorflow:global_step/sec: 406.051\n",
      "INFO:tensorflow:loss = 0.004901133, step = 13401 (0.246 sec)\n",
      "INFO:tensorflow:global_step/sec: 439.343\n",
      "INFO:tensorflow:loss = 0.002427513, step = 13501 (0.228 sec)\n",
      "INFO:tensorflow:global_step/sec: 334.004\n",
      "INFO:tensorflow:loss = 0.0050775637, step = 13601 (0.301 sec)\n",
      "INFO:tensorflow:global_step/sec: 436.276\n",
      "INFO:tensorflow:loss = 0.0019222648, step = 13701 (0.228 sec)\n",
      "INFO:tensorflow:global_step/sec: 378.065\n",
      "INFO:tensorflow:loss = 0.0061068274, step = 13801 (0.264 sec)\n",
      "INFO:tensorflow:global_step/sec: 334.961\n",
      "INFO:tensorflow:loss = 0.004481247, step = 13901 (0.301 sec)\n",
      "INFO:tensorflow:global_step/sec: 441.108\n",
      "INFO:tensorflow:loss = 0.002344139, step = 14001 (0.225 sec)\n",
      "INFO:tensorflow:global_step/sec: 491.415\n",
      "INFO:tensorflow:loss = 0.011502974, step = 14101 (0.205 sec)\n",
      "INFO:tensorflow:global_step/sec: 399.182\n",
      "INFO:tensorflow:loss = 0.0046252254, step = 14201 (0.250 sec)\n",
      "INFO:tensorflow:global_step/sec: 432.98\n",
      "INFO:tensorflow:loss = 0.0009688051, step = 14301 (0.231 sec)\n",
      "INFO:tensorflow:global_step/sec: 512.479\n",
      "INFO:tensorflow:loss = 0.0010566133, step = 14401 (0.195 sec)\n",
      "INFO:tensorflow:global_step/sec: 486.236\n",
      "INFO:tensorflow:loss = 0.00081503706, step = 14501 (0.206 sec)\n",
      "INFO:tensorflow:global_step/sec: 513.801\n",
      "INFO:tensorflow:loss = 0.004687814, step = 14601 (0.195 sec)\n",
      "INFO:tensorflow:global_step/sec: 513.664\n",
      "INFO:tensorflow:loss = 0.0016836146, step = 14701 (0.194 sec)\n",
      "INFO:tensorflow:global_step/sec: 511.052\n",
      "INFO:tensorflow:loss = 0.0012497805, step = 14801 (0.196 sec)\n",
      "INFO:tensorflow:global_step/sec: 407.477\n",
      "INFO:tensorflow:loss = 0.0023802726, step = 14901 (0.246 sec)\n",
      "INFO:tensorflow:global_step/sec: 456.592\n",
      "INFO:tensorflow:loss = 0.0015142087, step = 15001 (0.219 sec)\n",
      "INFO:tensorflow:global_step/sec: 509.881\n",
      "INFO:tensorflow:loss = 0.00201585, step = 15101 (0.196 sec)\n",
      "INFO:tensorflow:global_step/sec: 360.67\n",
      "INFO:tensorflow:loss = 0.0012071576, step = 15201 (0.276 sec)\n",
      "INFO:tensorflow:global_step/sec: 424.047\n",
      "INFO:tensorflow:loss = 0.0020597288, step = 15301 (0.236 sec)\n",
      "INFO:tensorflow:global_step/sec: 458.852\n"
     ]
    },
    {
     "name": "stdout",
     "output_type": "stream",
     "text": [
      "INFO:tensorflow:loss = 0.002443798, step = 15401 (0.219 sec)\n",
      "INFO:tensorflow:global_step/sec: 443.551\n",
      "INFO:tensorflow:loss = 0.0058893417, step = 15501 (0.224 sec)\n",
      "INFO:tensorflow:global_step/sec: 422.671\n",
      "INFO:tensorflow:loss = 0.0037075337, step = 15601 (0.238 sec)\n",
      "INFO:tensorflow:global_step/sec: 342.421\n",
      "INFO:tensorflow:loss = 0.0056260703, step = 15701 (0.291 sec)\n",
      "INFO:tensorflow:global_step/sec: 436.576\n",
      "INFO:tensorflow:loss = 0.0007602975, step = 15801 (0.230 sec)\n",
      "INFO:tensorflow:global_step/sec: 446.223\n",
      "INFO:tensorflow:loss = 0.0009968034, step = 15901 (0.224 sec)\n",
      "INFO:tensorflow:global_step/sec: 378.414\n",
      "INFO:tensorflow:loss = 0.0062745614, step = 16001 (0.263 sec)\n",
      "INFO:tensorflow:global_step/sec: 406.063\n",
      "INFO:tensorflow:loss = 0.002454545, step = 16101 (0.246 sec)\n",
      "INFO:tensorflow:global_step/sec: 456.754\n",
      "INFO:tensorflow:loss = 0.00014431207, step = 16201 (0.220 sec)\n",
      "INFO:tensorflow:global_step/sec: 460.774\n",
      "INFO:tensorflow:loss = 0.0026476067, step = 16301 (0.216 sec)\n",
      "INFO:tensorflow:global_step/sec: 426.432\n",
      "INFO:tensorflow:loss = 0.0017904579, step = 16401 (0.236 sec)\n",
      "INFO:tensorflow:global_step/sec: 275.39\n",
      "INFO:tensorflow:loss = 0.0020256268, step = 16501 (0.363 sec)\n",
      "INFO:tensorflow:global_step/sec: 317.874\n",
      "INFO:tensorflow:loss = 0.0030950957, step = 16601 (0.314 sec)\n",
      "INFO:tensorflow:global_step/sec: 360.336\n",
      "INFO:tensorflow:loss = 0.0019883658, step = 16701 (0.277 sec)\n",
      "INFO:tensorflow:global_step/sec: 271.312\n",
      "INFO:tensorflow:loss = 0.0026702678, step = 16801 (0.370 sec)\n",
      "INFO:tensorflow:global_step/sec: 283.17\n",
      "INFO:tensorflow:loss = 0.0018503151, step = 16901 (0.351 sec)\n",
      "INFO:tensorflow:global_step/sec: 409.163\n",
      "INFO:tensorflow:loss = 0.0034972748, step = 17001 (0.245 sec)\n",
      "INFO:tensorflow:global_step/sec: 275.261\n",
      "INFO:tensorflow:loss = 0.002907931, step = 17101 (0.366 sec)\n",
      "INFO:tensorflow:global_step/sec: 318.736\n",
      "INFO:tensorflow:loss = 0.0026209962, step = 17201 (0.313 sec)\n",
      "INFO:tensorflow:global_step/sec: 247.631\n",
      "INFO:tensorflow:loss = 0.0011642524, step = 17301 (0.401 sec)\n",
      "INFO:tensorflow:global_step/sec: 410.144\n",
      "INFO:tensorflow:loss = 0.0014248618, step = 17401 (0.244 sec)\n",
      "INFO:tensorflow:global_step/sec: 429.094\n",
      "INFO:tensorflow:loss = 0.0011506716, step = 17501 (0.233 sec)\n",
      "INFO:tensorflow:global_step/sec: 407.084\n",
      "INFO:tensorflow:loss = 0.00061560987, step = 17601 (0.246 sec)\n",
      "INFO:tensorflow:global_step/sec: 425.587\n",
      "INFO:tensorflow:loss = 0.00095311285, step = 17701 (0.236 sec)\n",
      "INFO:tensorflow:global_step/sec: 384.639\n",
      "INFO:tensorflow:loss = 0.0001675555, step = 17801 (0.267 sec)\n",
      "INFO:tensorflow:global_step/sec: 216.194\n",
      "INFO:tensorflow:loss = 0.0019643016, step = 17901 (0.457 sec)\n",
      "INFO:tensorflow:global_step/sec: 355.557\n",
      "INFO:tensorflow:loss = 0.0005974802, step = 18001 (0.280 sec)\n",
      "INFO:tensorflow:global_step/sec: 300.556\n",
      "INFO:tensorflow:loss = 0.0011233521, step = 18101 (0.333 sec)\n",
      "INFO:tensorflow:global_step/sec: 459.691\n",
      "INFO:tensorflow:loss = 0.0038325896, step = 18201 (0.216 sec)\n",
      "INFO:tensorflow:global_step/sec: 326.846\n",
      "INFO:tensorflow:loss = 0.0059028845, step = 18301 (0.306 sec)\n",
      "INFO:tensorflow:global_step/sec: 400.214\n",
      "INFO:tensorflow:loss = 0.0031006078, step = 18401 (0.251 sec)\n",
      "INFO:tensorflow:global_step/sec: 332.45\n",
      "INFO:tensorflow:loss = 0.007650095, step = 18501 (0.299 sec)\n",
      "INFO:tensorflow:global_step/sec: 398.028\n",
      "INFO:tensorflow:loss = 0.0038050774, step = 18601 (0.253 sec)\n",
      "INFO:tensorflow:global_step/sec: 312.897\n",
      "INFO:tensorflow:loss = 0.0016878097, step = 18701 (0.318 sec)\n",
      "INFO:tensorflow:global_step/sec: 409.503\n",
      "INFO:tensorflow:loss = 0.0023664776, step = 18801 (0.246 sec)\n",
      "INFO:tensorflow:global_step/sec: 487.106\n",
      "INFO:tensorflow:loss = 0.0030021628, step = 18901 (0.204 sec)\n",
      "INFO:tensorflow:global_step/sec: 384.654\n",
      "INFO:tensorflow:loss = 0.0014494224, step = 19001 (0.267 sec)\n",
      "INFO:tensorflow:global_step/sec: 422.431\n",
      "INFO:tensorflow:loss = 0.00061451097, step = 19101 (0.230 sec)\n",
      "INFO:tensorflow:global_step/sec: 345.769\n",
      "INFO:tensorflow:loss = 0.0010306737, step = 19201 (0.291 sec)\n",
      "INFO:tensorflow:global_step/sec: 431.13\n",
      "INFO:tensorflow:loss = 0.0063159466, step = 19301 (0.231 sec)\n",
      "INFO:tensorflow:global_step/sec: 477.809\n",
      "INFO:tensorflow:loss = 0.0015896815, step = 19401 (0.208 sec)\n",
      "INFO:tensorflow:global_step/sec: 514.091\n",
      "INFO:tensorflow:loss = 0.0019435158, step = 19501 (0.195 sec)\n",
      "INFO:tensorflow:global_step/sec: 421.253\n",
      "INFO:tensorflow:loss = 0.00066752994, step = 19601 (0.237 sec)\n",
      "INFO:tensorflow:global_step/sec: 420.549\n",
      "INFO:tensorflow:loss = 0.0001221823, step = 19701 (0.238 sec)\n",
      "INFO:tensorflow:global_step/sec: 327.332\n",
      "INFO:tensorflow:loss = 0.00050040166, step = 19801 (0.306 sec)\n",
      "INFO:tensorflow:global_step/sec: 312.621\n",
      "INFO:tensorflow:loss = 0.002100131, step = 19901 (0.321 sec)\n",
      "INFO:tensorflow:global_step/sec: 293.943\n",
      "INFO:tensorflow:loss = 0.0026508535, step = 20001 (0.339 sec)\n",
      "INFO:tensorflow:global_step/sec: 243.324\n",
      "INFO:tensorflow:loss = 0.00042900632, step = 20101 (0.414 sec)\n",
      "INFO:tensorflow:global_step/sec: 370.492\n",
      "INFO:tensorflow:loss = 0.0022588375, step = 20201 (0.268 sec)\n",
      "INFO:tensorflow:global_step/sec: 400.664\n",
      "INFO:tensorflow:loss = 0.001006229, step = 20301 (0.252 sec)\n",
      "INFO:tensorflow:global_step/sec: 280.558\n",
      "INFO:tensorflow:loss = 0.00017467713, step = 20401 (0.353 sec)\n",
      "INFO:tensorflow:global_step/sec: 260.786\n",
      "INFO:tensorflow:loss = 0.0010417219, step = 20501 (0.383 sec)\n",
      "INFO:tensorflow:global_step/sec: 357.095\n",
      "INFO:tensorflow:loss = 0.0008202025, step = 20601 (0.284 sec)\n",
      "INFO:tensorflow:global_step/sec: 401.436\n",
      "INFO:tensorflow:loss = 0.00090136455, step = 20701 (0.248 sec)\n",
      "INFO:tensorflow:global_step/sec: 426.492\n",
      "INFO:tensorflow:loss = 0.0010984545, step = 20801 (0.233 sec)\n",
      "INFO:tensorflow:global_step/sec: 474.542\n",
      "INFO:tensorflow:loss = 0.0015248463, step = 20901 (0.209 sec)\n",
      "INFO:tensorflow:global_step/sec: 512.11\n",
      "INFO:tensorflow:loss = 0.0025011592, step = 21001 (0.195 sec)\n",
      "INFO:tensorflow:global_step/sec: 385.697\n",
      "INFO:tensorflow:loss = 0.0009796006, step = 21101 (0.259 sec)\n",
      "INFO:tensorflow:global_step/sec: 372.158\n",
      "INFO:tensorflow:loss = 0.00507214, step = 21201 (0.268 sec)\n",
      "INFO:tensorflow:global_step/sec: 433.372\n",
      "INFO:tensorflow:loss = 0.00054484763, step = 21301 (0.232 sec)\n",
      "INFO:tensorflow:global_step/sec: 491.838\n",
      "INFO:tensorflow:loss = 0.0020639142, step = 21401 (0.204 sec)\n",
      "INFO:tensorflow:global_step/sec: 510.726\n",
      "INFO:tensorflow:loss = 0.00039681004, step = 21501 (0.194 sec)\n",
      "INFO:tensorflow:global_step/sec: 512.365\n",
      "INFO:tensorflow:loss = 0.00088241405, step = 21601 (0.195 sec)\n",
      "INFO:tensorflow:global_step/sec: 272.36\n",
      "INFO:tensorflow:loss = 0.0009344293, step = 21701 (0.367 sec)\n",
      "INFO:tensorflow:global_step/sec: 247.34\n",
      "INFO:tensorflow:loss = 0.00045248808, step = 21801 (0.406 sec)\n",
      "INFO:tensorflow:global_step/sec: 291.234\n",
      "INFO:tensorflow:loss = 0.0004890934, step = 21901 (0.342 sec)\n",
      "INFO:tensorflow:global_step/sec: 287.9\n",
      "INFO:tensorflow:loss = 7.131778e-05, step = 22001 (0.350 sec)\n",
      "INFO:tensorflow:global_step/sec: 339.169\n",
      "INFO:tensorflow:loss = 0.00024316442, step = 22101 (0.295 sec)\n",
      "INFO:tensorflow:global_step/sec: 386.459\n",
      "INFO:tensorflow:loss = 0.0013390102, step = 22201 (0.258 sec)\n",
      "INFO:tensorflow:global_step/sec: 338.446\n",
      "INFO:tensorflow:loss = 0.0017087768, step = 22301 (0.293 sec)\n",
      "INFO:tensorflow:global_step/sec: 444.914\n",
      "INFO:tensorflow:loss = 0.0018180493, step = 22401 (0.226 sec)\n",
      "INFO:tensorflow:global_step/sec: 414.875\n",
      "INFO:tensorflow:loss = 0.0014089914, step = 22501 (0.240 sec)\n",
      "INFO:tensorflow:global_step/sec: 470.661\n",
      "INFO:tensorflow:loss = 0.002300851, step = 22601 (0.214 sec)\n",
      "INFO:tensorflow:global_step/sec: 476.825\n",
      "INFO:tensorflow:loss = 0.00081589026, step = 22701 (0.208 sec)\n",
      "INFO:tensorflow:global_step/sec: 437.529\n",
      "INFO:tensorflow:loss = 0.00087941135, step = 22801 (0.229 sec)\n",
      "INFO:tensorflow:global_step/sec: 242.371\n",
      "INFO:tensorflow:loss = 0.0018712273, step = 22901 (0.415 sec)\n",
      "INFO:tensorflow:global_step/sec: 293.128\n",
      "INFO:tensorflow:loss = 0.0004437712, step = 23001 (0.339 sec)\n",
      "INFO:tensorflow:global_step/sec: 252.5\n",
      "INFO:tensorflow:loss = 0.0024741974, step = 23101 (0.398 sec)\n",
      "INFO:tensorflow:global_step/sec: 223.331\n",
      "INFO:tensorflow:loss = 0.0017561684, step = 23201 (0.446 sec)\n",
      "INFO:tensorflow:global_step/sec: 217.438\n",
      "INFO:tensorflow:loss = 0.0021344577, step = 23301 (0.463 sec)\n"
     ]
    },
    {
     "name": "stdout",
     "output_type": "stream",
     "text": [
      "INFO:tensorflow:global_step/sec: 229.221\n",
      "INFO:tensorflow:loss = 0.0005636542, step = 23401 (0.439 sec)\n",
      "INFO:tensorflow:global_step/sec: 245.089\n",
      "INFO:tensorflow:loss = 0.00077509624, step = 23501 (0.406 sec)\n",
      "INFO:tensorflow:global_step/sec: 259.642\n",
      "INFO:tensorflow:loss = 0.0006211653, step = 23601 (0.383 sec)\n",
      "INFO:tensorflow:global_step/sec: 391.583\n",
      "INFO:tensorflow:loss = 0.00011435364, step = 23701 (0.254 sec)\n",
      "INFO:tensorflow:global_step/sec: 310.706\n",
      "INFO:tensorflow:loss = 0.00081203826, step = 23801 (0.322 sec)\n",
      "INFO:tensorflow:global_step/sec: 340.2\n",
      "INFO:tensorflow:loss = 0.001883201, step = 23901 (0.294 sec)\n",
      "INFO:tensorflow:global_step/sec: 327.469\n",
      "INFO:tensorflow:loss = 0.0012928279, step = 24001 (0.305 sec)\n",
      "INFO:tensorflow:global_step/sec: 233.267\n",
      "INFO:tensorflow:loss = 0.00067438895, step = 24101 (0.434 sec)\n",
      "INFO:tensorflow:global_step/sec: 232.694\n",
      "INFO:tensorflow:loss = 0.0017179507, step = 24201 (0.436 sec)\n",
      "INFO:tensorflow:global_step/sec: 254.371\n",
      "INFO:tensorflow:loss = 0.00028365382, step = 24301 (0.383 sec)\n",
      "INFO:tensorflow:global_step/sec: 335.393\n",
      "INFO:tensorflow:loss = 0.00207332, step = 24401 (0.296 sec)\n",
      "INFO:tensorflow:global_step/sec: 304.507\n",
      "INFO:tensorflow:loss = 0.001034857, step = 24501 (0.330 sec)\n",
      "INFO:tensorflow:global_step/sec: 327.829\n",
      "INFO:tensorflow:loss = 0.00076791935, step = 24601 (0.303 sec)\n",
      "INFO:tensorflow:global_step/sec: 488.146\n",
      "INFO:tensorflow:loss = 0.0009516715, step = 24701 (0.205 sec)\n",
      "INFO:tensorflow:global_step/sec: 364.494\n",
      "INFO:tensorflow:loss = 0.0012483809, step = 24801 (0.277 sec)\n",
      "INFO:tensorflow:global_step/sec: 281.307\n",
      "INFO:tensorflow:loss = 0.0012793908, step = 24901 (0.353 sec)\n",
      "INFO:tensorflow:global_step/sec: 416.381\n",
      "INFO:tensorflow:loss = 0.0005519424, step = 25001 (0.240 sec)\n",
      "INFO:tensorflow:global_step/sec: 427.507\n",
      "INFO:tensorflow:loss = 0.00082720903, step = 25101 (0.234 sec)\n",
      "INFO:tensorflow:global_step/sec: 329.719\n",
      "INFO:tensorflow:loss = 0.0014780014, step = 25201 (0.307 sec)\n",
      "INFO:tensorflow:global_step/sec: 248.287\n",
      "INFO:tensorflow:loss = 0.00018396533, step = 25301 (0.403 sec)\n",
      "INFO:tensorflow:global_step/sec: 368.871\n",
      "INFO:tensorflow:loss = 0.0005549269, step = 25401 (0.271 sec)\n",
      "INFO:tensorflow:global_step/sec: 236.807\n",
      "INFO:tensorflow:loss = 0.0009452435, step = 25501 (0.418 sec)\n",
      "INFO:tensorflow:global_step/sec: 350.343\n",
      "INFO:tensorflow:loss = 0.00080943765, step = 25601 (0.287 sec)\n",
      "INFO:tensorflow:global_step/sec: 452.111\n",
      "INFO:tensorflow:loss = 0.0003856238, step = 25701 (0.221 sec)\n",
      "INFO:tensorflow:global_step/sec: 443.94\n",
      "INFO:tensorflow:loss = 0.0006492833, step = 25801 (0.225 sec)\n",
      "INFO:tensorflow:global_step/sec: 447.885\n",
      "INFO:tensorflow:loss = 0.0013893214, step = 25901 (0.224 sec)\n",
      "INFO:tensorflow:global_step/sec: 278.754\n",
      "INFO:tensorflow:loss = 8.1895996e-05, step = 26001 (0.358 sec)\n",
      "INFO:tensorflow:global_step/sec: 403.018\n",
      "INFO:tensorflow:loss = 0.0008365442, step = 26101 (0.250 sec)\n",
      "INFO:tensorflow:global_step/sec: 393.979\n",
      "INFO:tensorflow:loss = 0.000936088, step = 26201 (0.250 sec)\n",
      "INFO:tensorflow:global_step/sec: 306.139\n",
      "INFO:tensorflow:loss = 0.0006579344, step = 26301 (0.329 sec)\n",
      "INFO:tensorflow:global_step/sec: 237.007\n",
      "INFO:tensorflow:loss = 0.0010216691, step = 26401 (0.421 sec)\n",
      "INFO:tensorflow:global_step/sec: 207.56\n",
      "INFO:tensorflow:loss = 0.0009638494, step = 26501 (0.481 sec)\n",
      "INFO:tensorflow:global_step/sec: 350.754\n",
      "INFO:tensorflow:loss = 0.00040338762, step = 26601 (0.285 sec)\n",
      "INFO:tensorflow:global_step/sec: 386.505\n",
      "INFO:tensorflow:loss = 2.601432e-05, step = 26701 (0.258 sec)\n",
      "INFO:tensorflow:global_step/sec: 348.209\n",
      "INFO:tensorflow:loss = 0.00038955256, step = 26801 (0.289 sec)\n",
      "INFO:tensorflow:global_step/sec: 402.357\n",
      "INFO:tensorflow:loss = 0.0008347799, step = 26901 (0.247 sec)\n",
      "INFO:tensorflow:global_step/sec: 477.961\n",
      "INFO:tensorflow:loss = 0.000937014, step = 27001 (0.209 sec)\n",
      "INFO:tensorflow:global_step/sec: 490.802\n",
      "INFO:tensorflow:loss = 0.0006072798, step = 27101 (0.204 sec)\n",
      "INFO:tensorflow:global_step/sec: 441.119\n",
      "INFO:tensorflow:loss = 0.00040767796, step = 27201 (0.227 sec)\n",
      "INFO:tensorflow:global_step/sec: 463.835\n",
      "INFO:tensorflow:loss = 0.0011864074, step = 27301 (0.215 sec)\n",
      "INFO:tensorflow:global_step/sec: 266.47\n",
      "INFO:tensorflow:loss = 0.00047593453, step = 27401 (0.376 sec)\n",
      "INFO:tensorflow:global_step/sec: 401.067\n",
      "INFO:tensorflow:loss = 0.0009696244, step = 27501 (0.249 sec)\n",
      "INFO:tensorflow:global_step/sec: 501.432\n",
      "INFO:tensorflow:loss = 0.0011928875, step = 27601 (0.201 sec)\n",
      "INFO:tensorflow:global_step/sec: 429.515\n",
      "INFO:tensorflow:loss = 0.00016036355, step = 27701 (0.231 sec)\n",
      "INFO:tensorflow:global_step/sec: 383.884\n",
      "INFO:tensorflow:loss = 0.00024827884, step = 27801 (0.261 sec)\n",
      "INFO:tensorflow:global_step/sec: 421.842\n",
      "INFO:tensorflow:loss = 0.0005774127, step = 27901 (0.237 sec)\n",
      "INFO:tensorflow:global_step/sec: 474.434\n",
      "INFO:tensorflow:loss = 0.0013601963, step = 28001 (0.211 sec)\n",
      "INFO:tensorflow:global_step/sec: 449.869\n",
      "INFO:tensorflow:loss = 0.00063171284, step = 28101 (0.222 sec)\n",
      "INFO:tensorflow:global_step/sec: 220.173\n",
      "INFO:tensorflow:loss = 0.0006219754, step = 28201 (0.455 sec)\n",
      "INFO:tensorflow:global_step/sec: 268.191\n",
      "INFO:tensorflow:loss = 0.000870645, step = 28301 (0.372 sec)\n",
      "INFO:tensorflow:global_step/sec: 425.968\n",
      "INFO:tensorflow:loss = 0.0011078588, step = 28401 (0.237 sec)\n",
      "INFO:tensorflow:global_step/sec: 448.12\n",
      "INFO:tensorflow:loss = 0.00013318616, step = 28501 (0.221 sec)\n",
      "INFO:tensorflow:global_step/sec: 235.465\n",
      "INFO:tensorflow:loss = 0.0005341873, step = 28601 (0.428 sec)\n",
      "INFO:tensorflow:global_step/sec: 225.347\n",
      "INFO:tensorflow:loss = 0.0012434577, step = 28701 (0.445 sec)\n",
      "INFO:tensorflow:global_step/sec: 246.029\n",
      "INFO:tensorflow:loss = 0.0010040718, step = 28801 (0.404 sec)\n",
      "INFO:tensorflow:global_step/sec: 481.476\n",
      "INFO:tensorflow:loss = 0.0002959154, step = 28901 (0.206 sec)\n",
      "INFO:tensorflow:global_step/sec: 502.727\n",
      "INFO:tensorflow:loss = 0.0014071453, step = 29001 (0.199 sec)\n",
      "INFO:tensorflow:global_step/sec: 511.313\n",
      "INFO:tensorflow:loss = 0.0012386398, step = 29101 (0.195 sec)\n",
      "INFO:tensorflow:global_step/sec: 510.599\n",
      "INFO:tensorflow:loss = 0.001357394, step = 29201 (0.196 sec)\n",
      "INFO:tensorflow:global_step/sec: 504.232\n",
      "INFO:tensorflow:loss = 0.0013324454, step = 29301 (0.198 sec)\n",
      "INFO:tensorflow:global_step/sec: 431.597\n",
      "INFO:tensorflow:loss = 0.0013120004, step = 29401 (0.232 sec)\n",
      "INFO:tensorflow:global_step/sec: 362.623\n",
      "INFO:tensorflow:loss = 0.00094115955, step = 29501 (0.276 sec)\n",
      "INFO:tensorflow:global_step/sec: 494.069\n",
      "INFO:tensorflow:loss = 0.00033444294, step = 29601 (0.202 sec)\n",
      "INFO:tensorflow:global_step/sec: 507.08\n",
      "INFO:tensorflow:loss = 0.0002412573, step = 29701 (0.197 sec)\n",
      "INFO:tensorflow:global_step/sec: 392.92\n",
      "INFO:tensorflow:loss = 0.00034977615, step = 29801 (0.257 sec)\n",
      "INFO:tensorflow:global_step/sec: 419.799\n",
      "INFO:tensorflow:loss = 0.0009609104, step = 29901 (0.235 sec)\n",
      "INFO:tensorflow:global_step/sec: 498.377\n",
      "INFO:tensorflow:loss = 0.00014007078, step = 30001 (0.201 sec)\n",
      "INFO:tensorflow:global_step/sec: 455.075\n",
      "INFO:tensorflow:loss = 0.0005834473, step = 30101 (0.220 sec)\n",
      "INFO:tensorflow:global_step/sec: 485.95\n",
      "INFO:tensorflow:loss = 0.00018897577, step = 30201 (0.206 sec)\n",
      "INFO:tensorflow:global_step/sec: 505.057\n",
      "INFO:tensorflow:loss = 0.0006762366, step = 30301 (0.198 sec)\n",
      "INFO:tensorflow:global_step/sec: 498.075\n",
      "INFO:tensorflow:loss = 0.0015436425, step = 30401 (0.201 sec)\n",
      "INFO:tensorflow:global_step/sec: 509.873\n",
      "INFO:tensorflow:loss = 0.0007427136, step = 30501 (0.196 sec)\n",
      "INFO:tensorflow:global_step/sec: 504.455\n",
      "INFO:tensorflow:loss = 0.0008021462, step = 30601 (0.198 sec)\n",
      "INFO:tensorflow:global_step/sec: 436.64\n",
      "INFO:tensorflow:loss = 0.0006758518, step = 30701 (0.231 sec)\n",
      "INFO:tensorflow:global_step/sec: 375.092\n",
      "INFO:tensorflow:loss = 0.0009313096, step = 30801 (0.266 sec)\n",
      "INFO:tensorflow:global_step/sec: 394.778\n",
      "INFO:tensorflow:loss = 0.000533801, step = 30901 (0.253 sec)\n",
      "INFO:tensorflow:global_step/sec: 443.844\n",
      "INFO:tensorflow:loss = 0.000999117, step = 31001 (0.224 sec)\n",
      "INFO:tensorflow:global_step/sec: 405.971\n",
      "INFO:tensorflow:loss = 0.0011009449, step = 31101 (0.246 sec)\n",
      "INFO:tensorflow:global_step/sec: 512.095\n",
      "INFO:tensorflow:loss = 0.00036678306, step = 31201 (0.197 sec)\n",
      "INFO:tensorflow:global_step/sec: 376.887\n",
      "INFO:tensorflow:loss = 0.0004089479, step = 31301 (0.271 sec)\n"
     ]
    },
    {
     "name": "stdout",
     "output_type": "stream",
     "text": [
      "INFO:tensorflow:global_step/sec: 457.961\n",
      "INFO:tensorflow:loss = 0.001537505, step = 31401 (0.212 sec)\n",
      "INFO:tensorflow:global_step/sec: 449.992\n",
      "INFO:tensorflow:loss = 0.00018039964, step = 31501 (0.225 sec)\n",
      "INFO:tensorflow:global_step/sec: 446.846\n",
      "INFO:tensorflow:loss = 0.00033090624, step = 31601 (0.221 sec)\n",
      "INFO:tensorflow:global_step/sec: 351.464\n",
      "INFO:tensorflow:loss = 0.00065389514, step = 31701 (0.284 sec)\n",
      "INFO:tensorflow:global_step/sec: 476.815\n",
      "INFO:tensorflow:loss = 0.00016510641, step = 31801 (0.210 sec)\n",
      "INFO:tensorflow:global_step/sec: 403.161\n",
      "INFO:tensorflow:loss = 0.0006724696, step = 31901 (0.248 sec)\n",
      "INFO:tensorflow:global_step/sec: 401.082\n",
      "INFO:tensorflow:loss = 0.000113991875, step = 32001 (0.249 sec)\n",
      "INFO:tensorflow:global_step/sec: 452.319\n",
      "INFO:tensorflow:loss = 0.00041301307, step = 32101 (0.221 sec)\n",
      "INFO:tensorflow:global_step/sec: 517.886\n",
      "INFO:tensorflow:loss = 0.0011390031, step = 32201 (0.195 sec)\n",
      "INFO:tensorflow:global_step/sec: 398.798\n",
      "INFO:tensorflow:loss = 0.0006934686, step = 32301 (0.249 sec)\n",
      "INFO:tensorflow:global_step/sec: 476.433\n",
      "INFO:tensorflow:loss = 0.00018541468, step = 32401 (0.212 sec)\n",
      "INFO:tensorflow:global_step/sec: 284.9\n",
      "INFO:tensorflow:loss = 0.00034976949, step = 32501 (0.349 sec)\n",
      "INFO:tensorflow:global_step/sec: 367.842\n",
      "INFO:tensorflow:loss = 0.00024616573, step = 32601 (0.272 sec)\n",
      "INFO:tensorflow:global_step/sec: 481.27\n",
      "INFO:tensorflow:loss = 0.0007879969, step = 32701 (0.208 sec)\n",
      "INFO:tensorflow:global_step/sec: 403.588\n",
      "INFO:tensorflow:loss = 0.0009927959, step = 32801 (0.249 sec)\n",
      "INFO:tensorflow:global_step/sec: 301.444\n",
      "INFO:tensorflow:loss = 0.0005218842, step = 32901 (0.331 sec)\n",
      "INFO:tensorflow:global_step/sec: 253.387\n",
      "INFO:tensorflow:loss = 0.000686248, step = 33001 (0.396 sec)\n",
      "INFO:tensorflow:global_step/sec: 388.375\n",
      "INFO:tensorflow:loss = 0.0017852256, step = 33101 (0.256 sec)\n",
      "INFO:tensorflow:global_step/sec: 395.06\n",
      "INFO:tensorflow:loss = 0.0009473006, step = 33201 (0.253 sec)\n",
      "INFO:tensorflow:global_step/sec: 450.39\n",
      "INFO:tensorflow:loss = 0.00035449944, step = 33301 (0.222 sec)\n",
      "INFO:tensorflow:global_step/sec: 486.369\n",
      "INFO:tensorflow:loss = 0.0013534066, step = 33401 (0.206 sec)\n",
      "INFO:tensorflow:global_step/sec: 410.447\n",
      "INFO:tensorflow:loss = 0.0003332577, step = 33501 (0.245 sec)\n",
      "INFO:tensorflow:global_step/sec: 412.857\n",
      "INFO:tensorflow:loss = 0.0010706167, step = 33601 (0.241 sec)\n",
      "INFO:tensorflow:global_step/sec: 292.768\n",
      "INFO:tensorflow:loss = 0.0008727861, step = 33701 (0.342 sec)\n",
      "INFO:tensorflow:global_step/sec: 389.248\n",
      "INFO:tensorflow:loss = 0.0005476026, step = 33801 (0.257 sec)\n",
      "INFO:tensorflow:global_step/sec: 470.941\n",
      "INFO:tensorflow:loss = 0.000796455, step = 33901 (0.212 sec)\n",
      "INFO:tensorflow:global_step/sec: 491.4\n",
      "INFO:tensorflow:loss = 0.00067292043, step = 34001 (0.204 sec)\n",
      "INFO:tensorflow:global_step/sec: 490.003\n",
      "INFO:tensorflow:loss = 0.0005527706, step = 34101 (0.204 sec)\n",
      "INFO:tensorflow:global_step/sec: 512.935\n",
      "INFO:tensorflow:loss = 0.0009905659, step = 34201 (0.196 sec)\n",
      "INFO:tensorflow:global_step/sec: 490.132\n",
      "INFO:tensorflow:loss = 0.000139491, step = 34301 (0.203 sec)\n",
      "INFO:tensorflow:global_step/sec: 481.166\n",
      "INFO:tensorflow:loss = 0.00047654723, step = 34401 (0.208 sec)\n",
      "INFO:tensorflow:global_step/sec: 447.032\n",
      "INFO:tensorflow:loss = 0.00046469594, step = 34501 (0.224 sec)\n",
      "INFO:tensorflow:global_step/sec: 490.852\n",
      "INFO:tensorflow:loss = 0.00043927887, step = 34601 (0.204 sec)\n",
      "INFO:tensorflow:global_step/sec: 503.049\n",
      "INFO:tensorflow:loss = 0.0010692462, step = 34701 (0.199 sec)\n",
      "INFO:tensorflow:global_step/sec: 502.209\n",
      "INFO:tensorflow:loss = 0.0005828435, step = 34801 (0.199 sec)\n",
      "INFO:tensorflow:global_step/sec: 510.545\n",
      "INFO:tensorflow:loss = 0.00072398136, step = 34901 (0.196 sec)\n",
      "INFO:tensorflow:global_step/sec: 502.232\n",
      "INFO:tensorflow:loss = 0.00024943394, step = 35001 (0.199 sec)\n",
      "INFO:tensorflow:global_step/sec: 508.601\n",
      "INFO:tensorflow:loss = 0.0007794757, step = 35101 (0.197 sec)\n",
      "INFO:tensorflow:global_step/sec: 507.752\n",
      "INFO:tensorflow:loss = 0.00020391268, step = 35201 (0.197 sec)\n",
      "INFO:tensorflow:global_step/sec: 445.823\n",
      "INFO:tensorflow:loss = 0.00010795552, step = 35301 (0.224 sec)\n",
      "INFO:tensorflow:global_step/sec: 455.815\n",
      "INFO:tensorflow:loss = 0.0011102302, step = 35401 (0.219 sec)\n",
      "INFO:tensorflow:global_step/sec: 453.478\n",
      "INFO:tensorflow:loss = 0.00038828293, step = 35501 (0.221 sec)\n",
      "INFO:tensorflow:global_step/sec: 438.27\n",
      "INFO:tensorflow:loss = 0.00032063224, step = 35601 (0.228 sec)\n",
      "INFO:tensorflow:global_step/sec: 340.657\n",
      "INFO:tensorflow:loss = 0.00091935997, step = 35701 (0.293 sec)\n",
      "INFO:tensorflow:global_step/sec: 239.413\n",
      "INFO:tensorflow:loss = 0.0006365017, step = 35801 (0.420 sec)\n",
      "INFO:tensorflow:global_step/sec: 238.947\n",
      "INFO:tensorflow:loss = 0.00042670395, step = 35901 (0.417 sec)\n",
      "INFO:tensorflow:global_step/sec: 268.015\n",
      "INFO:tensorflow:loss = 0.00035764932, step = 36001 (0.377 sec)\n",
      "INFO:tensorflow:global_step/sec: 382.661\n",
      "INFO:tensorflow:loss = 0.0011046276, step = 36101 (0.258 sec)\n",
      "INFO:tensorflow:global_step/sec: 468.579\n",
      "INFO:tensorflow:loss = 0.0009535676, step = 36201 (0.213 sec)\n",
      "INFO:tensorflow:global_step/sec: 413.206\n",
      "INFO:tensorflow:loss = 0.0002494154, step = 36301 (0.246 sec)\n",
      "INFO:tensorflow:global_step/sec: 488.219\n",
      "INFO:tensorflow:loss = 0.000651065, step = 36401 (0.200 sec)\n",
      "INFO:tensorflow:global_step/sec: 455.117\n",
      "INFO:tensorflow:loss = 0.00020123791, step = 36501 (0.220 sec)\n",
      "INFO:tensorflow:global_step/sec: 420.079\n",
      "INFO:tensorflow:loss = 0.00025430613, step = 36601 (0.238 sec)\n",
      "INFO:tensorflow:global_step/sec: 502.616\n",
      "INFO:tensorflow:loss = 0.00037527495, step = 36701 (0.201 sec)\n",
      "INFO:tensorflow:global_step/sec: 507.429\n",
      "INFO:tensorflow:loss = 0.00079971156, step = 36801 (0.196 sec)\n",
      "INFO:tensorflow:global_step/sec: 505.528\n",
      "INFO:tensorflow:loss = 0.0004612706, step = 36901 (0.196 sec)\n",
      "INFO:tensorflow:global_step/sec: 423.784\n",
      "INFO:tensorflow:loss = 0.000672982, step = 37001 (0.238 sec)\n",
      "INFO:tensorflow:global_step/sec: 467.46\n",
      "INFO:tensorflow:loss = 0.00014163289, step = 37101 (0.213 sec)\n",
      "INFO:tensorflow:global_step/sec: 514.22\n",
      "INFO:tensorflow:loss = 0.00018396876, step = 37201 (0.194 sec)\n",
      "INFO:tensorflow:global_step/sec: 412.392\n",
      "INFO:tensorflow:loss = 0.000597672, step = 37301 (0.242 sec)\n",
      "INFO:tensorflow:global_step/sec: 511.068\n",
      "INFO:tensorflow:loss = 0.00029662895, step = 37401 (0.196 sec)\n",
      "INFO:tensorflow:global_step/sec: 493.851\n",
      "INFO:tensorflow:loss = 0.00030552835, step = 37501 (0.203 sec)\n",
      "INFO:tensorflow:global_step/sec: 404.305\n",
      "INFO:tensorflow:loss = 0.00023211987, step = 37601 (0.247 sec)\n",
      "INFO:tensorflow:global_step/sec: 316.365\n",
      "INFO:tensorflow:loss = 8.138336e-05, step = 37701 (0.316 sec)\n",
      "INFO:tensorflow:global_step/sec: 403.932\n",
      "INFO:tensorflow:loss = 0.00061714207, step = 37801 (0.250 sec)\n",
      "INFO:tensorflow:global_step/sec: 422.587\n",
      "INFO:tensorflow:loss = 0.0012643118, step = 37901 (0.235 sec)\n",
      "INFO:tensorflow:global_step/sec: 406.06\n",
      "INFO:tensorflow:loss = 0.00024391699, step = 38001 (0.250 sec)\n",
      "INFO:tensorflow:global_step/sec: 450.482\n",
      "INFO:tensorflow:loss = 0.0009095015, step = 38101 (0.218 sec)\n",
      "INFO:tensorflow:global_step/sec: 452.2\n",
      "INFO:tensorflow:loss = 0.0007554377, step = 38201 (0.221 sec)\n",
      "INFO:tensorflow:global_step/sec: 398.362\n",
      "INFO:tensorflow:loss = 7.324292e-05, step = 38301 (0.251 sec)\n",
      "INFO:tensorflow:global_step/sec: 427.195\n",
      "INFO:tensorflow:loss = 0.00011952611, step = 38401 (0.235 sec)\n",
      "INFO:tensorflow:global_step/sec: 378.593\n",
      "INFO:tensorflow:loss = 0.00049342844, step = 38501 (0.264 sec)\n",
      "INFO:tensorflow:global_step/sec: 499.333\n",
      "INFO:tensorflow:loss = 0.0007004475, step = 38601 (0.201 sec)\n",
      "INFO:tensorflow:global_step/sec: 488.187\n",
      "INFO:tensorflow:loss = 0.00044041185, step = 38701 (0.204 sec)\n",
      "INFO:tensorflow:global_step/sec: 436.004\n",
      "INFO:tensorflow:loss = 0.000101636935, step = 38801 (0.229 sec)\n",
      "INFO:tensorflow:global_step/sec: 337.22\n",
      "INFO:tensorflow:loss = 0.001412792, step = 38901 (0.296 sec)\n",
      "INFO:tensorflow:global_step/sec: 222.469\n",
      "INFO:tensorflow:loss = 0.00015242487, step = 39001 (0.453 sec)\n",
      "INFO:tensorflow:global_step/sec: 233.766\n",
      "INFO:tensorflow:loss = 0.00071659347, step = 39101 (0.424 sec)\n",
      "INFO:tensorflow:global_step/sec: 260.335\n",
      "INFO:tensorflow:loss = 0.00032181668, step = 39201 (0.384 sec)\n",
      "INFO:tensorflow:global_step/sec: 256.728\n"
     ]
    },
    {
     "name": "stdout",
     "output_type": "stream",
     "text": [
      "INFO:tensorflow:loss = 0.0003701024, step = 39301 (0.388 sec)\n",
      "INFO:tensorflow:global_step/sec: 287.661\n",
      "INFO:tensorflow:loss = 0.00043471632, step = 39401 (0.348 sec)\n",
      "INFO:tensorflow:global_step/sec: 388.796\n",
      "INFO:tensorflow:loss = 0.0001589904, step = 39501 (0.257 sec)\n",
      "INFO:tensorflow:global_step/sec: 399.277\n",
      "INFO:tensorflow:loss = 0.0007199554, step = 39601 (0.250 sec)\n",
      "INFO:tensorflow:global_step/sec: 455.405\n",
      "INFO:tensorflow:loss = 0.00015482325, step = 39701 (0.221 sec)\n",
      "INFO:tensorflow:global_step/sec: 466.209\n",
      "INFO:tensorflow:loss = 0.0011649998, step = 39801 (0.213 sec)\n",
      "INFO:tensorflow:global_step/sec: 434.423\n",
      "INFO:tensorflow:loss = 0.0008285186, step = 39901 (0.230 sec)\n",
      "INFO:tensorflow:Saving checkpoints for 40000 into /tmp/tmpw96bfvkc/model.ckpt.\n",
      "INFO:tensorflow:Loss for final step: 0.0003867582.\n"
     ]
    },
    {
     "data": {
      "text/plain": [
       "SKCompat()"
      ]
     },
     "execution_count": 95,
     "metadata": {},
     "output_type": "execute_result"
    }
   ],
   "source": [
    "import tensorflow as tf\n",
    "\n",
    "config = tf.contrib.learn.RunConfig(tf_random_seed=42) # not shown in the config\n",
    "\n",
    "feature_cols = tf.contrib.learn.infer_real_valued_columns_from_input(X_train)\n",
    "dnn_clf = tf.contrib.learn.DNNClassifier(hidden_units=[300,100], n_classes=10,\n",
    "                                         feature_columns=feature_cols, config=config)\n",
    "dnn_clf = tf.contrib.learn.SKCompat(dnn_clf) # if TensorFlow >= 1.1\n",
    "dnn_clf.fit(X_train, y_train, batch_size=50, steps=40000)"
   ]
  },
  {
   "cell_type": "code",
   "execution_count": 96,
   "metadata": {},
   "outputs": [
    {
     "name": "stdout",
     "output_type": "stream",
     "text": [
      "INFO:tensorflow:Restoring parameters from /tmp/tmpw96bfvkc/model.ckpt-40000\n"
     ]
    },
    {
     "data": {
      "text/plain": [
       "0.984"
      ]
     },
     "execution_count": 96,
     "metadata": {},
     "output_type": "execute_result"
    }
   ],
   "source": [
    "from sklearn.metrics import accuracy_score\n",
    "\n",
    "y_pred = dnn_clf.predict(X_test)\n",
    "accuracy_score(y_test, y_pred['classes'])\n"
   ]
  },
  {
   "cell_type": "code",
   "execution_count": 97,
   "metadata": {},
   "outputs": [
    {
     "data": {
      "text/plain": [
       "0.07070503412125431"
      ]
     },
     "execution_count": 97,
     "metadata": {},
     "output_type": "execute_result"
    }
   ],
   "source": [
    "from sklearn.metrics import log_loss\n",
    "\n",
    "y_pred_proba = y_pred['probabilities']\n",
    "log_loss(y_test, y_pred_proba)"
   ]
  },
  {
   "cell_type": "markdown",
   "metadata": {},
   "source": [
    "# Using plain TensorFlow"
   ]
  },
  {
   "cell_type": "code",
   "execution_count": 98,
   "metadata": {},
   "outputs": [],
   "source": [
    "import tensorflow as tf\n",
    "\n",
    "n_inputs = 28*28  # MNIST\n",
    "n_hidden1 = 300\n",
    "n_hidden2 = 100\n",
    "n_outputs = 10"
   ]
  },
  {
   "cell_type": "code",
   "execution_count": 99,
   "metadata": {},
   "outputs": [],
   "source": [
    "reset_graph()\n",
    "\n",
    "X = tf.placeholder(tf.float32, shape=(None, n_inputs), name=\"X\")\n",
    "y = tf.placeholder(tf.int64, shape=(None), name=\"y\")"
   ]
  },
  {
   "cell_type": "code",
   "execution_count": 100,
   "metadata": {},
   "outputs": [],
   "source": [
    "def neuron_layer(X, n_neurons, name, activation=None):\n",
    "    with tf.name_scope(name):\n",
    "        n_inputs = int(X.get_shape()[1])\n",
    "        stddev = 2 / np.sqrt(n_inputs)\n",
    "        init = tf.truncated_normal((n_inputs, n_neurons), stddev=stddev)\n",
    "        W = tf.Variable(init, name=\"kernel\")\n",
    "        b = tf.Variable(tf.zeros([n_neurons]), name=\"bias\")\n",
    "        Z = tf.matmul(X, W) + b\n",
    "        if activation is not None:\n",
    "            return activation(Z)\n",
    "        else:\n",
    "            return Z"
   ]
  },
  {
   "cell_type": "code",
   "execution_count": 101,
   "metadata": {},
   "outputs": [],
   "source": [
    "with tf.name_scope(\"dnn\"):\n",
    "    hidden1 = neuron_layer(X, n_hidden1, name=\"hidden1\",\n",
    "                           activation=tf.nn.relu)\n",
    "    hidden2 = neuron_layer(hidden1, n_hidden2, name=\"hidden2\",\n",
    "                           activation=tf.nn.relu)\n",
    "    logits = neuron_layer(hidden2, n_outputs, name=\"outputs\")"
   ]
  },
  {
   "cell_type": "code",
   "execution_count": 102,
   "metadata": {},
   "outputs": [],
   "source": [
    "with tf.name_scope(\"loss\"):\n",
    "    xentropy = tf.nn.sparse_softmax_cross_entropy_with_logits(labels=y,\n",
    "                                                              logits=logits)\n",
    "    loss = tf.reduce_mean(xentropy, name=\"loss\")"
   ]
  },
  {
   "cell_type": "code",
   "execution_count": 103,
   "metadata": {},
   "outputs": [],
   "source": [
    "learning_rate = 0.01\n",
    "\n",
    "with tf.name_scope(\"train\"):\n",
    "    optimizer = tf.train.GradientDescentOptimizer(learning_rate)\n",
    "    training_op = optimizer.minimize(loss)"
   ]
  },
  {
   "cell_type": "code",
   "execution_count": 104,
   "metadata": {},
   "outputs": [],
   "source": [
    "with tf.name_scope(\"eval\"):\n",
    "    correct = tf.nn.in_top_k(logits, y, 1)\n",
    "    accuracy = tf.reduce_mean(tf.cast(correct, tf.float32))"
   ]
  },
  {
   "cell_type": "code",
   "execution_count": 105,
   "metadata": {},
   "outputs": [],
   "source": [
    "init = tf.global_variables_initializer()\n",
    "saver = tf.train.Saver()"
   ]
  },
  {
   "cell_type": "code",
   "execution_count": 106,
   "metadata": {},
   "outputs": [],
   "source": [
    "n_epochs = 10\n",
    "batch_size = 50"
   ]
  },
  {
   "cell_type": "code",
   "execution_count": 107,
   "metadata": {},
   "outputs": [
    {
     "name": "stdout",
     "output_type": "stream",
     "text": [
      "0 Train accuracy: 0.9 Val accuracy: 0.9146\n",
      "1 Train accuracy: 0.94 Val accuracy: 0.9352\n",
      "2 Train accuracy: 0.92 Val accuracy: 0.9466\n",
      "3 Train accuracy: 0.96 Val accuracy: 0.951\n",
      "4 Train accuracy: 0.92 Val accuracy: 0.9586\n",
      "5 Train accuracy: 0.94 Val accuracy: 0.958\n",
      "6 Train accuracy: 0.98 Val accuracy: 0.9608\n",
      "7 Train accuracy: 0.96 Val accuracy: 0.9636\n",
      "8 Train accuracy: 0.92 Val accuracy: 0.9638\n",
      "9 Train accuracy: 0.96 Val accuracy: 0.9648\n"
     ]
    }
   ],
   "source": [
    "with tf.Session() as sess:\n",
    "    init.run()\n",
    "    for epoch in range(n_epochs):\n",
    "        for iteration in range(mnist.train.num_examples // batch_size):\n",
    "            X_batch, y_batch = mnist.train.next_batch(batch_size)\n",
    "            sess.run(training_op, feed_dict={X: X_batch, y: y_batch})\n",
    "        acc_train = accuracy.eval(feed_dict={X: X_batch, y: y_batch})\n",
    "        acc_val = accuracy.eval(feed_dict={X: mnist.validation.images,\n",
    "                                            y: mnist.validation.labels})\n",
    "        print(epoch, \"Train accuracy:\", acc_train, \"Val accuracy:\", acc_val)\n",
    "\n",
    "    save_path = saver.save(sess, \"./my_model_final.ckpt\")"
   ]
  },
  {
   "cell_type": "code",
   "execution_count": 108,
   "metadata": {},
   "outputs": [
    {
     "name": "stdout",
     "output_type": "stream",
     "text": [
      "INFO:tensorflow:Restoring parameters from ./my_model_final.ckpt\n"
     ]
    }
   ],
   "source": [
    "with tf.Session() as sess:\n",
    "    saver.restore(sess, \"./my_model_final.ckpt\") # or better, use save_path\n",
    "    X_new_scaled = mnist.test.images[:20]\n",
    "    Z = logits.eval(feed_dict={X: X_new_scaled})\n",
    "    y_pred = np.argmax(Z, axis=1)"
   ]
  },
  {
   "cell_type": "code",
   "execution_count": 109,
   "metadata": {},
   "outputs": [
    {
     "name": "stdout",
     "output_type": "stream",
     "text": [
      "Predicted classes: [7 2 1 0 4 1 4 9 6 9 0 6 9 0 1 5 9 7 3 4]\n",
      "Actual classes:    [7 2 1 0 4 1 4 9 5 9 0 6 9 0 1 5 9 7 3 4]\n"
     ]
    }
   ],
   "source": [
    "print(\"Predicted classes:\", y_pred)\n",
    "print(\"Actual classes:   \", mnist.test.labels[:20])"
   ]
  },
  {
   "cell_type": "code",
   "execution_count": null,
   "metadata": {},
   "outputs": [],
   "source": []
  }
 ],
 "metadata": {
  "kernelspec": {
   "display_name": "Python 3",
   "language": "python",
   "name": "python3"
  },
  "language_info": {
   "codemirror_mode": {
    "name": "ipython",
    "version": 3
   },
   "file_extension": ".py",
   "mimetype": "text/x-python",
   "name": "python",
   "nbconvert_exporter": "python",
   "pygments_lexer": "ipython3",
   "version": "3.5.4"
  }
 },
 "nbformat": 4,
 "nbformat_minor": 2
}
