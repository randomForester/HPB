{
 "cells": [
  {
   "cell_type": "code",
   "execution_count": 1,
   "metadata": {},
   "outputs": [
    {
     "name": "stdout",
     "output_type": "stream",
     "text": [
      "total 14960\r\n",
      "drwxrwxr-x 2 cesare cesare     4096  三   8 15:02 \u001b[0m\u001b[01;34mbin\u001b[0m/\r\n",
      "drwxrwxr-x 4 cesare cesare     4096  三  12 09:08 \u001b[01;34mbuild\u001b[0m/\r\n",
      "drwxrwxr-x 4 cesare cesare     4096  三  12 09:15 \u001b[01;34mcfg\u001b[0m/\r\n",
      "drwxrwxr-x 2 cesare cesare     4096  三  12 09:31 \u001b[01;34mckpt\u001b[0m/\r\n",
      "drwxrwxr-x 7 cesare cesare     4096  三  12 09:08 \u001b[01;34mdarkflow\u001b[0m/\r\n",
      "-rw-rw-r-- 1 cesare cesare    26637  三  12 13:53 DarkFlow.ipynb\r\n",
      "-rw-rw-r-- 1 cesare cesare 14900940  二  26 23:07 \u001b[01;35mdemo.gif\u001b[0m\r\n",
      "-rwxr-xr-x 1 cesare cesare       94  二  26 23:07 \u001b[01;32mflow\u001b[0m*\r\n",
      "-rw-rw-r-- 1 cesare cesare       21  三   8 11:41 labels3c.txt\r\n",
      "-rw-rw-r-- 1 cesare cesare       27  二  26 23:07 labels_o.txt\r\n",
      "-rw-rw-r-- 1 cesare cesare       21  三   8 16:03 labels.txt\r\n",
      "-rw-rw-r-- 1 cesare cesare    35141  二  26 23:07 LICENSE\r\n",
      "-rw-rw-r-- 1 cesare cesare   283380  二  26 23:07 \u001b[01;35mpreview.png\u001b[0m\r\n",
      "-rw-rw-r-- 1 cesare cesare    11539  二  26 23:07 README.md\r\n",
      "drwxrwxr-x 3 cesare cesare     4096  三  12 09:10 \u001b[01;34msample_img\u001b[0m/\r\n",
      "-rw-rw-r-- 1 cesare cesare     2575  二  26 23:07 setup.py\r\n",
      "drwxrwxr-x 3 cesare cesare     4096  二  26 23:07 \u001b[01;34mtest\u001b[0m/\r\n"
     ]
    }
   ],
   "source": [
    "ls -l "
   ]
  },
  {
   "cell_type": "code",
   "execution_count": 2,
   "metadata": {},
   "outputs": [
    {
     "name": "stdout",
     "output_type": "stream",
     "text": [
      "/home/cesare/anaconda3/envs/py35/lib/python3.5/site-packages/h5py/__init__.py:36: FutureWarning: Conversion of the second argument of issubdtype from `float` to `np.floating` is deprecated. In future, it will be treated as `np.float64 == np.dtype(float).type`.\n",
      "  from ._conv import register_converters as _register_converters\n",
      "\n",
      "Example usage: flow --imgdir sample_img/ --model cfg/yolo.cfg --load bin/yolo.weights\n",
      "\n",
      "Arguments:\n",
      "  --load           how to initialize the net? Either from .weights or a checkpoint, or even from scratch\n",
      "  --epoch          number of epoch\n",
      "  --queue          process demo in batch\n",
      "  --threshold      detection threshold\n",
      "  --summary        path to TensorBoard summaries directory\n",
      "  --keep           Number of most recent training results to save\n",
      "  --model          configuration of choice\n",
      "  --json           Outputs bounding box information in json format.\n",
      "  --demo           demo on webcam\n",
      "  --pbLoad         path to .pb protobuf file (metaLoad must also be specified)\n",
      "  --trainer        training algorithm\n",
      "  --gpuName        GPU device name\n",
      "  --saveVideo      Records video from input video or camera\n",
      "  --help, --h, -h  show this super helpful message and exit\n",
      "  --binary         path to .weights directory\n",
      "  --verbalise      say out loud while building graph\n",
      "  --savepb         save net and weight to a .pb file\n",
      "  --labels         path to labels file\n",
      "  --imgdir         path to testing directory with images\n",
      "  --train          train the whole net\n",
      "  --annotation     path to annotation directory\n",
      "  --backup         path to backup folder\n",
      "  --dataset        path to dataset directory\n",
      "  --lr             learning rate\n",
      "  --gpu            how much gpu (from 0.0 to 1.0)\n",
      "  --config         path to .cfg directory\n",
      "  --batch          batch size\n",
      "  --save           save checkpoint every ? training examples\n",
      "  --metaLoad       path to .meta file generated during --savepb that corresponds to .pb file\n",
      "  --momentum       applicable for rmsprop and momentum optimizers\n",
      "\n"
     ]
    }
   ],
   "source": [
    "!./flow --h"
   ]
  },
  {
   "cell_type": "code",
   "execution_count": 3,
   "metadata": {},
   "outputs": [
    {
     "name": "stdout",
     "output_type": "stream",
     "text": [
      "/home/cesare/anaconda3/envs/py35/lib/python3.5/site-packages/h5py/__init__.py:36: FutureWarning: Conversion of the second argument of issubdtype from `float` to `np.floating` is deprecated. In future, it will be treated as `np.float64 == np.dtype(float).type`.\n",
      "  from ._conv import register_converters as _register_converters\n",
      "\n",
      "Parsing ./cfg/tiny-yolo-voc.cfg\n",
      "Parsing cfg/tiny-yolo.cfg\n",
      "Loading bin/tiny-yolo-voc.weights ...\n",
      "Successfully identified 63471556 bytes\n",
      "Finished in 0.022128820419311523s\n",
      "Model has a coco model name, loading coco labels.\n",
      "\n",
      "Building net ...\n",
      "Source | Train? | Layer description                | Output size\n",
      "-------+--------+----------------------------------+---------------\n",
      "       |        | input                            | (?, 416, 416, 3)\n",
      " Load  |  Yep!  | conv 3x3p1_1  +bnorm  leaky      | (?, 416, 416, 16)\n",
      " Load  |  Yep!  | maxp 2x2p0_2                     | (?, 208, 208, 16)\n",
      " Load  |  Yep!  | conv 3x3p1_1  +bnorm  leaky      | (?, 208, 208, 32)\n",
      " Load  |  Yep!  | maxp 2x2p0_2                     | (?, 104, 104, 32)\n",
      " Load  |  Yep!  | conv 3x3p1_1  +bnorm  leaky      | (?, 104, 104, 64)\n",
      " Load  |  Yep!  | maxp 2x2p0_2                     | (?, 52, 52, 64)\n",
      " Load  |  Yep!  | conv 3x3p1_1  +bnorm  leaky      | (?, 52, 52, 128)\n",
      " Load  |  Yep!  | maxp 2x2p0_2                     | (?, 26, 26, 128)\n",
      " Load  |  Yep!  | conv 3x3p1_1  +bnorm  leaky      | (?, 26, 26, 256)\n",
      " Load  |  Yep!  | maxp 2x2p0_2                     | (?, 13, 13, 256)\n",
      " Load  |  Yep!  | conv 3x3p1_1  +bnorm  leaky      | (?, 13, 13, 512)\n",
      " Load  |  Yep!  | maxp 2x2p0_1                     | (?, 13, 13, 512)\n",
      " Load  |  Yep!  | conv 3x3p1_1  +bnorm  leaky      | (?, 13, 13, 1024)\n",
      " Load  |  Yep!  | conv 3x3p1_1  +bnorm  leaky      | (?, 13, 13, 1024)\n",
      " Init  |  Yep!  | conv 1x1p0_1    linear           | (?, 13, 13, 425)\n",
      "-------+--------+----------------------------------+---------------\n",
      "Running entirely on CPU\n",
      "2018-03-12 13:54:33.516354: I tensorflow/core/platform/cpu_feature_guard.cc:137] Your CPU supports instructions that this TensorFlow binary was not compiled to use: SSE4.1 SSE4.2 AVX AVX2\n",
      "Finished in 3.031238317489624s\n",
      "\n",
      "Forwarding 8 inputs ...\n",
      "Total time = 1.5998835563659668s / 8 inps = 5.000363912840937 ips\n",
      "Post processing 8 inputs ...\n",
      "Total time = 0.3885529041290283s / 8 inps = 20.589216847915793 ips\n"
     ]
    }
   ],
   "source": [
    "!./flow --model cfg/tiny-yolo.cfg --load bin/tiny-yolo-voc.weights"
   ]
  },
  {
   "cell_type": "code",
   "execution_count": 4,
   "metadata": {},
   "outputs": [
    {
     "name": "stdout",
     "output_type": "stream",
     "text": [
      "/home/cesare/anaconda3/envs/py35/lib/python3.5/site-packages/h5py/__init__.py:36: FutureWarning: Conversion of the second argument of issubdtype from `float` to `np.floating` is deprecated. In future, it will be treated as `np.float64 == np.dtype(float).type`.\n",
      "  from ._conv import register_converters as _register_converters\n",
      "\n",
      "Parsing ./cfg/tiny-yolo-voc.cfg\n",
      "Parsing cfg/tiny-yolo.cfg\n",
      "Loading bin/tiny-yolo-voc.weights ...\n",
      "Successfully identified 63471556 bytes\n",
      "Finished in 0.004067659378051758s\n",
      "Model has a coco model name, loading coco labels.\n",
      "\n",
      "Building net ...\n",
      "Source | Train? | Layer description                | Output size\n",
      "-------+--------+----------------------------------+---------------\n",
      "       |        | input                            | (?, 416, 416, 3)\n",
      " Load  |  Yep!  | conv 3x3p1_1  +bnorm  leaky      | (?, 416, 416, 16)\n",
      " Load  |  Yep!  | maxp 2x2p0_2                     | (?, 208, 208, 16)\n",
      " Load  |  Yep!  | conv 3x3p1_1  +bnorm  leaky      | (?, 208, 208, 32)\n",
      " Load  |  Yep!  | maxp 2x2p0_2                     | (?, 104, 104, 32)\n",
      " Load  |  Yep!  | conv 3x3p1_1  +bnorm  leaky      | (?, 104, 104, 64)\n",
      " Load  |  Yep!  | maxp 2x2p0_2                     | (?, 52, 52, 64)\n",
      " Load  |  Yep!  | conv 3x3p1_1  +bnorm  leaky      | (?, 52, 52, 128)\n",
      " Load  |  Yep!  | maxp 2x2p0_2                     | (?, 26, 26, 128)\n",
      " Load  |  Yep!  | conv 3x3p1_1  +bnorm  leaky      | (?, 26, 26, 256)\n",
      " Load  |  Yep!  | maxp 2x2p0_2                     | (?, 13, 13, 256)\n",
      " Load  |  Yep!  | conv 3x3p1_1  +bnorm  leaky      | (?, 13, 13, 512)\n",
      " Load  |  Yep!  | maxp 2x2p0_1                     | (?, 13, 13, 512)\n",
      " Load  |  Yep!  | conv 3x3p1_1  +bnorm  leaky      | (?, 13, 13, 1024)\n",
      " Load  |  Yep!  | conv 3x3p1_1  +bnorm  leaky      | (?, 13, 13, 1024)\n",
      " Init  |  Yep!  | conv 1x1p0_1    linear           | (?, 13, 13, 425)\n",
      "-------+--------+----------------------------------+---------------\n",
      "Running entirely on CPU\n",
      "2018-03-12 13:54:45.856975: I tensorflow/core/platform/cpu_feature_guard.cc:137] Your CPU supports instructions that this TensorFlow binary was not compiled to use: SSE4.1 SSE4.2 AVX AVX2\n",
      "Finished in 2.7264010906219482s\n",
      "\n",
      "Forwarding 8 inputs ...\n",
      "Total time = 1.4333631992340088s / 8 inps = 5.581279053540102 ips\n",
      "Post processing 8 inputs ...\n",
      "Total time = 0.41534876823425293s / 8 inps = 19.26092145165114 ips\n"
     ]
    }
   ],
   "source": [
    "!./flow --imgdir sample_img/ --model cfg/tiny-yolo.cfg --load bin/tiny-yolo-voc.weights"
   ]
  },
  {
   "cell_type": "code",
   "execution_count": 5,
   "metadata": {},
   "outputs": [
    {
     "name": "stdout",
     "output_type": "stream",
     "text": [
      "/home/cesare/anaconda3/envs/py35/lib/python3.5/site-packages/h5py/__init__.py:36: FutureWarning: Conversion of the second argument of issubdtype from `float` to `np.floating` is deprecated. In future, it will be treated as `np.float64 == np.dtype(float).type`.\n",
      "  from ._conv import register_converters as _register_converters\n",
      "\n",
      "Parsing ./cfg/tiny-yolo-voc.cfg\n",
      "Parsing cfg/tiny-yolo.cfg\n",
      "Loading bin/tiny-yolo-voc.weights ...\n",
      "Successfully identified 63471556 bytes\n",
      "Finished in 0.0037276744842529297s\n",
      "Model has a coco model name, loading coco labels.\n",
      "\n",
      "Building net ...\n",
      "Source | Train? | Layer description                | Output size\n",
      "-------+--------+----------------------------------+---------------\n",
      "       |        | input                            | (?, 416, 416, 3)\n",
      " Load  |  Yep!  | conv 3x3p1_1  +bnorm  leaky      | (?, 416, 416, 16)\n",
      " Load  |  Yep!  | maxp 2x2p0_2                     | (?, 208, 208, 16)\n",
      " Load  |  Yep!  | conv 3x3p1_1  +bnorm  leaky      | (?, 208, 208, 32)\n",
      " Load  |  Yep!  | maxp 2x2p0_2                     | (?, 104, 104, 32)\n",
      " Load  |  Yep!  | conv 3x3p1_1  +bnorm  leaky      | (?, 104, 104, 64)\n",
      " Load  |  Yep!  | maxp 2x2p0_2                     | (?, 52, 52, 64)\n",
      " Load  |  Yep!  | conv 3x3p1_1  +bnorm  leaky      | (?, 52, 52, 128)\n",
      " Load  |  Yep!  | maxp 2x2p0_2                     | (?, 26, 26, 128)\n",
      " Load  |  Yep!  | conv 3x3p1_1  +bnorm  leaky      | (?, 26, 26, 256)\n",
      " Load  |  Yep!  | maxp 2x2p0_2                     | (?, 13, 13, 256)\n",
      " Load  |  Yep!  | conv 3x3p1_1  +bnorm  leaky      | (?, 13, 13, 512)\n",
      " Load  |  Yep!  | maxp 2x2p0_1                     | (?, 13, 13, 512)\n",
      " Load  |  Yep!  | conv 3x3p1_1  +bnorm  leaky      | (?, 13, 13, 1024)\n",
      " Load  |  Yep!  | conv 3x3p1_1  +bnorm  leaky      | (?, 13, 13, 1024)\n",
      " Init  |  Yep!  | conv 1x1p0_1    linear           | (?, 13, 13, 425)\n",
      "-------+--------+----------------------------------+---------------\n",
      "Running entirely on CPU\n",
      "2018-03-12 13:54:59.847939: I tensorflow/core/platform/cpu_feature_guard.cc:137] Your CPU supports instructions that this TensorFlow binary was not compiled to use: SSE4.1 SSE4.2 AVX AVX2\n",
      "Finished in 2.6411521434783936s\n",
      "\n",
      "Forwarding 8 inputs ...\n",
      "Total time = 1.4064338207244873s / 8 inps = 5.688145351822534 ips\n",
      "Post processing 8 inputs ...\n",
      "Total time = 0.18109726905822754s / 8 inps = 44.17515538253528 ips\n"
     ]
    }
   ],
   "source": [
    "!./flow --imgdir sample_img/ --model cfg/tiny-yolo.cfg --load bin/tiny-yolo-voc.weights --json"
   ]
  },
  {
   "cell_type": "markdown",
   "metadata": {},
   "source": [
    "# Training and Testing"
   ]
  },
  {
   "cell_type": "markdown",
   "metadata": {},
   "source": [
    "Script for 3 classes\n",
    "==\n",
    "\n",
    "Train: (3C)\n",
    "==\n",
    "./flow --model cfg/tiny-yolo-voc-3c.cfg --train --dataset \"../MY20173c/JPEGImages\" --annotation \"../MY20173c/Annotations\" --epoch 1000 --trainer adam --load bin/tiny-yolo-voc.weights\n",
    "\n",
    "Test: (3C)\n",
    "==\n",
    "./flow --imgdir \"../MY20173c_test/\" --model cfg/tiny-yolo-voc-3c.cfg --load -1 --lr 0.0001 --batch 32\n",
    "\n",
    "Script for 1 class\n",
    "==\n",
    "\n",
    "Train: (1C)\n",
    "==\n",
    "./flow --model cfg/tiny-yolo-voc-1c.cfg --train --dataset \"../MY2017/JPEGImages\" --annotation \"../MY2017/Annotations\" --epoch 5 --trainer adam --load bin/tiny-yolo-voc.weights\n",
    "\n",
    "Test: (1C)\n",
    "==\n",
    "./flow --imgdir \"../MY2017_test/\" --model cfg/tiny-yolo-voc-1c.cfg --load bin/tiny-yolo-voc.weights --lr 0.0001 --batch 32"
   ]
  },
  {
   "cell_type": "code",
   "execution_count": 6,
   "metadata": {},
   "outputs": [
    {
     "name": "stdout",
     "output_type": "stream",
     "text": [
      "/home/cesare/anaconda3/envs/py35/lib/python3.5/site-packages/h5py/__init__.py:36: FutureWarning: Conversion of the second argument of issubdtype from `float` to `np.floating` is deprecated. In future, it will be treated as `np.float64 == np.dtype(float).type`.\n",
      "  from ._conv import register_converters as _register_converters\n",
      "\n",
      "Parsing ./cfg/tiny-yolo-voc.cfg\n",
      "Parsing cfg/tiny-yolo-voc-3c.cfg\n",
      "Loading bin/tiny-yolo-voc.weights ...\n",
      "Successfully identified 63471556 bytes\n",
      "Finished in 0.0037870407104492188s\n",
      "\n",
      "Building net ...\n",
      "Source | Train? | Layer description                | Output size\n",
      "-------+--------+----------------------------------+---------------\n",
      "       |        | input                            | (?, 416, 416, 3)\n",
      " Load  |  Yep!  | conv 3x3p1_1  +bnorm  leaky      | (?, 416, 416, 16)\n",
      " Load  |  Yep!  | maxp 2x2p0_2                     | (?, 208, 208, 16)\n",
      " Load  |  Yep!  | conv 3x3p1_1  +bnorm  leaky      | (?, 208, 208, 32)\n",
      " Load  |  Yep!  | maxp 2x2p0_2                     | (?, 104, 104, 32)\n",
      " Load  |  Yep!  | conv 3x3p1_1  +bnorm  leaky      | (?, 104, 104, 64)\n",
      " Load  |  Yep!  | maxp 2x2p0_2                     | (?, 52, 52, 64)\n",
      " Load  |  Yep!  | conv 3x3p1_1  +bnorm  leaky      | (?, 52, 52, 128)\n",
      " Load  |  Yep!  | maxp 2x2p0_2                     | (?, 26, 26, 128)\n",
      " Load  |  Yep!  | conv 3x3p1_1  +bnorm  leaky      | (?, 26, 26, 256)\n",
      " Load  |  Yep!  | maxp 2x2p0_2                     | (?, 13, 13, 256)\n",
      " Load  |  Yep!  | conv 3x3p1_1  +bnorm  leaky      | (?, 13, 13, 512)\n",
      " Load  |  Yep!  | maxp 2x2p0_1                     | (?, 13, 13, 512)\n",
      " Load  |  Yep!  | conv 3x3p1_1  +bnorm  leaky      | (?, 13, 13, 1024)\n",
      " Load  |  Yep!  | conv 3x3p1_1  +bnorm  leaky      | (?, 13, 13, 1024)\n",
      " Init  |  Yep!  | conv 1x1p0_1    linear           | (?, 13, 13, 40)\n",
      "-------+--------+----------------------------------+---------------\n",
      "Running entirely on CPU\n",
      "cfg/tiny-yolo-voc-3c.cfg loss hyper-parameters:\n",
      "\tH       = 13\n",
      "\tW       = 13\n",
      "\tbox     = 5\n",
      "\tclasses = 3\n",
      "\tscales  = [1.0, 5.0, 1.0, 1.0]\n",
      "Building cfg/tiny-yolo-voc-3c.cfg loss\n",
      "Building cfg/tiny-yolo-voc-3c.cfg train op\n",
      "2018-03-12 13:55:59.518216: I tensorflow/core/platform/cpu_feature_guard.cc:137] Your CPU supports instructions that this TensorFlow binary was not compiled to use: SSE4.1 SSE4.2 AVX AVX2\n",
      "Finished in 3.4596948623657227s\n",
      "\n",
      "Enter training ...\n",
      "\n",
      "cfg/tiny-yolo-voc-3c.cfg parsing ../darkflow_data/MY20173c/Annotations\n",
      "Parsing for ['benz', 'volkswagen', 'audi'] \n",
      "[====================>]100%  013.xml\n",
      "Statistics:\n",
      "volkswagen: 10\n",
      "audi: 10\n",
      "benz: 10\n",
      "Dataset size: 30\n",
      "Dataset of 30 instance(s)\n",
      "Training statistics: \n",
      "\tLearning rate : 1e-05\n",
      "\tBatch size    : 16\n",
      "\tEpoch number  : 5\n",
      "\tBackup every  : 2000\n",
      "step 1 - loss 108.41545104980469 - moving ave loss 108.41545104980469\n",
      "Finish 1 epoch(es)\n",
      "step 2 - loss 107.90796661376953 - moving ave loss 108.36470260620118\n",
      "Finish 2 epoch(es)\n",
      "step 3 - loss 107.19217681884766 - moving ave loss 108.24745002746583\n",
      "Finish 3 epoch(es)\n",
      "step 4 - loss 106.58235168457031 - moving ave loss 108.08094019317627\n",
      "Finish 4 epoch(es)\n",
      "step 5 - loss 105.99462127685547 - moving ave loss 107.8723083015442\n",
      "Finish 5 epoch(es)\n",
      "Checkpoint at step 5\n",
      "Training finished, exit.\n"
     ]
    }
   ],
   "source": [
    "!./flow --model cfg/tiny-yolo-voc-3c.cfg --train --dataset \"../darkflow_data/MY20173c/JPEGImages\" --annotation \"../darkflow_data/MY20173c/Annotations\" --epoch 5 --trainer adam --load bin/tiny-yolo-voc.weights"
   ]
  },
  {
   "cell_type": "code",
   "execution_count": 9,
   "metadata": {},
   "outputs": [
    {
     "name": "stdout",
     "output_type": "stream",
     "text": [
      "/home/cesare/anaconda3/envs/py35/lib/python3.5/site-packages/h5py/__init__.py:36: FutureWarning: Conversion of the second argument of issubdtype from `float` to `np.floating` is deprecated. In future, it will be treated as `np.float64 == np.dtype(float).type`.\n",
      "  from ._conv import register_converters as _register_converters\n",
      "\n",
      "Parsing cfg/tiny-yolo-voc-3c.cfg\n",
      "Loading None ...\n",
      "Finished in 0.00012040138244628906s\n",
      "\n",
      "Building net ...\n",
      "Source | Train? | Layer description                | Output size\n",
      "-------+--------+----------------------------------+---------------\n",
      "       |        | input                            | (?, 416, 416, 3)\n",
      " Init  |  Yep!  | conv 3x3p1_1  +bnorm  leaky      | (?, 416, 416, 16)\n",
      " Load  |  Yep!  | maxp 2x2p0_2                     | (?, 208, 208, 16)\n",
      " Init  |  Yep!  | conv 3x3p1_1  +bnorm  leaky      | (?, 208, 208, 32)\n",
      " Load  |  Yep!  | maxp 2x2p0_2                     | (?, 104, 104, 32)\n",
      " Init  |  Yep!  | conv 3x3p1_1  +bnorm  leaky      | (?, 104, 104, 64)\n",
      " Load  |  Yep!  | maxp 2x2p0_2                     | (?, 52, 52, 64)\n",
      " Init  |  Yep!  | conv 3x3p1_1  +bnorm  leaky      | (?, 52, 52, 128)\n",
      " Load  |  Yep!  | maxp 2x2p0_2                     | (?, 26, 26, 128)\n",
      " Init  |  Yep!  | conv 3x3p1_1  +bnorm  leaky      | (?, 26, 26, 256)\n",
      " Load  |  Yep!  | maxp 2x2p0_2                     | (?, 13, 13, 256)\n",
      " Init  |  Yep!  | conv 3x3p1_1  +bnorm  leaky      | (?, 13, 13, 512)\n",
      " Load  |  Yep!  | maxp 2x2p0_1                     | (?, 13, 13, 512)\n",
      " Init  |  Yep!  | conv 3x3p1_1  +bnorm  leaky      | (?, 13, 13, 1024)\n",
      " Init  |  Yep!  | conv 3x3p1_1  +bnorm  leaky      | (?, 13, 13, 1024)\n",
      " Init  |  Yep!  | conv 1x1p0_1    linear           | (?, 13, 13, 40)\n",
      "-------+--------+----------------------------------+---------------\n",
      "Running entirely on CPU\n",
      "2018-03-12 14:06:40.107745: I tensorflow/core/platform/cpu_feature_guard.cc:137] Your CPU supports instructions that this TensorFlow binary was not compiled to use: SSE4.1 SSE4.2 AVX AVX2\n",
      "Loading from ./ckpt/tiny-yolo-voc-3c-2000\n",
      "Finished in 2.884172201156616s\n",
      "\n",
      "OpenCV Error: Assertion failed (ssize.area() > 0) in resize, file /home/travis/miniconda/conda-bld/conda_1486587071158/work/opencv-3.1.0/modules/imgproc/src/imgwarp.cpp, line 3229\n",
      "OpenCV Error: Assertion failed (ssize.area() > 0) in resize, file /home/travis/miniconda/conda-bld/conda_1486587071158/work/opencv-3.1.0/modules/imgproc/src/imgwarp.cpp, line 3229\n",
      "OpenCV Error: Assertion failed (ssize.area() > 0) in resize, file /home/travis/miniconda/conda-bld/conda_1486587071158/work/opencv-3.1.0/modules/imgproc/src/imgwarp.cpp, line 3229\n",
      "OpenCV Error: Assertion failed (ssize.area() > 0) in resize, file /home/travis/miniconda/conda-bld/conda_1486587071158/work/opencv-3.1.0/modules/imgproc/src/imgwarp.cpp, line 3229\n",
      "Traceback (most recent call last):\n",
      "  File \"./flow\", line 6, in <module>\n",
      "    cliHandler(sys.argv)\n",
      "  File \"/home/cesare/HPB/darkflow-master35/darkflow/cli.py\", line 41, in cliHandler\n",
      "    tfnet.predict()\n",
      "  File \"/home/cesare/HPB/darkflow-master35/darkflow/net/flow.py\", line 126, in predict\n",
      "    os.path.join(inp_path, inp)), 0)), this_batch)\n",
      "  File \"/home/cesare/anaconda3/envs/py35/lib/python3.5/multiprocessing/pool.py\", line 266, in map\n",
      "    return self._map_async(func, iterable, mapstar, chunksize).get()\n",
      "  File \"/home/cesare/anaconda3/envs/py35/lib/python3.5/multiprocessing/pool.py\", line 644, in get\n",
      "    raise self._value\n",
      "  File \"/home/cesare/anaconda3/envs/py35/lib/python3.5/multiprocessing/pool.py\", line 119, in worker\n",
      "    result = (True, func(*args, **kwds))\n",
      "  File \"/home/cesare/anaconda3/envs/py35/lib/python3.5/multiprocessing/pool.py\", line 44, in mapstar\n",
      "    return list(map(*args))\n",
      "  File \"/home/cesare/HPB/darkflow-master35/darkflow/net/flow.py\", line 126, in <lambda>\n",
      "    os.path.join(inp_path, inp)), 0)), this_batch)\n",
      "  File \"/home/cesare/HPB/darkflow-master35/darkflow/net/yolo/predict.py\", line 73, in preprocess\n",
      "    im = self.resize_input(im)\n",
      "  File \"/home/cesare/HPB/darkflow-master35/darkflow/net/yolo/predict.py\", line 18, in resize_input\n",
      "    imsz = cv2.resize(im, (w, h))\n",
      "cv2.error: /home/travis/miniconda/conda-bld/conda_1486587071158/work/opencv-3.1.0/modules/imgproc/src/imgwarp.cpp:3229: error: (-215) ssize.area() > 0 in function resize\n",
      "\n",
      "FATAL: exception not rethrown\n",
      "Aborted (core dumped)\n"
     ]
    }
   ],
   "source": [
    "!./flow --imgdir \"../darkflow_data/MY20173c_test/\" --model cfg/tiny-yolo-voc-3c.cfg --load -1 --lr 0.0001 --batch 32"
   ]
  },
  {
   "cell_type": "code",
   "execution_count": 8,
   "metadata": {},
   "outputs": [
    {
     "name": "stdout",
     "output_type": "stream",
     "text": [
      "Python 3.5.4 :: Anaconda custom (64-bit)\r\n"
     ]
    }
   ],
   "source": [
    "!python --version"
   ]
  },
  {
   "cell_type": "code",
   "execution_count": null,
   "metadata": {},
   "outputs": [],
   "source": []
  }
 ],
 "metadata": {
  "kernelspec": {
   "display_name": "Python 3",
   "language": "python",
   "name": "python3"
  },
  "language_info": {
   "codemirror_mode": {
    "name": "ipython",
    "version": 3
   },
   "file_extension": ".py",
   "mimetype": "text/x-python",
   "name": "python",
   "nbconvert_exporter": "python",
   "pygments_lexer": "ipython3",
   "version": "3.5.4"
  }
 },
 "nbformat": 4,
 "nbformat_minor": 2
}
