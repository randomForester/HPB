{
 "cells": [
  {
   "cell_type": "markdown",
   "metadata": {},
   "source": [
    "## Kilometers to Miles conversion calculator"
   ]
  },
  {
   "cell_type": "code",
   "execution_count": 1,
   "metadata": {},
   "outputs": [
    {
     "name": "stdout",
     "output_type": "stream",
     "text": [
      "[1.86411, 3.1068499999999997, 6.213699999999999, 13.110907000000001, 26.21870715]\n"
     ]
    }
   ],
   "source": [
    "dist_in_km = [3, 5, 10, 21.1, 42.195]\n",
    "\n",
    "dist_in_mile = []\n",
    "\n",
    "for d in dist_in_km:\n",
    "    dist_in_mile.append(d * 0.62137)\n",
    "\n",
    "print(dist_in_mile)"
   ]
  },
  {
   "cell_type": "markdown",
   "metadata": {},
   "source": [
    "## Kilometers to Miles conversion calculator\n",
    "\n",
    "#### List Comprehension"
   ]
  },
  {
   "cell_type": "code",
   "execution_count": 2,
   "metadata": {},
   "outputs": [
    {
     "name": "stdout",
     "output_type": "stream",
     "text": [
      "[1.86411, 3.1068499999999997, 6.213699999999999, 13.110907000000001, 26.21870715]\n"
     ]
    }
   ],
   "source": [
    "dist_in_km = [3, 5, 10, 21.1, 42.195]\n",
    "\n",
    "dist_in_mile = [d * 0.62137 for d in dist_in_km]\n",
    "\n",
    "print(dist_in_mile)"
   ]
  },
  {
   "cell_type": "markdown",
   "metadata": {},
   "source": [
    "## Kilometers to Miles conversion calculator\n",
    "\n",
    "#### Lambda Expression & map() "
   ]
  },
  {
   "cell_type": "code",
   "execution_count": 3,
   "metadata": {},
   "outputs": [
    {
     "name": "stdout",
     "output_type": "stream",
     "text": [
      "[1.86411, 3.1068499999999997, 6.213699999999999, 13.110907000000001, 26.21870715]\n"
     ]
    }
   ],
   "source": [
    "dist_in_km = [3, 5, 10, 21.1, 42.195]\n",
    "\n",
    "dist_in_mile = list(map(lambda d : d * 0.62137, dist_in_km))\n",
    "\n",
    "print(dist_in_mile)"
   ]
  },
  {
   "cell_type": "markdown",
   "metadata": {},
   "source": [
    "## Kilometers to Miles conversion calculator\n",
    "\n",
    "#### Numerical Python  \n",
    "\n",
    "* $np.array():$ convert $list$ to $ndarray$"
   ]
  },
  {
   "cell_type": "code",
   "execution_count": 4,
   "metadata": {},
   "outputs": [
    {
     "name": "stdout",
     "output_type": "stream",
     "text": [
      "[ 1.86411     3.10685     6.2137     13.110907   26.21870715]\n"
     ]
    }
   ],
   "source": [
    "import numpy as np\n",
    "\n",
    "dist_in_km = [3, 5, 10, 21.1, 42.195]\n",
    "dist_in_km = np.array(dist_in_km)\n",
    "\n",
    "dist_in_mile = dist_in_km * 0.62137\n",
    "\n",
    "print(dist_in_mile)"
   ]
  },
  {
   "cell_type": "code",
   "execution_count": 5,
   "metadata": {},
   "outputs": [
    {
     "name": "stdout",
     "output_type": "stream",
     "text": [
      "<class 'list'>\n",
      "<class 'numpy.ndarray'>\n"
     ]
    }
   ],
   "source": [
    "dist_in_km = [3, 5, 10, 21.1, 42.195]\n",
    "print(type(dist_in_km))\n",
    "dist_in_km = np.array(dist_in_km)\n",
    "print(type(dist_in_km))"
   ]
  },
  {
   "cell_type": "code",
   "execution_count": 6,
   "metadata": {},
   "outputs": [
    {
     "name": "stdout",
     "output_type": "stream",
     "text": [
      "[0 1 2 3 4 5 6 7]\n",
      "[1 2 3 4 5 6 7]\n",
      "[1 3 5 7 9]\n"
     ]
    }
   ],
   "source": [
    "import numpy as np\n",
    "\n",
    "print(np.arange(8))\n",
    "print(np.arange(1, 8)) \n",
    "print(np.arange(1, 10, 2))"
   ]
  },
  {
   "cell_type": "code",
   "execution_count": 7,
   "metadata": {},
   "outputs": [
    {
     "name": "stdout",
     "output_type": "stream",
     "text": [
      "[ 1.          2.22222222  3.44444444  4.66666667  5.88888889  7.11111111\n",
      "  8.33333333  9.55555556 10.77777778 12.        ]\n",
      "float64\n",
      "[ 1  2  3  4  5  7  8  9 10 12]\n",
      "int64\n"
     ]
    }
   ],
   "source": [
    "arr = np.linspace(1, 12, 10)\n",
    "print(arr)\n",
    "print(arr.dtype)\n",
    "arr = arr.astype(int)\n",
    "print(arr)\n",
    "print(arr.dtype)"
   ]
  },
  {
   "cell_type": "code",
   "execution_count": 8,
   "metadata": {},
   "outputs": [
    {
     "name": "stdout",
     "output_type": "stream",
     "text": [
      "<class 'float'>\n",
      "<class 'str'>\n",
      "<class 'bool'>\n",
      "<class 'numpy.str_'>\n",
      "<class 'numpy.str_'>\n",
      "<class 'numpy.str_'>\n",
      "42.195\n",
      "km\n",
      "True\n",
      "42.195\n",
      "km\n",
      "True\n"
     ]
    }
   ],
   "source": [
    "lst = [42.195, 'km', True] \n",
    "\n",
    "for i in lst:\n",
    "    print(type(i))\n",
    "\n",
    "arr = np.array(lst)\n",
    "for i in arr:\n",
    "    print(type(i))\n",
    "    \n",
    "for i in lst:\n",
    "    print(i)\n",
    "\n",
    "for i in arr:\n",
    "    print(i)"
   ]
  },
  {
   "cell_type": "code",
   "execution_count": 9,
   "metadata": {},
   "outputs": [
    {
     "name": "stdout",
     "output_type": "stream",
     "text": [
      "[[8]\n",
      " [7]]\n",
      "\n",
      "\n",
      "[[8]\n",
      " [7]\n",
      " [6]]\n"
     ]
    }
   ],
   "source": [
    "u = np.array([8, 7]).reshape(2, 1)\n",
    "v = np.array([8, 7, 6]).reshape(3, 1)\n",
    "print(u)\n",
    "print(\"\\n\")\n",
    "print(v)"
   ]
  },
  {
   "cell_type": "code",
   "execution_count": 10,
   "metadata": {},
   "outputs": [
    {
     "name": "stdout",
     "output_type": "stream",
     "text": [
      "[ 0  1  2  3  4  5  6  7  8  9 10 11 12 13 14 15 16 17 18 19 20 21 22 23]\n",
      "Rank: 1\n"
     ]
    }
   ],
   "source": [
    "g = np.arange(24)\n",
    "print(g)\n",
    "print(\"Rank:\", g.ndim)"
   ]
  },
  {
   "cell_type": "code",
   "execution_count": 11,
   "metadata": {},
   "outputs": [
    {
     "name": "stdout",
     "output_type": "stream",
     "text": [
      "[[[ 0  1  2  3]\n",
      "  [ 4  5  6  7]\n",
      "  [ 8  9 10 11]]\n",
      "\n",
      " [[12 13 14 15]\n",
      "  [16 17 18 19]\n",
      "  [20 21 22 23]]]\n",
      "Rank: 3\n"
     ]
    }
   ],
   "source": [
    "g.shape = (2, 3, 4)\n",
    "print(g)\n",
    "print(\"Rank:\", g.ndim)"
   ]
  },
  {
   "cell_type": "code",
   "execution_count": 12,
   "metadata": {},
   "outputs": [
    {
     "name": "stdout",
     "output_type": "stream",
     "text": [
      "[[-2.5  3.1  7. ]\n",
      " [10.  11.  12. ]]\n",
      "mean = 6.766666666666667\n"
     ]
    }
   ],
   "source": [
    "a = np.array([[-2.5, 3.1, 7], [10, 11, 12]])\n",
    "print(a)\n",
    "print(\"mean =\", a.mean())"
   ]
  },
  {
   "cell_type": "code",
   "execution_count": 13,
   "metadata": {},
   "outputs": [
    {
     "name": "stdout",
     "output_type": "stream",
     "text": [
      "min = -2.5\n",
      "max = 12.0\n",
      "sum = 40.6\n",
      "prod = -71610.0\n",
      "std = 5.084835843520964\n",
      "var = 25.855555555555554\n"
     ]
    }
   ],
   "source": [
    "for func in (a.min, a.max, a.sum, a.prod, a.std, a.var):\n",
    "    print(func.__name__, \"=\", func())"
   ]
  },
  {
   "cell_type": "code",
   "execution_count": null,
   "metadata": {},
   "outputs": [],
   "source": []
  }
 ],
 "metadata": {
  "kernelspec": {
   "display_name": "Python 3",
   "language": "python",
   "name": "python3"
  },
  "language_info": {
   "codemirror_mode": {
    "name": "ipython",
    "version": 3
   },
   "file_extension": ".py",
   "mimetype": "text/x-python",
   "name": "python",
   "nbconvert_exporter": "python",
   "pygments_lexer": "ipython3",
   "version": "3.5.4"
  }
 },
 "nbformat": 4,
 "nbformat_minor": 2
}
