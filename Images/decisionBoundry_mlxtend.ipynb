{
 "cells": [
  {
   "cell_type": "code",
   "execution_count": 6,
   "metadata": {
    "collapsed": true
   },
   "outputs": [],
   "source": [
    "from IPython.display import display\n",
    "\n",
    "import matplotlib as plt\n",
    "import matplotlib.pyplot as plt\n",
    "import mglearn\n",
    "\n",
    "#\n",
    "############################# Modeling \n",
    "from sklearn.linear_model import LogisticRegression\n",
    "\n",
    "from sklearn.neighbors import KNeighborsClassifier\n",
    "from sklearn.ensemble import RandomForestClassifier\n",
    "from sklearn.neural_network import MLPClassifier\n",
    "from sklearn.svm import SVC\n",
    "from sklearn.svm import LinearSVC\n",
    "############################# Modeling \n",
    "#"
   ]
  },
  {
   "cell_type": "code",
   "execution_count": 7,
   "metadata": {
    "collapsed": true
   },
   "outputs": [],
   "source": [
    "# example of training a final classification model\n",
    "from sklearn.datasets.samples_generator import make_blobs\n",
    "# generate 2d classification dataset\n",
    "#\n",
    "#X, y = make_blobs(n_samples=100, centers=2, n_features=2, random_state=1)\n",
    "X, y = make_blobs(n_samples=100, centers=5, n_features=2, random_state=1)\n",
    "#X, y = make_blobs(random_state=42)\n",
    "#\n",
    "# fit final model\n",
    "#model = LogisticRegression()\n",
    "#model = MLPClassifier(solver='lbfgs', random_state=0)\n",
    "#model = KNeighborsClassifier(n_neighbors= 3)\n",
    "model = RandomForestClassifier(n_estimators=100,random_state=0, n_jobs=-1)\n",
    "#model = LinearSVC()\n",
    "#model = SVC(kernel='rbf', C=10, gamma=0.1)\n",
    "model.fit(X, y)\n",
    "#\n",
    "# new instances where we do not know the answer\n",
    "#\n",
    "#Xnew, _ = make_blobs(n_samples=13, centers=2, n_features=2, random_state=1)\n",
    "Xnew, _ = make_blobs(n_samples=13, centers=5, n_features=2, random_state=1)\n",
    "#Xnew, _ = make_blobs(n_samples=18, random_state=42)\n",
    "#"
   ]
  },
  {
   "cell_type": "code",
   "execution_count": 8,
   "metadata": {},
   "outputs": [
    {
     "name": "stdout",
     "output_type": "stream",
     "text": [
      "X=[-8.86394306 -5.05323981], Predicted=1\n",
      "X=[-2.75631127  0.37958115], Predicted=4\n",
      "X=[-8.16550136 -7.00850439], Predicted=2\n",
      "X=[-6.397686   -4.02455489], Predicted=3\n",
      "X=[-1.34052081  4.15711949], Predicted=0\n",
      "X=[-2.3325386   1.30669015], Predicted=4\n",
      "X=[-0.19745197  2.34634916], Predicted=0\n",
      "X=[0.08525186 3.64528297], Predicted=0\n",
      "X=[-6.16329146 -7.65073377], Predicted=2\n",
      "X=[-7.02266844 -7.57041289], Predicted=2\n",
      "X=[-10.32012971  -4.3374029 ], Predicted=1\n",
      "X=[-5.37393982 -3.77251332], Predicted=3\n",
      "X=[-10.17014071  -4.83120697], Predicted=1\n"
     ]
    }
   ],
   "source": [
    "# make a prediction (Classification)\n",
    "ynew = model.predict(Xnew)\n",
    "# show the inputs and predicted outputs\n",
    "for i in range(len(Xnew)):\n",
    "    print(\"X=%s, Predicted=%s\" % (Xnew[i], ynew[i]))"
   ]
  },
  {
   "cell_type": "code",
   "execution_count": 9,
   "metadata": {},
   "outputs": [
    {
     "name": "stdout",
     "output_type": "stream",
     "text": [
      "X=[-8.86394306 -5.05323981], Predicted=[0.   0.91 0.06 0.03 0.  ]\n",
      "X=[-2.75631127  0.37958115], Predicted=[0.02 0.   0.   0.01 0.97]\n",
      "X=[-8.16550136 -7.00850439], Predicted=[0.   0.04 0.96 0.   0.  ]\n",
      "X=[-6.397686   -4.02455489], Predicted=[0.   0.03 0.   0.97 0.  ]\n",
      "X=[-1.34052081  4.15711949], Predicted=[0.98 0.   0.   0.   0.02]\n",
      "X=[-2.3325386   1.30669015], Predicted=[0.04 0.   0.   0.   0.96]\n",
      "X=[-0.19745197  2.34634916], Predicted=[0.77 0.   0.   0.   0.23]\n",
      "X=[0.08525186 3.64528297], Predicted=[0.94 0.   0.   0.   0.06]\n",
      "X=[-6.16329146 -7.65073377], Predicted=[0.   0.   0.98 0.02 0.  ]\n",
      "X=[-7.02266844 -7.57041289], Predicted=[0. 0. 1. 0. 0.]\n",
      "X=[-10.32012971  -4.3374029 ], Predicted=[0. 1. 0. 0. 0.]\n",
      "X=[-5.37393982 -3.77251332], Predicted=[0. 0. 0. 1. 0.]\n",
      "X=[-10.17014071  -4.83120697], Predicted=[0. 1. 0. 0. 0.]\n"
     ]
    }
   ],
   "source": [
    "#\n",
    "# make a prediction (Probability)\n",
    "ynew = model.predict_proba(Xnew)\n",
    "# show the inputs and predicted probabilities\n",
    "for i in range(len(Xnew)):\n",
    "    print(\"X=%s, Predicted=%s\" % (Xnew[i], ynew[i]))"
   ]
  },
  {
   "cell_type": "code",
   "execution_count": 10,
   "metadata": {},
   "outputs": [
    {
     "data": {
      "image/png": "[encoded data removed]",
      "text/plain": [
       "<matplotlib.figure.Figure at 0x117f80e80>"
      ]
     },
     "metadata": {},
     "output_type": "display_data"
    }
   ],
   "source": [
    "#\n",
    "from mlxtend.classifier import EnsembleVoteClassifier\n",
    "from mlxtend.data import iris_data\n",
    "from mlxtend.plotting import plot_decision_regions\n",
    "#\n",
    "plot_decision_regions(X=X, y=y, clf=model, legend=2)\n",
    "plt.show()"
   ]
  },
  {
   "cell_type": "code",
   "execution_count": null,
   "metadata": {
    "collapsed": true
   },
   "outputs": [],
   "source": []
  }
 ],
 "metadata": {
  "kernelspec": {
   "display_name": "Python [conda env:py35]",
   "language": "python",
   "name": "conda-env-py35-py"
  },
  "language_info": {
   "codemirror_mode": {
    "name": "ipython",
    "version": 3
   },
   "file_extension": ".py",
   "mimetype": "text/x-python",
   "name": "python",
   "nbconvert_exporter": "python",
   "pygments_lexer": "ipython3",
   "version": "3.5.3"
  }
 },
 "nbformat": 4,
 "nbformat_minor": 2
}
