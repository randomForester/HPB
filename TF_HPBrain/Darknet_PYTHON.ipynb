{
 "cells": [
  {
   "cell_type": "code",
   "execution_count": 1,
   "metadata": {},
   "outputs": [],
   "source": [
    "import sys, os\n",
    "import matplotlib.pyplot as plt\n",
    "os.chdir('/home/cfchen/Github/darknet3/')"
   ]
  },
  {
   "cell_type": "code",
   "execution_count": 2,
   "metadata": {},
   "outputs": [
    {
     "name": "stdout",
     "output_type": "stream",
     "text": [
      "total 249156\r\n",
      "drwxrwxr-x 2 cfchen cfchen      4096  四  24 14:24 \u001b[0m\u001b[01;34mcfg\u001b[0m/\r\n",
      "-rwxrwxr-x 1 cfchen cfchen   1933248  五   7 15:49 \u001b[01;32mdarknet\u001b[0m*\r\n",
      "drwxrwxr-x 3 cfchen cfchen      4096  四  24 14:24 \u001b[01;34mdata\u001b[0m/\r\n",
      "drwxrwxr-x 3 cfchen cfchen      4096  五   9 17:42 \u001b[01;34mexamples\u001b[0m/\r\n",
      "drwxrwxr-x 2 cfchen cfchen      4096  四  24 14:24 \u001b[01;34minclude\u001b[0m/\r\n",
      "-rw-rw-r-- 1 cfchen cfchen   2141966  五   7 15:49 libdarknet.a\r\n",
      "-rwxrwxr-x 1 cfchen cfchen   1854984  五   7 15:49 \u001b[01;32mlibdarknet.so\u001b[0m*\r\n",
      "-rw-rw-r-- 1 cfchen cfchen       515  四  24 14:24 LICENSE\r\n",
      "-rw-rw-r-- 1 cfchen cfchen       474  四  24 14:24 LICENSE.fuck\r\n",
      "-rw-rw-r-- 1 cfchen cfchen      6652  四  24 14:24 LICENSE.gen\r\n",
      "-rw-rw-r-- 1 cfchen cfchen     35141  四  24 14:24 LICENSE.gpl\r\n",
      "-rw-rw-r-- 1 cfchen cfchen       360  四  24 14:24 LICENSE.meta\r\n",
      "-rw-rw-r-- 1 cfchen cfchen      1071  四  24 14:24 LICENSE.mit\r\n",
      "-rw-rw-r-- 1 cfchen cfchen       461  四  24 14:24 LICENSE.v1\r\n",
      "-rw-rw-r-- 1 cfchen cfchen      2906  四  25 08:38 Makefile\r\n",
      "drwxrwxr-x 2 cfchen cfchen      4096  五   7 15:49 \u001b[01;34mobj\u001b[0m/\r\n",
      "-rw-rw-r-- 1 cfchen cfchen    185507  四  27 21:47 \u001b[01;35mpredictions.jpg\u001b[0m\r\n",
      "-rw-rw-r-- 1 cfchen cfchen    884258  四  27 21:39 \u001b[01;35mpredictions.png\u001b[0m\r\n",
      "drwxrwxr-x 4 cfchen cfchen      4096  五   9 17:04 \u001b[01;34mpython\u001b[0m/\r\n",
      "-rw-rw-r-- 1 cfchen cfchen       418  四  24 14:24 README.md\r\n",
      "drwxrwxr-x 2 cfchen cfchen      4096  四  24 14:25 \u001b[01;34mresults\u001b[0m/\r\n",
      "drwxrwxr-x 2 cfchen cfchen      4096  四  24 14:24 \u001b[01;34mscripts\u001b[0m/\r\n",
      "drwxrwxr-x 2 cfchen cfchen      4096  五   7 15:49 \u001b[01;34msrc\u001b[0m/\r\n",
      "-rw-rw-r-- 1 cfchen cfchen      5678  五   9 17:41 \u001b[01;35myolo3.avi\u001b[0m\r\n",
      "-rw-rw-r-- 1 cfchen cfchen 248007048  三  25 12:49 yolov3.weights\r\n"
     ]
    }
   ],
   "source": [
    "ls -l"
   ]
  },
  {
   "cell_type": "code",
   "execution_count": 3,
   "metadata": {},
   "outputs": [],
   "source": [
    "import python.darknet as dn\n",
    "#import pdb"
   ]
  },
  {
   "cell_type": "markdown",
   "metadata": {},
   "source": [
    "## Test"
   ]
  },
  {
   "cell_type": "code",
   "execution_count": 4,
   "metadata": {},
   "outputs": [
    {
     "name": "stdout",
     "output_type": "stream",
     "text": [
      "[(b'bicycle', 0.9941930770874023, (363.78155517578125, 278.9617004394531, 397.52557373046875, 331.16278076171875)), (b'dog', 0.990459680557251, (221.56259155273438, 380.4324645996094, 186.33229064941406, 312.1522216796875)), (b'truck', 0.911002516746521, (581.749267578125, 127.70828247070312, 215.17501831054688, 86.23703002929688))]\n"
     ]
    }
   ],
   "source": [
    "dn.set_gpu(0)\n",
    "\n",
    "net = dn.load_net(str.encode(\"cfg/yolov3.cfg\"),\n",
    "                  str.encode(\"yolov3.weights\"), 0)\n",
    "\n",
    "meta = dn.load_meta(str.encode(\"cfg/coco.data\"))\n",
    "\n",
    "r = dn.detect(net, meta, str.encode(\"data/dog.jpg\"))\n",
    "print(r)"
   ]
  },
  {
   "cell_type": "code",
   "execution_count": 5,
   "metadata": {},
   "outputs": [
    {
     "name": "stdout",
     "output_type": "stream",
     "text": [
      "[(b'bird', 0.9960672855377197, (369.8246765136719, 263.11767578125, 476.1756591796875, 363.6462707519531))]\n",
      "\n",
      "[(b'giraffe', 0.9977366328239441, (296.2441711425781, 241.77305603027344, 288.03546142578125, 384.6851806640625)), (b'zebra', 0.9433543086051941, (339.7536926269531, 325.0368347167969, 180.08058166503906, 247.6002197265625))]\n",
      "\n",
      "[(b'horse', 0.9759820699691772, (168.1838836669922, 306.0086364746094, 321.7207336425781, 234.34136962890625)), (b'horse', 0.9714113473892212, (339.3211975097656, 271.762939453125, 223.04824829101562, 178.17758178710938)), (b'horse', 0.9103319644927979, (518.2222900390625, 275.6620788574219, 161.98268127441406, 139.36647033691406)), (b'horse', 0.8900034427642822, (81.26667785644531, 273.5216064453125, 153.34776306152344, 195.1179656982422))]\n",
      "\n",
      "[(b'person', 0.9998968839645386, (233.6996307373047, 232.0786895751953, 85.39936065673828, 275.8518371582031)), (b'horse', 0.9968202710151672, (498.75482177734375, 243.34120178222656, 208.79769897460938, 215.7355194091797)), (b'dog', 0.9929728507995605, (135.22817993164062, 306.5697326660156, 142.6836700439453, 81.31755828857422))]\n"
     ]
    }
   ],
   "source": [
    "r = dn.detect(net, meta, str.encode(\"data/eagle.jpg\"))\n",
    "print(r)\n",
    "print(\"\")\n",
    "\n",
    "r = dn.detect(net, meta, str.encode(\"data/giraffe.jpg\"))\n",
    "print(r)\n",
    "print(\"\")\n",
    "\n",
    "r = dn.detect(net, meta, str.encode(\"data/horses.jpg\"))\n",
    "print(r)\n",
    "print(\"\")\n",
    "\n",
    "r = dn.detect(net, meta, str.encode(\"data/person.jpg\"))\n",
    "print(r)"
   ]
  },
  {
   "cell_type": "markdown",
   "metadata": {},
   "source": [
    "## Functions"
   ]
  },
  {
   "cell_type": "code",
   "execution_count": 6,
   "metadata": {},
   "outputs": [],
   "source": [
    "from scipy.misc import imread\n",
    "\n",
    "def array_to_image(arr):\n",
    "    arr = arr.transpose(2,0,1)\n",
    "    c = arr.shape[0]\n",
    "    h = arr.shape[1]\n",
    "    w = arr.shape[2]\n",
    "    arr = (arr/255.0).flatten()\n",
    "    data = dn.c_array(dn.c_float, arr)\n",
    "    im = dn.IMAGE(w,h,c,data)\n",
    "    return im"
   ]
  },
  {
   "cell_type": "code",
   "execution_count": 7,
   "metadata": {},
   "outputs": [
    {
     "data": {
      "text/plain": [
       "'3.4.0'"
      ]
     },
     "execution_count": 7,
     "metadata": {},
     "output_type": "execute_result"
    }
   ],
   "source": [
    "import cv2\n",
    "import numpy as np\n",
    "import colorsys\n",
    "import time\n",
    "from time import time as timer\n",
    "\n",
    "cv2.__version__"
   ]
  },
  {
   "cell_type": "code",
   "execution_count": null,
   "metadata": {},
   "outputs": [],
   "source": []
  },
  {
   "cell_type": "markdown",
   "metadata": {},
   "source": [
    "## Video"
   ]
  },
  {
   "cell_type": "code",
   "execution_count": 10,
   "metadata": {},
   "outputs": [
    {
     "name": "stdout",
     "output_type": "stream",
     "text": [
      "Video Dim: 1920.0  X  1080.0\n"
     ]
    }
   ],
   "source": [
    "count_frame, process_every_n_frame = 0, 1\n",
    "\n",
    "# get video\n",
    "capture = cv2.VideoCapture('/media/cfchen/956df7bc-562e-4f24-8339-fd0b67f98888/Downloaded/VideosHPB/IMAG0011.mp4')\n",
    "\n",
    "fourcc = cv2.VideoWriter_fourcc(*'XVID')\n",
    "#out = cv2.VideoWriter('yolo3.avi',fourcc, 30.0, (1920, 1080))\n",
    "out = cv2.VideoWriter('yolo3.avi',fourcc, 30.0, (960, 540))     # resize image half\n",
    "\n",
    "print(\"Video Dim: {}  {}  {}\".format(capture.get(3), 'X', capture.get(4)))"
   ]
  },
  {
   "cell_type": "code",
   "execution_count": 9,
   "metadata": {},
   "outputs": [
    {
     "name": "stdout",
     "output_type": "stream",
     "text": [
      "++++++++ Video End ++++++++\n"
     ]
    }
   ],
   "source": [
    "while(True):\n",
    "    # get a frame\n",
    "    ret, frame = capture.read()\n",
    "    \n",
    "    if ret == True:\n",
    "        count_frame += 1\n",
    "    \n",
    "        # show a frame\n",
    "        img = cv2.resize(frame, (0, 0), fx=0.5, fy=0.5)  # resize image half\n",
    "        #print(img.shape)\n",
    "        out.write(img) \n",
    "        cv2.imshow(\"Video\", img)\n",
    "    \n",
    "        if (cv2.waitKey(1) & 0xFF == ord('q')) or (ret == False):\n",
    "            break\n",
    "            \n",
    "    else:\n",
    "        break\n",
    "            \n",
    "print('++++++++ Video End ++++++++')\n",
    "\n",
    "capture.release()\n",
    "out.release()\n",
    "cv2.destroyAllWindows()   "
   ]
  },
  {
   "cell_type": "markdown",
   "metadata": {},
   "source": [
    "## Bounding Box"
   ]
  },
  {
   "cell_type": "code",
   "execution_count": 12,
   "metadata": {},
   "outputs": [
    {
     "ename": "ArgumentError",
     "evalue": "argument 1: <class 'TypeError'>: wrong type",
     "output_type": "error",
     "traceback": [
      "\u001b[0;31m---------------------------------------------------------------------------\u001b[0m",
      "\u001b[0;31mArgumentError\u001b[0m                             Traceback (most recent call last)",
      "\u001b[0;32m<ipython-input-12-0adf06b90db8>\u001b[0m in \u001b[0;36m<module>\u001b[0;34m()\u001b[0m\n\u001b[1;32m     13\u001b[0m \u001b[0;34m\u001b[0m\u001b[0m\n\u001b[1;32m     14\u001b[0m         \u001b[0;32mif\u001b[0m \u001b[0mcount_frame\u001b[0m \u001b[0;34m%\u001b[0m \u001b[0mprocess_every_n_frame\u001b[0m \u001b[0;34m==\u001b[0m \u001b[0;36m0\u001b[0m\u001b[0;34m:\u001b[0m\u001b[0;34m\u001b[0m\u001b[0m\n\u001b[0;32m---> 15\u001b[0;31m             \u001b[0mcv2\u001b[0m\u001b[0;34m.\u001b[0m\u001b[0mimshow\u001b[0m\u001b[0;34m(\u001b[0m\u001b[0;34m\"YOLO\"\u001b[0m\u001b[0;34m,\u001b[0m \u001b[0mpipeline\u001b[0m\u001b[0;34m(\u001b[0m\u001b[0mimg\u001b[0m\u001b[0;34m)\u001b[0m\u001b[0;34m)\u001b[0m\u001b[0;34m\u001b[0m\u001b[0m\n\u001b[0m\u001b[1;32m     16\u001b[0m \u001b[0;34m\u001b[0m\u001b[0m\n\u001b[1;32m     17\u001b[0m \u001b[0;34m\u001b[0m\u001b[0m\n",
      "\u001b[0;32m<ipython-input-11-df964fee9639>\u001b[0m in \u001b[0;36mpipeline\u001b[0;34m(img)\u001b[0m\n\u001b[1;32m      6\u001b[0m     \u001b[0mdn\u001b[0m\u001b[0;34m.\u001b[0m\u001b[0mrgbgr_image\u001b[0m\u001b[0;34m(\u001b[0m\u001b[0mim\u001b[0m\u001b[0;34m)\u001b[0m\u001b[0;34m\u001b[0m\u001b[0m\n\u001b[1;32m      7\u001b[0m \u001b[0;34m\u001b[0m\u001b[0m\n\u001b[0;32m----> 8\u001b[0;31m     \u001b[0mresult\u001b[0m \u001b[0;34m=\u001b[0m \u001b[0mdn\u001b[0m\u001b[0;34m.\u001b[0m\u001b[0mdetect\u001b[0m\u001b[0;34m(\u001b[0m\u001b[0mnet\u001b[0m\u001b[0;34m,\u001b[0m \u001b[0mmeta\u001b[0m\u001b[0;34m,\u001b[0m \u001b[0mim\u001b[0m\u001b[0;34m)\u001b[0m\u001b[0;34m\u001b[0m\u001b[0m\n\u001b[0m\u001b[1;32m      9\u001b[0m     \u001b[0mprint\u001b[0m\u001b[0;34m(\u001b[0m\u001b[0mresult\u001b[0m\u001b[0;34m)\u001b[0m\u001b[0;34m\u001b[0m\u001b[0m\n\u001b[1;32m     10\u001b[0m \u001b[0;34m\u001b[0m\u001b[0m\n",
      "\u001b[0;32m~/Github/darknet3/python/darknet.py\u001b[0m in \u001b[0;36mdetect\u001b[0;34m(net, meta, image, thresh, hier_thresh, nms)\u001b[0m\n\u001b[1;32m    126\u001b[0m \u001b[0;34m\u001b[0m\u001b[0m\n\u001b[1;32m    127\u001b[0m \u001b[0;32mdef\u001b[0m \u001b[0mdetect\u001b[0m\u001b[0;34m(\u001b[0m\u001b[0mnet\u001b[0m\u001b[0;34m,\u001b[0m \u001b[0mmeta\u001b[0m\u001b[0;34m,\u001b[0m \u001b[0mimage\u001b[0m\u001b[0;34m,\u001b[0m \u001b[0mthresh\u001b[0m\u001b[0;34m=\u001b[0m\u001b[0;36m.5\u001b[0m\u001b[0;34m,\u001b[0m \u001b[0mhier_thresh\u001b[0m\u001b[0;34m=\u001b[0m\u001b[0;36m.5\u001b[0m\u001b[0;34m,\u001b[0m \u001b[0mnms\u001b[0m\u001b[0;34m=\u001b[0m\u001b[0;36m.45\u001b[0m\u001b[0;34m)\u001b[0m\u001b[0;34m:\u001b[0m\u001b[0;34m\u001b[0m\u001b[0m\n\u001b[0;32m--> 128\u001b[0;31m     \u001b[0mim\u001b[0m \u001b[0;34m=\u001b[0m \u001b[0mload_image\u001b[0m\u001b[0;34m(\u001b[0m\u001b[0mimage\u001b[0m\u001b[0;34m,\u001b[0m \u001b[0;36m0\u001b[0m\u001b[0;34m,\u001b[0m \u001b[0;36m0\u001b[0m\u001b[0;34m)\u001b[0m\u001b[0;34m\u001b[0m\u001b[0m\n\u001b[0m\u001b[1;32m    129\u001b[0m     \u001b[0mnum\u001b[0m \u001b[0;34m=\u001b[0m \u001b[0mc_int\u001b[0m\u001b[0;34m(\u001b[0m\u001b[0;36m0\u001b[0m\u001b[0;34m)\u001b[0m\u001b[0;34m\u001b[0m\u001b[0m\n\u001b[1;32m    130\u001b[0m     \u001b[0mpnum\u001b[0m \u001b[0;34m=\u001b[0m \u001b[0mpointer\u001b[0m\u001b[0;34m(\u001b[0m\u001b[0mnum\u001b[0m\u001b[0;34m)\u001b[0m\u001b[0;34m\u001b[0m\u001b[0m\n",
      "\u001b[0;31mArgumentError\u001b[0m: argument 1: <class 'TypeError'>: wrong type"
     ]
    }
   ],
   "source": [
    "while(True):\n",
    "    # get a frame\n",
    "    ret, frame = capture.read()\n",
    "    \n",
    "    if ret == True:\n",
    "        count_frame += 1\n",
    "    \n",
    "        # show a frame\n",
    "        img = cv2.resize(frame, (0, 0), fx=0.5, fy=0.5)  # resize image half\n",
    "        #print(img.shape)\n",
    "        out.write(img) \n",
    "        cv2.imshow(\"Video\", img)\n",
    "        \n",
    "        if count_frame % process_every_n_frame == 0:\n",
    "            cv2.imshow(\"YOLO\", pipeline(img))\n",
    "\n",
    "    \n",
    "        if (cv2.waitKey(1) & 0xFF == ord('q')) or (ret == False):\n",
    "            break\n",
    "            \n",
    "    else:\n",
    "        break\n",
    "            \n",
    "print('++++++++ Video End ++++++++')\n",
    "\n",
    "capture.release()\n",
    "out.release()\n",
    "cv2.destroyAllWindows()   "
   ]
  },
  {
   "cell_type": "code",
   "execution_count": 11,
   "metadata": {},
   "outputs": [],
   "source": [
    "def pipeline(img):\n",
    "    # image data transform：\n",
    "    # img - cv image\n",
    "    # im - yolo image\n",
    "    im = array_to_image(img)\n",
    "    dn.rgbgr_image(im)\n",
    "\n",
    "    result = dn.detect(net, meta, im)\n",
    "    print(result)\n",
    "\n",
    "    img_final = draw_boxes(img, result)\n",
    "    return img_final"
   ]
  },
  {
   "cell_type": "code",
   "execution_count": 18,
   "metadata": {},
   "outputs": [
    {
     "data": {
      "text/plain": [
       "'\\nimport sys, os\\n\\nROOT_DIR = os.path.abspath(\"../python/\")\\n    \\n#sys.path.append(ROOT_DIR)  \\nsys.path.append(os.path.join(os.getcwd(),\\'python/\\'))\\n\\nprint(ROOT_DIR)\\n'"
      ]
     },
     "execution_count": 18,
     "metadata": {},
     "output_type": "execute_result"
    }
   ],
   "source": [
    "'''\n",
    "import sys, os\n",
    "\n",
    "ROOT_DIR = os.path.abspath(\"../python/\")\n",
    "    \n",
    "#sys.path.append(ROOT_DIR)  \n",
    "sys.path.append(os.path.join(os.getcwd(),'python/'))\n",
    "\n",
    "print(ROOT_DIR)\n",
    "'''"
   ]
  },
  {
   "cell_type": "code",
   "execution_count": null,
   "metadata": {},
   "outputs": [],
   "source": []
  }
 ],
 "metadata": {
  "kernelspec": {
   "display_name": "Python 3",
   "language": "python",
   "name": "python3"
  },
  "language_info": {
   "codemirror_mode": {
    "name": "ipython",
    "version": 3
   },
   "file_extension": ".py",
   "mimetype": "text/x-python",
   "name": "python",
   "nbconvert_exporter": "python",
   "pygments_lexer": "ipython3",
   "version": "3.6.5"
  }
 },
 "nbformat": 4,
 "nbformat_minor": 2
}
