{
 "cells": [
  {
   "cell_type": "code",
   "execution_count": 1,
   "metadata": {},
   "outputs": [],
   "source": [
    "import sys  \n",
    "import os"
   ]
  },
  {
   "cell_type": "markdown",
   "metadata": {},
   "source": [
    "## COCO Data"
   ]
  },
  {
   "cell_type": "code",
   "execution_count": 2,
   "metadata": {},
   "outputs": [
    {
     "data": {
      "text/plain": [
       "['person', 'bicycle']"
      ]
     },
     "execution_count": 2,
     "metadata": {},
     "output_type": "execute_result"
    }
   ],
   "source": [
    "def gt_classes(data):\n",
    "    classes_path = os.path.expanduser(data)\n",
    "    with open(classes_path) as f:\n",
    "        class_names = f.readlines()\n",
    "    class_names = [c.strip() for c in class_names]\n",
    "    #class_names = [c.strip().split(',') for c in class_names]\n",
    "    return class_names\n",
    "\n",
    "#gt_classes(\"/home/cfchen/Github36/keras-yolo3-master/model_data/coco_classes.txt\")\n",
    "gt_classes(\"/home/cfchen/Github36/keras-yolo3-master/model_data/coco_classes2.txt\")[0:2]"
   ]
  },
  {
   "cell_type": "code",
   "execution_count": 3,
   "metadata": {},
   "outputs": [
    {
     "data": {
      "text/plain": [
       "['motorbike, 4', 'aeroplane, 5', 'bus, 6', 'train, 7', 'truck, 8', 'boat, 9']"
      ]
     },
     "execution_count": 3,
     "metadata": {},
     "output_type": "execute_result"
    }
   ],
   "source": [
    "def gt_classes(data):\n",
    "    with open(data) as f:\n",
    "        class_names = f.readlines()\n",
    "    class_names = [c.strip() for c in class_names]\n",
    "    return class_names\n",
    "\n",
    "gt_classes(\"/home/cfchen/Github36/keras-yolo3-master/model_data/coco_classes.txt\")[3:9]"
   ]
  },
  {
   "cell_type": "code",
   "execution_count": null,
   "metadata": {},
   "outputs": [],
   "source": []
  },
  {
   "cell_type": "markdown",
   "metadata": {},
   "source": [
    "## Examples"
   ]
  },
  {
   "cell_type": "code",
   "execution_count": 6,
   "metadata": {},
   "outputs": [
    {
     "data": {
      "text/plain": [
       "'/home/cfchen/Github36/keras-yolo3-master/model_data'"
      ]
     },
     "execution_count": 6,
     "metadata": {},
     "output_type": "execute_result"
    }
   ],
   "source": [
    "os.chdir(\"/home/cfchen/Github36/keras-yolo3-master/model_data\")\n",
    "os.getcwd()"
   ]
  },
  {
   "cell_type": "code",
   "execution_count": 7,
   "metadata": {},
   "outputs": [
    {
     "name": "stdout",
     "output_type": "stream",
     "text": [
      "person, 1\n"
     ]
    }
   ],
   "source": [
    "data = open('coco_classes.txt')\n",
    "print(data.readline(), end='')"
   ]
  },
  {
   "cell_type": "code",
   "execution_count": 8,
   "metadata": {},
   "outputs": [
    {
     "name": "stdout",
     "output_type": "stream",
     "text": [
      "Name of the file: coco_classes.txt\n"
     ]
    }
   ],
   "source": [
    "print(\"Name of the file:\", data.name)"
   ]
  },
  {
   "cell_type": "code",
   "execution_count": null,
   "metadata": {},
   "outputs": [],
   "source": [
    "data.seek(0)\n",
    "for each_line in data:\n",
    "    print(each_line, end='')\n",
    "\n",
    "data.close()"
   ]
  },
  {
   "cell_type": "code",
   "execution_count": null,
   "metadata": {},
   "outputs": [],
   "source": []
  },
  {
   "cell_type": "markdown",
   "metadata": {},
   "source": [
    "## COCO Data"
   ]
  },
  {
   "cell_type": "code",
   "execution_count": null,
   "metadata": {},
   "outputs": [],
   "source": [
    "#filepath = \"/home/cfchen/Github36/keras-yolo3-master/model_data/coco_classes1.txt\"\n",
    "#filepath = \"/home/cfchen/Github36/keras-yolo3-master/model_data/coco_classes2.txt\"\n",
    "filepath = \"/home/cfchen/Github36/keras-yolo3-master/model_data/coco_classes.txt\"\n",
    "with open(filepath) as fp:  \n",
    "    line = fp.readline()\n",
    "    cnt = 1\n",
    "    while line:\n",
    "        print(\"{} {}\".format(line.strip(), cnt))\n",
    "        line = fp.readline()\n",
    "        cnt += 1"
   ]
  },
  {
   "cell_type": "code",
   "execution_count": 5,
   "metadata": {},
   "outputs": [
    {
     "name": "stdout",
     "output_type": "stream",
     "text": [
      "person, 1 1\n",
      "bicycle, 2 2\n",
      "car, 3 3\n",
      "motorbike, 4 4\n",
      "aeroplane, 5 5\n",
      "bus, 6 6\n",
      "train, 7 7\n",
      "truck, 8 8\n",
      "boat, 9 9\n",
      "traffic light, 10 10\n",
      "fire hydrant, 11 11\n",
      "stop sign, 12 12\n",
      "parking meter, 13 13\n",
      "bench, 14 14\n",
      "bird, 15 15\n",
      "cat, 16 16\n",
      "dog, 17 17\n",
      "horse, 18 18\n",
      "sheep, 19 19\n",
      "cow, 20 20\n",
      "elephant, 21 21\n",
      "bear, 22 22\n",
      "zebra, 23 23\n",
      "giraffe, 24 24\n",
      "backpack, 25 25\n",
      "umbrella, 26 26\n",
      "handbag, 27 27\n",
      "tie, 28 28\n",
      "suitcase, 29 29\n",
      "frisbee, 30 30\n",
      "skis, 31 31\n",
      "snowboard, 32 32\n",
      "sports ball, 33 33\n",
      "kite, 34 34\n",
      "baseball bat, 35 35\n",
      "baseball glove, 36 36\n",
      "skateboard, 37 37\n",
      "surfboard, 38 38\n",
      "tennis racket, 39 39\n",
      "bottle, 40 40\n",
      "wine glass, 41 41\n",
      "cup, 42 42\n",
      "fork, 43 43\n",
      "knife, 44 44\n",
      "spoon, 45 45\n",
      "bowl, 46 46\n",
      "banana, 47 47\n",
      "apple, 48 48\n",
      "sandwich, 49 49\n",
      "orange, 50 50\n",
      "broccoli, 51 51\n",
      "carrot, 52 52\n",
      "hot dog, 53 53\n",
      "pizza, 54 54\n",
      "donut, 55 55\n",
      "cake, 56 56\n",
      "chair, 57 57\n",
      "sofa, 58 58\n",
      "pottedplant, 59 59\n",
      "bed, 60 60\n",
      "diningtable, 61 61\n",
      "toilet, 62 62\n",
      "tvmonitor, 63 63\n",
      "laptop, 64 64\n",
      "mouse, 65 65\n",
      "remote, 66 66\n",
      "keyboard, 67 67\n",
      "cell phone, 68 68\n",
      "microwave, 69 69\n",
      "oven, 70 70\n",
      "toaster, 71 71\n",
      "sink, 72 72\n",
      "refrigerator, 73 73\n",
      "book, 74 74\n",
      "clock, 75 75\n",
      "vase, 76 76\n",
      "scissors, 77 77\n",
      "teddy bear, 78 78\n",
      "hair drier, 79 79\n",
      "toothbrush, 80 80\n"
     ]
    }
   ],
   "source": [
    "#filepath = \"/home/cfchen/Github36/keras-yolo3-master/model_data/coco_classes1.txt\"\n",
    "#filepath = \"/home/cfchen/Github36/keras-yolo3-master/model_data/coco_classes2.txt\"\n",
    "filepath = \"/home/cfchen/Github36/keras-yolo3-master/model_data/coco_classes.txt\"\n",
    "with open(filepath) as fp:\n",
    "    for cnt, line in enumerate(fp):\n",
    "        print(\"{} {}\".format(line.strip(), cnt+1))\n",
    "        #print(\"{} {}\".format(line.strip().split(','), cnt+1))"
   ]
  },
  {
   "cell_type": "markdown",
   "metadata": {},
   "source": [
    "## Examples"
   ]
  },
  {
   "cell_type": "code",
   "execution_count": 11,
   "metadata": {},
   "outputs": [
    {
     "name": "stdout",
     "output_type": "stream",
     "text": [
      "line 1 contents person, 1\n",
      "\n",
      "line 2 contents bicycle, 2\n",
      "\n",
      "line 3 contents car, 3\n",
      "\n",
      "line 4 contents motorbike, 4\n",
      "\n",
      "line 5 contents aeroplane, 5\n",
      "\n",
      "line 6 contents bus, 6\n",
      "\n",
      "line 7 contents train, 7\n",
      "\n",
      "line 8 contents truck, 8\n",
      "\n",
      "line 9 contents boat, 9\n",
      "\n",
      "line 10 contents traffic light, 10\n",
      "\n",
      "line 11 contents fire hydrant, 11\n",
      "\n",
      "line 12 contents stop sign, 12\n",
      "\n",
      "line 13 contents parking meter, 13\n",
      "\n",
      "line 14 contents bench, 14\n",
      "\n",
      "line 15 contents bird, 15\n",
      "\n",
      "line 16 contents cat, 16\n",
      "\n",
      "line 17 contents dog, 17\n",
      "\n",
      "line 18 contents horse, 18\n",
      "\n",
      "line 19 contents sheep, 19\n",
      "\n",
      "line 20 contents cow, 20\n",
      "\n",
      "line 21 contents elephant, 21\n",
      "\n",
      "line 22 contents bear, 22\n",
      "\n",
      "line 23 contents zebra, 23\n",
      "\n",
      "line 24 contents giraffe, 24\n",
      "\n",
      "line 25 contents backpack, 25\n",
      "\n",
      "line 26 contents umbrella, 26\n",
      "\n",
      "line 27 contents handbag, 27\n",
      "\n",
      "line 28 contents tie, 28\n",
      "\n",
      "line 29 contents suitcase, 29\n",
      "\n",
      "line 30 contents frisbee, 30\n",
      "\n",
      "line 31 contents skis, 31\n",
      "\n",
      "line 32 contents snowboard, 32\n",
      "\n",
      "line 33 contents sports ball, 33\n",
      "\n",
      "line 34 contents kite, 34\n",
      "\n",
      "line 35 contents baseball bat, 35\n",
      "\n",
      "line 36 contents baseball glove, 36\n",
      "\n",
      "line 37 contents skateboard, 37\n",
      "\n",
      "line 38 contents surfboard, 38\n",
      "\n",
      "line 39 contents tennis racket, 39\n",
      "\n",
      "line 40 contents bottle, 40\n",
      "\n",
      "line 41 contents wine glass, 41\n",
      "\n",
      "line 42 contents cup, 42\n",
      "\n",
      "line 43 contents fork, 43\n",
      "\n",
      "line 44 contents knife, 44\n",
      "\n",
      "line 45 contents spoon, 45\n",
      "\n",
      "line 46 contents bowl, 46\n",
      "\n",
      "line 47 contents banana, 47\n",
      "\n",
      "line 48 contents apple, 48\n",
      "\n",
      "line 49 contents sandwich, 49\n",
      "\n",
      "line 50 contents orange, 50\n",
      "\n",
      "line 51 contents broccoli, 51\n",
      "\n",
      "line 52 contents carrot, 52\n",
      "\n",
      "line 53 contents hot dog, 53\n",
      "\n",
      "line 54 contents pizza, 54\n",
      "\n",
      "line 55 contents donut, 55\n",
      "\n",
      "line 56 contents cake, 56\n",
      "\n",
      "line 57 contents chair, 57\n",
      "\n",
      "line 58 contents sofa, 58\n",
      "\n",
      "line 59 contents pottedplant, 59\n",
      "\n",
      "line 60 contents bed, 60\n",
      "\n",
      "line 61 contents diningtable, 61\n",
      "\n",
      "line 62 contents toilet, 62\n",
      "\n",
      "line 63 contents tvmonitor, 63\n",
      "\n",
      "line 64 contents laptop, 64\n",
      "\n",
      "line 65 contents mouse, 65\n",
      "\n",
      "line 66 contents remote, 66\n",
      "\n",
      "line 67 contents keyboard, 67\n",
      "\n",
      "line 68 contents cell phone, 68\n",
      "\n",
      "line 69 contents microwave, 69\n",
      "\n",
      "line 70 contents oven, 70\n",
      "\n",
      "line 71 contents toaster, 71\n",
      "\n",
      "line 72 contents sink, 72\n",
      "\n",
      "line 73 contents refrigerator, 73\n",
      "\n",
      "line 74 contents book, 74\n",
      "\n",
      "line 75 contents clock, 75\n",
      "\n",
      "line 76 contents vase, 76\n",
      "\n",
      "line 77 contents scissors, 77\n",
      "\n",
      "line 78 contents teddy bear, 78\n",
      "\n",
      "line 79 contents hair drier, 79\n",
      "\n",
      "line 80 contents toothbrush, 80\n",
      "\n",
      "Most frequent 10 words [('dog,', 2), ('bear,', 2), ('baseball', 2), ('person,', 1), ('1', 1), ('bicycle,', 1), ('2', 1), ('car,', 1), ('3', 1), ('motorbike,', 1)]\n"
     ]
    }
   ],
   "source": [
    "import sys  \n",
    "import os\n",
    "\n",
    "def main():\n",
    "    #filepath = sys.argv[1]\n",
    "    filepath = \"/home/cfchen/Github36/keras-yolo3-master/model_data/coco_classes.txt\"\n",
    "    \n",
    "    if not os.path.isfile(filepath):\n",
    "        print(\"File path {} does not exist. Exiting...\".format(filepath))\n",
    "        sys.exit()\n",
    "\n",
    "    bag_of_words = {}\n",
    "    with open(filepath) as fp:\n",
    "        #cnt = 0\n",
    "        cnt = 1\n",
    "        for line in fp:\n",
    "            print(\"line {} contents {}\".format(cnt, line))\n",
    "            record_word_cnt(line.strip().split(' '), bag_of_words)\n",
    "            cnt += 1\n",
    "    sorted_words = order_bag_of_words(bag_of_words, desc=True)\n",
    "    print(\"Most frequent 10 words {}\".format(sorted_words[:10]))\n",
    "\n",
    "def order_bag_of_words(bag_of_words, desc=False):  \n",
    "    words = [(word, cnt) for word, cnt in bag_of_words.items()]\n",
    "    return sorted(words, key=lambda x: x[1], reverse=desc)\n",
    "\n",
    "def record_word_cnt(words, bag_of_words):  \n",
    "    for word in words:\n",
    "        if word != '':\n",
    "            if word.lower() in bag_of_words:\n",
    "                bag_of_words[word.lower()] += 1\n",
    "            else:\n",
    "                bag_of_words[word.lower()] = 1\n",
    "\n",
    "if __name__ == '__main__':\n",
    "    main()"
   ]
  },
  {
   "cell_type": "code",
   "execution_count": null,
   "metadata": {},
   "outputs": [],
   "source": []
  }
 ],
 "metadata": {
  "kernelspec": {
   "display_name": "Python 3",
   "language": "python",
   "name": "python3"
  },
  "language_info": {
   "codemirror_mode": {
    "name": "ipython",
    "version": 3
   },
   "file_extension": ".py",
   "mimetype": "text/x-python",
   "name": "python",
   "nbconvert_exporter": "python",
   "pygments_lexer": "ipython3",
   "version": "3.6.5"
  }
 },
 "nbformat": 4,
 "nbformat_minor": 2
}
