{
 "cells": [
  {
   "cell_type": "code",
   "execution_count": 31,
   "metadata": {},
   "outputs": [],
   "source": [
    "import cv2\n",
    "import numpy as np\n",
    "import os"
   ]
  },
  {
   "cell_type": "markdown",
   "metadata": {},
   "source": [
    "## Extraction of images from video with 1 FPS"
   ]
  },
  {
   "cell_type": "code",
   "execution_count": 32,
   "metadata": {},
   "outputs": [],
   "source": [
    "def extract_image_one_fps(video_source_path):\n",
    "\n",
    "    vidcap = cv2.VideoCapture(video_source_path)\n",
    "    \n",
    "    try:\n",
    "        if not os.path.exists('data'):\n",
    "            os.makedirs('data')\n",
    "    except OSError:\n",
    "        print ('Error: Creating directory of data')\n",
    "    \n",
    "    count = 0\n",
    "    success = True\n",
    "    while success:\n",
    "        vidcap.set(cv2.CAP_PROP_POS_MSEC, (count*1000))      \n",
    "        success, image = vidcap.read()\n",
    "\n",
    "        ## Stop when last frame is identified\n",
    "        image_last = cv2.imread(\"frame{}.jpg\".format(count-1))\n",
    "        if np.array_equal(image, image_last):\n",
    "            break\n",
    "\n",
    "        ## Save frame as JPG file\n",
    "        cv2.imwrite(\"./data/frame%d.jpg\" % count, image)     \n",
    "        print('{}.sec reading a new frame: {}'.format(count, success)) \n",
    "        count += 1"
   ]
  },
  {
   "cell_type": "code",
   "execution_count": 33,
   "metadata": {},
   "outputs": [
    {
     "name": "stdout",
     "output_type": "stream",
     "text": [
      "0.sec reading a new frame: True\n",
      "1.sec reading a new frame: True\n",
      "2.sec reading a new frame: True\n",
      "3.sec reading a new frame: True\n",
      "4.sec reading a new frame: True\n",
      "5.sec reading a new frame: True\n",
      "6.sec reading a new frame: True\n",
      "7.sec reading a new frame: True\n",
      "8.sec reading a new frame: True\n"
     ]
    }
   ],
   "source": [
    "extract_image_one_fps(\"/media/cfchen/956df7bc-562e-4f24-8339-fd0b67f98888/Downloaded/VideosHPB/IMAG0011.mp4\")"
   ]
  },
  {
   "cell_type": "markdown",
   "metadata": {},
   "source": [
    "## Extraction of images from video with 1 FPS (PNG)"
   ]
  },
  {
   "cell_type": "code",
   "execution_count": 34,
   "metadata": {},
   "outputs": [],
   "source": [
    "def extract_image_one_fps(video_source_path):\n",
    "\n",
    "    vidcap = cv2.VideoCapture(video_source_path)\n",
    "    \n",
    "    try:\n",
    "        if not os.path.exists('data'):\n",
    "            os.makedirs('data')\n",
    "    except OSError:\n",
    "        print ('Error: Creating directory of data')\n",
    "    \n",
    "    count = 0\n",
    "    success = True\n",
    "    while success:\n",
    "        vidcap.set(cv2.CAP_PROP_POS_MSEC, (count*1000))      \n",
    "        success, image = vidcap.read()\n",
    "\n",
    "        ## Stop when last frame is identified\n",
    "        image_last = cv2.imread(\"frame{}.png\".format(count-1))\n",
    "        if np.array_equal(image, image_last):\n",
    "            break\n",
    "\n",
    "        ## Save frame as PNG file\n",
    "        cv2.imwrite(\"./data/frame%d.png\" % count, image)     \n",
    "        print('{}.sec reading a new frame: {}'.format(count, success)) \n",
    "        count += 1"
   ]
  },
  {
   "cell_type": "code",
   "execution_count": null,
   "metadata": {},
   "outputs": [],
   "source": []
  },
  {
   "cell_type": "code",
   "execution_count": null,
   "metadata": {},
   "outputs": [],
   "source": []
  },
  {
   "cell_type": "code",
   "execution_count": null,
   "metadata": {},
   "outputs": [],
   "source": []
  }
 ],
 "metadata": {
  "kernelspec": {
   "display_name": "Python 3",
   "language": "python",
   "name": "python3"
  },
  "language_info": {
   "codemirror_mode": {
    "name": "ipython",
    "version": 3
   },
   "file_extension": ".py",
   "mimetype": "text/x-python",
   "name": "python",
   "nbconvert_exporter": "python",
   "pygments_lexer": "ipython3",
   "version": "3.6.5"
  }
 },
 "nbformat": 4,
 "nbformat_minor": 2
}
