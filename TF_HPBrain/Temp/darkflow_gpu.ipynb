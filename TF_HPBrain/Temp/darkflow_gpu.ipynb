{
 "cells": [
  {
   "cell_type": "code",
   "execution_count": 1,
   "metadata": {},
   "outputs": [
    {
     "name": "stderr",
     "output_type": "stream",
     "text": [
      "/home/cfchen/anaconda3/envs/py35/lib/python3.5/site-packages/h5py/__init__.py:36: FutureWarning: Conversion of the second argument of issubdtype from `float` to `np.floating` is deprecated. In future, it will be treated as `np.float64 == np.dtype(float).type`.\n",
      "  from ._conv import register_converters as _register_converters\n"
     ]
    },
    {
     "name": "stdout",
     "output_type": "stream",
     "text": [
      "WARNING:tensorflow:From /home/cfchen/anaconda3/envs/py35/lib/python3.5/site-packages/tensorflow/contrib/learn/python/learn/datasets/base.py:198: retry (from tensorflow.contrib.learn.python.learn.datasets.base) is deprecated and will be removed in a future version.\n",
      "Instructions for updating:\n",
      "Use the retry module or similar alternatives.\n"
     ]
    }
   ],
   "source": [
    "import cv2\n",
    "from darkflow.net.build import TFNet\n",
    "import numpy as np\n",
    "import time"
   ]
  },
  {
   "cell_type": "code",
   "execution_count": 2,
   "metadata": {},
   "outputs": [
    {
     "name": "stdout",
     "output_type": "stream",
     "text": [
      "Parsing ./cfg/yolo.cfg\n",
      "Parsing cfg/yolo.cfg\n",
      "Loading bin/yolo.weights ...\n",
      "Successfully identified 203934260 bytes\n",
      "Finished in 0.060895681381225586s\n",
      "Model has a coco model name, loading coco labels.\n",
      "\n",
      "Building net ...\n",
      "Source | Train? | Layer description                | Output size\n",
      "-------+--------+----------------------------------+---------------\n",
      "       |        | input                            | (?, 608, 608, 3)\n",
      " Load  |  Yep!  | conv 3x3p1_1  +bnorm  leaky      | (?, 608, 608, 32)\n",
      " Load  |  Yep!  | maxp 2x2p0_2                     | (?, 304, 304, 32)\n",
      " Load  |  Yep!  | conv 3x3p1_1  +bnorm  leaky      | (?, 304, 304, 64)\n",
      " Load  |  Yep!  | maxp 2x2p0_2                     | (?, 152, 152, 64)\n",
      " Load  |  Yep!  | conv 3x3p1_1  +bnorm  leaky      | (?, 152, 152, 128)\n",
      " Load  |  Yep!  | conv 1x1p0_1  +bnorm  leaky      | (?, 152, 152, 64)\n",
      " Load  |  Yep!  | conv 3x3p1_1  +bnorm  leaky      | (?, 152, 152, 128)\n",
      " Load  |  Yep!  | maxp 2x2p0_2                     | (?, 76, 76, 128)\n",
      " Load  |  Yep!  | conv 3x3p1_1  +bnorm  leaky      | (?, 76, 76, 256)\n",
      " Load  |  Yep!  | conv 1x1p0_1  +bnorm  leaky      | (?, 76, 76, 128)\n",
      " Load  |  Yep!  | conv 3x3p1_1  +bnorm  leaky      | (?, 76, 76, 256)\n",
      " Load  |  Yep!  | maxp 2x2p0_2                     | (?, 38, 38, 256)\n",
      " Load  |  Yep!  | conv 3x3p1_1  +bnorm  leaky      | (?, 38, 38, 512)\n",
      " Load  |  Yep!  | conv 1x1p0_1  +bnorm  leaky      | (?, 38, 38, 256)\n",
      " Load  |  Yep!  | conv 3x3p1_1  +bnorm  leaky      | (?, 38, 38, 512)\n",
      " Load  |  Yep!  | conv 1x1p0_1  +bnorm  leaky      | (?, 38, 38, 256)\n",
      " Load  |  Yep!  | conv 3x3p1_1  +bnorm  leaky      | (?, 38, 38, 512)\n",
      " Load  |  Yep!  | maxp 2x2p0_2                     | (?, 19, 19, 512)\n",
      " Load  |  Yep!  | conv 3x3p1_1  +bnorm  leaky      | (?, 19, 19, 1024)\n",
      " Load  |  Yep!  | conv 1x1p0_1  +bnorm  leaky      | (?, 19, 19, 512)\n",
      " Load  |  Yep!  | conv 3x3p1_1  +bnorm  leaky      | (?, 19, 19, 1024)\n",
      " Load  |  Yep!  | conv 1x1p0_1  +bnorm  leaky      | (?, 19, 19, 512)\n",
      " Load  |  Yep!  | conv 3x3p1_1  +bnorm  leaky      | (?, 19, 19, 1024)\n",
      " Load  |  Yep!  | conv 3x3p1_1  +bnorm  leaky      | (?, 19, 19, 1024)\n",
      " Load  |  Yep!  | conv 3x3p1_1  +bnorm  leaky      | (?, 19, 19, 1024)\n",
      " Load  |  Yep!  | concat [16]                      | (?, 38, 38, 512)\n",
      " Load  |  Yep!  | conv 1x1p0_1  +bnorm  leaky      | (?, 38, 38, 64)\n",
      " Load  |  Yep!  | local flatten 2x2                | (?, 19, 19, 256)\n",
      " Load  |  Yep!  | concat [27, 24]                  | (?, 19, 19, 1280)\n",
      " Load  |  Yep!  | conv 3x3p1_1  +bnorm  leaky      | (?, 19, 19, 1024)\n",
      " Load  |  Yep!  | conv 1x1p0_1    linear           | (?, 19, 19, 425)\n",
      "-------+--------+----------------------------------+---------------\n",
      "GPU mode with 0.85 usage\n",
      "Finished in 10.175963401794434s\n",
      "\n"
     ]
    }
   ],
   "source": [
    "option = {\n",
    "    'model': 'cfg/yolo.cfg',\n",
    "    'load': 'bin/yolo.weights',\n",
    "    'threshold': 0.35,\n",
    "    'gpu': 0.85\n",
    "}\n",
    "\n",
    "tfnet = TFNet(option)"
   ]
  },
  {
   "cell_type": "code",
   "execution_count": 4,
   "metadata": {},
   "outputs": [],
   "source": [
    "capture = cv2.VideoCapture('/media/cfchen/956df7bc-562e-4f24-8339-fd0b67f98888/Downloaded/VideosHPB/IMAG0011.mp4')\n",
    "#capture = cv2.VideoCapture('../VideosHPB/IMAG0011.mp4')\n",
    "colors = [tuple(255 * np.random.rand(3)) for i in range(5)]  #range(100)"
   ]
  },
  {
   "cell_type": "code",
   "execution_count": 5,
   "metadata": {},
   "outputs": [
    {
     "name": "stdout",
     "output_type": "stream",
     "text": [
      "(126.33690174349786, 51.592075522179265, 182.10957995056506)\n",
      "(215.34706962863453, 229.65389727285364, 245.9615898249815)\n",
      "(18.999948097166484, 35.62166178602074, 134.67662185367675)\n",
      "(156.7504891265356, 107.88600829942169, 23.417910120212085)\n",
      "(100.8317592476295, 202.4616052716768, 134.5356042927002)\n"
     ]
    }
   ],
   "source": [
    "for color in colors:\n",
    "    print(color)"
   ]
  },
  {
   "cell_type": "code",
   "execution_count": 6,
   "metadata": {},
   "outputs": [],
   "source": [
    "fourcc = cv2.VideoWriter_fourcc(*'XVID')\n",
    "out = cv2.VideoWriter('output.avi',fourcc, 30.0, (1920,1080))"
   ]
  },
  {
   "cell_type": "markdown",
   "metadata": {},
   "source": [
    "## Test"
   ]
  },
  {
   "cell_type": "code",
   "execution_count": 6,
   "metadata": {
    "collapsed": true
   },
   "outputs": [],
   "source": [
    "ret, frame = capture.read()"
   ]
  },
  {
   "cell_type": "code",
   "execution_count": 7,
   "metadata": {},
   "outputs": [
    {
     "name": "stdout",
     "output_type": "stream",
     "text": [
      "(1080, 1920, 3)\n"
     ]
    },
    {
     "data": {
      "text/plain": [
       "numpy.ndarray"
      ]
     },
     "execution_count": 7,
     "metadata": {},
     "output_type": "execute_result"
    }
   ],
   "source": [
    "print(frame.shape)\n",
    "type(frame)"
   ]
  },
  {
   "cell_type": "code",
   "execution_count": 8,
   "metadata": {},
   "outputs": [
    {
     "data": {
      "text/plain": [
       "list"
      ]
     },
     "execution_count": 8,
     "metadata": {},
     "output_type": "execute_result"
    }
   ],
   "source": [
    "results = tfnet.return_predict(frame)\n",
    "type(results)"
   ]
  },
  {
   "cell_type": "markdown",
   "metadata": {},
   "source": [
    "## Run the Video"
   ]
  },
  {
   "cell_type": "code",
   "execution_count": 7,
   "metadata": {},
   "outputs": [
    {
     "name": "stdout",
     "output_type": "stream",
     "text": [
      "FPS 0.5\n",
      "FPS 20.7\n",
      "FPS 19.7\n",
      "FPS 22.3\n",
      "FPS 22.3\n",
      "FPS 22.2\n",
      "FPS 20.1\n",
      "FPS 22.8\n",
      "FPS 22.8\n",
      "FPS 19.8\n",
      "FPS 23.7\n",
      "FPS 24.5\n",
      "FPS 23.3\n",
      "FPS 23.8\n",
      "FPS 23.8\n",
      "FPS 23.9\n",
      "FPS 22.4\n",
      "FPS 20.3\n",
      "FPS 16.3\n",
      "FPS 17.5\n",
      "FPS 19.9\n",
      "FPS 18.3\n",
      "FPS 17.1\n",
      "FPS 19.1\n",
      "FPS 17.9\n",
      "FPS 18.7\n",
      "FPS 18.4\n",
      "FPS 20.0\n",
      "FPS 17.4\n",
      "FPS 20.7\n",
      "FPS 17.7\n",
      "FPS 18.4\n",
      "FPS 18.9\n",
      "FPS 20.8\n",
      "FPS 16.7\n",
      "FPS 19.4\n",
      "FPS 16.6\n",
      "FPS 18.7\n",
      "FPS 18.9\n",
      "FPS 18.6\n",
      "FPS 19.6\n",
      "FPS 17.4\n",
      "FPS 17.5\n",
      "FPS 16.1\n",
      "FPS 19.1\n",
      "FPS 24.1\n",
      "FPS 22.0\n",
      "FPS 23.2\n",
      "FPS 21.6\n",
      "FPS 21.1\n",
      "FPS 19.0\n",
      "FPS 20.7\n",
      "FPS 23.8\n",
      "FPS 19.7\n",
      "FPS 17.3\n",
      "FPS 18.4\n",
      "FPS 22.7\n",
      "FPS 22.0\n",
      "FPS 19.9\n",
      "FPS 21.0\n",
      "FPS 15.7\n",
      "FPS 19.9\n",
      "FPS 23.7\n",
      "FPS 23.3\n",
      "FPS 23.6\n",
      "FPS 19.2\n",
      "FPS 16.1\n",
      "FPS 21.5\n",
      "FPS 23.8\n",
      "FPS 24.0\n",
      "FPS 17.9\n",
      "FPS 17.7\n",
      "FPS 16.7\n",
      "FPS 23.7\n",
      "FPS 23.6\n",
      "FPS 24.3\n",
      "FPS 19.5\n",
      "FPS 17.1\n",
      "FPS 18.5\n",
      "FPS 19.8\n",
      "FPS 22.6\n",
      "FPS 24.4\n",
      "FPS 24.2\n",
      "FPS 21.9\n",
      "FPS 18.8\n",
      "FPS 18.8\n",
      "FPS 24.6\n",
      "FPS 20.9\n",
      "FPS 18.2\n",
      "FPS 21.2\n",
      "FPS 18.7\n",
      "FPS 22.0\n",
      "FPS 19.7\n",
      "FPS 20.0\n",
      "FPS 16.4\n",
      "FPS 21.5\n",
      "FPS 16.4\n",
      "FPS 21.9\n",
      "FPS 21.0\n",
      "FPS 17.8\n",
      "FPS 21.7\n",
      "FPS 20.3\n",
      "FPS 19.2\n",
      "FPS 21.8\n",
      "FPS 17.6\n",
      "FPS 22.0\n",
      "FPS 22.3\n",
      "FPS 16.9\n",
      "FPS 20.7\n",
      "FPS 17.5\n",
      "FPS 20.3\n",
      "FPS 24.1\n",
      "FPS 22.9\n",
      "FPS 19.6\n",
      "FPS 16.3\n",
      "FPS 23.0\n",
      "FPS 24.3\n",
      "FPS 24.3\n",
      "FPS 15.7\n",
      "FPS 19.5\n",
      "FPS 19.8\n",
      "FPS 18.1\n",
      "FPS 24.8\n",
      "FPS 19.8\n",
      "FPS 20.7\n",
      "FPS 23.8\n",
      "FPS 18.7\n",
      "FPS 19.2\n",
      "FPS 19.2\n",
      "FPS 17.0\n",
      "FPS 17.2\n",
      "FPS 19.0\n",
      "FPS 17.0\n",
      "FPS 21.6\n",
      "FPS 18.1\n",
      "FPS 22.2\n",
      "FPS 15.7\n",
      "FPS 18.1\n",
      "FPS 18.4\n",
      "FPS 23.4\n",
      "FPS 21.1\n",
      "FPS 20.7\n",
      "FPS 20.5\n",
      "FPS 18.7\n",
      "FPS 15.6\n",
      "FPS 20.1\n",
      "FPS 24.9\n",
      "FPS 18.4\n",
      "FPS 23.6\n",
      "FPS 19.2\n",
      "FPS 15.5\n",
      "FPS 24.0\n",
      "FPS 22.8\n",
      "FPS 24.5\n",
      "FPS 17.1\n",
      "FPS 17.8\n",
      "FPS 15.8\n",
      "FPS 24.4\n",
      "FPS 20.4\n",
      "FPS 23.1\n",
      "FPS 19.4\n",
      "FPS 22.1\n",
      "FPS 20.9\n",
      "FPS 15.8\n",
      "FPS 23.0\n",
      "FPS 19.8\n",
      "FPS 19.3\n",
      "FPS 20.0\n",
      "FPS 15.3\n",
      "FPS 21.7\n",
      "FPS 20.0\n",
      "FPS 19.6\n",
      "FPS 23.4\n",
      "FPS 20.4\n",
      "FPS 24.1\n",
      "FPS 21.0\n",
      "FPS 16.9\n",
      "FPS 18.5\n",
      "FPS 20.1\n",
      "FPS 22.5\n",
      "FPS 21.0\n",
      "FPS 22.4\n",
      "FPS 21.9\n",
      "FPS 21.7\n",
      "FPS 23.3\n",
      "FPS 17.5\n",
      "FPS 19.8\n",
      "FPS 22.3\n",
      "FPS 16.8\n",
      "FPS 22.7\n",
      "FPS 17.2\n",
      "FPS 18.9\n",
      "FPS 19.7\n",
      "FPS 20.3\n",
      "FPS 24.8\n",
      "FPS 23.1\n",
      "FPS 18.7\n",
      "FPS 17.0\n",
      "FPS 24.1\n",
      "FPS 20.6\n",
      "FPS 20.2\n",
      "FPS 19.9\n",
      "FPS 19.0\n",
      "FPS 23.0\n",
      "FPS 16.8\n",
      "FPS 24.2\n",
      "FPS 21.6\n",
      "FPS 17.2\n",
      "FPS 20.2\n",
      "FPS 24.4\n",
      "FPS 24.3\n",
      "FPS 19.1\n",
      "FPS 18.1\n",
      "FPS 18.4\n",
      "FPS 22.7\n",
      "FPS 23.8\n",
      "FPS 20.7\n",
      "FPS 19.4\n",
      "FPS 24.4\n",
      "FPS 17.5\n",
      "FPS 16.0\n",
      "FPS 22.1\n",
      "FPS 20.0\n",
      "FPS 18.5\n",
      "FPS 20.6\n",
      "FPS 20.2\n",
      "FPS 24.6\n",
      "FPS 17.7\n",
      "FPS 17.5\n",
      "FPS 19.6\n",
      "FPS 20.7\n",
      "FPS 21.7\n",
      "FPS 16.4\n",
      "FPS 21.5\n",
      "FPS 23.7\n",
      "FPS 17.3\n",
      "FPS 17.0\n",
      "FPS 19.1\n",
      "FPS 23.3\n",
      "FPS 16.7\n",
      "FPS 21.0\n",
      "FPS 19.7\n",
      "FPS 21.7\n",
      "FPS 21.6\n",
      "FPS 21.6\n",
      "FPS 23.2\n",
      "FPS 22.1\n",
      "FPS 19.3\n",
      "FPS 15.6\n",
      "FPS 16.7\n",
      "FPS 20.6\n",
      "FPS 17.8\n",
      "FPS 21.6\n",
      "FPS 17.3\n",
      "FPS 19.7\n",
      "FPS 22.1\n",
      "FPS 17.9\n",
      "FPS 21.3\n",
      "FPS 15.5\n",
      "FPS 21.8\n",
      "++++++++ Video End ++++++++\n"
     ]
    }
   ],
   "source": [
    "count = 0\n",
    "while(True):\n",
    "    stime = time.time()\n",
    "    ret, frame = capture.read()\n",
    "\n",
    "    if ret == False:\n",
    "        break;\n",
    "    else:\n",
    "        count = count + 1\n",
    "\n",
    "    results = tfnet.return_predict(frame)\n",
    "\n",
    "    if ret:\n",
    "        for color, result in zip(colors, results):\n",
    "            tl = (result['topleft']['x'], result['topleft']['y'])\n",
    "            br = (result['bottomright']['x'], result['bottomright']['y'])\n",
    "            label = result['label']\n",
    "            frame = cv2.rectangle(frame, tl, br, color, 7)\n",
    "            frame = cv2.putText(frame, label, tl, cv2.FONT_HERSHEY_COMPLEX, 1, (0, 0, 0), 2)\n",
    "\n",
    "        out.write(frame)\n",
    "        cv2.imshow('frame', frame)\n",
    "        print('FPS {:.1f}'.format(1 / (time.time() - stime)))  # Frame per seconds\n",
    "        if (cv2.waitKey(1) & 0xFF == ord('q')) or (ret == False):\n",
    "            break\n",
    "\n",
    "print('++++++++ Video End ++++++++')\n",
    "  \n",
    "capture.release()\n",
    "out.release()\n",
    "cv2.destroyAllWindows()"
   ]
  },
  {
   "cell_type": "code",
   "execution_count": null,
   "metadata": {
    "collapsed": true
   },
   "outputs": [],
   "source": []
  }
 ],
 "metadata": {
  "kernelspec": {
   "display_name": "Python 3",
   "language": "python",
   "name": "python3"
  },
  "language_info": {
   "codemirror_mode": {
    "name": "ipython",
    "version": 3
   },
   "file_extension": ".py",
   "mimetype": "text/x-python",
   "name": "python",
   "nbconvert_exporter": "python",
   "pygments_lexer": "ipython3",
   "version": "3.5.4"
  }
 },
 "nbformat": 4,
 "nbformat_minor": 2
}
